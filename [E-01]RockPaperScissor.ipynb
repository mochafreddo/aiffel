{
 "cells": [
  {
   "cell_type": "markdown",
   "metadata": {},
   "source": [
    "# Exploration 1. 인공지능과 가위바위보 하기"
   ]
  },
  {
   "cell_type": "markdown",
   "metadata": {},
   "source": [
    "## 1-7. 프로젝트: 가위바위보 분류기 만들기"
   ]
  },
  {
   "cell_type": "markdown",
   "metadata": {},
   "source": [
    "### 데이터를 준비하자\n",
    "---\n",
    "#### 데이터 만들기\n",
    "링크 : https://teachablemachine.withgoogle.com/   \n",
    "이미지 촬영 후 각 폴더에 저장   \n",
    "/home/aiffel/rock_scissor_paper/scissor   \n",
    "/home/aiffel/rock_scissor_paper/rock   \n",
    "/home/aiffel/rock_scissor_paper/paper   "
   ]
  },
  {
   "cell_type": "markdown",
   "metadata": {},
   "source": [
    "**Q8. 다운로드 받은 이미지의 크기는 무엇일까요? \"nxn\"(n은 정수)의 형태로 나타내 보세요.**   \n",
    "A8. 224x224"
   ]
  },
  {
   "cell_type": "markdown",
   "metadata": {},
   "source": [
    "#### 데이터 불러오기 + Resize 하기"
   ]
  },
  {
   "cell_type": "code",
   "execution_count": 1,
   "metadata": {},
   "outputs": [
    {
     "name": "stdout",
     "output_type": "stream",
     "text": [
      "Requirement already satisfied: pillow in /home/aiffel/anaconda3/envs/aiffel/lib/python3.7/site-packages (8.0.1)\r\n"
     ]
    }
   ],
   "source": [
    "# PIL 라이브러리가 설치되어 있지 않다면 설치\n",
    "!pip install pillow"
   ]
  },
  {
   "cell_type": "code",
   "execution_count": 2,
   "metadata": {},
   "outputs": [],
   "source": [
    "from PIL import Image\n",
    "import os, glob\n",
    "import tensorflow as tf\n",
    "from tensorflow import keras\n",
    "import numpy as np\n",
    "import random\n",
    "import matplotlib.pyplot as plt"
   ]
  },
  {
   "cell_type": "markdown",
   "metadata": {},
   "source": [
    "#### 가위 이미지 사이즈 변경"
   ]
  },
  {
   "cell_type": "code",
   "execution_count": 3,
   "metadata": {},
   "outputs": [
    {
     "name": "stdout",
     "output_type": "stream",
     "text": [
      "이미지 디렉토리 경로:  /home/aiffel/rock_scissor_paper/scissor\n",
      "가위 이미지 resize 완료!\n"
     ]
    }
   ],
   "source": [
    "# 가위 이미지가 저장된 디렉토리 아래의 모든 jpg 파일을 읽어들여서\n",
    "image_dir_path = os.getenv(\"HOME\") + \"/rock_scissor_paper/scissor\"\n",
    "print(\"이미지 디렉토리 경로: \", image_dir_path)\n",
    "\n",
    "images = glob.glob(image_dir_path + \"/*.jpg\")  \n",
    "\n",
    "# 파일마다 모두 28x28 사이즈로 바꾸어 저장합니다.\n",
    "target_size = (28, 28)\n",
    "for img in images:\n",
    "    old_img = Image.open(img)\n",
    "    new_img = old_img.resize(target_size, Image.ANTIALIAS)\n",
    "    new_img.save(img, \"JPEG\")\n",
    "\n",
    "print(\"가위 이미지 resize 완료!\")"
   ]
  },
  {
   "cell_type": "markdown",
   "metadata": {},
   "source": [
    "#### 바위 이미지 사이즈 변경"
   ]
  },
  {
   "cell_type": "code",
   "execution_count": 4,
   "metadata": {},
   "outputs": [
    {
     "name": "stdout",
     "output_type": "stream",
     "text": [
      "이미지 디렉토리 경로:  /home/aiffel/rock_scissor_paper/rock\n",
      "바위 이미지 resize 완료!\n"
     ]
    }
   ],
   "source": [
    "# 바위 이미지가 저장된 디렉토리 아래의 모든 jpg 파일을 읽어들여서\n",
    "image_dir_path = os.getenv(\"HOME\") + \"/rock_scissor_paper/rock\"\n",
    "print(\"이미지 디렉토리 경로: \", image_dir_path)\n",
    "\n",
    "images = glob.glob(image_dir_path + \"/*.jpg\")  \n",
    "\n",
    "# 파일마다 모두 28x28 사이즈로 바꾸어 저장합니다.\n",
    "target_size = (28, 28)\n",
    "for img in images:\n",
    "    old_img = Image.open(img)\n",
    "    new_img = old_img.resize(target_size, Image.ANTIALIAS)\n",
    "    new_img.save(img, \"JPEG\")\n",
    "\n",
    "print(\"바위 이미지 resize 완료!\")"
   ]
  },
  {
   "cell_type": "markdown",
   "metadata": {},
   "source": [
    "#### 보 이미지 사이즈 변경"
   ]
  },
  {
   "cell_type": "code",
   "execution_count": 5,
   "metadata": {},
   "outputs": [
    {
     "name": "stdout",
     "output_type": "stream",
     "text": [
      "이미지 디렉토리 경로:  /home/aiffel/rock_scissor_paper/paper\n",
      "보 이미지 resize 완료!\n"
     ]
    }
   ],
   "source": [
    "# 보 이미지가 저장된 디렉토리 아래의 모든 jpg 파일을 읽어들여서\n",
    "image_dir_path = os.getenv(\"HOME\") + \"/rock_scissor_paper/paper\"\n",
    "print(\"이미지 디렉토리 경로: \", image_dir_path)\n",
    "\n",
    "images = glob.glob(image_dir_path + \"/*.jpg\")  \n",
    "\n",
    "# 파일마다 모두 28x28 사이즈로 바꾸어 저장합니다.\n",
    "target_size = (28, 28)\n",
    "for img in images:\n",
    "    old_img = Image.open(img)\n",
    "    new_img = old_img.resize(target_size, Image.ANTIALIAS)\n",
    "    new_img.save(img, \"JPEG\")\n",
    "\n",
    "print(\"보 이미지 resize 완료!\")"
   ]
  },
  {
   "cell_type": "markdown",
   "metadata": {},
   "source": [
    "#### load_data() 함수\n",
    "가위: 0, 바위: 1, 보: 2 로 라벨링"
   ]
  },
  {
   "cell_type": "code",
   "execution_count": 6,
   "metadata": {},
   "outputs": [],
   "source": [
    "def load_data(img_path):\n",
    "    \n",
    "    # 가위: 0, 바위: 1, 보: 2\n",
    "    number_of_data = 300    # 가위바위보 이미지 개수 총합에 주의하세요.\n",
    "    img_size = 28\n",
    "    color = 3\n",
    "    \n",
    "    # 이미지 데이터와 라벨(가위: 0, 바위: 1, 보: 2) 데이터를 담을 행렬(matrix) 영역을 생성합니다.\n",
    "    imgs = np.zeros(number_of_data * img_size * img_size * color, dtype=np.int32).reshape(number_of_data, img_size, img_size, color)\n",
    "    labels = np.zeros(number_of_data, dtype=np.int32)\n",
    "\n",
    "    idx = 0\n",
    "    \n",
    "    # 가위\n",
    "    for file in glob.iglob(img_path + '/scissor/*.jpg'):\n",
    "        img = np.array(Image.open(file), dtype = np.int32)\n",
    "        imgs[idx, :, :, :] = img    # 데이터 영역에 이미지 행렬을 복사\n",
    "        labels[idx] = 0    # 가위: 0\n",
    "        idx = idx + 1\n",
    "\n",
    "    # 바위\n",
    "    for file in glob.iglob(img_path + '/rock/*.jpg'):\n",
    "        img = np.array(Image.open(file), dtype = np.int32)\n",
    "        imgs[idx, :, :, :] = img    # 데이터 영역에 이미지 행렬을 복사\n",
    "        labels[idx] = 1    # 바위: 1\n",
    "        idx = idx + 1       \n",
    "    \n",
    "    # 보\n",
    "    for file in glob.iglob(img_path + '/paper/*.jpg'):\n",
    "        img = np.array(Image.open(file), dtype = np.int32)\n",
    "        imgs[idx, :, :, :] = img    # 데이터 영역에 이미지 행렬을 복사\n",
    "        labels[idx] = 2    # 보: 2\n",
    "        idx = idx + 1\n",
    "        \n",
    "    # print(\"학습데이터(x_train)의 이미지 개수는\",idx,\"입니다.\")\n",
    "    print(\"load된 이미지 개수는 \", idx, \" 입니다.\")\n",
    "    return imgs, labels"
   ]
  },
  {
   "cell_type": "markdown",
   "metadata": {},
   "source": [
    "#### 나의 테스트용 이미지를 불러온다."
   ]
  },
  {
   "cell_type": "code",
   "execution_count": 8,
   "metadata": {
    "scrolled": true
   },
   "outputs": [
    {
     "name": "stdout",
     "output_type": "stream",
     "text": [
      "load된 이미지 개수는  300  입니다.\n",
      "x_train_norm shape: (300, 28, 28, 3)\n",
      "y_train shape: (300,)\n"
     ]
    }
   ],
   "source": [
    "image_dir_path = os.getenv(\"HOME\") + \"/rock_scissor_paper\"\n",
    "(x_train, y_train) = load_data(image_dir_path)\n",
    "\n",
    "# 입력은 0~1 사이의 값으로 정규화\n",
    "x_train_norm = x_train/255.0\n",
    "\n",
    "print(\"x_train_norm shape: {}\".format(x_train_norm.shape))\n",
    "print(\"y_train shape: {}\".format(y_train.shape))"
   ]
  },
  {
   "cell_type": "markdown",
   "metadata": {},
   "source": [
    "### 딥러닝 네트워크 설계하기\n",
    "#### Sequential Model\n",
    "텐서플로우 케라스(tf.keras)에서 Sequential API을 사용.\n",
    "- Sequential API: 개발의 자유도는 많이 떨어지지만, 매우 간단하게 딥러닝 모델을 만들어낼 수 있는 방법."
   ]
  },
  {
   "cell_type": "code",
   "execution_count": 29,
   "metadata": {},
   "outputs": [
    {
     "name": "stdout",
     "output_type": "stream",
     "text": [
      "Model에 추가된 Layer 개수:  7\n",
      "Model: \"sequential_5\"\n",
      "_________________________________________________________________\n",
      "Layer (type)                 Output Shape              Param #   \n",
      "=================================================================\n",
      "conv2d_10 (Conv2D)           (None, 26, 26, 16)        448       \n",
      "_________________________________________________________________\n",
      "max_pooling2d_10 (MaxPooling (None, 13, 13, 16)        0         \n",
      "_________________________________________________________________\n",
      "conv2d_11 (Conv2D)           (None, 11, 11, 32)        4640      \n",
      "_________________________________________________________________\n",
      "max_pooling2d_11 (MaxPooling (None, 5, 5, 32)          0         \n",
      "_________________________________________________________________\n",
      "flatten_5 (Flatten)          (None, 800)               0         \n",
      "_________________________________________________________________\n",
      "dense_10 (Dense)             (None, 32)                25632     \n",
      "_________________________________________________________________\n",
      "dense_11 (Dense)             (None, 3)                 99        \n",
      "=================================================================\n",
      "Total params: 30,819\n",
      "Trainable params: 30,819\n",
      "Non-trainable params: 0\n",
      "_________________________________________________________________\n"
     ]
    }
   ],
   "source": [
    "# model을 직접 만들어 보세요.\n",
    "# Hint! model의 입력/출력부에 특히 유의해 주세요. 가위바위보 데이터셋은 MNIST 데이터셋과 어떤 점이 달라졌나요?\n",
    "model = keras.models.Sequential()\n",
    "model.add(keras.layers.Conv2D(16, (3,3), activation='relu', input_shape = (28,28,3)))    # 3개의 채널\n",
    "model.add(keras.layers.MaxPool2D(2,2))\n",
    "model.add(keras.layers.Conv2D(32, (3,3), activation='relu'))\n",
    "model.add(keras.layers.MaxPooling2D((2,2)))\n",
    "model.add(keras.layers.Flatten())\n",
    "model.add(keras.layers.Dense(32, activation='relu'))\n",
    "model.add(keras.layers.Dense(3, activation='softmax'))    # 3개의 클래스\n",
    "\n",
    "print('Model에 추가된 Layer 개수: ', len(model.layers))\n",
    "\n",
    "# 딥러닝 네트워크 모델 확인\n",
    "model.summary()"
   ]
  },
  {
   "cell_type": "markdown",
   "metadata": {},
   "source": [
    "- Conv2D 레이어의 첫 번째 인자: 사용하는 이미지의 특징 수.\n",
    "- Dense 레이어\n",
    "    - 첫 번째 인자: 분류기에 사용되는 뉴런의 숫자.\n",
    "    - 뉴런 숫자: 결과적으로 분류해내야 하는 클래스 수."
   ]
  },
  {
   "cell_type": "markdown",
   "metadata": {},
   "source": [
    "### 딥러닝 네트워크 학습시키기\n",
    "- epochs: 전체 데이터를 학습시킬 반복횟수"
   ]
  },
  {
   "cell_type": "code",
   "execution_count": 30,
   "metadata": {},
   "outputs": [
    {
     "name": "stdout",
     "output_type": "stream",
     "text": [
      "Epoch 1/40\n",
      "10/10 [==============================] - 0s 2ms/step - loss: 1.0914 - accuracy: 0.4167\n",
      "Epoch 2/40\n",
      "10/10 [==============================] - 0s 2ms/step - loss: 1.0583 - accuracy: 0.3700\n",
      "Epoch 3/40\n",
      "10/10 [==============================] - 0s 2ms/step - loss: 1.0106 - accuracy: 0.7400\n",
      "Epoch 4/40\n",
      "10/10 [==============================] - 0s 2ms/step - loss: 0.9440 - accuracy: 0.6567\n",
      "Epoch 5/40\n",
      "10/10 [==============================] - 0s 2ms/step - loss: 0.8575 - accuracy: 0.7367\n",
      "Epoch 6/40\n",
      "10/10 [==============================] - 0s 2ms/step - loss: 0.7242 - accuracy: 0.7700\n",
      "Epoch 7/40\n",
      "10/10 [==============================] - 0s 2ms/step - loss: 0.6663 - accuracy: 0.7400\n",
      "Epoch 8/40\n",
      "10/10 [==============================] - 0s 2ms/step - loss: 0.5803 - accuracy: 0.7800\n",
      "Epoch 9/40\n",
      "10/10 [==============================] - 0s 2ms/step - loss: 0.4822 - accuracy: 0.8400\n",
      "Epoch 10/40\n",
      "10/10 [==============================] - 0s 2ms/step - loss: 0.4348 - accuracy: 0.8467\n",
      "Epoch 11/40\n",
      "10/10 [==============================] - 0s 2ms/step - loss: 0.4174 - accuracy: 0.8333\n",
      "Epoch 12/40\n",
      "10/10 [==============================] - 0s 2ms/step - loss: 0.3774 - accuracy: 0.8800\n",
      "Epoch 13/40\n",
      "10/10 [==============================] - 0s 2ms/step - loss: 0.3430 - accuracy: 0.8733\n",
      "Epoch 14/40\n",
      "10/10 [==============================] - 0s 2ms/step - loss: 0.3013 - accuracy: 0.8933\n",
      "Epoch 15/40\n",
      "10/10 [==============================] - 0s 2ms/step - loss: 0.2936 - accuracy: 0.9067\n",
      "Epoch 16/40\n",
      "10/10 [==============================] - 0s 2ms/step - loss: 0.2710 - accuracy: 0.9033\n",
      "Epoch 17/40\n",
      "10/10 [==============================] - 0s 2ms/step - loss: 0.2361 - accuracy: 0.9233\n",
      "Epoch 18/40\n",
      "10/10 [==============================] - 0s 2ms/step - loss: 0.2365 - accuracy: 0.9300\n",
      "Epoch 19/40\n",
      "10/10 [==============================] - 0s 2ms/step - loss: 0.2081 - accuracy: 0.9433\n",
      "Epoch 20/40\n",
      "10/10 [==============================] - 0s 2ms/step - loss: 0.1737 - accuracy: 0.9467\n",
      "Epoch 21/40\n",
      "10/10 [==============================] - 0s 2ms/step - loss: 0.1556 - accuracy: 0.9633\n",
      "Epoch 22/40\n",
      "10/10 [==============================] - 0s 2ms/step - loss: 0.1496 - accuracy: 0.9633\n",
      "Epoch 23/40\n",
      "10/10 [==============================] - 0s 2ms/step - loss: 0.1325 - accuracy: 0.9667\n",
      "Epoch 24/40\n",
      "10/10 [==============================] - 0s 2ms/step - loss: 0.1125 - accuracy: 0.9767\n",
      "Epoch 25/40\n",
      "10/10 [==============================] - 0s 3ms/step - loss: 0.1077 - accuracy: 0.9800\n",
      "Epoch 26/40\n",
      "10/10 [==============================] - 0s 2ms/step - loss: 0.0937 - accuracy: 0.9833\n",
      "Epoch 27/40\n",
      "10/10 [==============================] - 0s 2ms/step - loss: 0.0852 - accuracy: 0.9933\n",
      "Epoch 28/40\n",
      "10/10 [==============================] - 0s 2ms/step - loss: 0.0905 - accuracy: 0.9900\n",
      "Epoch 29/40\n",
      "10/10 [==============================] - 0s 2ms/step - loss: 0.0766 - accuracy: 0.9867\n",
      "Epoch 30/40\n",
      "10/10 [==============================] - 0s 2ms/step - loss: 0.0644 - accuracy: 1.0000\n",
      "Epoch 31/40\n",
      "10/10 [==============================] - 0s 2ms/step - loss: 0.0597 - accuracy: 1.0000\n",
      "Epoch 32/40\n",
      "10/10 [==============================] - 0s 2ms/step - loss: 0.0598 - accuracy: 0.9967\n",
      "Epoch 33/40\n",
      "10/10 [==============================] - 0s 2ms/step - loss: 0.0461 - accuracy: 1.0000\n",
      "Epoch 34/40\n",
      "10/10 [==============================] - 0s 2ms/step - loss: 0.0461 - accuracy: 0.9967\n",
      "Epoch 35/40\n",
      "10/10 [==============================] - 0s 2ms/step - loss: 0.0551 - accuracy: 1.0000\n",
      "Epoch 36/40\n",
      "10/10 [==============================] - 0s 2ms/step - loss: 0.0382 - accuracy: 1.0000\n",
      "Epoch 37/40\n",
      "10/10 [==============================] - 0s 4ms/step - loss: 0.0349 - accuracy: 1.0000\n",
      "Epoch 38/40\n",
      "10/10 [==============================] - 0s 2ms/step - loss: 0.0369 - accuracy: 1.0000\n",
      "Epoch 39/40\n",
      "10/10 [==============================] - 0s 2ms/step - loss: 0.0649 - accuracy: 0.9900\n",
      "Epoch 40/40\n",
      "10/10 [==============================] - 0s 2ms/step - loss: 0.0494 - accuracy: 0.9933\n"
     ]
    },
    {
     "data": {
      "text/plain": [
       "<tensorflow.python.keras.callbacks.History at 0x7f8844475650>"
      ]
     },
     "execution_count": 30,
     "metadata": {},
     "output_type": "execute_result"
    }
   ],
   "source": [
    "# model을 학습시키는 코드를 직접 작성해 보세요.\n",
    "# Hint! model.compile()과 model.fit()을 사용해 봅시다.\n",
    "model.compile(optimizer='adam',\n",
    "             loss='sparse_categorical_crossentropy',\n",
    "             metrics=['accuracy'])\n",
    "\n",
    "model.fit(x_train_norm, y_train, epochs=40)"
   ]
  },
  {
   "cell_type": "markdown",
   "metadata": {},
   "source": [
    "### 얼마나 잘 만들었는지 확인하기(테스트)\n",
    "#### 이혜성 님의 이미지를 받아 테스트용 데이터 만들기"
   ]
  },
  {
   "cell_type": "code",
   "execution_count": 31,
   "metadata": {},
   "outputs": [
    {
     "name": "stdout",
     "output_type": "stream",
     "text": [
      "load된 이미지 개수는  300  입니다.\n",
      "y_test1 shape: (300,)\n"
     ]
    }
   ],
   "source": [
    "# x_test, y_test를 만드는 방법은 x_train, y_train을 만드는 방법과 아주 유사합니다.\n",
    "test1_image_dir_path = os.getenv(\"HOME\") + \"/rock_scissor_paper/test1\"\n",
    "(x_test1, y_test1) = load_data(test1_image_dir_path)\n",
    "x_test1_norm = x_test1/255.0    # 입력은 0~1 사이의 값으로 정규화\n",
    "\n",
    "print(\"y_test1 shape: {}\".format(y_test1.shape))"
   ]
  },
  {
   "cell_type": "markdown",
   "metadata": {},
   "source": [
    "#### 테스트용 데이터가 준비되었으니, 위에서 훈련시킨 model을 사용하여 test_accuracy를 측정해 본다."
   ]
  },
  {
   "cell_type": "code",
   "execution_count": 34,
   "metadata": {},
   "outputs": [
    {
     "name": "stdout",
     "output_type": "stream",
     "text": [
      "10/10 - 0s - loss: 2.6908 - accuracy: 0.3900\n",
      "test1_loss: 2.690828800201416 \n",
      "test1_accuracy: 0.38999998569488525\n"
     ]
    }
   ],
   "source": [
    "# model을 학습시키는 코드를 직접 작성해 보세요.\n",
    "# Hint! model.evaluate()을 사용해 봅시다.\n",
    "test1_loss, test1_accuracy = model.evaluate(x_test1_norm, y_test1, verbose=2)\n",
    "print(\"test1_loss: {} \".format(test1_loss))\n",
    "print(\"test1_accuracy: {}\".format(test1_accuracy))"
   ]
  },
  {
   "cell_type": "markdown",
   "metadata": {},
   "source": [
    "**38%** 정도의 정확도가 측정되었다.   \n",
    "실제로 추론한 확률분포를 출력해보고 추론해낸 숫자와 실제 라벨의 값이 다른 경우는 어떤 경우인지 직접 확인해보자."
   ]
  },
  {
   "cell_type": "code",
   "execution_count": 35,
   "metadata": {},
   "outputs": [
    {
     "name": "stdout",
     "output_type": "stream",
     "text": [
      "예측확률분포: [0.00177379 0.2769143  0.7213119 ]\n",
      "라벨: 0, 예측결과: 2\n"
     ]
    },
    {
     "data": {
      "image/png": "[encoded data removed]",
      "text/plain": [
       "<Figure size 432x288 with 1 Axes>"
      ]
     },
     "metadata": {
      "needs_background": "light"
     },
     "output_type": "display_data"
    },
    {
     "name": "stdout",
     "output_type": "stream",
     "text": [
      "예측확률분포: [0.0723102  0.00136119 0.92632866]\n",
      "라벨: 1, 예측결과: 2\n"
     ]
    },
    {
     "data": {
      "image/png": "[encoded data removed]",
      "text/plain": [
       "<Figure size 432x288 with 1 Axes>"
      ]
     },
     "metadata": {
      "needs_background": "light"
     },
     "output_type": "display_data"
    },
    {
     "name": "stdout",
     "output_type": "stream",
     "text": [
      "예측확률분포: [4.2200804e-04 9.9779153e-01 1.7865043e-03]\n",
      "라벨: 2, 예측결과: 1\n"
     ]
    },
    {
     "data": {
      "image/png": "[encoded data removed]",
      "text/plain": [
       "<Figure size 432x288 with 1 Axes>"
      ]
     },
     "metadata": {
      "needs_background": "light"
     },
     "output_type": "display_data"
    },
    {
     "name": "stdout",
     "output_type": "stream",
     "text": [
      "예측확률분포: [0.29775903 0.41932607 0.2829149 ]\n",
      "라벨: 0, 예측결과: 1\n"
     ]
    },
    {
     "data": {
      "image/png": "[encoded data removed]",
      "text/plain": [
       "<Figure size 432x288 with 1 Axes>"
      ]
     },
     "metadata": {
      "needs_background": "light"
     },
     "output_type": "display_data"
    },
    {
     "name": "stdout",
     "output_type": "stream",
     "text": [
      "예측확률분포: [0.00163286 0.9930355  0.00533172]\n",
      "라벨: 0, 예측결과: 1\n"
     ]
    },
    {
     "data": {
      "image/png": "[encoded data removed]",
      "text/plain": [
       "<Figure size 432x288 with 1 Axes>"
      ]
     },
     "metadata": {
      "needs_background": "light"
     },
     "output_type": "display_data"
    }
   ],
   "source": [
    "predicted_result = model.predict(x_test1_norm)  # model이 추론한 확률값. \n",
    "predicted_labels = np.argmax(predicted_result, axis=1)\n",
    "\n",
    "wrong_predict_list=[]\n",
    "for i, _ in enumerate(predicted_labels):\n",
    "    # i번째 test_labels과 y_test이 다른 경우만 모아 봅시다. \n",
    "    if predicted_labels[i] != y_test1[i]:\n",
    "        wrong_predict_list.append(i)\n",
    "\n",
    "# wrong_predict_list 에서 랜덤하게 5개만 뽑아봅시다.\n",
    "samples = random.choices(population=wrong_predict_list, k=5)\n",
    "\n",
    "for n in samples:\n",
    "    print(\"예측확률분포: \" + str(predicted_result[n]))\n",
    "    print(\"라벨: \" + str(y_test1[n]) + \", 예측결과: \" + str(predicted_labels[n]))\n",
    "    plt.imshow(x_test1[n], cmap=plt.cm.binary)\n",
    "    plt.show()"
   ]
  },
  {
   "cell_type": "markdown",
   "metadata": {},
   "source": [
    "### 더 좋은 네트워크 만들어보기"
   ]
  },
  {
   "cell_type": "code",
   "execution_count": 36,
   "metadata": {},
   "outputs": [
    {
     "name": "stdout",
     "output_type": "stream",
     "text": [
      "Model: \"sequential_6\"\n",
      "_________________________________________________________________\n",
      "Layer (type)                 Output Shape              Param #   \n",
      "=================================================================\n",
      "conv2d_12 (Conv2D)           (None, 26, 26, 32)        896       \n",
      "_________________________________________________________________\n",
      "max_pooling2d_12 (MaxPooling (None, 13, 13, 32)        0         \n",
      "_________________________________________________________________\n",
      "conv2d_13 (Conv2D)           (None, 11, 11, 64)        18496     \n",
      "_________________________________________________________________\n",
      "max_pooling2d_13 (MaxPooling (None, 5, 5, 64)          0         \n",
      "_________________________________________________________________\n",
      "flatten_6 (Flatten)          (None, 1600)              0         \n",
      "_________________________________________________________________\n",
      "dense_12 (Dense)             (None, 64)                102464    \n",
      "_________________________________________________________________\n",
      "dense_13 (Dense)             (None, 3)                 195       \n",
      "=================================================================\n",
      "Total params: 122,051\n",
      "Trainable params: 122,051\n",
      "Non-trainable params: 0\n",
      "_________________________________________________________________\n",
      "Epoch 1/40\n",
      "10/10 [==============================] - 0s 2ms/step - loss: 1.1195 - accuracy: 0.3100\n",
      "Epoch 2/40\n",
      "10/10 [==============================] - 0s 2ms/step - loss: 1.0736 - accuracy: 0.4633\n",
      "Epoch 3/40\n",
      "10/10 [==============================] - 0s 2ms/step - loss: 1.0246 - accuracy: 0.6800\n",
      "Epoch 4/40\n",
      "10/10 [==============================] - 0s 2ms/step - loss: 0.9259 - accuracy: 0.6533\n",
      "Epoch 5/40\n",
      "10/10 [==============================] - 0s 2ms/step - loss: 0.8245 - accuracy: 0.6067\n",
      "Epoch 6/40\n",
      "10/10 [==============================] - 0s 2ms/step - loss: 0.7567 - accuracy: 0.6600\n",
      "Epoch 7/40\n",
      "10/10 [==============================] - 0s 2ms/step - loss: 0.6173 - accuracy: 0.7367\n",
      "Epoch 8/40\n",
      "10/10 [==============================] - 0s 2ms/step - loss: 0.4885 - accuracy: 0.8233\n",
      "Epoch 9/40\n",
      "10/10 [==============================] - 0s 2ms/step - loss: 0.4442 - accuracy: 0.8500\n",
      "Epoch 10/40\n",
      "10/10 [==============================] - 0s 2ms/step - loss: 0.3839 - accuracy: 0.8567\n",
      "Epoch 11/40\n",
      "10/10 [==============================] - 0s 2ms/step - loss: 0.3184 - accuracy: 0.8867\n",
      "Epoch 12/40\n",
      "10/10 [==============================] - 0s 2ms/step - loss: 0.2766 - accuracy: 0.9133\n",
      "Epoch 13/40\n",
      "10/10 [==============================] - 0s 3ms/step - loss: 0.2394 - accuracy: 0.9233\n",
      "Epoch 14/40\n",
      "10/10 [==============================] - 0s 2ms/step - loss: 0.3048 - accuracy: 0.8667\n",
      "Epoch 15/40\n",
      "10/10 [==============================] - 0s 2ms/step - loss: 0.2268 - accuracy: 0.9400\n",
      "Epoch 16/40\n",
      "10/10 [==============================] - 0s 2ms/step - loss: 0.1704 - accuracy: 0.9533\n",
      "Epoch 17/40\n",
      "10/10 [==============================] - 0s 2ms/step - loss: 0.1305 - accuracy: 0.9867\n",
      "Epoch 18/40\n",
      "10/10 [==============================] - 0s 2ms/step - loss: 0.1090 - accuracy: 0.9867\n",
      "Epoch 19/40\n",
      "10/10 [==============================] - 0s 2ms/step - loss: 0.0913 - accuracy: 0.9967\n",
      "Epoch 20/40\n",
      "10/10 [==============================] - 0s 2ms/step - loss: 0.0885 - accuracy: 0.9900\n",
      "Epoch 21/40\n",
      "10/10 [==============================] - 0s 2ms/step - loss: 0.0841 - accuracy: 0.9967\n",
      "Epoch 22/40\n",
      "10/10 [==============================] - 0s 2ms/step - loss: 0.0744 - accuracy: 0.9900\n",
      "Epoch 23/40\n",
      "10/10 [==============================] - 0s 2ms/step - loss: 0.0533 - accuracy: 1.0000\n",
      "Epoch 24/40\n",
      "10/10 [==============================] - 0s 2ms/step - loss: 0.0465 - accuracy: 1.0000\n",
      "Epoch 25/40\n",
      "10/10 [==============================] - 0s 2ms/step - loss: 0.0406 - accuracy: 1.0000\n",
      "Epoch 26/40\n",
      "10/10 [==============================] - 0s 2ms/step - loss: 0.0333 - accuracy: 1.0000\n",
      "Epoch 27/40\n",
      "10/10 [==============================] - 0s 2ms/step - loss: 0.0279 - accuracy: 1.0000\n",
      "Epoch 28/40\n",
      "10/10 [==============================] - 0s 2ms/step - loss: 0.0248 - accuracy: 1.0000\n",
      "Epoch 29/40\n",
      "10/10 [==============================] - 0s 3ms/step - loss: 0.0238 - accuracy: 1.0000\n",
      "Epoch 30/40\n",
      "10/10 [==============================] - 0s 2ms/step - loss: 0.0163 - accuracy: 1.0000\n",
      "Epoch 31/40\n",
      "10/10 [==============================] - 0s 2ms/step - loss: 0.0165 - accuracy: 1.0000\n",
      "Epoch 32/40\n",
      "10/10 [==============================] - 0s 3ms/step - loss: 0.0132 - accuracy: 1.0000\n",
      "Epoch 33/40\n",
      "10/10 [==============================] - 0s 2ms/step - loss: 0.0131 - accuracy: 1.0000\n",
      "Epoch 34/40\n",
      "10/10 [==============================] - 0s 2ms/step - loss: 0.0118 - accuracy: 1.0000\n",
      "Epoch 35/40\n",
      "10/10 [==============================] - 0s 3ms/step - loss: 0.0106 - accuracy: 1.0000\n",
      "Epoch 36/40\n",
      "10/10 [==============================] - 0s 3ms/step - loss: 0.0110 - accuracy: 1.0000\n",
      "Epoch 37/40\n",
      "10/10 [==============================] - 0s 2ms/step - loss: 0.0082 - accuracy: 1.0000\n",
      "Epoch 38/40\n",
      "10/10 [==============================] - 0s 2ms/step - loss: 0.0074 - accuracy: 1.0000\n",
      "Epoch 39/40\n",
      "10/10 [==============================] - 0s 2ms/step - loss: 0.0069 - accuracy: 1.0000\n",
      "Epoch 40/40\n",
      "10/10 [==============================] - 0s 2ms/step - loss: 0.0065 - accuracy: 1.0000\n",
      "10/10 - 0s - loss: 3.3826 - accuracy: 0.4367\n",
      "test1_loss: 3.382599115371704 \n",
      "test1_accuracy: 0.43666666746139526\n"
     ]
    }
   ],
   "source": [
    "#바꿔 볼 수 있는 하이퍼파라미터들\n",
    "n_channel_1=32\n",
    "n_channel_2=64\n",
    "n_dense=64\n",
    "n_train_epoch=40\n",
    "\n",
    "model=keras.models.Sequential()\n",
    "model.add(keras.layers.Conv2D(n_channel_1, (3,3), activation='relu', input_shape=(28,28,3)))\n",
    "model.add(keras.layers.MaxPool2D(2,2))\n",
    "model.add(keras.layers.Conv2D(n_channel_2, (3,3), activation='relu'))\n",
    "model.add(keras.layers.MaxPooling2D((2,2)))\n",
    "model.add(keras.layers.Flatten())\n",
    "model.add(keras.layers.Dense(n_dense, activation='relu'))\n",
    "model.add(keras.layers.Dense(3, activation='softmax'))\n",
    "\n",
    "model.summary()\n",
    "model.compile(optimizer='adam',\n",
    "             loss='sparse_categorical_crossentropy',\n",
    "             metrics=['accuracy'])\n",
    "\n",
    "# 모델 훈련\n",
    "model.fit(x_train_norm, y_train, epochs=n_train_epoch)\n",
    "\n",
    "# 모델 시험\n",
    "test1_loss, test1_accuracy = model.evaluate(x_test1_norm, y_test1, verbose=2)\n",
    "print(\"test1_loss: {} \".format(test1_loss))\n",
    "print(\"test1_accuracy: {}\".format(test1_accuracy))"
   ]
  },
  {
   "cell_type": "markdown",
   "metadata": {},
   "source": [
    "**43%**의 정확도가 측정되었다."
   ]
  },
  {
   "cell_type": "markdown",
   "metadata": {},
   "source": [
    "### 다른 조원의 데이터도 테스트해보자 (최지효 님의 이미지)\n",
    "#### 이미지 리사이즈"
   ]
  },
  {
   "cell_type": "code",
   "execution_count": 20,
   "metadata": {},
   "outputs": [],
   "source": [
    "# 각 이미지가 저장된 디렉토리 아래의 모든 jpg 파일을 읽어들여서\n",
    "test_scissor_path = os.getenv(\"HOME\") + \"/rock_scissor_paper/test2/scissor\"\n",
    "test_rock_path = os.getenv(\"HOME\") + \"/rock_scissor_paper/test2/rock\"\n",
    "test_paper_path = os.getenv(\"HOME\") + \"/rock_scissor_paper/test2/paper\"\n",
    "\n",
    "# 파일마다 모두 28x28 사이즈로 바꾸어 저장합니다.\n",
    "target_size=(28,28)\n",
    "\n",
    "# 가위\n",
    "images = glob.glob(test_scissor_path+\"/*.jpg\")  \n",
    "for img in images:\n",
    "    old_img = Image.open(img)\n",
    "    new_img = old_img.resize(target_size, Image.ANTIALIAS)\n",
    "    new_img.save(img,\"JPEG\")\n",
    "    \n",
    "# 바위\n",
    "images = glob.glob(test_rock_path+\"/*.jpg\")  \n",
    "for img in images:\n",
    "    old_img = Image.open(img)\n",
    "    new_img = old_img.resize(target_size, Image.ANTIALIAS)\n",
    "    new_img.save(img,\"JPEG\")\n",
    "    \n",
    "    # 가위\n",
    "images = glob.glob(test_paper_path+\"/*.jpg\")  \n",
    "for img in images:\n",
    "    old_img = Image.open(img)\n",
    "    new_img = old_img.resize(target_size, Image.ANTIALIAS)\n",
    "    new_img.save(img,\"JPEG\")"
   ]
  },
  {
   "cell_type": "markdown",
   "metadata": {},
   "source": [
    "#### 이미지 로드"
   ]
  },
  {
   "cell_type": "code",
   "execution_count": 21,
   "metadata": {},
   "outputs": [
    {
     "name": "stdout",
     "output_type": "stream",
     "text": [
      "load된 이미지 개수는  300  입니다.\n",
      "x_test2_norm shape: (300, 28, 28, 3)\n",
      "y_test2 shape: (300,)\n"
     ]
    }
   ],
   "source": [
    "test2_image_dir_path = os.getenv(\"HOME\") + \"/rock_scissor_paper/test2\"\n",
    "(x_test2, y_test2) = load_data(test2_image_dir_path)\n",
    "\n",
    "# 입력은 0~1 사이의 값으로 정규화\n",
    "x_test2_norm = x_test2/255.0\n",
    "\n",
    "print(\"x_test2_norm shape: {}\".format(x_test2_norm.shape))\n",
    "print(\"y_test2 shape: {}\".format(y_test2.shape))"
   ]
  },
  {
   "cell_type": "markdown",
   "metadata": {},
   "source": [
    "#### 정확도 측정"
   ]
  },
  {
   "cell_type": "code",
   "execution_count": 37,
   "metadata": {},
   "outputs": [
    {
     "name": "stdout",
     "output_type": "stream",
     "text": [
      "10/10 - 0s - loss: 2.1579 - accuracy: 0.6367\n",
      "test2_loss: 2.1579034328460693 \n",
      "test2_accuracy: 0.6366666555404663\n"
     ]
    }
   ],
   "source": [
    "test2_loss, test2_accuracy = model.evaluate(x_test2_norm, y_test2, verbose=2)\n",
    "print(\"test2_loss: {} \".format(test2_loss))\n",
    "print(\"test2_accuracy: {}\".format(test2_accuracy))"
   ]
  },
  {
   "cell_type": "markdown",
   "metadata": {},
   "source": [
    "**63%** 정도의 정확도가 나왔다."
   ]
  },
  {
   "cell_type": "code",
   "execution_count": 38,
   "metadata": {},
   "outputs": [
    {
     "name": "stdout",
     "output_type": "stream",
     "text": [
      "예측확률분포: [0.00309231 0.02995377 0.966954  ]\n",
      "라벨: 1, 예측결과: 2\n"
     ]
    },
    {
     "data": {
      "image/png": "[encoded data removed]",
      "text/plain": [
       "<Figure size 432x288 with 1 Axes>"
      ]
     },
     "metadata": {
      "needs_background": "light"
     },
     "output_type": "display_data"
    },
    {
     "name": "stdout",
     "output_type": "stream",
     "text": [
      "예측확률분포: [9.3991882e-01 6.7919376e-10 6.0081240e-02]\n",
      "라벨: 2, 예측결과: 0\n"
     ]
    },
    {
     "data": {
      "image/png": "[encoded data removed]",
      "text/plain": [
       "<Figure size 432x288 with 1 Axes>"
      ]
     },
     "metadata": {
      "needs_background": "light"
     },
     "output_type": "display_data"
    },
    {
     "name": "stdout",
     "output_type": "stream",
     "text": [
      "예측확률분포: [9.9997103e-01 7.8973579e-07 2.8160643e-05]\n",
      "라벨: 2, 예측결과: 0\n"
     ]
    },
    {
     "data": {
      "image/png": "[encoded data removed]",
      "text/plain": [
       "<Figure size 432x288 with 1 Axes>"
      ]
     },
     "metadata": {
      "needs_background": "light"
     },
     "output_type": "display_data"
    },
    {
     "name": "stdout",
     "output_type": "stream",
     "text": [
      "예측확률분포: [9.972730e-01 2.703593e-03 2.339148e-05]\n",
      "라벨: 1, 예측결과: 0\n"
     ]
    },
    {
     "data": {
      "image/png": "[encoded data removed]",
      "text/plain": [
       "<Figure size 432x288 with 1 Axes>"
      ]
     },
     "metadata": {
      "needs_background": "light"
     },
     "output_type": "display_data"
    },
    {
     "name": "stdout",
     "output_type": "stream",
     "text": [
      "예측확률분포: [0.6253492 0.3708655 0.0037853]\n",
      "라벨: 1, 예측결과: 0\n"
     ]
    },
    {
     "data": {
      "image/png": "[encoded data removed]",
      "text/plain": [
       "<Figure size 432x288 with 1 Axes>"
      ]
     },
     "metadata": {
      "needs_background": "light"
     },
     "output_type": "display_data"
    }
   ],
   "source": [
    "predicted_result = model.predict(x_test2_norm)  # model이 추론한 확률값. \n",
    "predicted_labels = np.argmax(predicted_result, axis=1)\n",
    "\n",
    "wrong_predict_list=[]\n",
    "for i, _ in enumerate(predicted_labels):\n",
    "    # i번째 test_labels과 y_test이 다른 경우만 모아 봅시다. \n",
    "    if predicted_labels[i] != y_test2[i]:\n",
    "        wrong_predict_list.append(i)\n",
    "\n",
    "# wrong_predict_list 에서 랜덤하게 5개만 뽑아봅시다.\n",
    "samples = random.choices(population=wrong_predict_list, k=5)\n",
    "\n",
    "for n in samples:\n",
    "    print(\"예측확률분포: \" + str(predicted_result[n]))\n",
    "    print(\"라벨: \" + str(y_test2[n]) + \", 예측결과: \" + str(predicted_labels[n]))\n",
    "    plt.imshow(x_test2[n], cmap=plt.cm.binary)\n",
    "    plt.show()"
   ]
  },
  {
   "cell_type": "markdown",
   "metadata": {},
   "source": [
    "#### 하이파라미터를 다시 원래대로 바꿔 테스트를 해보자."
   ]
  },
  {
   "cell_type": "code",
   "execution_count": 39,
   "metadata": {},
   "outputs": [
    {
     "name": "stdout",
     "output_type": "stream",
     "text": [
      "Model: \"sequential_7\"\n",
      "_________________________________________________________________\n",
      "Layer (type)                 Output Shape              Param #   \n",
      "=================================================================\n",
      "conv2d_14 (Conv2D)           (None, 26, 26, 16)        448       \n",
      "_________________________________________________________________\n",
      "max_pooling2d_14 (MaxPooling (None, 13, 13, 16)        0         \n",
      "_________________________________________________________________\n",
      "conv2d_15 (Conv2D)           (None, 11, 11, 32)        4640      \n",
      "_________________________________________________________________\n",
      "max_pooling2d_15 (MaxPooling (None, 5, 5, 32)          0         \n",
      "_________________________________________________________________\n",
      "flatten_7 (Flatten)          (None, 800)               0         \n",
      "_________________________________________________________________\n",
      "dense_14 (Dense)             (None, 32)                25632     \n",
      "_________________________________________________________________\n",
      "dense_15 (Dense)             (None, 3)                 99        \n",
      "=================================================================\n",
      "Total params: 30,819\n",
      "Trainable params: 30,819\n",
      "Non-trainable params: 0\n",
      "_________________________________________________________________\n",
      "Epoch 1/40\n",
      "10/10 [==============================] - 0s 2ms/step - loss: 1.1072 - accuracy: 0.3300\n",
      "Epoch 2/40\n",
      "10/10 [==============================] - 0s 3ms/step - loss: 1.0915 - accuracy: 0.3700\n",
      "Epoch 3/40\n",
      "10/10 [==============================] - 0s 2ms/step - loss: 1.0768 - accuracy: 0.5133\n",
      "Epoch 4/40\n",
      "10/10 [==============================] - 0s 2ms/step - loss: 1.0568 - accuracy: 0.5000\n",
      "Epoch 5/40\n",
      "10/10 [==============================] - 0s 2ms/step - loss: 1.0103 - accuracy: 0.6367\n",
      "Epoch 6/40\n",
      "10/10 [==============================] - 0s 2ms/step - loss: 0.9355 - accuracy: 0.7000\n",
      "Epoch 7/40\n",
      "10/10 [==============================] - 0s 2ms/step - loss: 0.8612 - accuracy: 0.6867\n",
      "Epoch 8/40\n",
      "10/10 [==============================] - 0s 2ms/step - loss: 0.7591 - accuracy: 0.6900\n",
      "Epoch 9/40\n",
      "10/10 [==============================] - 0s 2ms/step - loss: 0.7124 - accuracy: 0.6933\n",
      "Epoch 10/40\n",
      "10/10 [==============================] - 0s 2ms/step - loss: 0.6219 - accuracy: 0.7867\n",
      "Epoch 11/40\n",
      "10/10 [==============================] - 0s 3ms/step - loss: 0.5310 - accuracy: 0.8433\n",
      "Epoch 12/40\n",
      "10/10 [==============================] - 0s 2ms/step - loss: 0.4863 - accuracy: 0.8167\n",
      "Epoch 13/40\n",
      "10/10 [==============================] - 0s 2ms/step - loss: 0.4557 - accuracy: 0.8233\n",
      "Epoch 14/40\n",
      "10/10 [==============================] - 0s 2ms/step - loss: 0.3902 - accuracy: 0.8733\n",
      "Epoch 15/40\n",
      "10/10 [==============================] - 0s 3ms/step - loss: 0.3523 - accuracy: 0.8833\n",
      "Epoch 16/40\n",
      "10/10 [==============================] - 0s 2ms/step - loss: 0.3401 - accuracy: 0.8733\n",
      "Epoch 17/40\n",
      "10/10 [==============================] - 0s 3ms/step - loss: 0.2829 - accuracy: 0.9133\n",
      "Epoch 18/40\n",
      "10/10 [==============================] - 0s 3ms/step - loss: 0.2558 - accuracy: 0.9200\n",
      "Epoch 19/40\n",
      "10/10 [==============================] - 0s 2ms/step - loss: 0.2640 - accuracy: 0.8967\n",
      "Epoch 20/40\n",
      "10/10 [==============================] - 0s 2ms/step - loss: 0.2495 - accuracy: 0.9100\n",
      "Epoch 21/40\n",
      "10/10 [==============================] - 0s 2ms/step - loss: 0.2052 - accuracy: 0.9500\n",
      "Epoch 22/40\n",
      "10/10 [==============================] - 0s 2ms/step - loss: 0.1885 - accuracy: 0.9500\n",
      "Epoch 23/40\n",
      "10/10 [==============================] - 0s 2ms/step - loss: 0.1569 - accuracy: 0.9833\n",
      "Epoch 24/40\n",
      "10/10 [==============================] - 0s 2ms/step - loss: 0.1408 - accuracy: 0.9800\n",
      "Epoch 25/40\n",
      "10/10 [==============================] - 0s 2ms/step - loss: 0.1223 - accuracy: 0.9900\n",
      "Epoch 26/40\n",
      "10/10 [==============================] - 0s 2ms/step - loss: 0.1134 - accuracy: 0.9900\n",
      "Epoch 27/40\n",
      "10/10 [==============================] - 0s 2ms/step - loss: 0.1194 - accuracy: 0.9800\n",
      "Epoch 28/40\n",
      "10/10 [==============================] - 0s 2ms/step - loss: 0.1093 - accuracy: 0.9800\n",
      "Epoch 29/40\n",
      "10/10 [==============================] - 0s 2ms/step - loss: 0.0898 - accuracy: 0.9967\n",
      "Epoch 30/40\n",
      "10/10 [==============================] - 0s 2ms/step - loss: 0.0778 - accuracy: 0.9967\n",
      "Epoch 31/40\n",
      "10/10 [==============================] - 0s 2ms/step - loss: 0.0743 - accuracy: 0.9933\n",
      "Epoch 32/40\n",
      "10/10 [==============================] - 0s 2ms/step - loss: 0.0595 - accuracy: 1.0000\n",
      "Epoch 33/40\n",
      "10/10 [==============================] - 0s 2ms/step - loss: 0.0558 - accuracy: 1.0000\n",
      "Epoch 34/40\n",
      "10/10 [==============================] - 0s 2ms/step - loss: 0.0524 - accuracy: 1.0000\n",
      "Epoch 35/40\n",
      "10/10 [==============================] - 0s 2ms/step - loss: 0.0486 - accuracy: 1.0000\n",
      "Epoch 36/40\n",
      "10/10 [==============================] - 0s 2ms/step - loss: 0.0408 - accuracy: 1.0000\n",
      "Epoch 37/40\n",
      "10/10 [==============================] - 0s 2ms/step - loss: 0.0349 - accuracy: 1.0000\n",
      "Epoch 38/40\n",
      "10/10 [==============================] - 0s 2ms/step - loss: 0.0329 - accuracy: 1.0000\n",
      "Epoch 39/40\n",
      "10/10 [==============================] - 0s 2ms/step - loss: 0.0291 - accuracy: 1.0000\n",
      "Epoch 40/40\n",
      "10/10 [==============================] - 0s 2ms/step - loss: 0.0286 - accuracy: 1.0000\n",
      "10/10 - 0s - loss: 1.7363 - accuracy: 0.6367\n",
      "test2_loss: 1.736314296722412 \n",
      "test2_accuracy: 0.6366666555404663\n"
     ]
    }
   ],
   "source": [
    "# 하이퍼파라미터\n",
    "n_channel_1=16\n",
    "n_channel_2=32\n",
    "n_dense=32\n",
    "n_train_epoch=40\n",
    "\n",
    "model=keras.models.Sequential()\n",
    "model.add(keras.layers.Conv2D(n_channel_1, (3,3), activation='relu', input_shape=(28,28,3)))\n",
    "model.add(keras.layers.MaxPool2D(2,2))\n",
    "model.add(keras.layers.Conv2D(n_channel_2, (3,3), activation='relu'))\n",
    "model.add(keras.layers.MaxPooling2D((2,2)))\n",
    "model.add(keras.layers.Flatten())\n",
    "model.add(keras.layers.Dense(n_dense, activation='relu'))\n",
    "model.add(keras.layers.Dense(3, activation='softmax'))\n",
    "\n",
    "model.summary()\n",
    "model.compile(optimizer='adam',\n",
    "             loss='sparse_categorical_crossentropy',\n",
    "             metrics=['accuracy'])\n",
    "\n",
    "# 모델 훈련\n",
    "model.fit(x_train_norm, y_train, epochs=n_train_epoch)\n",
    "\n",
    "# 모델 시험\n",
    "test2_loss, test2_accuracy = model.evaluate(x_test2_norm, y_test2, verbose=2)\n",
    "print(\"test2_loss: {} \".format(test2_loss))\n",
    "print(\"test2_accuracy: {}\".format(test2_accuracy))"
   ]
  },
  {
   "cell_type": "markdown",
   "metadata": {},
   "source": [
    "**63%** 정도의 정확도로 크게 변화가 없다."
   ]
  },
  {
   "cell_type": "markdown",
   "metadata": {},
   "source": [
    "### 다른 사람들의 사진을 모아 3,000장의 학습데이터를 모아 다시 시도해보자."
   ]
  },
  {
   "cell_type": "markdown",
   "metadata": {},
   "source": [
    "#### 이미지를 다시 불러온다.\n",
    "##### load_data() 의 number_of_data 를 3,000으로 수정하여 다시 선언"
   ]
  },
  {
   "cell_type": "code",
   "execution_count": 41,
   "metadata": {},
   "outputs": [],
   "source": [
    "def load_data(img_path):\n",
    "    \n",
    "    # 가위: 0, 바위: 1, 보: 2\n",
    "    number_of_data = 3000    # 가위바위보 이미지 개수 총합에 주의하세요.\n",
    "    img_size = 28\n",
    "    color = 3\n",
    "    \n",
    "    # 이미지 데이터와 라벨(가위: 0, 바위: 1, 보: 2) 데이터를 담을 행렬(matrix) 영역을 생성합니다.\n",
    "    imgs = np.zeros(number_of_data * img_size * img_size * color, dtype=np.int32).reshape(number_of_data, img_size, img_size, color)\n",
    "    labels = np.zeros(number_of_data, dtype=np.int32)\n",
    "\n",
    "    idx = 0\n",
    "    \n",
    "    # 가위\n",
    "    for file in glob.iglob(img_path + '/scissor/*.jpg'):\n",
    "        img = np.array(Image.open(file), dtype = np.int32)\n",
    "        imgs[idx, :, :, :] = img    # 데이터 영역에 이미지 행렬을 복사\n",
    "        labels[idx] = 0    # 가위: 0\n",
    "        idx = idx + 1\n",
    "\n",
    "    # 바위\n",
    "    for file in glob.iglob(img_path + '/rock/*.jpg'):\n",
    "        img = np.array(Image.open(file), dtype = np.int32)\n",
    "        imgs[idx, :, :, :] = img    # 데이터 영역에 이미지 행렬을 복사\n",
    "        labels[idx] = 1    # 바위: 1\n",
    "        idx = idx + 1       \n",
    "    \n",
    "    # 보\n",
    "    for file in glob.iglob(img_path + '/paper/*.jpg'):\n",
    "        img = np.array(Image.open(file), dtype = np.int32)\n",
    "        imgs[idx, :, :, :] = img    # 데이터 영역에 이미지 행렬을 복사\n",
    "        labels[idx] = 2    # 보: 2\n",
    "        idx = idx + 1\n",
    "        \n",
    "    # print(\"학습데이터(x_train)의 이미지 개수는\",idx,\"입니다.\")\n",
    "    print(\"load된 이미지 개수는 \", idx, \" 입니다.\")\n",
    "    return imgs, labels"
   ]
  },
  {
   "cell_type": "code",
   "execution_count": 44,
   "metadata": {},
   "outputs": [
    {
     "name": "stdout",
     "output_type": "stream",
     "text": [
      "load된 이미지 개수는  3000  입니다.\n",
      "x_train shape: (3000, 28, 28, 3)\n",
      "y_train shape: (3000,)\n"
     ]
    }
   ],
   "source": [
    "image_dir_path = os.getenv(\"HOME\") + \"/rock_scissor_paper\"\n",
    "(x_train, y_train) = load_data(image_dir_path)\n",
    "\n",
    "# 입력은 0~1 사이의 값으로 정규화\n",
    "x_train_norm = x_train / 255.0\n",
    "\n",
    "print(\"x_train shape: {}\".format(x_train_norm.shape))\n",
    "print(\"y_train shape: {}\".format(y_train.shape))"
   ]
  },
  {
   "cell_type": "markdown",
   "metadata": {},
   "source": [
    "#### 딥러닝 네트워크 재설정"
   ]
  },
  {
   "cell_type": "code",
   "execution_count": 51,
   "metadata": {},
   "outputs": [
    {
     "name": "stdout",
     "output_type": "stream",
     "text": [
      "Model: \"sequential_11\"\n",
      "_________________________________________________________________\n",
      "Layer (type)                 Output Shape              Param #   \n",
      "=================================================================\n",
      "conv2d_22 (Conv2D)           (None, 26, 26, 16)        448       \n",
      "_________________________________________________________________\n",
      "max_pooling2d_22 (MaxPooling (None, 13, 13, 16)        0         \n",
      "_________________________________________________________________\n",
      "conv2d_23 (Conv2D)           (None, 11, 11, 32)        4640      \n",
      "_________________________________________________________________\n",
      "max_pooling2d_23 (MaxPooling (None, 5, 5, 32)          0         \n",
      "_________________________________________________________________\n",
      "flatten_11 (Flatten)         (None, 800)               0         \n",
      "_________________________________________________________________\n",
      "dense_22 (Dense)             (None, 32)                25632     \n",
      "_________________________________________________________________\n",
      "dense_23 (Dense)             (None, 3)                 99        \n",
      "=================================================================\n",
      "Total params: 30,819\n",
      "Trainable params: 30,819\n",
      "Non-trainable params: 0\n",
      "_________________________________________________________________\n",
      "Epoch 1/30\n",
      "94/94 [==============================] - 0s 2ms/step - loss: 1.0263 - accuracy: 0.4710\n",
      "Epoch 2/30\n",
      "94/94 [==============================] - 0s 2ms/step - loss: 0.7855 - accuracy: 0.6660\n",
      "Epoch 3/30\n",
      "94/94 [==============================] - 0s 2ms/step - loss: 0.5664 - accuracy: 0.7880\n",
      "Epoch 4/30\n",
      "94/94 [==============================] - 0s 2ms/step - loss: 0.4362 - accuracy: 0.8450\n",
      "Epoch 5/30\n",
      "94/94 [==============================] - 0s 2ms/step - loss: 0.3445 - accuracy: 0.8797\n",
      "Epoch 6/30\n",
      "94/94 [==============================] - 0s 2ms/step - loss: 0.2695 - accuracy: 0.9120\n",
      "Epoch 7/30\n",
      "94/94 [==============================] - 0s 2ms/step - loss: 0.2064 - accuracy: 0.9363\n",
      "Epoch 8/30\n",
      "94/94 [==============================] - 0s 3ms/step - loss: 0.1945 - accuracy: 0.9410\n",
      "Epoch 9/30\n",
      "94/94 [==============================] - 0s 2ms/step - loss: 0.1443 - accuracy: 0.9593\n",
      "Epoch 10/30\n",
      "94/94 [==============================] - 0s 2ms/step - loss: 0.1126 - accuracy: 0.9667\n",
      "Epoch 11/30\n",
      "94/94 [==============================] - 0s 2ms/step - loss: 0.0905 - accuracy: 0.9747\n",
      "Epoch 12/30\n",
      "94/94 [==============================] - 0s 2ms/step - loss: 0.0695 - accuracy: 0.9830\n",
      "Epoch 13/30\n",
      "94/94 [==============================] - 0s 2ms/step - loss: 0.0640 - accuracy: 0.9840\n",
      "Epoch 14/30\n",
      "94/94 [==============================] - 0s 2ms/step - loss: 0.0427 - accuracy: 0.9927\n",
      "Epoch 15/30\n",
      "94/94 [==============================] - 0s 2ms/step - loss: 0.0389 - accuracy: 0.9943\n",
      "Epoch 16/30\n",
      "94/94 [==============================] - 0s 2ms/step - loss: 0.0364 - accuracy: 0.9937\n",
      "Epoch 17/30\n",
      "94/94 [==============================] - 0s 2ms/step - loss: 0.0293 - accuracy: 0.9950\n",
      "Epoch 18/30\n",
      "94/94 [==============================] - 0s 2ms/step - loss: 0.0174 - accuracy: 0.9983\n",
      "Epoch 19/30\n",
      "94/94 [==============================] - 0s 2ms/step - loss: 0.0172 - accuracy: 0.9983\n",
      "Epoch 20/30\n",
      "94/94 [==============================] - 0s 2ms/step - loss: 0.0130 - accuracy: 0.9987\n",
      "Epoch 21/30\n",
      "94/94 [==============================] - 0s 2ms/step - loss: 0.0096 - accuracy: 0.9997\n",
      "Epoch 22/30\n",
      "94/94 [==============================] - 0s 2ms/step - loss: 0.0073 - accuracy: 1.0000\n",
      "Epoch 23/30\n",
      "94/94 [==============================] - 0s 2ms/step - loss: 0.0065 - accuracy: 1.0000\n",
      "Epoch 24/30\n",
      "94/94 [==============================] - 0s 2ms/step - loss: 0.0053 - accuracy: 1.0000\n",
      "Epoch 25/30\n",
      "94/94 [==============================] - 0s 2ms/step - loss: 0.0042 - accuracy: 1.0000\n",
      "Epoch 26/30\n",
      "94/94 [==============================] - 0s 3ms/step - loss: 0.0036 - accuracy: 1.0000\n",
      "Epoch 27/30\n",
      "94/94 [==============================] - 0s 2ms/step - loss: 0.0039 - accuracy: 1.0000\n",
      "Epoch 28/30\n",
      "94/94 [==============================] - 0s 2ms/step - loss: 0.0030 - accuracy: 1.0000\n",
      "Epoch 29/30\n",
      "94/94 [==============================] - 0s 2ms/step - loss: 0.0024 - accuracy: 1.0000\n",
      "Epoch 30/30\n",
      "94/94 [==============================] - 0s 2ms/step - loss: 0.0022 - accuracy: 1.0000\n"
     ]
    },
    {
     "data": {
      "text/plain": [
       "<tensorflow.python.keras.callbacks.History at 0x7f884425fb10>"
      ]
     },
     "execution_count": 51,
     "metadata": {},
     "output_type": "execute_result"
    }
   ],
   "source": [
    "# 하이퍼파라미터\n",
    "n_channel_1=16\n",
    "n_channel_2=32\n",
    "n_dense=32\n",
    "n_train_epoch=30\n",
    "\n",
    "model=keras.models.Sequential()\n",
    "model.add(keras.layers.Conv2D(n_channel_1, (3,3), activation='relu', input_shape=(28,28,3)))\n",
    "model.add(keras.layers.MaxPool2D(2,2))\n",
    "model.add(keras.layers.Conv2D(n_channel_2, (3,3), activation='relu'))\n",
    "model.add(keras.layers.MaxPooling2D((2,2)))\n",
    "model.add(keras.layers.Flatten())\n",
    "model.add(keras.layers.Dense(n_dense, activation='relu'))\n",
    "model.add(keras.layers.Dense(3, activation='softmax'))\n",
    "\n",
    "model.summary()\n",
    "model.compile(optimizer='adam',\n",
    "             loss='sparse_categorical_crossentropy',\n",
    "             metrics=['accuracy'])\n",
    "\n",
    "# 모델 훈련\n",
    "model.fit(x_train_norm, y_train, epochs=n_train_epoch)"
   ]
  },
  {
   "cell_type": "code",
   "execution_count": 52,
   "metadata": {},
   "outputs": [
    {
     "name": "stdout",
     "output_type": "stream",
     "text": [
      "10/10 - 0s - loss: 1.8834 - accuracy: 0.5800\n",
      "test1_loss: 1.8833768367767334 \n",
      "test1_accuracy: 0.5799999833106995\n"
     ]
    }
   ],
   "source": [
    "# test1 모델 시험\n",
    "test1_loss, test1_accuracy = model.evaluate(x_test1_norm, y_test1, verbose=2)\n",
    "print(\"test1_loss: {} \".format(test1_loss))\n",
    "print(\"test1_accuracy: {}\".format(test1_accuracy))"
   ]
  },
  {
   "cell_type": "code",
   "execution_count": 53,
   "metadata": {},
   "outputs": [
    {
     "name": "stdout",
     "output_type": "stream",
     "text": [
      "10/10 - 0s - loss: 1.7006 - accuracy: 0.6767\n",
      "test2_loss: 1.7006479501724243 \n",
      "test2_accuracy: 0.6766666769981384\n"
     ]
    }
   ],
   "source": [
    "# test2 모델 시험\n",
    "test2_loss, test2_accuracy = model.evaluate(x_test2_norm, y_test2, verbose=2)\n",
    "print(\"test2_loss: {} \".format(test2_loss))\n",
    "print(\"test2_accuracy: {}\".format(test2_accuracy))"
   ]
  },
  {
   "cell_type": "markdown",
   "metadata": {},
   "source": [
    "### test1 에서의 정확도 향상\n",
    "test1: 정확도가 크게 상승한 모습을 보여준다.  \n",
    "test2: 크게 차이를 보이지 않았다.   \n",
    "### 하이퍼파라미터를 수정 후 다시 한 번 측정해보자."
   ]
  },
  {
   "cell_type": "code",
   "execution_count": 54,
   "metadata": {},
   "outputs": [
    {
     "name": "stdout",
     "output_type": "stream",
     "text": [
      "Model: \"sequential_12\"\n",
      "_________________________________________________________________\n",
      "Layer (type)                 Output Shape              Param #   \n",
      "=================================================================\n",
      "conv2d_24 (Conv2D)           (None, 26, 26, 32)        896       \n",
      "_________________________________________________________________\n",
      "max_pooling2d_24 (MaxPooling (None, 13, 13, 32)        0         \n",
      "_________________________________________________________________\n",
      "conv2d_25 (Conv2D)           (None, 11, 11, 64)        18496     \n",
      "_________________________________________________________________\n",
      "max_pooling2d_25 (MaxPooling (None, 5, 5, 64)          0         \n",
      "_________________________________________________________________\n",
      "flatten_12 (Flatten)         (None, 1600)              0         \n",
      "_________________________________________________________________\n",
      "dense_24 (Dense)             (None, 64)                102464    \n",
      "_________________________________________________________________\n",
      "dense_25 (Dense)             (None, 3)                 195       \n",
      "=================================================================\n",
      "Total params: 122,051\n",
      "Trainable params: 122,051\n",
      "Non-trainable params: 0\n",
      "_________________________________________________________________\n",
      "Epoch 1/30\n",
      "94/94 [==============================] - 5s 54ms/step - loss: 1.0184 - accuracy: 0.4593\n",
      "Epoch 2/30\n",
      "94/94 [==============================] - 0s 2ms/step - loss: 0.6488 - accuracy: 0.7483\n",
      "Epoch 3/30\n",
      "94/94 [==============================] - 0s 2ms/step - loss: 0.4204 - accuracy: 0.8497\n",
      "Epoch 4/30\n",
      "94/94 [==============================] - 0s 2ms/step - loss: 0.2841 - accuracy: 0.9063\n",
      "Epoch 5/30\n",
      "94/94 [==============================] - 0s 2ms/step - loss: 0.2061 - accuracy: 0.9343\n",
      "Epoch 6/30\n",
      "94/94 [==============================] - 0s 2ms/step - loss: 0.1446 - accuracy: 0.9567\n",
      "Epoch 7/30\n",
      "94/94 [==============================] - 0s 2ms/step - loss: 0.0884 - accuracy: 0.9783\n",
      "Epoch 8/30\n",
      "94/94 [==============================] - 0s 2ms/step - loss: 0.0735 - accuracy: 0.9797\n",
      "Epoch 9/30\n",
      "94/94 [==============================] - 0s 2ms/step - loss: 0.0477 - accuracy: 0.9903\n",
      "Epoch 10/30\n",
      "94/94 [==============================] - 0s 3ms/step - loss: 0.0288 - accuracy: 0.9977\n",
      "Epoch 11/30\n",
      "94/94 [==============================] - 0s 2ms/step - loss: 0.0226 - accuracy: 0.9977\n",
      "Epoch 12/30\n",
      "94/94 [==============================] - 0s 2ms/step - loss: 0.0159 - accuracy: 0.9997\n",
      "Epoch 13/30\n",
      "94/94 [==============================] - 0s 2ms/step - loss: 0.0097 - accuracy: 1.0000\n",
      "Epoch 14/30\n",
      "94/94 [==============================] - 0s 2ms/step - loss: 0.0074 - accuracy: 1.0000\n",
      "Epoch 15/30\n",
      "94/94 [==============================] - 0s 2ms/step - loss: 0.0054 - accuracy: 1.0000\n",
      "Epoch 16/30\n",
      "94/94 [==============================] - 0s 2ms/step - loss: 0.0038 - accuracy: 1.0000\n",
      "Epoch 17/30\n",
      "94/94 [==============================] - 0s 2ms/step - loss: 0.0031 - accuracy: 1.0000\n",
      "Epoch 18/30\n",
      "94/94 [==============================] - 0s 2ms/step - loss: 0.0026 - accuracy: 1.0000\n",
      "Epoch 19/30\n",
      "94/94 [==============================] - 0s 3ms/step - loss: 0.0023 - accuracy: 1.0000\n",
      "Epoch 20/30\n",
      "94/94 [==============================] - 0s 2ms/step - loss: 0.0018 - accuracy: 1.0000\n",
      "Epoch 21/30\n",
      "94/94 [==============================] - 0s 2ms/step - loss: 0.0015 - accuracy: 1.0000\n",
      "Epoch 22/30\n",
      "94/94 [==============================] - 0s 2ms/step - loss: 0.0014 - accuracy: 1.0000\n",
      "Epoch 23/30\n",
      "94/94 [==============================] - 0s 2ms/step - loss: 0.0012 - accuracy: 1.0000\n",
      "Epoch 24/30\n",
      "94/94 [==============================] - 0s 3ms/step - loss: 0.0010 - accuracy: 1.0000\n",
      "Epoch 25/30\n",
      "94/94 [==============================] - 0s 2ms/step - loss: 9.4765e-04 - accuracy: 1.0000\n",
      "Epoch 26/30\n",
      "94/94 [==============================] - 0s 3ms/step - loss: 8.1773e-04 - accuracy: 1.0000\n",
      "Epoch 27/30\n",
      "94/94 [==============================] - 0s 2ms/step - loss: 7.7239e-04 - accuracy: 1.0000\n",
      "Epoch 28/30\n",
      "94/94 [==============================] - 0s 3ms/step - loss: 6.5261e-04 - accuracy: 1.0000\n",
      "Epoch 29/30\n",
      "94/94 [==============================] - 0s 2ms/step - loss: 6.4726e-04 - accuracy: 1.0000\n",
      "Epoch 30/30\n",
      "94/94 [==============================] - 0s 2ms/step - loss: 5.4038e-04 - accuracy: 1.0000\n"
     ]
    },
    {
     "data": {
      "text/plain": [
       "<tensorflow.python.keras.callbacks.History at 0x7f88a82ca890>"
      ]
     },
     "execution_count": 54,
     "metadata": {},
     "output_type": "execute_result"
    }
   ],
   "source": [
    "# 하이퍼파라미터\n",
    "n_channel_1=32\n",
    "n_channel_2=64\n",
    "n_dense=64\n",
    "n_train_epoch=30\n",
    "\n",
    "model=keras.models.Sequential()\n",
    "model.add(keras.layers.Conv2D(n_channel_1, (3,3), activation='relu', input_shape=(28,28,3)))\n",
    "model.add(keras.layers.MaxPool2D(2,2))\n",
    "model.add(keras.layers.Conv2D(n_channel_2, (3,3), activation='relu'))\n",
    "model.add(keras.layers.MaxPooling2D((2,2)))\n",
    "model.add(keras.layers.Flatten())\n",
    "model.add(keras.layers.Dense(n_dense, activation='relu'))\n",
    "model.add(keras.layers.Dense(3, activation='softmax'))\n",
    "\n",
    "model.summary()\n",
    "model.compile(optimizer='adam',\n",
    "             loss='sparse_categorical_crossentropy',\n",
    "             metrics=['accuracy'])\n",
    "\n",
    "# 모델 훈련\n",
    "model.fit(x_train_norm, y_train, epochs=n_train_epoch)"
   ]
  },
  {
   "cell_type": "code",
   "execution_count": 55,
   "metadata": {},
   "outputs": [
    {
     "name": "stdout",
     "output_type": "stream",
     "text": [
      "10/10 - 0s - loss: 9.7547 - accuracy: 0.3700\n",
      "test1_loss: 9.754720687866211 \n",
      "test1_accuracy: 0.3700000047683716\n"
     ]
    }
   ],
   "source": [
    "# test1 모델 시험\n",
    "test1_loss, test1_accuracy = model.evaluate(x_test1_norm, y_test1, verbose=2)\n",
    "print(\"test1_loss: {} \".format(test1_loss))\n",
    "print(\"test1_accuracy: {}\".format(test1_accuracy))"
   ]
  },
  {
   "cell_type": "code",
   "execution_count": 56,
   "metadata": {},
   "outputs": [
    {
     "name": "stdout",
     "output_type": "stream",
     "text": [
      "10/10 - 0s - loss: 1.3436 - accuracy: 0.7700\n",
      "test2_loss: 1.343595027923584 \n",
      "test2_accuracy: 0.7699999809265137\n"
     ]
    }
   ],
   "source": [
    "# test2 모델 시험\n",
    "test2_loss, test2_accuracy = model.evaluate(x_test2_norm, y_test2, verbose=2)\n",
    "print(\"test2_loss: {} \".format(test2_loss))\n",
    "print(\"test2_accuracy: {}\".format(test2_accuracy))"
   ]
  },
  {
   "cell_type": "markdown",
   "metadata": {},
   "source": [
    "### test 별로 상이한 결과를 보임\n",
    "하이퍼파라미터를 조정하니 test1은 오히려 정확도가 떨어지고 test2는 정확도가 향상한 것을 볼 수 있다."
   ]
  },
  {
   "cell_type": "markdown",
   "metadata": {},
   "source": [
    "# 회고\n",
    "처음에는 어떤 점이 중요한 지 몰라 훈련용 이미지를 대충 찍었더니 몇 가지 문제점이 발생했다.   \n",
    "\n",
    "1. 배경의 얼룩덜룩한 이미지가 섞여 퀄리티가 떨어졌다.\n",
    "2. 화면에 손이 가득차게 찍지 않을 경우, 이미지 픽셀을 28x28로 줄이니 손이 표현하는 것을 알아보기 힘들다.\n",
    "3. 거기다 배경까지 나오는 경우 배경과 손이 섞여 더욱 알아보기 힘든 자료가 된다.  \n",
    "\n",
    "위와 같은 문제가 발생하는데다 이미지의 갯수도 300장 뿐이라 충분히 훈련할 수 없겠다고 생각하게 되었다.  \n",
    "\n",
    "훈련용 이미지를 최대한 깨끗한 배경에서 손 모양이 화면 가득차게, 다양한 각도로 촬영해 다시 훈련하니 확실히 이전보다 좋은 결과를 얻을 수 있었다. 하지만 테스트용 이미지가 이전과 같은 문제를 갖고 있는 경우 큰 효과를 보기 어려운 듯 했다. 하이퍼파라미터를 조정해도 크게 달라지지 않았다.  \n",
    "\n",
    "후에 다른 사람들의 이미지를 다운 받아 3,000장의 훈련용 이미지를 확보한 후 다시 시도했다. 그랬더니 깔끔한 테스트용 이미지는 크게 차이를 보이지 않았지만 그렇지 못한 이미지는 정확도가 상승했다. 하이퍼파라미터를 조정했을 경우에는 깔끔한 이미지는 정확도 상승, 그렇지 못한 이미지는 오히려 하락했다.   \n",
    "\n",
    "처음 CS231n 강의를 들을 때, 벌써부터 이렇게 진도가 나가나 싶었고, 가위바위보를 구현해보자는 프로젝트를 받았을 때 역시, 벌써 이걸 할 수 있겠는가 싶었다. 아직 이론적인 부분도 낯설고 파이썬을 이제 막 접하거나 코딩이 익숙하지 않은 이들도 있을텐데. 그래도 lms가 생각보다 친절하게 구현되어 있어 따라 해보기 좋았고, 머신러닝이란 대략 이런 느낌이다 하고 경험할 수 있는 좋은 기회가 된 것 같다. 무엇보다 도움을 많이 받았지만 내 손으로 직접 구현해보았다는 성취감이 무척 좋은 느낌이다. 앞으로도 기대가 된다."
   ]
  },
  {
   "cell_type": "code",
   "execution_count": null,
   "metadata": {},
   "outputs": [],
   "source": []
  }
 ],
 "metadata": {
  "kernelspec": {
   "display_name": "aiffel",
   "language": "python",
   "name": "aiffel"
  },
  "language_info": {
   "codemirror_mode": {
    "name": "ipython",
    "version": 3
   },
   "file_extension": ".py",
   "mimetype": "text/x-python",
   "name": "python",
   "nbconvert_exporter": "python",
   "pygments_lexer": "ipython3",
   "version": "3.7.9"
  }
 },
 "nbformat": 4,
 "nbformat_minor": 4
}
