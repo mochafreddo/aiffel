{
 "cells": [
  {
   "cell_type": "markdown",
   "id": "finished-theme",
   "metadata": {},
   "source": [
    "# 13-9. 프로젝트 : 주식 예측에 도전해 보자\n",
    "\n",
    "ARIMA를 통해 시계열 데이터를 예측하는 과정을 진행해 보았습니다. 이제 실제 주식값 예측에 도전해 봅시다. 데이터는 과거의 일자별 시세이며, 다음의 그림과 같이 [Yahoo Finance]에서 아래 그림을 따라 하시면 다운로드할 수 있습니다.\n",
    "\n",
    "![](https://aiffelstaticprd.blob.core.windows.net/media/images/E-16-5.max-800x600.png)\n",
    "\n",
    "우선 대한민국 대장주 삼성전자에 대한 주식 시세를 예측해 봅시다. 이를 위해서 \"samsung\"을 검색하시고, \"Historical Data\" 탭에서 \"Time Period\"를 \"Max\"로 선택, \"Apply\" 버튼을 눌러 과거 삼성전자가 상장한 시점부터 가장 최근까지의 자료를 조회합니다. 그리고 \"Download\"를 클릭하면 데이터를 다운로드를 할 수 있습니다. 다운로드가 완료되었다면 대략 다음과 같이 작업 디렉토리로 파일을 옮겨 주세요. 실습환경에 따라 원본(source)과 사본(destination) 경로는 달라질 수 있습니다.\n",
    "\n",
    "```\n",
    "$ mv ~/다운로드/005930.KS.csv ~/aiffel/stock_prediction/data\n",
    "# 환경설정을 영어로 사용하는 경우는 아래 명령어를 입력하세요.\n",
    "$ mv ~/Downloads/005930.KS.csv ~/aiffel/stock_prediction/data\n",
    "```\n",
    "\n",
    "이후 순서는 다음과 같습니다. 필요한 내용은 이미 앞에서 다 다루었기 때문에 이후 과정은 여러분들이 직접 수행해 보시기를 바랍니다."
   ]
  },
  {
   "cell_type": "markdown",
   "id": "foreign-european",
   "metadata": {},
   "source": [
    "## STEP 1 : 시계열 데이터 준비\n",
    "---\n",
    "- 칼럼 종류: Date, Open, High, Low, Close, Adj Close, Volume\n",
    "- 날짜별로 시작가(Open), 최고가(High), 최저가(Low), 종가(Close), 수정종가(Adj Close), 거래량(Volume)이 저장되어 있는 것을 확인할 수 있지만, 우리는 Close만 사용하겠습니다. (주식 시장은 정해진 시간 동안만 거래가 가능합니다. 종가란 하루의 장이 마감하였을 때의 가격입니다.)"
   ]
  },
  {
   "cell_type": "code",
   "execution_count": null,
   "id": "metallic-absolute",
   "metadata": {},
   "outputs": [],
   "source": [
    "import numpy as np\n",
    "import pandas as pd\n",
    "import matplotlib.pyplot as plt\n",
    "import os\n",
    "\n",
    "# Time Series 생성\n",
    "# [[YOUR CODE]]\n",
    "dataset_filepath = os.getenv('HOME') + '/aiffel/stock_prediction/data/005930.KS.csv'\n",
    "df = pd.read_csv(dataset_filepath, index_col='Date', parse_dates=True)\n",
    "ts = df['Close']\n",
    "\n",
    "ts.head()"
   ]
  },
  {
   "cell_type": "markdown",
   "id": "heard-nickel",
   "metadata": {},
   "source": [
    "## STEP 2 : 각종 전처리 수행\n",
    "---\n",
    "- 결측치 처리\n",
    "- 로그 변환"
   ]
  },
  {
   "cell_type": "code",
   "execution_count": null,
   "id": "fallen-committee",
   "metadata": {},
   "outputs": [],
   "source": [
    "# 결측치 처리\n",
    "# [[YOUR CODE]]\n",
    "ts=ts.interpolate(method='time')\n",
    "ts[ts.isna()]  # Time Series에서 결측치가 있는 부분만 Series로 출력합니다."
   ]
  },
  {
   "cell_type": "code",
   "execution_count": null,
   "id": "everyday-soundtrack",
   "metadata": {},
   "outputs": [],
   "source": [
    "# 로그 변환\n",
    "# [[YOUR CODE]]\n",
    "# 로그 변환 시도 \n",
    "ts_log = np.log(ts)"
   ]
  },
  {
   "cell_type": "markdown",
   "id": "molecular-worse",
   "metadata": {},
   "source": [
    "## STEP 3 : 시계열 안정성 분석\n",
    "---\n",
    "- 정성적 그래프 분석\n",
    "- 정량적 Augmented Dicky-Fuller Test\n",
    "- 시계열 분해(Time Series Decomposition)\n",
    "- Residual 안정성 확인"
   ]
  },
  {
   "cell_type": "code",
   "execution_count": null,
   "id": "respected-bible",
   "metadata": {},
   "outputs": [],
   "source": [
    "# 정성적 그래프 분석\n",
    "plot_rolling_statistics(ts_log, window=12)\n",
    "\n",
    "#정량적 Augmented Dicky-Fuller Test\n",
    "augmented_dickey_fuller_test(ts_log)\n",
    "\n",
    "#시계열 분해 (Time Series Decomposition)\n",
    "from statsmodels.tsa.seasonal import seasonal_decompose\n",
    "decomposition = seasonal_decompose(ts_log, model='multiplicative', period = 30) \n",
    "# [[YOUR CODE]]\n",
    "trend = decomposition.trend\n",
    "seasonal = decomposition.seasonal\n",
    "residual = decomposition.resid\n",
    "\n",
    "plt.subplot(411)\n",
    "plt.plot(ts_log, label='Original')\n",
    "plt.legend(loc='best')\n",
    "plt.subplot(412)\n",
    "plt.plot(trend, label='Trend')\n",
    "plt.legend(loc='best')\n",
    "plt.subplot(413)\n",
    "plt.plot(seasonal,label='Seasonality')\n",
    "plt.legend(loc='best')\n",
    "plt.subplot(414)\n",
    "plt.plot(residual, label='Residuals')\n",
    "plt.legend(loc='best')\n",
    "plt.tight_layout()"
   ]
  },
  {
   "cell_type": "code",
   "execution_count": null,
   "id": "neural-registration",
   "metadata": {},
   "outputs": [],
   "source": [
    "# Residual 안정성 확인\n",
    "# [[YOUR CODE]]\n",
    "residual.dropna(inplace=True)\n",
    "augmented_dickey_fuller_test(residual)"
   ]
  },
  {
   "cell_type": "markdown",
   "id": "formed-testament",
   "metadata": {},
   "source": [
    "## STEP 4 : 학습, 테스트 데이터셋 생성\n",
    "---\n",
    "- 학습, 테스트 데이터셋 분리"
   ]
  },
  {
   "cell_type": "code",
   "execution_count": null,
   "id": "expensive-trade",
   "metadata": {},
   "outputs": [],
   "source": [
    "train_data, test_data = ts_log[:int(len(ts_log)*0.9)], ts_log[int(len(ts_log)*0.9):]\n",
    "plt.figure(figsize=(10,6))\n",
    "plt.grid(True)\n",
    "plt.plot(ts_log, c='r', label='training dataset')  # train_data를 적용하면 그래프가 끊어져 보이므로 자연스러운 연출을 위해 ts_log를 선택\n",
    "plt.plot(test_data, c='b', label='test dataset')\n",
    "plt.legend()"
   ]
  },
  {
   "cell_type": "markdown",
   "id": "gentle-presentation",
   "metadata": {},
   "source": [
    "## STEP 5 : 적정 ARIMA 모수 찾기\n",
    "---\n",
    "- ACF, PACF 그려보기 -> p,q 구하기\n",
    "- 차분 안정성 확인 -> d 구하기"
   ]
  },
  {
   "cell_type": "code",
   "execution_count": null,
   "id": "hollywood-directive",
   "metadata": {},
   "outputs": [],
   "source": [
    "# ACF, PACF 그려보기 -> p,q 구하기\n",
    "from statsmodels.graphics.tsaplots import plot_acf, plot_pacf\n",
    "\n",
    "# [[YOUR CODE]]\n",
    "plot_acf(ts_log)   # ACF : Autocorrelation 그래프 그리기\n",
    "plot_pacf(ts_log)  # PACF : Partial Autocorrelation 그래프 그리기\n",
    "plt.show()"
   ]
  },
  {
   "cell_type": "code",
   "execution_count": null,
   "id": "formal-national",
   "metadata": {},
   "outputs": [],
   "source": [
    "# 차분 안정성 확인 -> d 구하기\n",
    "# [[YOUR CODE]]\n",
    "\n",
    "# 1차 차분 구하기\n",
    "diff_1 = ts_log.diff(periods=1).iloc[1:]\n",
    "diff_1.plot(title='Difference 1st')\n",
    "\n",
    "augmented_dickey_fuller_test(diff_1)\n",
    "\n",
    "# 혹시 필요한 경우 2차 차분 구하기\n",
    "diff_2 = diff_1.diff(periods=1).iloc[1:]\n",
    "diff_2.plot(title='Difference 2nd')\n",
    "\n",
    "augmented_dickey_fuller_test(diff_2)"
   ]
  },
  {
   "cell_type": "markdown",
   "id": "amended-sarah",
   "metadata": {},
   "source": [
    "## STEP 6 : ARIMA 모델 훈련과 테스트\n",
    "---\n",
    "- ARIMA 모델 빌드와 훈련\n",
    "- 모델 테스트 및 플로팅\n",
    "- 최종 예측 모델 정확도 측정(MAPE)"
   ]
  },
  {
   "cell_type": "code",
   "execution_count": null,
   "id": "streaming-missouri",
   "metadata": {},
   "outputs": [],
   "source": [
    "from statsmodels.tsa.arima_model import ARIMA\n",
    "\n",
    "# Build and Train  Model\n",
    "# [[YOUR CODE]]\n",
    "# Build Model\n",
    "model = ARIMA(train_data, order=(1, 1, 0))  \n",
    "fitted_m = model.fit(disp=-1)  \n",
    "print(fitted_m.summary())"
   ]
  },
  {
   "cell_type": "code",
   "execution_count": null,
   "id": "arbitrary-grant",
   "metadata": {},
   "outputs": [],
   "source": [
    "# Forecast : 결과가 fc에 담깁니다. \n",
    "# [[YOUR CODE]]\n",
    "fc, se, conf = fitted_m.forecast(len(test_data), alpha=0.05)  # 95% conf\n",
    "\n",
    "# Make as pandas series\n",
    "# [[YOUR CODE]]\n",
    "fc_series = pd.Series(fc, index=test_data.index)   # 예측결과\n",
    "lower_series = pd.Series(conf[:, 0], index=test_data.index)  # 예측결과의 하한 바운드\n",
    "upper_series = pd.Series(conf[:, 1], index=test_data.index)  # 예측결과의 상한 바운드\n",
    "\n",
    "# Plot\n",
    "# [[YOUR CODE]]\n",
    "plt.figure(figsize=(10,5), dpi=100)\n",
    "plt.plot(train_data, label='training')\n",
    "plt.plot(test_data, c='b', label='actual price')\n",
    "plt.plot(fc_series, c='r',label='predicted price')\n",
    "plt.fill_between(lower_series.index, lower_series, upper_series, color='k', alpha=.10)\n",
    "plt.legend()\n",
    "plt.show()"
   ]
  },
  {
   "cell_type": "code",
   "execution_count": null,
   "id": "scheduled-shower",
   "metadata": {},
   "outputs": [],
   "source": [
    "from sklearn.metrics import mean_squared_error, mean_absolute_error\n",
    "import math\n",
    "\n",
    "mse = mean_squared_error(np.exp(test_data), np.exp(fc))\n",
    "print('MSE: ', mse)\n",
    "\n",
    "mae = mean_absolute_error(np.exp(test_data), np.exp(fc))\n",
    "print('MAE: ', mae)\n",
    "\n",
    "rmse = math.sqrt(mean_squared_error(np.exp(test_data), np.exp(fc)))\n",
    "print('RMSE: ', rmse)\n",
    "\n",
    "mape = np.mean(np.abs(np.exp(fc) - np.exp(test_data))/np.abs(np.exp(test_data)))\n",
    "print('MAPE: {:.2f}%'.format(mape*100))"
   ]
  },
  {
   "cell_type": "markdown",
   "id": "conscious-necessity",
   "metadata": {},
   "source": [
    "## STEP 7 : 다른 주식 종목 예측해 보기\n",
    "---\n",
    "- 관심 종목을 골라 위 STEP 1~6의 과정을 반복해 보기"
   ]
  },
  {
   "cell_type": "code",
   "execution_count": null,
   "id": "experimental-offer",
   "metadata": {},
   "outputs": [],
   "source": [
    "# [[YOUR CODE]]"
   ]
  }
 ],
 "metadata": {
  "kernelspec": {
   "display_name": "aiffel",
   "language": "python",
   "name": "aiffel"
  },
  "language_info": {
   "codemirror_mode": {
    "name": "ipython",
    "version": 3
   },
   "file_extension": ".py",
   "mimetype": "text/x-python",
   "name": "python",
   "nbconvert_exporter": "python",
   "pygments_lexer": "ipython3",
   "version": "3.7.10"
  },
  "toc": {
   "base_numbering": 1,
   "nav_menu": {},
   "number_sections": false,
   "sideBar": true,
   "skip_h1_title": false,
   "title_cell": "Table of Contents",
   "title_sidebar": "Contents",
   "toc_cell": false,
   "toc_position": {},
   "toc_section_display": true,
   "toc_window_display": false
  }
 },
 "nbformat": 4,
 "nbformat_minor": 5
}
