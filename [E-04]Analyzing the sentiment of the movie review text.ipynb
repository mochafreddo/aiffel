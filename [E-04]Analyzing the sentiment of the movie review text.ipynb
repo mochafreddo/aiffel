{
 "cells": [
  {
   "cell_type": "markdown",
   "id": "honey-chassis",
   "metadata": {},
   "source": [
    "# EXPLORATION_DJ 4. 영화리뷰 텍스트 감성분석하기"
   ]
  },
  {
   "cell_type": "markdown",
   "id": "coated-postage",
   "metadata": {},
   "source": [
    "## 4-11. 프로젝트 : 네이버 영화리뷰 감성분석 도전하기\n",
    "\n",
    "이전 스텝까지는 영문 텍스트의 감정분석을 진행해 보았습니다. 그렇다면 이번에는 한국어 텍스트의 감정분석을 진행해 보면 어떨까요? 오늘 활용할 데이터셋은 네이버 영화의 댓글을 모아 구성된 [Naver sentiment movie corpus](https://github.com/e9t/nsmc)입니다.\n",
    "\n",
    "아래와 같이 다운로드를 진행해 주세요.\n",
    "\n",
    "```\n",
    "$ wget https://raw.githubusercontent.com/e9t/nsmc/master/ratings_train.txt\n",
    "$ wget https://raw.githubusercontent.com/e9t/nsmc/master/ratings_test.txt\n",
    "$ mv ratings_*.txt ~/aiffel/sentiment_classification\n",
    "```\n",
    "\n",
    "프로젝트 진행 순서는 다음과 같습니다."
   ]
  },
  {
   "cell_type": "markdown",
   "id": "generic-healthcare",
   "metadata": {},
   "source": [
    "### 1) 데이터 준비와 확인\n",
    "---"
   ]
  },
  {
   "cell_type": "code",
   "execution_count": 1,
   "id": "local-disposition",
   "metadata": {},
   "outputs": [
    {
     "data": {
      "text/html": [
       "<div>\n",
       "<style scoped>\n",
       "    .dataframe tbody tr th:only-of-type {\n",
       "        vertical-align: middle;\n",
       "    }\n",
       "\n",
       "    .dataframe tbody tr th {\n",
       "        vertical-align: top;\n",
       "    }\n",
       "\n",
       "    .dataframe thead th {\n",
       "        text-align: right;\n",
       "    }\n",
       "</style>\n",
       "<table border=\"1\" class=\"dataframe\">\n",
       "  <thead>\n",
       "    <tr style=\"text-align: right;\">\n",
       "      <th></th>\n",
       "      <th>id</th>\n",
       "      <th>document</th>\n",
       "      <th>label</th>\n",
       "    </tr>\n",
       "  </thead>\n",
       "  <tbody>\n",
       "    <tr>\n",
       "      <th>0</th>\n",
       "      <td>9976970</td>\n",
       "      <td>아 더빙.. 진짜 짜증나네요 목소리</td>\n",
       "      <td>0</td>\n",
       "    </tr>\n",
       "    <tr>\n",
       "      <th>1</th>\n",
       "      <td>3819312</td>\n",
       "      <td>흠...포스터보고 초딩영화줄....오버연기조차 가볍지 않구나</td>\n",
       "      <td>1</td>\n",
       "    </tr>\n",
       "    <tr>\n",
       "      <th>2</th>\n",
       "      <td>10265843</td>\n",
       "      <td>너무재밓었다그래서보는것을추천한다</td>\n",
       "      <td>0</td>\n",
       "    </tr>\n",
       "    <tr>\n",
       "      <th>3</th>\n",
       "      <td>9045019</td>\n",
       "      <td>교도소 이야기구먼 ..솔직히 재미는 없다..평점 조정</td>\n",
       "      <td>0</td>\n",
       "    </tr>\n",
       "    <tr>\n",
       "      <th>4</th>\n",
       "      <td>6483659</td>\n",
       "      <td>사이몬페그의 익살스런 연기가 돋보였던 영화!스파이더맨에서 늙어보이기만 했던 커스틴 ...</td>\n",
       "      <td>1</td>\n",
       "    </tr>\n",
       "  </tbody>\n",
       "</table>\n",
       "</div>"
      ],
      "text/plain": [
       "         id                                           document  label\n",
       "0   9976970                                아 더빙.. 진짜 짜증나네요 목소리      0\n",
       "1   3819312                  흠...포스터보고 초딩영화줄....오버연기조차 가볍지 않구나      1\n",
       "2  10265843                                  너무재밓었다그래서보는것을추천한다      0\n",
       "3   9045019                      교도소 이야기구먼 ..솔직히 재미는 없다..평점 조정      0\n",
       "4   6483659  사이몬페그의 익살스런 연기가 돋보였던 영화!스파이더맨에서 늙어보이기만 했던 커스틴 ...      1"
      ]
     },
     "execution_count": 1,
     "metadata": {},
     "output_type": "execute_result"
    }
   ],
   "source": [
    "from collections import Counter\n",
    "from tensorflow.keras.preprocessing.sequence import pad_sequences\n",
    "import numpy as np\n",
    "from tensorflow.keras.preprocessing.text import Tokenizer\n",
    "from tensorflow import keras\n",
    "from konlpy.tag import Okt\n",
    "import re\n",
    "import matplotlib.pyplot as plt\n",
    "import pandas as pd\n",
    "import urllib.request\n",
    "%matplotlib inline\n",
    "\n",
    "# 데이터를 읽어봅시다.\n",
    "train_data = pd.read_table('~/sentiment_classification/ratings_train.txt')\n",
    "test_data = pd.read_table('~/sentiment_classification/ratings_test.txt')\n",
    "\n",
    "train_data.head()"
   ]
  },
  {
   "cell_type": "markdown",
   "id": "raised-actor",
   "metadata": {},
   "source": [
    "### 2) 데이터로더 구성\n",
    "---\n",
    "실습때 다루었던 IMDB 데이터셋은 텍스트를 가공하여 imdb.data_loader() 메소드를 호출하면 숫자 인덱스로 변환된 텍스트와 word_to_index 딕셔너리까지 친절하게 제공합니다. 그러나 이번에 다루게 될 nsmc 데이터셋은 전혀 가공되지 않은 텍스트 파일로 이루어져 있습니다. 이것을 읽어서 imdb.data_loader()와 동일하게 동작하는 자신만의 `data_loader`를 만들어 보는 것으로 시작합니다. `data_loader` 안에서는 다음을 수행해야 합니다.\n",
    "\n",
    "- 데이터의 중복 제거\n",
    "- NaN 결측치 제거\n",
    "- 한국어 토크나이저로 토큰화\n",
    "- 불용어(Stopwords) 제거\n",
    "- 사전`word_to_index` 구성\n",
    "- 텍스트 스트링을 사전 인덱스 스트링으로 변환\n",
    "- X_train, y_train, X_test, y_test, word_to_index 리턴"
   ]
  },
  {
   "cell_type": "code",
   "execution_count": 2,
   "id": "recorded-hypothetical",
   "metadata": {},
   "outputs": [],
   "source": [
    "from konlpy.tag import Mecab\n",
    "tokenizer = Mecab()\n",
    "stopwords = ['의', '가', '이', '은', '들', '는', '좀', '잘',\n",
    "             '걍', '과', '도', '를', '으로', '자', '에', '와', '한', '하다']\n",
    "\n",
    "\n",
    "def load_data(train_data, test_data, num_words=10000):\n",
    "    train_data.drop_duplicates(subset=['document'], inplace=True)\n",
    "    train_data = train_data.dropna(how='any')\n",
    "    test_data.drop_duplicates(subset=['document'], inplace=True)\n",
    "    test_data = test_data.dropna(how='any')\n",
    "\n",
    "    X_train = []\n",
    "    for sentence in train_data['document']:\n",
    "        temp_X = tokenizer.morphs(sentence)  # 토큰화\n",
    "        temp_X = [word for word in temp_X if not word in stopwords]  # 불용어 제거\n",
    "        X_train.append(temp_X)\n",
    "\n",
    "    X_test = []\n",
    "    for sentence in test_data['document']:\n",
    "        temp_X = tokenizer.morphs(sentence)  # 토큰화\n",
    "        temp_X = [word for word in temp_X if not word in stopwords]  # 불용어 제거\n",
    "        X_test.append(temp_X)\n",
    "\n",
    "    words = np.concatenate(X_train).tolist()\n",
    "    counter = Counter(words)\n",
    "    counter = counter.most_common(10000-4)\n",
    "    vocab = ['<PAD>', '<BOS>', '<UNK>', '<UNUSED>'] + \\\n",
    "        [key for key, _ in counter]\n",
    "    word_to_index = {word: index for index, word in enumerate(vocab)}\n",
    "\n",
    "    def wordlist_to_indexlist(wordlist):\n",
    "        return [word_to_index[word] if word in word_to_index else word_to_index['<UNK>'] for word in wordlist]\n",
    "\n",
    "    X_train = list(map(wordlist_to_indexlist, X_train))\n",
    "    X_test = list(map(wordlist_to_indexlist, X_test))\n",
    "\n",
    "    return X_train, np.array(list(train_data['label'])), X_test, np.array(list(test_data['label'])), word_to_index\n",
    "\n",
    "\n",
    "x_train, y_train, x_test, y_test, word_to_index = load_data(\n",
    "    train_data, test_data)"
   ]
  },
  {
   "cell_type": "code",
   "execution_count": 3,
   "id": "pharmaceutical-transmission",
   "metadata": {},
   "outputs": [],
   "source": [
    "index_to_word = {index: word for word, index in word_to_index.items()}"
   ]
  },
  {
   "cell_type": "code",
   "execution_count": 4,
   "id": "median-airport",
   "metadata": {},
   "outputs": [],
   "source": [
    "# 문장 1개를 활용할 딕셔너리와 함께 주면, 단어 인덱스 리스트 벡터로 변환해 주는 함수입니다.\n",
    "# 단, 모든 문장은 <BOS>로 시작하는 것으로 합니다.\n",
    "def get_encoded_sentence(sentence, word_to_index):\n",
    "    return [word_to_index['<BOS>']]+[word_to_index[word] if word in word_to_index else word_to_index['<UNK>'] for word in sentence.split()]\n",
    "\n",
    "# 여러 개의 문장 리스트를 한꺼번에 단어 인덱스 리스트 벡터로 encode해 주는 함수입니다.\n",
    "\n",
    "\n",
    "def get_encoded_sentences(sentences, word_to_index):\n",
    "    return [get_encoded_sentence(sentence, word_to_index) for sentence in sentences]\n",
    "\n",
    "# 숫자 벡터로 encode된 문장을 원래대로 decode하는 함수입니다.\n",
    "\n",
    "\n",
    "def get_decoded_sentence(encoded_sentence, index_to_word):\n",
    "    # [1:]를 통해 <BOS>를 제외\n",
    "    return ' '.join(index_to_word[index] if index in index_to_word else '<UNK>' for index in encoded_sentence[1:])\n",
    "\n",
    "# 여러개의 숫자 벡터로 encode된 문장을 한꺼번에 원래대로 decode하는 함수입니다.\n",
    "\n",
    "\n",
    "def get_decoded_sentences(encoded_sentences, index_to_word):\n",
    "    return [get_decoded_sentence(encoded_sentence, index_to_word) for encoded_sentence in encoded_sentences]"
   ]
  },
  {
   "cell_type": "markdown",
   "id": "short-butter",
   "metadata": {},
   "source": [
    "### 3) 모델구성을 위한 데이터 분석 및 가공\n",
    "---\n",
    "- 데이터셋 내 문장 길이 분포"
   ]
  },
  {
   "cell_type": "code",
   "execution_count": 5,
   "id": "hydraulic-wiring",
   "metadata": {},
   "outputs": [
    {
     "name": "stdout",
     "output_type": "stream",
     "text": [
      "문장길이 평균 :  15.969355837799927\n",
      "문장길이 최대 :  116\n",
      "문장길이 표준편차 :  12.843536204665021\n"
     ]
    }
   ],
   "source": [
    "total_data_text = list(x_train) + list(x_test)\n",
    "# 텍스트데이터 문장길이의 리스트를 생성한 후\n",
    "num_tokens = [len(tokens) for tokens in total_data_text]\n",
    "num_tokens = np.array(num_tokens)\n",
    "# 문장길이의 평균값, 최대값, 표준편차를 계산해 본다.\n",
    "print('문장길이 평균 : ', np.mean(num_tokens))\n",
    "print('문장길이 최대 : ', np.max(num_tokens))\n",
    "print('문장길이 표준편차 : ', np.std(num_tokens))"
   ]
  },
  {
   "cell_type": "markdown",
   "id": "pediatric-timber",
   "metadata": {},
   "source": [
    "- 적절한 최대 문장 길이 지정"
   ]
  },
  {
   "cell_type": "code",
   "execution_count": 6,
   "id": "tender-virus",
   "metadata": {},
   "outputs": [
    {
     "name": "stdout",
     "output_type": "stream",
     "text": [
      "pad_sequences maxlen :  41\n",
      "전체 문장의 93.42988343341575%가 maxlen 설정값 이내에 포함됩니다. \n"
     ]
    }
   ],
   "source": [
    "# 예를들어, 최대 길이를 (평균 + 2*표준편차)로 한다면,\n",
    "max_tokens = np.mean(num_tokens) + 2 * np.std(num_tokens)\n",
    "maxlen = int(max_tokens)\n",
    "print('pad_sequences maxlen : ', maxlen)\n",
    "print('전체 문장의 {}%가 maxlen 설정값 이내에 포함됩니다. '.format(\n",
    "    np.sum(num_tokens < max_tokens) / len(num_tokens)*100))"
   ]
  },
  {
   "cell_type": "markdown",
   "id": "velvet-italic",
   "metadata": {},
   "source": [
    "- keras.preprocessing.sequence.pad_sequences 을 활용한 패딩 추가"
   ]
  },
  {
   "cell_type": "code",
   "execution_count": 7,
   "id": "crude-draft",
   "metadata": {},
   "outputs": [
    {
     "name": "stdout",
     "output_type": "stream",
     "text": [
      "(146182, 41)\n"
     ]
    }
   ],
   "source": [
    "x_train = keras.preprocessing.sequence.pad_sequences(x_train,\n",
    "                                                     value=word_to_index[\"<PAD>\"],\n",
    "                                                     padding='pre',  # 혹은 'post'\n",
    "                                                     maxlen=maxlen)\n",
    "\n",
    "x_test = keras.preprocessing.sequence.pad_sequences(x_test,\n",
    "                                                    value=word_to_index[\"<PAD>\"],\n",
    "                                                    padding='pre',  # 혹은 'post'\n",
    "                                                    maxlen=maxlen)\n",
    "\n",
    "print(x_train.shape)"
   ]
  },
  {
   "cell_type": "markdown",
   "id": "loaded-plymouth",
   "metadata": {},
   "source": [
    "### 4) 모델구성 및 validation set 구성\n",
    "---\n",
    "모델은 3가지 이상 다양하게 구성하여 실험해 보세요."
   ]
  },
  {
   "cell_type": "code",
   "execution_count": 71,
   "id": "polyphonic-puppy",
   "metadata": {},
   "outputs": [],
   "source": [
    "vocab_size = 10000    # 어휘 사전의 크기입니다(10,000개의 단어)\n",
    "word_vector_dim = 16  # 워드 벡터의 차원수 (변경가능한 하이퍼파라미터)"
   ]
  },
  {
   "cell_type": "code",
   "execution_count": 10,
   "id": "affecting-railway",
   "metadata": {},
   "outputs": [
    {
     "name": "stdout",
     "output_type": "stream",
     "text": [
      "Model: \"sequential\"\n",
      "_________________________________________________________________\n",
      "Layer (type)                 Output Shape              Param #   \n",
      "=================================================================\n",
      "embedding (Embedding)        (None, None, 16)          160000    \n",
      "_________________________________________________________________\n",
      "lstm (LSTM)                  (None, 8)                 800       \n",
      "_________________________________________________________________\n",
      "dense (Dense)                (None, 8)                 72        \n",
      "_________________________________________________________________\n",
      "dense_1 (Dense)              (None, 1)                 9         \n",
      "=================================================================\n",
      "Total params: 160,881\n",
      "Trainable params: 160,881\n",
      "Non-trainable params: 0\n",
      "_________________________________________________________________\n"
     ]
    }
   ],
   "source": [
    "# model 설계 - 딥러닝 모델 코드를 직접 작성해 주세요.\n",
    "model_1 = keras.Sequential()\n",
    "model_1.add(keras.layers.Embedding(\n",
    "    vocab_size, word_vector_dim, input_shape=(None,)))\n",
    "# 가장 널리 쓰이는 RNN인 LSTM 레이어를 사용하였습니다. 이때 LSTM state 벡터의 차원수는 8로 하였습니다. (변경가능)\n",
    "model_1.add(keras.layers.LSTM(8))\n",
    "model_1.add(keras.layers.Dense(8, activation='relu'))\n",
    "# 최종 출력은 긍정/부정을 나타내는 1dim 입니다.\n",
    "model_1.add(keras.layers.Dense(1, activation='sigmoid'))\n",
    "\n",
    "model_1.summary()"
   ]
  },
  {
   "cell_type": "code",
   "execution_count": 11,
   "id": "agreed-dancing",
   "metadata": {},
   "outputs": [
    {
     "name": "stdout",
     "output_type": "stream",
     "text": [
      "Model: \"sequential_1\"\n",
      "_________________________________________________________________\n",
      "Layer (type)                 Output Shape              Param #   \n",
      "=================================================================\n",
      "embedding_1 (Embedding)      (None, None, 16)          160000    \n",
      "_________________________________________________________________\n",
      "conv1d (Conv1D)              (None, None, 16)          1808      \n",
      "_________________________________________________________________\n",
      "max_pooling1d (MaxPooling1D) (None, None, 16)          0         \n",
      "_________________________________________________________________\n",
      "conv1d_1 (Conv1D)            (None, None, 16)          1808      \n",
      "_________________________________________________________________\n",
      "global_max_pooling1d (Global (None, 16)                0         \n",
      "_________________________________________________________________\n",
      "dense_2 (Dense)              (None, 8)                 136       \n",
      "_________________________________________________________________\n",
      "dense_3 (Dense)              (None, 1)                 9         \n",
      "=================================================================\n",
      "Total params: 163,761\n",
      "Trainable params: 163,761\n",
      "Non-trainable params: 0\n",
      "_________________________________________________________________\n"
     ]
    }
   ],
   "source": [
    "model_2 = keras.Sequential()\n",
    "model_2.add(keras.layers.Embedding(\n",
    "    vocab_size, word_vector_dim, input_shape=(None,)))\n",
    "model_2.add(keras.layers.Conv1D(16, 7, activation='relu'))\n",
    "model_2.add(keras.layers.MaxPooling1D(5))\n",
    "model_2.add(keras.layers.Conv1D(16, 7, activation='relu'))\n",
    "model_2.add(keras.layers.GlobalMaxPooling1D())\n",
    "model_2.add(keras.layers.Dense(8, activation='relu'))\n",
    "# 최종 출력은 긍정/부정을 나타내는 1dim 입니다.\n",
    "model_2.add(keras.layers.Dense(1, activation='sigmoid'))\n",
    "\n",
    "model_2.summary()"
   ]
  },
  {
   "cell_type": "code",
   "execution_count": 12,
   "id": "informative-lawrence",
   "metadata": {
    "scrolled": true
   },
   "outputs": [
    {
     "name": "stdout",
     "output_type": "stream",
     "text": [
      "Model: \"sequential_2\"\n",
      "_________________________________________________________________\n",
      "Layer (type)                 Output Shape              Param #   \n",
      "=================================================================\n",
      "embedding_2 (Embedding)      (None, None, 16)          160000    \n",
      "_________________________________________________________________\n",
      "global_max_pooling1d_1 (Glob (None, 16)                0         \n",
      "_________________________________________________________________\n",
      "dense_4 (Dense)              (None, 8)                 136       \n",
      "_________________________________________________________________\n",
      "dense_5 (Dense)              (None, 1)                 9         \n",
      "=================================================================\n",
      "Total params: 160,145\n",
      "Trainable params: 160,145\n",
      "Non-trainable params: 0\n",
      "_________________________________________________________________\n"
     ]
    }
   ],
   "source": [
    "model_3 = keras.Sequential()\n",
    "model_3.add(keras.layers.Embedding(\n",
    "    vocab_size, word_vector_dim, input_shape=(None,)))\n",
    "model_3.add(keras.layers.GlobalMaxPooling1D())\n",
    "model_3.add(keras.layers.Dense(8, activation='relu'))\n",
    "# 최종 출력은 긍정/부정을 나타내는 1dim 입니다.\n",
    "model_3.add(keras.layers.Dense(1, activation='sigmoid'))\n",
    "\n",
    "model_3.summary()"
   ]
  },
  {
   "cell_type": "code",
   "execution_count": 8,
   "id": "reflected-lawyer",
   "metadata": {},
   "outputs": [
    {
     "name": "stdout",
     "output_type": "stream",
     "text": [
      "(141182, 41)\n",
      "(141182,)\n"
     ]
    }
   ],
   "source": [
    "# validation set 5000건 분리\n",
    "x_val = x_train[:5000]\n",
    "y_val = y_train[:5000]\n",
    "\n",
    "# validation set을 제외한 나머지\n",
    "partial_x_train = x_train[5000:]\n",
    "partial_y_train = y_train[5000:]\n",
    "\n",
    "print(partial_x_train.shape)\n",
    "print(partial_y_train.shape)"
   ]
  },
  {
   "cell_type": "markdown",
   "id": "empty-friend",
   "metadata": {},
   "source": [
    "### 5) 모델 훈련 개시\n",
    "---"
   ]
  },
  {
   "cell_type": "code",
   "execution_count": 13,
   "id": "incorporate-diary",
   "metadata": {},
   "outputs": [],
   "source": [
    "model_1.compile(optimizer='adam', loss='binary_crossentropy',\n",
    "                metrics=['accuracy'])\n",
    "model_2.compile(optimizer='adam', loss='binary_crossentropy',\n",
    "                metrics=['accuracy'])\n",
    "model_3.compile(optimizer='adam', loss='binary_crossentropy',\n",
    "                metrics=['accuracy'])"
   ]
  },
  {
   "cell_type": "code",
   "execution_count": 14,
   "id": "atomic-birmingham",
   "metadata": {},
   "outputs": [],
   "source": [
    "epochs = 20  # 몇 epoch를 훈련하면 좋을지 결과를 보면서 바꾸어 봅시다."
   ]
  },
  {
   "cell_type": "code",
   "execution_count": 15,
   "id": "political-cliff",
   "metadata": {},
   "outputs": [
    {
     "name": "stdout",
     "output_type": "stream",
     "text": [
      "Epoch 1/20\n",
      "276/276 [==============================] - 2s 6ms/step - loss: 0.4836 - accuracy: 0.7879 - val_loss: 0.3473 - val_accuracy: 0.8548\n",
      "Epoch 2/20\n",
      "276/276 [==============================] - 1s 5ms/step - loss: 0.3347 - accuracy: 0.8590 - val_loss: 0.3299 - val_accuracy: 0.8582\n",
      "Epoch 3/20\n",
      "276/276 [==============================] - 1s 5ms/step - loss: 0.3122 - accuracy: 0.8696 - val_loss: 0.3358 - val_accuracy: 0.8558\n",
      "Epoch 4/20\n",
      "276/276 [==============================] - 1s 5ms/step - loss: 0.2988 - accuracy: 0.8751 - val_loss: 0.3285 - val_accuracy: 0.8604\n",
      "Epoch 5/20\n",
      "276/276 [==============================] - 1s 5ms/step - loss: 0.2869 - accuracy: 0.8796 - val_loss: 0.3313 - val_accuracy: 0.8602\n",
      "Epoch 6/20\n",
      "276/276 [==============================] - 1s 5ms/step - loss: 0.2745 - accuracy: 0.8856 - val_loss: 0.3349 - val_accuracy: 0.8596\n",
      "Epoch 7/20\n",
      "276/276 [==============================] - 1s 5ms/step - loss: 0.2639 - accuracy: 0.8901 - val_loss: 0.3392 - val_accuracy: 0.8568\n",
      "Epoch 8/20\n",
      "276/276 [==============================] - 1s 5ms/step - loss: 0.2518 - accuracy: 0.8970 - val_loss: 0.3428 - val_accuracy: 0.8568\n",
      "Epoch 9/20\n",
      "276/276 [==============================] - 1s 5ms/step - loss: 0.2414 - accuracy: 0.9018 - val_loss: 0.3517 - val_accuracy: 0.8578\n",
      "Epoch 10/20\n",
      "276/276 [==============================] - 1s 5ms/step - loss: 0.2308 - accuracy: 0.9071 - val_loss: 0.3643 - val_accuracy: 0.8572\n",
      "Epoch 11/20\n",
      "276/276 [==============================] - 1s 5ms/step - loss: 0.2208 - accuracy: 0.9119 - val_loss: 0.3772 - val_accuracy: 0.8576\n",
      "Epoch 12/20\n",
      "276/276 [==============================] - 1s 5ms/step - loss: 0.2123 - accuracy: 0.9161 - val_loss: 0.3894 - val_accuracy: 0.8500\n",
      "Epoch 13/20\n",
      "276/276 [==============================] - 1s 5ms/step - loss: 0.2038 - accuracy: 0.9205 - val_loss: 0.3972 - val_accuracy: 0.8514\n",
      "Epoch 14/20\n",
      "276/276 [==============================] - 1s 5ms/step - loss: 0.1948 - accuracy: 0.9246 - val_loss: 0.4198 - val_accuracy: 0.8504\n",
      "Epoch 15/20\n",
      "276/276 [==============================] - 1s 5ms/step - loss: 0.1871 - accuracy: 0.9283 - val_loss: 0.4304 - val_accuracy: 0.8504\n",
      "Epoch 16/20\n",
      "276/276 [==============================] - 1s 5ms/step - loss: 0.1803 - accuracy: 0.9314 - val_loss: 0.4472 - val_accuracy: 0.8456\n",
      "Epoch 17/20\n",
      "276/276 [==============================] - 1s 5ms/step - loss: 0.1728 - accuracy: 0.9349 - val_loss: 0.4588 - val_accuracy: 0.8464\n",
      "Epoch 18/20\n",
      "276/276 [==============================] - 1s 5ms/step - loss: 0.1666 - accuracy: 0.9372 - val_loss: 0.4814 - val_accuracy: 0.8472\n",
      "Epoch 19/20\n",
      "276/276 [==============================] - 1s 5ms/step - loss: 0.1608 - accuracy: 0.9402 - val_loss: 0.4615 - val_accuracy: 0.8452\n",
      "Epoch 20/20\n",
      "276/276 [==============================] - 1s 5ms/step - loss: 0.1539 - accuracy: 0.9438 - val_loss: 0.5064 - val_accuracy: 0.8480\n"
     ]
    }
   ],
   "source": [
    "history_1 = model_1.fit(partial_x_train, partial_y_train, epochs=epochs,\n",
    "                        batch_size=512, validation_data=(x_val, y_val), verbose=1)"
   ]
  },
  {
   "cell_type": "code",
   "execution_count": 16,
   "id": "rubber-chocolate",
   "metadata": {},
   "outputs": [
    {
     "name": "stdout",
     "output_type": "stream",
     "text": [
      "Epoch 1/20\n",
      "276/276 [==============================] - 8s 30ms/step - loss: 0.4662 - accuracy: 0.7722 - val_loss: 0.3354 - val_accuracy: 0.8568\n",
      "Epoch 2/20\n",
      "276/276 [==============================] - 1s 4ms/step - loss: 0.3232 - accuracy: 0.8620 - val_loss: 0.3255 - val_accuracy: 0.8600\n",
      "Epoch 3/20\n",
      "276/276 [==============================] - 1s 5ms/step - loss: 0.2889 - accuracy: 0.8793 - val_loss: 0.3273 - val_accuracy: 0.8618\n",
      "Epoch 4/20\n",
      "276/276 [==============================] - 1s 4ms/step - loss: 0.2565 - accuracy: 0.8959 - val_loss: 0.3311 - val_accuracy: 0.8618\n",
      "Epoch 5/20\n",
      "276/276 [==============================] - 1s 4ms/step - loss: 0.2226 - accuracy: 0.9130 - val_loss: 0.3510 - val_accuracy: 0.8564\n",
      "Epoch 6/20\n",
      "276/276 [==============================] - 1s 4ms/step - loss: 0.1888 - accuracy: 0.9291 - val_loss: 0.3816 - val_accuracy: 0.8466\n",
      "Epoch 7/20\n",
      "276/276 [==============================] - 1s 4ms/step - loss: 0.1579 - accuracy: 0.9439 - val_loss: 0.4136 - val_accuracy: 0.8424\n",
      "Epoch 8/20\n",
      "276/276 [==============================] - 1s 4ms/step - loss: 0.1314 - accuracy: 0.9553 - val_loss: 0.4519 - val_accuracy: 0.8388\n",
      "Epoch 9/20\n",
      "276/276 [==============================] - 1s 4ms/step - loss: 0.1102 - accuracy: 0.9637 - val_loss: 0.5088 - val_accuracy: 0.8340\n",
      "Epoch 10/20\n",
      "276/276 [==============================] - 1s 4ms/step - loss: 0.0949 - accuracy: 0.9699 - val_loss: 0.5338 - val_accuracy: 0.8330\n",
      "Epoch 11/20\n",
      "276/276 [==============================] - 1s 4ms/step - loss: 0.0822 - accuracy: 0.9742 - val_loss: 0.5933 - val_accuracy: 0.8328\n",
      "Epoch 12/20\n",
      "276/276 [==============================] - 1s 5ms/step - loss: 0.0726 - accuracy: 0.9781 - val_loss: 0.6406 - val_accuracy: 0.8338\n",
      "Epoch 13/20\n",
      "276/276 [==============================] - 1s 5ms/step - loss: 0.0646 - accuracy: 0.9809 - val_loss: 0.6708 - val_accuracy: 0.8274\n",
      "Epoch 14/20\n",
      "276/276 [==============================] - 1s 5ms/step - loss: 0.0595 - accuracy: 0.9822 - val_loss: 0.7111 - val_accuracy: 0.8258\n",
      "Epoch 15/20\n",
      "276/276 [==============================] - 1s 5ms/step - loss: 0.0545 - accuracy: 0.9841 - val_loss: 0.7481 - val_accuracy: 0.8234\n",
      "Epoch 16/20\n",
      "276/276 [==============================] - 1s 5ms/step - loss: 0.0515 - accuracy: 0.9841 - val_loss: 0.7995 - val_accuracy: 0.8242\n",
      "Epoch 17/20\n",
      "276/276 [==============================] - 1s 4ms/step - loss: 0.0473 - accuracy: 0.9857 - val_loss: 0.8429 - val_accuracy: 0.8260\n",
      "Epoch 18/20\n",
      "276/276 [==============================] - 1s 5ms/step - loss: 0.0447 - accuracy: 0.9865 - val_loss: 0.8702 - val_accuracy: 0.8232\n",
      "Epoch 19/20\n",
      "276/276 [==============================] - 1s 5ms/step - loss: 0.0422 - accuracy: 0.9871 - val_loss: 0.8944 - val_accuracy: 0.8246\n",
      "Epoch 20/20\n",
      "276/276 [==============================] - 1s 5ms/step - loss: 0.0400 - accuracy: 0.9877 - val_loss: 0.9178 - val_accuracy: 0.8188\n"
     ]
    }
   ],
   "source": [
    "history_2 = model_2.fit(partial_x_train, partial_y_train, epochs=epochs,\n",
    "                        batch_size=512, validation_data=(x_val, y_val), verbose=1)"
   ]
  },
  {
   "cell_type": "code",
   "execution_count": 17,
   "id": "industrial-orchestra",
   "metadata": {},
   "outputs": [
    {
     "name": "stdout",
     "output_type": "stream",
     "text": [
      "Epoch 1/20\n",
      "276/276 [==============================] - 1s 4ms/step - loss: 0.5750 - accuracy: 0.7242 - val_loss: 0.4140 - val_accuracy: 0.8304\n",
      "Epoch 2/20\n",
      "276/276 [==============================] - 1s 4ms/step - loss: 0.3703 - accuracy: 0.8430 - val_loss: 0.3489 - val_accuracy: 0.8470\n",
      "Epoch 3/20\n",
      "276/276 [==============================] - 1s 4ms/step - loss: 0.3213 - accuracy: 0.8648 - val_loss: 0.3391 - val_accuracy: 0.8544\n",
      "Epoch 4/20\n",
      "276/276 [==============================] - 1s 4ms/step - loss: 0.2951 - accuracy: 0.8780 - val_loss: 0.3392 - val_accuracy: 0.8576\n",
      "Epoch 5/20\n",
      "276/276 [==============================] - 1s 4ms/step - loss: 0.2756 - accuracy: 0.8872 - val_loss: 0.3446 - val_accuracy: 0.8574\n",
      "Epoch 6/20\n",
      "276/276 [==============================] - 1s 4ms/step - loss: 0.2595 - accuracy: 0.8954 - val_loss: 0.3531 - val_accuracy: 0.8560\n",
      "Epoch 7/20\n",
      "276/276 [==============================] - 1s 4ms/step - loss: 0.2458 - accuracy: 0.9021 - val_loss: 0.3626 - val_accuracy: 0.8496\n",
      "Epoch 8/20\n",
      "276/276 [==============================] - 1s 4ms/step - loss: 0.2339 - accuracy: 0.9069 - val_loss: 0.3720 - val_accuracy: 0.8498\n",
      "Epoch 9/20\n",
      "276/276 [==============================] - 1s 4ms/step - loss: 0.2234 - accuracy: 0.9127 - val_loss: 0.3844 - val_accuracy: 0.8474\n",
      "Epoch 10/20\n",
      "276/276 [==============================] - 1s 4ms/step - loss: 0.2139 - accuracy: 0.9170 - val_loss: 0.3957 - val_accuracy: 0.8464\n",
      "Epoch 11/20\n",
      "276/276 [==============================] - 1s 4ms/step - loss: 0.2054 - accuracy: 0.9211 - val_loss: 0.4098 - val_accuracy: 0.8440\n",
      "Epoch 12/20\n",
      "276/276 [==============================] - 1s 4ms/step - loss: 0.1974 - accuracy: 0.9248 - val_loss: 0.4236 - val_accuracy: 0.8456\n",
      "Epoch 13/20\n",
      "276/276 [==============================] - 1s 4ms/step - loss: 0.1902 - accuracy: 0.9284 - val_loss: 0.4302 - val_accuracy: 0.8438\n",
      "Epoch 14/20\n",
      "276/276 [==============================] - 1s 4ms/step - loss: 0.1837 - accuracy: 0.9317 - val_loss: 0.4471 - val_accuracy: 0.8430\n",
      "Epoch 15/20\n",
      "276/276 [==============================] - 1s 4ms/step - loss: 0.1779 - accuracy: 0.9344 - val_loss: 0.4592 - val_accuracy: 0.8426\n",
      "Epoch 16/20\n",
      "276/276 [==============================] - 1s 4ms/step - loss: 0.1724 - accuracy: 0.9366 - val_loss: 0.4727 - val_accuracy: 0.8430\n",
      "Epoch 17/20\n",
      "276/276 [==============================] - 1s 3ms/step - loss: 0.1670 - accuracy: 0.9388 - val_loss: 0.4881 - val_accuracy: 0.8410\n",
      "Epoch 18/20\n",
      "276/276 [==============================] - 1s 3ms/step - loss: 0.1623 - accuracy: 0.9415 - val_loss: 0.5065 - val_accuracy: 0.8394\n",
      "Epoch 19/20\n",
      "276/276 [==============================] - 1s 3ms/step - loss: 0.1582 - accuracy: 0.9433 - val_loss: 0.5122 - val_accuracy: 0.8382\n",
      "Epoch 20/20\n",
      "276/276 [==============================] - 1s 3ms/step - loss: 0.1542 - accuracy: 0.9453 - val_loss: 0.5255 - val_accuracy: 0.8394\n"
     ]
    }
   ],
   "source": [
    "history_3 = model_3.fit(partial_x_train, partial_y_train, epochs=epochs,\n",
    "                        batch_size=512, validation_data=(x_val, y_val), verbose=1)"
   ]
  },
  {
   "cell_type": "code",
   "execution_count": 18,
   "id": "intended-cyprus",
   "metadata": {},
   "outputs": [
    {
     "name": "stdout",
     "output_type": "stream",
     "text": [
      "1537/1537 - 2s - loss: 0.5348 - accuracy: 0.8406\n",
      "[0.5347868800163269, 0.8405923843383789]\n"
     ]
    }
   ],
   "source": [
    "results_1 = model_1.evaluate(x_test, y_test, verbose=2)\n",
    "\n",
    "print(results_1)"
   ]
  },
  {
   "cell_type": "code",
   "execution_count": 19,
   "id": "adjusted-intranet",
   "metadata": {},
   "outputs": [
    {
     "name": "stdout",
     "output_type": "stream",
     "text": [
      "1537/1537 - 4s - loss: 0.9535 - accuracy: 0.8190\n",
      "[0.9534959197044373, 0.8190288543701172]\n"
     ]
    }
   ],
   "source": [
    "results_2 = model_2.evaluate(x_test, y_test, verbose=2)\n",
    "\n",
    "print(results_2)"
   ]
  },
  {
   "cell_type": "code",
   "execution_count": 21,
   "id": "casual-guess",
   "metadata": {},
   "outputs": [
    {
     "name": "stdout",
     "output_type": "stream",
     "text": [
      "1537/1537 - 1s - loss: 0.5388 - accuracy: 0.8251\n",
      "[0.538797914981842, 0.8250706791877747]\n"
     ]
    }
   ],
   "source": [
    "results_3 = model_3.evaluate(x_test, y_test, verbose=2)\n",
    "\n",
    "print(results_3)"
   ]
  },
  {
   "cell_type": "markdown",
   "id": "convenient-seeking",
   "metadata": {},
   "source": [
    "### 6) Loss, Accuracy 그래프 시각화\n",
    "---"
   ]
  },
  {
   "cell_type": "code",
   "execution_count": 23,
   "id": "liable-marijuana",
   "metadata": {},
   "outputs": [],
   "source": [
    "history_dict_1 = history_1.history\n",
    "history_dict_2 = history_2.history\n",
    "history_dict_3 = history_3.history"
   ]
  },
  {
   "cell_type": "code",
   "execution_count": 25,
   "id": "executive-ireland",
   "metadata": {},
   "outputs": [
    {
     "data": {
      "image/png": "[encoded data removed]",
      "text/plain": [
       "<Figure size 432x288 with 1 Axes>"
      ]
     },
     "metadata": {
      "needs_background": "light"
     },
     "output_type": "display_data"
    }
   ],
   "source": [
    "acc = history_dict_1['accuracy']\n",
    "val_acc = history_dict_1['val_accuracy']\n",
    "loss = history_dict_1['loss']\n",
    "val_loss = history_dict_1['val_loss']\n",
    "\n",
    "epochs = range(1, len(acc)+1)\n",
    "\n",
    "# \"bo\"는 \"파란색 점\"입니다\n",
    "plt.plot(epochs, loss, 'bo', label='Training loss')\n",
    "# b는 \"파란 실선\"입니다\n",
    "plt.plot(epochs, val_loss, 'b', label='Validation loss')\n",
    "plt.title('Training and validation loss (model_1)')\n",
    "plt.xlabel('Epochs')\n",
    "plt.ylabel('Loss')\n",
    "plt.legend()\n",
    "\n",
    "plt.show()"
   ]
  },
  {
   "cell_type": "code",
   "execution_count": 28,
   "id": "useful-japan",
   "metadata": {},
   "outputs": [
    {
     "data": {
      "image/png": "[encoded data removed]",
      "text/plain": [
       "<Figure size 432x288 with 1 Axes>"
      ]
     },
     "metadata": {
      "needs_background": "light"
     },
     "output_type": "display_data"
    }
   ],
   "source": [
    "plt.clf()   # 그림을 초기화합니다\n",
    "\n",
    "acc = history_dict_2['accuracy']\n",
    "val_acc = history_dict_2['val_accuracy']\n",
    "loss = history_dict_2['loss']\n",
    "val_loss = history_dict_2['val_loss']\n",
    "\n",
    "epochs = range(1, len(acc)+1)\n",
    "\n",
    "# \"bo\"는 \"파란색 점\"입니다\n",
    "plt.plot(epochs, loss, 'bo', label='Training loss')\n",
    "# b는 \"파란 실선\"입니다\n",
    "plt.plot(epochs, val_loss, 'b', label='Validation loss')\n",
    "plt.title('Training and validation loss (model_2)')\n",
    "plt.xlabel('Epochs')\n",
    "plt.ylabel('Loss')\n",
    "plt.legend()\n",
    "\n",
    "plt.show()"
   ]
  },
  {
   "cell_type": "code",
   "execution_count": 29,
   "id": "earlier-walnut",
   "metadata": {},
   "outputs": [
    {
     "data": {
      "image/png": "[encoded data removed]",
      "text/plain": [
       "<Figure size 432x288 with 1 Axes>"
      ]
     },
     "metadata": {
      "needs_background": "light"
     },
     "output_type": "display_data"
    }
   ],
   "source": [
    "plt.clf()   # 그림을 초기화합니다\n",
    "\n",
    "acc = history_dict_3['accuracy']\n",
    "val_acc = history_dict_3['val_accuracy']\n",
    "loss = history_dict_3['loss']\n",
    "val_loss = history_dict_3['val_loss']\n",
    "\n",
    "epochs = range(1, len(acc)+1)\n",
    "\n",
    "# \"bo\"는 \"파란색 점\"입니다\n",
    "plt.plot(epochs, loss, 'bo', label='Training loss')\n",
    "# b는 \"파란 실선\"입니다\n",
    "plt.plot(epochs, val_loss, 'b', label='Validation loss')\n",
    "plt.title('Training and validation loss (model_3)')\n",
    "plt.xlabel('Epochs')\n",
    "plt.ylabel('Loss')\n",
    "plt.legend()\n",
    "\n",
    "plt.show()"
   ]
  },
  {
   "cell_type": "markdown",
   "id": "incoming-auction",
   "metadata": {},
   "source": [
    "### 7) 학습된 Embedding 레이어 분석\n",
    "---"
   ]
  },
  {
   "cell_type": "code",
   "execution_count": 69,
   "id": "least-accreditation",
   "metadata": {},
   "outputs": [
    {
     "name": "stdout",
     "output_type": "stream",
     "text": [
      "(10000, 16)\n"
     ]
    }
   ],
   "source": [
    "embedding_layer = model_1.layers[0]\n",
    "weights = embedding_layer.get_weights()[0]\n",
    "print(weights.shape)    # shape: (vocab_size, embedding_dim)"
   ]
  },
  {
   "cell_type": "code",
   "execution_count": 73,
   "id": "funky-lafayette",
   "metadata": {},
   "outputs": [],
   "source": [
    "import os\n",
    "\n",
    "# 학습한 Embedding 파라미터를 파일에 써서 저장합니다.\n",
    "word2vec_file_path = os.getenv('HOME')+'/sentiment_classification/temp.txt'\n",
    "f = open(word2vec_file_path, 'w')\n",
    "# 몇개의 벡터를 얼마 사이즈로 기재할지 타이틀을 씁니다.\n",
    "f.write('{} {}\\n'.format(vocab_size-4, word_vector_dim))\n",
    "\n",
    "# 단어 개수(에서 특수문자 4개는 제외하고)만큼의 워드 벡터를 파일에 기록합니다.\n",
    "vectors = model_1.get_weights()[0]\n",
    "for i in range(4, vocab_size):\n",
    "    f.write('{} {}\\n'.format(index_to_word[i], ' '.join(\n",
    "        map(str, list(vectors[i, :])))))\n",
    "f.close()"
   ]
  },
  {
   "cell_type": "code",
   "execution_count": 74,
   "id": "least-mount",
   "metadata": {},
   "outputs": [
    {
     "data": {
      "text/plain": [
       "array([ 0.12680978,  0.11970817,  0.03286076, -0.28068236,  0.08188361,\n",
       "        0.04021413,  0.06784941,  0.16090645, -0.10359363,  0.02278912,\n",
       "       -0.0008241 , -0.28035998,  0.19000293,  0.04122482, -0.03123098,\n",
       "       -0.19546679], dtype=float32)"
      ]
     },
     "execution_count": 74,
     "metadata": {},
     "output_type": "execute_result"
    }
   ],
   "source": [
    "from gensim.models.keyedvectors import Word2VecKeyedVectors\n",
    "\n",
    "word_vectors = Word2VecKeyedVectors.load_word2vec_format(\n",
    "    word2vec_file_path, binary=False)\n",
    "vector = word_vectors['김치']\n",
    "vector"
   ]
  },
  {
   "cell_type": "code",
   "execution_count": 75,
   "id": "uniform-israeli",
   "metadata": {},
   "outputs": [
    {
     "data": {
      "text/plain": [
       "[('위기', 0.9493103623390198),\n",
       " ('독', 0.9464215040206909),\n",
       " ('닭', 0.9339830875396729),\n",
       " ('출발', 0.9307951331138611),\n",
       " ('음침', 0.9284548759460449),\n",
       " ('의심', 0.9237082004547119),\n",
       " ('실험', 0.9214313626289368),\n",
       " ('조폭', 0.9198734760284424),\n",
       " ('생각없이', 0.9186272025108337),\n",
       " ('아무래도', 0.9182350635528564)]"
      ]
     },
     "execution_count": 75,
     "metadata": {},
     "output_type": "execute_result"
    }
   ],
   "source": [
    "word_vectors.similar_by_word(\"김치\")"
   ]
  },
  {
   "cell_type": "markdown",
   "id": "affiliated-giving",
   "metadata": {},
   "source": [
    "> 제한적인 데이터로 학습해서 그런지 김치와 전혀 연관없는 단어들이 튀어나온다."
   ]
  },
  {
   "cell_type": "markdown",
   "id": "acting-meaning",
   "metadata": {},
   "source": [
    "### 8) 한국어 Word2Vec 임베딩 활용하여 성능개선\n",
    "---\n",
    "한국어 Word2Vec은 다음 경로에서 구할 수 있습니다.\n",
    "\n",
    "[https://github.com/Kyubyong/wordvectors](https://github.com/Kyubyong/wordvectors)"
   ]
  },
  {
   "cell_type": "code",
   "execution_count": 76,
   "id": "ruled-drawing",
   "metadata": {},
   "outputs": [],
   "source": [
    "import os\n",
    "from gensim.models import Word2Vec"
   ]
  },
  {
   "cell_type": "code",
   "execution_count": 77,
   "id": "pretty-purpose",
   "metadata": {},
   "outputs": [],
   "source": [
    "word2vec_path = os.getenv('HOME')+'/sentiment_classification/ko.bin'\n",
    "word2vec = Word2Vec.load(word2vec_path)"
   ]
  },
  {
   "cell_type": "code",
   "execution_count": 78,
   "id": "smart-formation",
   "metadata": {},
   "outputs": [
    {
     "data": {
      "text/plain": [
       "[('콩나물', 0.7347515225410461),\n",
       " ('고추장', 0.7271528244018555),\n",
       " ('젓갈', 0.7212152481079102),\n",
       " ('불고기', 0.7191970348358154),\n",
       " ('고구마', 0.7076905965805054),\n",
       " ('식초', 0.7076483964920044),\n",
       " ('닭고기', 0.707370400428772),\n",
       " ('육수', 0.7067707180976868),\n",
       " ('된장', 0.7039382457733154),\n",
       " ('양배추', 0.7038015127182007)]"
      ]
     },
     "execution_count": 78,
     "metadata": {},
     "output_type": "execute_result"
    }
   ],
   "source": [
    "word2vec.wv.most_similar(\"김치\")"
   ]
  },
  {
   "cell_type": "markdown",
   "id": "daily-greensboro",
   "metadata": {},
   "source": [
    "> 그래도 이건 제법 연관성 있어보이는 단어들이 나온다."
   ]
  },
  {
   "cell_type": "code",
   "execution_count": 110,
   "id": "secondary-substance",
   "metadata": {},
   "outputs": [],
   "source": [
    "vocab_size = 10000     # 어휘 사전의 크기입니다\n",
    "word_vector_dim = 200  # 워드 벡터의 차원수 (변경가능한 하이퍼파라미터)"
   ]
  },
  {
   "cell_type": "code",
   "execution_count": 111,
   "id": "streaming-forth",
   "metadata": {},
   "outputs": [
    {
     "name": "stderr",
     "output_type": "stream",
     "text": [
      "/home/aiffel-dj61/anaconda3/envs/aiffel/lib/python3.7/site-packages/ipykernel_launcher.py:5: DeprecationWarning: Call to deprecated `__contains__` (Method will be removed in 4.0.0, use self.wv.__contains__() instead).\n",
      "  \"\"\"\n",
      "/home/aiffel-dj61/anaconda3/envs/aiffel/lib/python3.7/site-packages/ipykernel_launcher.py:6: DeprecationWarning: Call to deprecated `__getitem__` (Method will be removed in 4.0.0, use self.wv.__getitem__() instead).\n",
      "  \n"
     ]
    }
   ],
   "source": [
    "embedding_matrix = np.random.rand(vocab_size, word_vector_dim)\n",
    "\n",
    "# embedding_matrix에 Word2Vec 워드벡터를 단어 하나씩마다 차례차례 카피한다.\n",
    "for i in range(4, vocab_size):\n",
    "    if index_to_word[i] in word2vec:\n",
    "        embedding_matrix[i] = word2vec[index_to_word[i]]"
   ]
  },
  {
   "cell_type": "code",
   "execution_count": 112,
   "id": "unauthorized-enzyme",
   "metadata": {
    "scrolled": true
   },
   "outputs": [
    {
     "name": "stdout",
     "output_type": "stream",
     "text": [
      "Model: \"sequential_8\"\n",
      "_________________________________________________________________\n",
      "Layer (type)                 Output Shape              Param #   \n",
      "=================================================================\n",
      "embedding_8 (Embedding)      (None, 41, 200)           2000000   \n",
      "_________________________________________________________________\n",
      "lstm_3 (LSTM)                (None, 8)                 6688      \n",
      "_________________________________________________________________\n",
      "dense_14 (Dense)             (None, 8)                 72        \n",
      "_________________________________________________________________\n",
      "dense_15 (Dense)             (None, 1)                 9         \n",
      "=================================================================\n",
      "Total params: 2,006,769\n",
      "Trainable params: 2,006,769\n",
      "Non-trainable params: 0\n",
      "_________________________________________________________________\n"
     ]
    }
   ],
   "source": [
    "from tensorflow.keras.initializers import Constant\n",
    "\n",
    "# 모델 구성\n",
    "model_4 = keras.Sequential()\n",
    "model_4.add(keras.layers.Embedding(vocab_size,\n",
    "                                   word_vector_dim,\n",
    "                                   embeddings_initializer=Constant(\n",
    "                                       embedding_matrix),  # 카피한 임베딩을 여기서 활용\n",
    "                                   input_length=maxlen,\n",
    "                                   trainable=True))        # trainable을 True로 주면 Fine-tuning\n",
    "model_4.add(keras.layers.LSTM(8))\n",
    "model_4.add(keras.layers.Dense(8, activation='relu'))\n",
    "model_4.add(keras.layers.Dense(1, activation='sigmoid'))\n",
    "\n",
    "model_4.summary()"
   ]
  },
  {
   "cell_type": "code",
   "execution_count": 120,
   "id": "separated-participation",
   "metadata": {},
   "outputs": [
    {
     "name": "stdout",
     "output_type": "stream",
     "text": [
      "(116182, 41)\n",
      "(116182,)\n"
     ]
    }
   ],
   "source": [
    "# validation set 1000건 분리\n",
    "x_val = x_train[:30000]\n",
    "y_val = y_train[:30000]\n",
    "\n",
    "# validation set을 제외한 나머지\n",
    "partial_x_train = x_train[30000:]\n",
    "partial_y_train = y_train[30000:]\n",
    "\n",
    "print(partial_x_train.shape)\n",
    "print(partial_y_train.shape)"
   ]
  },
  {
   "cell_type": "code",
   "execution_count": 121,
   "id": "accepting-absolute",
   "metadata": {},
   "outputs": [
    {
     "name": "stdout",
     "output_type": "stream",
     "text": [
      "Epoch 1/3\n",
      "227/227 [==============================] - 6s 28ms/step - loss: 0.2676 - accuracy: 0.8922 - val_loss: 0.2686 - val_accuracy: 0.8904\n",
      "Epoch 2/3\n",
      "227/227 [==============================] - 6s 27ms/step - loss: 0.2537 - accuracy: 0.9001 - val_loss: 0.2772 - val_accuracy: 0.8848\n",
      "Epoch 3/3\n",
      "227/227 [==============================] - 6s 26ms/step - loss: 0.2412 - accuracy: 0.9055 - val_loss: 0.2893 - val_accuracy: 0.8777\n"
     ]
    }
   ],
   "source": [
    "# 학습의 진행\n",
    "model_4.compile(optimizer='adam',\n",
    "                loss='binary_crossentropy',\n",
    "                metrics=['accuracy'])\n",
    "\n",
    "epochs = 3  # 몇 epoch를 훈련하면 좋을지 결과를 보면서 바꾸어 봅시다.\n",
    "\n",
    "history_4 = model_4.fit(partial_x_train,\n",
    "                        partial_y_train,\n",
    "                        epochs=epochs,\n",
    "                        batch_size=512,\n",
    "                        validation_data=(x_val, y_val),\n",
    "                        verbose=1)"
   ]
  },
  {
   "cell_type": "code",
   "execution_count": 122,
   "id": "random-slave",
   "metadata": {},
   "outputs": [
    {
     "name": "stdout",
     "output_type": "stream",
     "text": [
      "1537/1537 - 3s - loss: 0.3585 - accuracy: 0.8504\n",
      "[0.3585129380226135, 0.8503977060317993]\n"
     ]
    }
   ],
   "source": [
    "# 테스트셋을 통한 모델 평가\n",
    "results_4 = model_4.evaluate(x_test,  y_test, verbose=2)\n",
    "\n",
    "print(results_4)"
   ]
  },
  {
   "cell_type": "code",
   "execution_count": 123,
   "id": "gross-impression",
   "metadata": {},
   "outputs": [
    {
     "data": {
      "image/png": "[encoded data removed]",
      "text/plain": [
       "<Figure size 432x288 with 1 Axes>"
      ]
     },
     "metadata": {
      "needs_background": "light"
     },
     "output_type": "display_data"
    }
   ],
   "source": [
    "history_dict_4 = history_4.history\n",
    "\n",
    "acc = history_dict_4['accuracy']\n",
    "val_acc = history_dict_4['val_accuracy']\n",
    "loss = history_dict_4['loss']\n",
    "val_loss = history_dict_4['val_loss']\n",
    "\n",
    "epochs = range(1, len(acc)+1)\n",
    "\n",
    "# \"bo\"는 \"파란색 점\"입니다\n",
    "plt.plot(epochs, loss, 'bo', label='Training loss')\n",
    "# b는 \"파란 실선\"입니다\n",
    "plt.plot(epochs, val_loss, 'b', label='Validation loss')\n",
    "plt.title('Training and validation loss (model_4)')\n",
    "plt.xlabel('Epochs')\n",
    "plt.ylabel('Loss')\n",
    "plt.legend()\n",
    "\n",
    "plt.show()"
   ]
  },
  {
   "cell_type": "markdown",
   "id": "virtual-maria",
   "metadata": {},
   "source": [
    "### 루브릭\n",
    "\n",
    "아래의 기준을 바탕으로 프로젝트를 평가합니다.\n",
    "\n",
    "|평가문항|상세기준|\n",
    "|:---|:---|\n",
    "|1. 다양한 방법으로 Text Classification 태스크를 성공적으로 구현하였다.|3가지 이상의 모델이 성공적으로 시도됨|\n",
    "|2. gensim을 활용하여 자체학습된 혹은 사전학습된 임베딩 레이어를 분석하였다.|gensim의 유사단어 찾기를 활용하여 자체학습한 임베딩과 사전학습 임베딩을 적절히 분석함|\n",
    "|3. 한국어 Word2Vec을 활용하여 가시적인 성능향상을 달성했다.|네이버 영화리뷰 데이터 감성분석 정확도를 85% 이상 달성|"
   ]
  },
  {
   "cell_type": "markdown",
   "id": "urban-request",
   "metadata": {},
   "source": [
    "### 후기\n",
    "---\n",
    "이번 과제는 계속 일정이 있어 미루고 미루다 마감일이 다 되어 제출하게 되었다.  \n",
    "그만큼 제대로 공부하면서 진행하지는 못 했고, 마지막에 85% 이상 달성하는 것에 초점을 두었다.  \n",
    "\n",
    "전체적으로 자연어처리를 조금 맛보는 것에 의의를 두었는데, 아쉬운 점은 딥러닝 모델을 사용하는 방법, 파라미터 등에 대해 제대로 공부하지 못하고 넘어가게 되었다는 것이다.  \n",
    "시간이 넉넉하면 다양하게 조절해서 시험해보고 싶으나, 그것 또한 효율적으로 진행하기 위해서는 각 파라미터의 뜻을 알아야하고, 알고리즘에 대한 이해도 바탕이 되어야 할 것 같다.  \n",
    "\n",
    "앞으로 CS231n 수업 등을 꾸준히 공부하여 더 실력을 키워야겠다."
   ]
  },
  {
   "cell_type": "code",
   "execution_count": null,
   "id": "federal-forge",
   "metadata": {},
   "outputs": [],
   "source": []
  }
 ],
 "metadata": {
  "kernelspec": {
   "display_name": "aiffel",
   "language": "python",
   "name": "aiffel"
  },
  "language_info": {
   "codemirror_mode": {
    "name": "ipython",
    "version": 3
   },
   "file_extension": ".py",
   "mimetype": "text/x-python",
   "name": "python",
   "nbconvert_exporter": "python",
   "pygments_lexer": "ipython3",
   "version": "3.7.10"
  },
  "toc": {
   "base_numbering": 1,
   "nav_menu": {},
   "number_sections": false,
   "sideBar": true,
   "skip_h1_title": false,
   "title_cell": "Table of Contents",
   "title_sidebar": "Contents",
   "toc_cell": false,
   "toc_position": {},
   "toc_section_display": true,
   "toc_window_display": false
  }
 },
 "nbformat": 4,
 "nbformat_minor": 5
}
