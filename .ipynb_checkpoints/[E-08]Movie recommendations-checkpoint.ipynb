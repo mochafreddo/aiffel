{
 "cells": [
  {
   "cell_type": "markdown",
   "id": "better-harbor",
   "metadata": {},
   "source": [
    "# 8-9. 프로젝트 - Movielens 영화 추천 실습\n",
    "\n",
    "이전 스텝에서 배운 MF 모델 학습 방법을 토대로, 내가 좋아할 만한 영화 추천 시스템을 제작해 보겠습니다.  \n",
    "이번에 활용할 데이터셋은 추천시스템의 MNIST라고 부를만한 Movielens 데이터입니다.\n",
    "\n",
    "- 유저가 영화에 대해 평점을 매긴 데이터가 데이터 크기 별로 있습니다. `MovieLens 1M Dataset` 사용을 권장합니다.\n",
    "- 별점 데이터는 대표적인 explicit 데이터입니다. 하지만 implicit 데이터로 간주하고 테스트해볼 수 있습니다.\n",
    "- 별점을 **시청횟수**로 해석해서 생각하겠습니다.\n",
    "- 또한 유저가 3점 미만으로 준 데이터는 선호하지 않는다고 가정하고 제외하겠습니다.\n",
    "\n",
    "`MovieLens 1M Dataset` 데이터셋의 경우는 크기가 작아서 아래와 같이 직접 다운 받고 압축해제 하겠습니다.\n",
    "\n",
    "```\n",
    "1) wget으로 데이터 다운로드\n",
    "$ wget http://files.grouplens.org/datasets/movielens/ml-1m.zip\n",
    "\n",
    "2) 다운받은 데이터를 작업디렉토리로 옮김\n",
    "$ mv ml-1m.zip ~/aiffel/recommendata_iu/data\n",
    "\n",
    "3) 작업디렉토리로 이동\n",
    "$ cd ~/aiffel/recommendata_iu/data\n",
    "\n",
    "4) 압축 해제\n",
    "$ unzip ml-1m.zip\n",
    "```"
   ]
  },
  {
   "cell_type": "markdown",
   "id": "certified-convenience",
   "metadata": {},
   "source": [
    "### 1) 데이터 준비와 전처리\n",
    "\n",
    "---\n",
    "\n",
    "Movielens 데이터는 `rating.dat` 안에 이미 인덱싱까지 완료된 사용자-영화-평점 데이터가 깔끔하게 정리되어 있습니다."
   ]
  },
  {
   "cell_type": "code",
   "execution_count": 1,
   "id": "ideal-consolidation",
   "metadata": {
    "scrolled": true
   },
   "outputs": [
    {
     "data": {
      "text/html": [
       "<div>\n",
       "<style scoped>\n",
       "    .dataframe tbody tr th:only-of-type {\n",
       "        vertical-align: middle;\n",
       "    }\n",
       "\n",
       "    .dataframe tbody tr th {\n",
       "        vertical-align: top;\n",
       "    }\n",
       "\n",
       "    .dataframe thead th {\n",
       "        text-align: right;\n",
       "    }\n",
       "</style>\n",
       "<table border=\"1\" class=\"dataframe\">\n",
       "  <thead>\n",
       "    <tr style=\"text-align: right;\">\n",
       "      <th></th>\n",
       "      <th>user_id</th>\n",
       "      <th>movie_id</th>\n",
       "      <th>rating</th>\n",
       "      <th>timestamp</th>\n",
       "    </tr>\n",
       "  </thead>\n",
       "  <tbody>\n",
       "    <tr>\n",
       "      <th>0</th>\n",
       "      <td>1</td>\n",
       "      <td>1193</td>\n",
       "      <td>5</td>\n",
       "      <td>978300760</td>\n",
       "    </tr>\n",
       "    <tr>\n",
       "      <th>1</th>\n",
       "      <td>1</td>\n",
       "      <td>661</td>\n",
       "      <td>3</td>\n",
       "      <td>978302109</td>\n",
       "    </tr>\n",
       "    <tr>\n",
       "      <th>2</th>\n",
       "      <td>1</td>\n",
       "      <td>914</td>\n",
       "      <td>3</td>\n",
       "      <td>978301968</td>\n",
       "    </tr>\n",
       "    <tr>\n",
       "      <th>3</th>\n",
       "      <td>1</td>\n",
       "      <td>3408</td>\n",
       "      <td>4</td>\n",
       "      <td>978300275</td>\n",
       "    </tr>\n",
       "    <tr>\n",
       "      <th>4</th>\n",
       "      <td>1</td>\n",
       "      <td>2355</td>\n",
       "      <td>5</td>\n",
       "      <td>978824291</td>\n",
       "    </tr>\n",
       "  </tbody>\n",
       "</table>\n",
       "</div>"
      ],
      "text/plain": [
       "   user_id  movie_id  rating  timestamp\n",
       "0        1      1193       5  978300760\n",
       "1        1       661       3  978302109\n",
       "2        1       914       3  978301968\n",
       "3        1      3408       4  978300275\n",
       "4        1      2355       5  978824291"
      ]
     },
     "execution_count": 1,
     "metadata": {},
     "output_type": "execute_result"
    }
   ],
   "source": [
    "import os\n",
    "import pandas as pd\n",
    "\n",
    "rating_file_path = os.getenv('HOME')+'/recommendata_iu/data/ml-1m/ratings.dat'\n",
    "ratings_cols = ['user_id', 'movie_id', 'rating', 'timestamp']\n",
    "ratings = pd.read_csv(rating_file_path, sep='::',\n",
    "                      names=ratings_cols, engine='python')\n",
    "orginal_data_size = len(ratings)\n",
    "ratings.head()"
   ]
  },
  {
   "cell_type": "code",
   "execution_count": 2,
   "id": "insured-supervisor",
   "metadata": {},
   "outputs": [
    {
     "data": {
      "text/html": [
       "<div>\n",
       "<style scoped>\n",
       "    .dataframe tbody tr th:only-of-type {\n",
       "        vertical-align: middle;\n",
       "    }\n",
       "\n",
       "    .dataframe tbody tr th {\n",
       "        vertical-align: top;\n",
       "    }\n",
       "\n",
       "    .dataframe thead th {\n",
       "        text-align: right;\n",
       "    }\n",
       "</style>\n",
       "<table border=\"1\" class=\"dataframe\">\n",
       "  <thead>\n",
       "    <tr style=\"text-align: right;\">\n",
       "      <th></th>\n",
       "      <th>user_id</th>\n",
       "      <th>movie_id</th>\n",
       "      <th>rating</th>\n",
       "    </tr>\n",
       "  </thead>\n",
       "  <tbody>\n",
       "    <tr>\n",
       "      <th>0</th>\n",
       "      <td>1</td>\n",
       "      <td>1193</td>\n",
       "      <td>5</td>\n",
       "    </tr>\n",
       "    <tr>\n",
       "      <th>1</th>\n",
       "      <td>1</td>\n",
       "      <td>661</td>\n",
       "      <td>3</td>\n",
       "    </tr>\n",
       "    <tr>\n",
       "      <th>2</th>\n",
       "      <td>1</td>\n",
       "      <td>914</td>\n",
       "      <td>3</td>\n",
       "    </tr>\n",
       "    <tr>\n",
       "      <th>3</th>\n",
       "      <td>1</td>\n",
       "      <td>3408</td>\n",
       "      <td>4</td>\n",
       "    </tr>\n",
       "    <tr>\n",
       "      <th>4</th>\n",
       "      <td>1</td>\n",
       "      <td>2355</td>\n",
       "      <td>5</td>\n",
       "    </tr>\n",
       "  </tbody>\n",
       "</table>\n",
       "</div>"
      ],
      "text/plain": [
       "   user_id  movie_id  rating\n",
       "0        1      1193       5\n",
       "1        1       661       3\n",
       "2        1       914       3\n",
       "3        1      3408       4\n",
       "4        1      2355       5"
      ]
     },
     "execution_count": 2,
     "metadata": {},
     "output_type": "execute_result"
    }
   ],
   "source": [
    "# 이번 프로젝트에선 timestamp를 사용하지 않으므로 제거한다.\n",
    "ratings = ratings.drop(\"timestamp\", axis=1)\n",
    "ratings.head()"
   ]
  },
  {
   "cell_type": "code",
   "execution_count": 3,
   "id": "judicial-bouquet",
   "metadata": {},
   "outputs": [
    {
     "name": "stdout",
     "output_type": "stream",
     "text": [
      "orginal_data_size: 1000209, filtered_data_size: 836478\n",
      "Ratio of Remaining Data is 83.63%\n"
     ]
    }
   ],
   "source": [
    "# 3점 이상만 남깁니다.\n",
    "ratings = ratings[ratings['rating'] >= 3]\n",
    "filtered_data_size = len(ratings)\n",
    "\n",
    "print(\n",
    "    f'orginal_data_size: {orginal_data_size}, filtered_data_size: {filtered_data_size}')\n",
    "print(\n",
    "    f'Ratio of Remaining Data is {filtered_data_size / orginal_data_size:.2%}')"
   ]
  },
  {
   "cell_type": "code",
   "execution_count": 4,
   "id": "satellite-priest",
   "metadata": {},
   "outputs": [],
   "source": [
    "# rating 컬럼의 이름을 count로 바꿉니다.\n",
    "ratings.rename(columns={'rating': 'count'}, inplace=True)"
   ]
  },
  {
   "cell_type": "code",
   "execution_count": 5,
   "id": "assisted-compression",
   "metadata": {},
   "outputs": [
    {
     "data": {
      "text/plain": [
       "0          5\n",
       "1          3\n",
       "2          3\n",
       "3          4\n",
       "4          5\n",
       "          ..\n",
       "1000203    3\n",
       "1000205    5\n",
       "1000206    5\n",
       "1000207    4\n",
       "1000208    4\n",
       "Name: count, Length: 836478, dtype: int64"
      ]
     },
     "execution_count": 5,
     "metadata": {},
     "output_type": "execute_result"
    }
   ],
   "source": [
    "ratings['count']"
   ]
  },
  {
   "cell_type": "code",
   "execution_count": 6,
   "id": "facial-fight",
   "metadata": {},
   "outputs": [
    {
     "data": {
      "text/html": [
       "<div>\n",
       "<style scoped>\n",
       "    .dataframe tbody tr th:only-of-type {\n",
       "        vertical-align: middle;\n",
       "    }\n",
       "\n",
       "    .dataframe tbody tr th {\n",
       "        vertical-align: top;\n",
       "    }\n",
       "\n",
       "    .dataframe thead th {\n",
       "        text-align: right;\n",
       "    }\n",
       "</style>\n",
       "<table border=\"1\" class=\"dataframe\">\n",
       "  <thead>\n",
       "    <tr style=\"text-align: right;\">\n",
       "      <th></th>\n",
       "      <th>movie_id</th>\n",
       "      <th>title</th>\n",
       "      <th>genre</th>\n",
       "    </tr>\n",
       "  </thead>\n",
       "  <tbody>\n",
       "    <tr>\n",
       "      <th>0</th>\n",
       "      <td>1</td>\n",
       "      <td>Toy Story (1995)</td>\n",
       "      <td>Animation|Children's|Comedy</td>\n",
       "    </tr>\n",
       "    <tr>\n",
       "      <th>1</th>\n",
       "      <td>2</td>\n",
       "      <td>Jumanji (1995)</td>\n",
       "      <td>Adventure|Children's|Fantasy</td>\n",
       "    </tr>\n",
       "    <tr>\n",
       "      <th>2</th>\n",
       "      <td>3</td>\n",
       "      <td>Grumpier Old Men (1995)</td>\n",
       "      <td>Comedy|Romance</td>\n",
       "    </tr>\n",
       "    <tr>\n",
       "      <th>3</th>\n",
       "      <td>4</td>\n",
       "      <td>Waiting to Exhale (1995)</td>\n",
       "      <td>Comedy|Drama</td>\n",
       "    </tr>\n",
       "    <tr>\n",
       "      <th>4</th>\n",
       "      <td>5</td>\n",
       "      <td>Father of the Bride Part II (1995)</td>\n",
       "      <td>Comedy</td>\n",
       "    </tr>\n",
       "  </tbody>\n",
       "</table>\n",
       "</div>"
      ],
      "text/plain": [
       "   movie_id                               title                         genre\n",
       "0         1                    Toy Story (1995)   Animation|Children's|Comedy\n",
       "1         2                      Jumanji (1995)  Adventure|Children's|Fantasy\n",
       "2         3             Grumpier Old Men (1995)                Comedy|Romance\n",
       "3         4            Waiting to Exhale (1995)                  Comedy|Drama\n",
       "4         5  Father of the Bride Part II (1995)                        Comedy"
      ]
     },
     "execution_count": 6,
     "metadata": {},
     "output_type": "execute_result"
    }
   ],
   "source": [
    "# 영화 제목을 보기 위해 메타 데이터를 읽어옵니다.\n",
    "movie_file_path = os.getenv('HOME') + '/recommendata_iu/data/ml-1m/movies.dat'\n",
    "cols = ['movie_id', 'title', 'genre']\n",
    "movies = pd.read_csv(movie_file_path, sep='::', names=cols, engine='python')\n",
    "movies.head()"
   ]
  },
  {
   "cell_type": "markdown",
   "id": "color-mainstream",
   "metadata": {},
   "source": [
    "여기까지가 전처리입니다. 이후에는 이전 스텝에 소개했던 것과 동일한 방식으로 MF model을 구성하여 내가 좋아할 만한 영화를 추천해 볼 수 있습니다."
   ]
  },
  {
   "cell_type": "markdown",
   "id": "celtic-preservation",
   "metadata": {},
   "source": [
    "### 2) 분석해 봅시다.\n",
    "\n",
    "---\n",
    "\n",
    "- ratings에 있는 유니크한 영화 개수"
   ]
  },
  {
   "cell_type": "code",
   "execution_count": 7,
   "id": "public-recognition",
   "metadata": {},
   "outputs": [
    {
     "data": {
      "text/plain": [
       "3628"
      ]
     },
     "execution_count": 7,
     "metadata": {},
     "output_type": "execute_result"
    }
   ],
   "source": [
    "ratings['movie_id'].nunique()"
   ]
  },
  {
   "cell_type": "markdown",
   "id": "suspended-richards",
   "metadata": {},
   "source": [
    "- rating에 있는 유니크한 사용자 수"
   ]
  },
  {
   "cell_type": "code",
   "execution_count": 8,
   "id": "parliamentary-tamil",
   "metadata": {},
   "outputs": [
    {
     "data": {
      "text/plain": [
       "6039"
      ]
     },
     "execution_count": 8,
     "metadata": {},
     "output_type": "execute_result"
    }
   ],
   "source": [
    "ratings['user_id'].nunique()"
   ]
  },
  {
   "cell_type": "markdown",
   "id": "catholic-bracelet",
   "metadata": {},
   "source": [
    "- 가장 인기 있는 영화 30개(인기순)"
   ]
  },
  {
   "cell_type": "code",
   "execution_count": 9,
   "id": "sixth-trader",
   "metadata": {},
   "outputs": [],
   "source": [
    "# movie_id -> title\n",
    "movie_to_title = {k: v for k, v in zip(movies['movie_id'], movies['title'])}"
   ]
  },
  {
   "cell_type": "code",
   "execution_count": 10,
   "id": "alert-cookbook",
   "metadata": {
    "scrolled": false
   },
   "outputs": [
    {
     "data": {
      "text/html": [
       "<div>\n",
       "<style scoped>\n",
       "    .dataframe tbody tr th:only-of-type {\n",
       "        vertical-align: middle;\n",
       "    }\n",
       "\n",
       "    .dataframe tbody tr th {\n",
       "        vertical-align: top;\n",
       "    }\n",
       "\n",
       "    .dataframe thead th {\n",
       "        text-align: right;\n",
       "    }\n",
       "</style>\n",
       "<table border=\"1\" class=\"dataframe\">\n",
       "  <thead>\n",
       "    <tr style=\"text-align: right;\">\n",
       "      <th></th>\n",
       "      <th>user_id</th>\n",
       "      <th>title</th>\n",
       "    </tr>\n",
       "    <tr>\n",
       "      <th>movie_id</th>\n",
       "      <th></th>\n",
       "      <th></th>\n",
       "    </tr>\n",
       "  </thead>\n",
       "  <tbody>\n",
       "    <tr>\n",
       "      <th>2858</th>\n",
       "      <td>3211</td>\n",
       "      <td>American Beauty (1999)</td>\n",
       "    </tr>\n",
       "    <tr>\n",
       "      <th>260</th>\n",
       "      <td>2910</td>\n",
       "      <td>Star Wars: Episode IV - A New Hope (1977)</td>\n",
       "    </tr>\n",
       "    <tr>\n",
       "      <th>1196</th>\n",
       "      <td>2885</td>\n",
       "      <td>Star Wars: Episode V - The Empire Strikes Back...</td>\n",
       "    </tr>\n",
       "    <tr>\n",
       "      <th>1210</th>\n",
       "      <td>2716</td>\n",
       "      <td>Star Wars: Episode VI - Return of the Jedi (1983)</td>\n",
       "    </tr>\n",
       "    <tr>\n",
       "      <th>2028</th>\n",
       "      <td>2561</td>\n",
       "      <td>Saving Private Ryan (1998)</td>\n",
       "    </tr>\n",
       "    <tr>\n",
       "      <th>589</th>\n",
       "      <td>2509</td>\n",
       "      <td>Terminator 2: Judgment Day (1991)</td>\n",
       "    </tr>\n",
       "    <tr>\n",
       "      <th>593</th>\n",
       "      <td>2498</td>\n",
       "      <td>Silence of the Lambs, The (1991)</td>\n",
       "    </tr>\n",
       "    <tr>\n",
       "      <th>1198</th>\n",
       "      <td>2473</td>\n",
       "      <td>Raiders of the Lost Ark (1981)</td>\n",
       "    </tr>\n",
       "    <tr>\n",
       "      <th>1270</th>\n",
       "      <td>2460</td>\n",
       "      <td>Back to the Future (1985)</td>\n",
       "    </tr>\n",
       "    <tr>\n",
       "      <th>2571</th>\n",
       "      <td>2434</td>\n",
       "      <td>Matrix, The (1999)</td>\n",
       "    </tr>\n",
       "    <tr>\n",
       "      <th>480</th>\n",
       "      <td>2413</td>\n",
       "      <td>Jurassic Park (1993)</td>\n",
       "    </tr>\n",
       "    <tr>\n",
       "      <th>2762</th>\n",
       "      <td>2385</td>\n",
       "      <td>Sixth Sense, The (1999)</td>\n",
       "    </tr>\n",
       "    <tr>\n",
       "      <th>608</th>\n",
       "      <td>2371</td>\n",
       "      <td>Fargo (1996)</td>\n",
       "    </tr>\n",
       "    <tr>\n",
       "      <th>110</th>\n",
       "      <td>2314</td>\n",
       "      <td>Braveheart (1995)</td>\n",
       "    </tr>\n",
       "    <tr>\n",
       "      <th>1580</th>\n",
       "      <td>2297</td>\n",
       "      <td>Men in Black (1997)</td>\n",
       "    </tr>\n",
       "    <tr>\n",
       "      <th>527</th>\n",
       "      <td>2257</td>\n",
       "      <td>Schindler's List (1993)</td>\n",
       "    </tr>\n",
       "    <tr>\n",
       "      <th>1197</th>\n",
       "      <td>2252</td>\n",
       "      <td>Princess Bride, The (1987)</td>\n",
       "    </tr>\n",
       "    <tr>\n",
       "      <th>2396</th>\n",
       "      <td>2213</td>\n",
       "      <td>Shakespeare in Love (1998)</td>\n",
       "    </tr>\n",
       "    <tr>\n",
       "      <th>1617</th>\n",
       "      <td>2210</td>\n",
       "      <td>L.A. Confidential (1997)</td>\n",
       "    </tr>\n",
       "    <tr>\n",
       "      <th>318</th>\n",
       "      <td>2194</td>\n",
       "      <td>Shawshank Redemption, The (1994)</td>\n",
       "    </tr>\n",
       "    <tr>\n",
       "      <th>858</th>\n",
       "      <td>2167</td>\n",
       "      <td>Godfather, The (1972)</td>\n",
       "    </tr>\n",
       "    <tr>\n",
       "      <th>1265</th>\n",
       "      <td>2121</td>\n",
       "      <td>Groundhog Day (1993)</td>\n",
       "    </tr>\n",
       "    <tr>\n",
       "      <th>1097</th>\n",
       "      <td>2102</td>\n",
       "      <td>E.T. the Extra-Terrestrial (1982)</td>\n",
       "    </tr>\n",
       "    <tr>\n",
       "      <th>2997</th>\n",
       "      <td>2066</td>\n",
       "      <td>Being John Malkovich (1999)</td>\n",
       "    </tr>\n",
       "    <tr>\n",
       "      <th>2716</th>\n",
       "      <td>2051</td>\n",
       "      <td>Ghostbusters (1984)</td>\n",
       "    </tr>\n",
       "    <tr>\n",
       "      <th>296</th>\n",
       "      <td>2030</td>\n",
       "      <td>Pulp Fiction (1994)</td>\n",
       "    </tr>\n",
       "    <tr>\n",
       "      <th>356</th>\n",
       "      <td>2022</td>\n",
       "      <td>Forrest Gump (1994)</td>\n",
       "    </tr>\n",
       "    <tr>\n",
       "      <th>1240</th>\n",
       "      <td>2019</td>\n",
       "      <td>Terminator, The (1984)</td>\n",
       "    </tr>\n",
       "    <tr>\n",
       "      <th>1</th>\n",
       "      <td>2000</td>\n",
       "      <td>Toy Story (1995)</td>\n",
       "    </tr>\n",
       "    <tr>\n",
       "      <th>457</th>\n",
       "      <td>1941</td>\n",
       "      <td>Fugitive, The (1993)</td>\n",
       "    </tr>\n",
       "  </tbody>\n",
       "</table>\n",
       "</div>"
      ],
      "text/plain": [
       "          user_id                                              title\n",
       "movie_id                                                            \n",
       "2858         3211                             American Beauty (1999)\n",
       "260          2910          Star Wars: Episode IV - A New Hope (1977)\n",
       "1196         2885  Star Wars: Episode V - The Empire Strikes Back...\n",
       "1210         2716  Star Wars: Episode VI - Return of the Jedi (1983)\n",
       "2028         2561                         Saving Private Ryan (1998)\n",
       "589          2509                  Terminator 2: Judgment Day (1991)\n",
       "593          2498                   Silence of the Lambs, The (1991)\n",
       "1198         2473                     Raiders of the Lost Ark (1981)\n",
       "1270         2460                          Back to the Future (1985)\n",
       "2571         2434                                 Matrix, The (1999)\n",
       "480          2413                               Jurassic Park (1993)\n",
       "2762         2385                            Sixth Sense, The (1999)\n",
       "608          2371                                       Fargo (1996)\n",
       "110          2314                                  Braveheart (1995)\n",
       "1580         2297                                Men in Black (1997)\n",
       "527          2257                            Schindler's List (1993)\n",
       "1197         2252                         Princess Bride, The (1987)\n",
       "2396         2213                         Shakespeare in Love (1998)\n",
       "1617         2210                           L.A. Confidential (1997)\n",
       "318          2194                   Shawshank Redemption, The (1994)\n",
       "858          2167                              Godfather, The (1972)\n",
       "1265         2121                               Groundhog Day (1993)\n",
       "1097         2102                  E.T. the Extra-Terrestrial (1982)\n",
       "2997         2066                        Being John Malkovich (1999)\n",
       "2716         2051                                Ghostbusters (1984)\n",
       "296          2030                                Pulp Fiction (1994)\n",
       "356          2022                                Forrest Gump (1994)\n",
       "1240         2019                             Terminator, The (1984)\n",
       "1            2000                                   Toy Story (1995)\n",
       "457          1941                               Fugitive, The (1993)"
      ]
     },
     "execution_count": 10,
     "metadata": {},
     "output_type": "execute_result"
    }
   ],
   "source": [
    "movie_count = ratings.groupby('movie_id')['user_id'].count()\n",
    "df_temp = pd.DataFrame(movie_count.sort_values(ascending=False).head(30))\n",
    "for idx in df_temp.index:\n",
    "    df_temp.loc[idx, 'title'] = movie_to_title[idx]\n",
    "df_temp"
   ]
  },
  {
   "cell_type": "markdown",
   "id": "transsexual-retailer",
   "metadata": {},
   "source": [
    "> title을 함께 출력해주었다."
   ]
  },
  {
   "cell_type": "markdown",
   "id": "capital-polls",
   "metadata": {},
   "source": [
    "### 3) 내가 선호하는 영화를 5가지 골라서 rating에 추가해 줍시다.\n",
    "\n",
    "---"
   ]
  },
  {
   "cell_type": "code",
   "execution_count": 11,
   "id": "threatened-exhaust",
   "metadata": {
    "scrolled": false
   },
   "outputs": [
    {
     "data": {
      "text/html": [
       "<div>\n",
       "<style scoped>\n",
       "    .dataframe tbody tr th:only-of-type {\n",
       "        vertical-align: middle;\n",
       "    }\n",
       "\n",
       "    .dataframe tbody tr th {\n",
       "        vertical-align: top;\n",
       "    }\n",
       "\n",
       "    .dataframe thead th {\n",
       "        text-align: right;\n",
       "    }\n",
       "</style>\n",
       "<table border=\"1\" class=\"dataframe\">\n",
       "  <thead>\n",
       "    <tr style=\"text-align: right;\">\n",
       "      <th></th>\n",
       "      <th>movie_id</th>\n",
       "      <th>title</th>\n",
       "      <th>genre</th>\n",
       "    </tr>\n",
       "  </thead>\n",
       "  <tbody>\n",
       "    <tr>\n",
       "      <th>1833</th>\n",
       "      <td>1902</td>\n",
       "      <td>Dream for an Insomniac (1996)</td>\n",
       "      <td>Drama|Romance</td>\n",
       "    </tr>\n",
       "    <tr>\n",
       "      <th>3591</th>\n",
       "      <td>3660</td>\n",
       "      <td>Puppet Master (1989)</td>\n",
       "      <td>Horror|Sci-Fi|Thriller</td>\n",
       "    </tr>\n",
       "    <tr>\n",
       "      <th>1405</th>\n",
       "      <td>1429</td>\n",
       "      <td>Jackie Chan's First Strike (1996)</td>\n",
       "      <td>Action</td>\n",
       "    </tr>\n",
       "    <tr>\n",
       "      <th>3078</th>\n",
       "      <td>3147</td>\n",
       "      <td>Green Mile, The (1999)</td>\n",
       "      <td>Drama|Thriller</td>\n",
       "    </tr>\n",
       "    <tr>\n",
       "      <th>543</th>\n",
       "      <td>547</td>\n",
       "      <td>Surviving the Game (1994)</td>\n",
       "      <td>Action|Adventure|Thriller</td>\n",
       "    </tr>\n",
       "  </tbody>\n",
       "</table>\n",
       "</div>"
      ],
      "text/plain": [
       "      movie_id                              title                      genre\n",
       "1833      1902      Dream for an Insomniac (1996)              Drama|Romance\n",
       "3591      3660               Puppet Master (1989)     Horror|Sci-Fi|Thriller\n",
       "1405      1429  Jackie Chan's First Strike (1996)                     Action\n",
       "3078      3147             Green Mile, The (1999)             Drama|Thriller\n",
       "543        547          Surviving the Game (1994)  Action|Adventure|Thriller"
      ]
     },
     "execution_count": 11,
     "metadata": {},
     "output_type": "execute_result"
    }
   ],
   "source": [
    "# movies에서 랜덤으로 목록을 출력해보며 내가 좋아하는 영화를 찾는다.\n",
    "movies.sample(5)"
   ]
  },
  {
   "cell_type": "code",
   "execution_count": 12,
   "id": "northern-channels",
   "metadata": {},
   "outputs": [
    {
     "data": {
      "text/html": [
       "<div>\n",
       "<style scoped>\n",
       "    .dataframe tbody tr th:only-of-type {\n",
       "        vertical-align: middle;\n",
       "    }\n",
       "\n",
       "    .dataframe tbody tr th {\n",
       "        vertical-align: top;\n",
       "    }\n",
       "\n",
       "    .dataframe thead th {\n",
       "        text-align: right;\n",
       "    }\n",
       "</style>\n",
       "<table border=\"1\" class=\"dataframe\">\n",
       "  <thead>\n",
       "    <tr style=\"text-align: right;\">\n",
       "      <th></th>\n",
       "      <th>movie_id</th>\n",
       "      <th>title</th>\n",
       "      <th>genre</th>\n",
       "    </tr>\n",
       "  </thead>\n",
       "  <tbody>\n",
       "    <tr>\n",
       "      <th>476</th>\n",
       "      <td>480</td>\n",
       "      <td>Jurassic Park (1993)</td>\n",
       "      <td>Action|Adventure|Sci-Fi</td>\n",
       "    </tr>\n",
       "    <tr>\n",
       "      <th>1505</th>\n",
       "      <td>1544</td>\n",
       "      <td>Lost World: Jurassic Park, The (1997)</td>\n",
       "      <td>Action|Adventure|Sci-Fi|Thriller</td>\n",
       "    </tr>\n",
       "  </tbody>\n",
       "</table>\n",
       "</div>"
      ],
      "text/plain": [
       "      movie_id                                  title  \\\n",
       "476        480                   Jurassic Park (1993)   \n",
       "1505      1544  Lost World: Jurassic Park, The (1997)   \n",
       "\n",
       "                                 genre  \n",
       "476            Action|Adventure|Sci-Fi  \n",
       "1505  Action|Adventure|Sci-Fi|Thriller  "
      ]
     },
     "execution_count": 12,
     "metadata": {},
     "output_type": "execute_result"
    }
   ],
   "source": [
    "# 혹은 직접 검색해서 찾기\n",
    "# contains()를 이용해 키워드 검색을 할 수 있다.\n",
    "movies[movies['title'].str.contains('Jurassic')]"
   ]
  },
  {
   "cell_type": "markdown",
   "id": "peaceful-trailer",
   "metadata": {},
   "source": [
    "> 영어 제목에다 아는 영화가 별로 없어서 찾기 어려웠다."
   ]
  },
  {
   "cell_type": "code",
   "execution_count": 13,
   "id": "legal-truth",
   "metadata": {
    "scrolled": true
   },
   "outputs": [
    {
     "data": {
      "text/html": [
       "<div>\n",
       "<style scoped>\n",
       "    .dataframe tbody tr th:only-of-type {\n",
       "        vertical-align: middle;\n",
       "    }\n",
       "\n",
       "    .dataframe tbody tr th {\n",
       "        vertical-align: top;\n",
       "    }\n",
       "\n",
       "    .dataframe thead th {\n",
       "        text-align: right;\n",
       "    }\n",
       "</style>\n",
       "<table border=\"1\" class=\"dataframe\">\n",
       "  <thead>\n",
       "    <tr style=\"text-align: right;\">\n",
       "      <th></th>\n",
       "      <th>user_id</th>\n",
       "      <th>movie_id</th>\n",
       "      <th>count</th>\n",
       "    </tr>\n",
       "  </thead>\n",
       "  <tbody>\n",
       "    <tr>\n",
       "      <th>1000203</th>\n",
       "      <td>6040</td>\n",
       "      <td>1090</td>\n",
       "      <td>3</td>\n",
       "    </tr>\n",
       "    <tr>\n",
       "      <th>1000205</th>\n",
       "      <td>6040</td>\n",
       "      <td>1094</td>\n",
       "      <td>5</td>\n",
       "    </tr>\n",
       "    <tr>\n",
       "      <th>1000206</th>\n",
       "      <td>6040</td>\n",
       "      <td>562</td>\n",
       "      <td>5</td>\n",
       "    </tr>\n",
       "    <tr>\n",
       "      <th>1000207</th>\n",
       "      <td>6040</td>\n",
       "      <td>1096</td>\n",
       "      <td>4</td>\n",
       "    </tr>\n",
       "    <tr>\n",
       "      <th>1000208</th>\n",
       "      <td>6040</td>\n",
       "      <td>1097</td>\n",
       "      <td>4</td>\n",
       "    </tr>\n",
       "  </tbody>\n",
       "</table>\n",
       "</div>"
      ],
      "text/plain": [
       "         user_id  movie_id  count\n",
       "1000203     6040      1090      3\n",
       "1000205     6040      1094      5\n",
       "1000206     6040       562      5\n",
       "1000207     6040      1096      4\n",
       "1000208     6040      1097      4"
      ]
     },
     "execution_count": 13,
     "metadata": {},
     "output_type": "execute_result"
    }
   ],
   "source": [
    "# ratings의 마지막 user_id를 확인\n",
    "ratings.tail()"
   ]
  },
  {
   "cell_type": "code",
   "execution_count": 14,
   "id": "filled-prince",
   "metadata": {
    "scrolled": true
   },
   "outputs": [
    {
     "data": {
      "text/plain": [
       "False"
      ]
     },
     "execution_count": 14,
     "metadata": {},
     "output_type": "execute_result"
    }
   ],
   "source": [
    "# 추가할 user_id가 있는지 검사\n",
    "ratings['user_id'].isin([6041]).any()"
   ]
  },
  {
   "cell_type": "code",
   "execution_count": 15,
   "id": "potential-research",
   "metadata": {
    "scrolled": false
   },
   "outputs": [
    {
     "data": {
      "text/html": [
       "<div>\n",
       "<style scoped>\n",
       "    .dataframe tbody tr th:only-of-type {\n",
       "        vertical-align: middle;\n",
       "    }\n",
       "\n",
       "    .dataframe tbody tr th {\n",
       "        vertical-align: top;\n",
       "    }\n",
       "\n",
       "    .dataframe thead th {\n",
       "        text-align: right;\n",
       "    }\n",
       "</style>\n",
       "<table border=\"1\" class=\"dataframe\">\n",
       "  <thead>\n",
       "    <tr style=\"text-align: right;\">\n",
       "      <th></th>\n",
       "      <th>user_id</th>\n",
       "      <th>movie_id</th>\n",
       "      <th>count</th>\n",
       "    </tr>\n",
       "  </thead>\n",
       "  <tbody>\n",
       "    <tr>\n",
       "      <th>836473</th>\n",
       "      <td>6040</td>\n",
       "      <td>1090</td>\n",
       "      <td>3</td>\n",
       "    </tr>\n",
       "    <tr>\n",
       "      <th>836474</th>\n",
       "      <td>6040</td>\n",
       "      <td>1094</td>\n",
       "      <td>5</td>\n",
       "    </tr>\n",
       "    <tr>\n",
       "      <th>836475</th>\n",
       "      <td>6040</td>\n",
       "      <td>562</td>\n",
       "      <td>5</td>\n",
       "    </tr>\n",
       "    <tr>\n",
       "      <th>836476</th>\n",
       "      <td>6040</td>\n",
       "      <td>1096</td>\n",
       "      <td>4</td>\n",
       "    </tr>\n",
       "    <tr>\n",
       "      <th>836477</th>\n",
       "      <td>6040</td>\n",
       "      <td>1097</td>\n",
       "      <td>4</td>\n",
       "    </tr>\n",
       "    <tr>\n",
       "      <th>836478</th>\n",
       "      <td>6041</td>\n",
       "      <td>1</td>\n",
       "      <td>5</td>\n",
       "    </tr>\n",
       "    <tr>\n",
       "      <th>836479</th>\n",
       "      <td>6041</td>\n",
       "      <td>2</td>\n",
       "      <td>5</td>\n",
       "    </tr>\n",
       "    <tr>\n",
       "      <th>836480</th>\n",
       "      <td>6041</td>\n",
       "      <td>589</td>\n",
       "      <td>5</td>\n",
       "    </tr>\n",
       "    <tr>\n",
       "      <th>836481</th>\n",
       "      <td>6041</td>\n",
       "      <td>595</td>\n",
       "      <td>5</td>\n",
       "    </tr>\n",
       "    <tr>\n",
       "      <th>836482</th>\n",
       "      <td>6041</td>\n",
       "      <td>480</td>\n",
       "      <td>5</td>\n",
       "    </tr>\n",
       "  </tbody>\n",
       "</table>\n",
       "</div>"
      ],
      "text/plain": [
       "        user_id  movie_id  count\n",
       "836473     6040      1090      3\n",
       "836474     6040      1094      5\n",
       "836475     6040       562      5\n",
       "836476     6040      1096      4\n",
       "836477     6040      1097      4\n",
       "836478     6041         1      5\n",
       "836479     6041         2      5\n",
       "836480     6041       589      5\n",
       "836481     6041       595      5\n",
       "836482     6041       480      5"
      ]
     },
     "execution_count": 15,
     "metadata": {},
     "output_type": "execute_result"
    }
   ],
   "source": [
    "# ratings에 data를 추가한다.\n",
    "my_favorites = [\n",
    "    {'user_id': 6041, 'movie_id': 1, 'count': 5},    # Toy Story\n",
    "    {'user_id': 6041, 'movie_id': 2, 'count': 5},    # Jumanji\n",
    "    {'user_id': 6041, 'movie_id': 589, 'count': 5},  # Terminator 2\n",
    "    {'user_id': 6041, 'movie_id': 595, 'count': 5},  # Beauty and the Beast\n",
    "    {'user_id': 6041, 'movie_id': 480, 'count': 5},  # Jurassic Park\n",
    "]\n",
    "my_favorites = pd.DataFrame(my_favorites)\n",
    "\n",
    "# 사용자가 추가한 데이터가 없는 경우에 실행한다.\n",
    "if not ratings['user_id'].isin([6041]).any():\n",
    "    ratings = ratings.append(my_favorites, ignore_index=True)\n",
    "\n",
    "# 데이터가 잘 추가되었는지 확인\n",
    "ratings.tail(10)"
   ]
  },
  {
   "cell_type": "markdown",
   "id": "subjective-transport",
   "metadata": {},
   "source": [
    "### 4) CSR matrix를 직접 만들어 봅시다.\n",
    "\n",
    "---"
   ]
  },
  {
   "cell_type": "code",
   "execution_count": 16,
   "id": "certain-tanzania",
   "metadata": {},
   "outputs": [
    {
     "name": "stdout",
     "output_type": "stream",
     "text": [
      "6040\n",
      "3628\n"
     ]
    }
   ],
   "source": [
    "# ratings에서의 user_id, movie_id의 고유값 인덱싱\n",
    "user_unique = ratings['user_id'].unique()\n",
    "movie_unique = ratings['movie_id'].unique()\n",
    "\n",
    "user_to_idx = {v: k for k, v in enumerate(user_unique)}\n",
    "movie_to_idx = {v: k for k, v in enumerate(movie_unique)}\n",
    "\n",
    "print(len(user_to_idx))\n",
    "print(len(movie_to_idx))"
   ]
  },
  {
   "cell_type": "code",
   "execution_count": 17,
   "id": "valued-acoustic",
   "metadata": {
    "scrolled": false
   },
   "outputs": [
    {
     "name": "stdout",
     "output_type": "stream",
     "text": [
      "user_id column indexing OK!!\n",
      "movie_id column indexing OK!!\n"
     ]
    },
    {
     "data": {
      "text/html": [
       "<div>\n",
       "<style scoped>\n",
       "    .dataframe tbody tr th:only-of-type {\n",
       "        vertical-align: middle;\n",
       "    }\n",
       "\n",
       "    .dataframe tbody tr th {\n",
       "        vertical-align: top;\n",
       "    }\n",
       "\n",
       "    .dataframe thead th {\n",
       "        text-align: right;\n",
       "    }\n",
       "</style>\n",
       "<table border=\"1\" class=\"dataframe\">\n",
       "  <thead>\n",
       "    <tr style=\"text-align: right;\">\n",
       "      <th></th>\n",
       "      <th>user_id</th>\n",
       "      <th>movie_id</th>\n",
       "      <th>count</th>\n",
       "    </tr>\n",
       "  </thead>\n",
       "  <tbody>\n",
       "    <tr>\n",
       "      <th>0</th>\n",
       "      <td>0</td>\n",
       "      <td>0</td>\n",
       "      <td>5</td>\n",
       "    </tr>\n",
       "    <tr>\n",
       "      <th>1</th>\n",
       "      <td>0</td>\n",
       "      <td>1</td>\n",
       "      <td>3</td>\n",
       "    </tr>\n",
       "    <tr>\n",
       "      <th>2</th>\n",
       "      <td>0</td>\n",
       "      <td>2</td>\n",
       "      <td>3</td>\n",
       "    </tr>\n",
       "    <tr>\n",
       "      <th>3</th>\n",
       "      <td>0</td>\n",
       "      <td>3</td>\n",
       "      <td>4</td>\n",
       "    </tr>\n",
       "    <tr>\n",
       "      <th>4</th>\n",
       "      <td>0</td>\n",
       "      <td>4</td>\n",
       "      <td>5</td>\n",
       "    </tr>\n",
       "    <tr>\n",
       "      <th>...</th>\n",
       "      <td>...</td>\n",
       "      <td>...</td>\n",
       "      <td>...</td>\n",
       "    </tr>\n",
       "    <tr>\n",
       "      <th>836478</th>\n",
       "      <td>6039</td>\n",
       "      <td>40</td>\n",
       "      <td>5</td>\n",
       "    </tr>\n",
       "    <tr>\n",
       "      <th>836479</th>\n",
       "      <td>6039</td>\n",
       "      <td>513</td>\n",
       "      <td>5</td>\n",
       "    </tr>\n",
       "    <tr>\n",
       "      <th>836480</th>\n",
       "      <td>6039</td>\n",
       "      <td>92</td>\n",
       "      <td>5</td>\n",
       "    </tr>\n",
       "    <tr>\n",
       "      <th>836481</th>\n",
       "      <td>6039</td>\n",
       "      <td>10</td>\n",
       "      <td>5</td>\n",
       "    </tr>\n",
       "    <tr>\n",
       "      <th>836482</th>\n",
       "      <td>6039</td>\n",
       "      <td>107</td>\n",
       "      <td>5</td>\n",
       "    </tr>\n",
       "  </tbody>\n",
       "</table>\n",
       "<p>836483 rows × 3 columns</p>\n",
       "</div>"
      ],
      "text/plain": [
       "        user_id  movie_id  count\n",
       "0             0         0      5\n",
       "1             0         1      3\n",
       "2             0         2      3\n",
       "3             0         3      4\n",
       "4             0         4      5\n",
       "...         ...       ...    ...\n",
       "836478     6039        40      5\n",
       "836479     6039       513      5\n",
       "836480     6039        92      5\n",
       "836481     6039        10      5\n",
       "836482     6039       107      5\n",
       "\n",
       "[836483 rows x 3 columns]"
      ]
     },
     "execution_count": 17,
     "metadata": {},
     "output_type": "execute_result"
    }
   ],
   "source": [
    "# indexing을 통해 데이터 컬럼 내 값을 바꾸는 코드\n",
    "\n",
    "# user_to_idx.get을 통해 user_id 컬럼의 모든 값을 인덱싱한 Series를 구해 봅시다.\n",
    "# 혹시 정상적으로 인덱싱되지 않은 row가 있다면 인덱스가 NaN이 될 테니 dropna()로 제거합니다.\n",
    "temp_user_data = ratings['user_id'].map(user_to_idx.get).dropna()\n",
    "if len(temp_user_data) == len(ratings):  # 모든 row가 정상적으로 인덱싱되었다면\n",
    "    print('user_id column indexing OK!!')\n",
    "    # ratings['user_id']을 인덱싱된 Series로 교체해 줍니다.\n",
    "    ratings['user_id'] = temp_user_data\n",
    "else:\n",
    "    print('user_id column indexing Fail!!')\n",
    "\n",
    "# movie_to_idx을 통해 movie_id 컬럼도 동일한 방식으로 인덱싱해 줍니다.\n",
    "temp_movie_data = ratings['movie_id'].map(movie_to_idx.get).dropna()\n",
    "if len(temp_movie_data) == len(ratings):\n",
    "    print('movie_id column indexing OK!!')\n",
    "    ratings['movie_id'] = temp_movie_data\n",
    "else:\n",
    "    print('movie_id column indexing Fail!!')\n",
    "\n",
    "ratings"
   ]
  },
  {
   "cell_type": "code",
   "execution_count": 18,
   "id": "based-belief",
   "metadata": {},
   "outputs": [
    {
     "data": {
      "text/plain": [
       "<6040x3628 sparse matrix of type '<class 'numpy.int64'>'\n",
       "\twith 836483 stored elements in Compressed Sparse Row format>"
      ]
     },
     "execution_count": 18,
     "metadata": {},
     "output_type": "execute_result"
    }
   ],
   "source": [
    "from scipy.sparse import csr_matrix\n",
    "\n",
    "num_user = ratings['user_id'].nunique()\n",
    "num_movie = ratings['movie_id'].nunique()\n",
    "\n",
    "csr_data = csr_matrix(\n",
    "    (ratings['count'], (ratings.user_id, ratings.movie_id)), shape=(num_user, num_movie))\n",
    "csr_data"
   ]
  },
  {
   "cell_type": "markdown",
   "id": "elder-intent",
   "metadata": {},
   "source": [
    "> `ratings['count']`를 `ratings.count`로 작성해 에러가 발생했었다.  \n",
    "> method와 중복되는 column명은 위 방식으로 사용할 수 없나보다."
   ]
  },
  {
   "cell_type": "code",
   "execution_count": 19,
   "id": "filled-framing",
   "metadata": {},
   "outputs": [
    {
     "name": "stdout",
     "output_type": "stream",
     "text": [
      "[5 3 3 ... 5 5 5]\n",
      "[  0   1   2 ...  92 107 513]\n",
      "[     0     53    169 ... 836202 836478 836483]\n"
     ]
    }
   ],
   "source": [
    "print(csr_data.data)\n",
    "print(csr_data.indices)\n",
    "print(csr_data.indptr)"
   ]
  },
  {
   "cell_type": "markdown",
   "id": "equipped-cricket",
   "metadata": {},
   "source": [
    "### 5) als_model = AlternatingLeastSquares 모델을 직접 구성하여 훈련시켜 봅시다.\n",
    "\n",
    "---"
   ]
  },
  {
   "cell_type": "code",
   "execution_count": 20,
   "id": "bearing-desire",
   "metadata": {},
   "outputs": [],
   "source": [
    "from implicit.als import AlternatingLeastSquares\n",
    "import os\n",
    "import numpy as np\n",
    "\n",
    "# implicit 라이브러리에서 권장하고 있는 부분\n",
    "os.environ['OPENBLAS_NUM_THREADS'] = '1'\n",
    "os.environ['KMP_DUPLICATE_LIB_OK'] = 'True'\n",
    "os.environ['MKL_NUM_THREADS'] = '1'"
   ]
  },
  {
   "cell_type": "code",
   "execution_count": 21,
   "id": "abstract-layer",
   "metadata": {},
   "outputs": [],
   "source": [
    "# Implicit AlternatingLeastSquares 모델의 선언\n",
    "# 뒤에 user_id와 movie_id의 내적을 통해 factor와 iterations를 조정한다.\n",
    "# factor는 1024로 결정\n",
    "als_model = AlternatingLeastSquares(\n",
    "    factors=1024, regularization=0.01, use_gpu=True, iterations=15, dtype=np.float32)"
   ]
  },
  {
   "cell_type": "markdown",
   "id": "outer-split",
   "metadata": {},
   "source": [
    "> GPU를 사용할 경우 (`use_gpu=True`) factor size가 32의 배수여야 하더라."
   ]
  },
  {
   "cell_type": "code",
   "execution_count": 22,
   "id": "efficient-unemployment",
   "metadata": {
    "scrolled": true
   },
   "outputs": [
    {
     "data": {
      "text/plain": [
       "<3628x6040 sparse matrix of type '<class 'numpy.int64'>'\n",
       "\twith 836483 stored elements in Compressed Sparse Column format>"
      ]
     },
     "execution_count": 22,
     "metadata": {},
     "output_type": "execute_result"
    }
   ],
   "source": [
    "# als 모델은 input으로 (item X user 꼴의 matrix를 받기 때문에 Transpose해줍니다.)\n",
    "csr_data_transpose = csr_data.T\n",
    "csr_data_transpose"
   ]
  },
  {
   "cell_type": "code",
   "execution_count": 23,
   "id": "little-fashion",
   "metadata": {
    "scrolled": true
   },
   "outputs": [
    {
     "data": {
      "application/vnd.jupyter.widget-view+json": {
       "model_id": "495cfe89b42f4be9981beabb5d55e2bf",
       "version_major": 2,
       "version_minor": 0
      },
      "text/plain": [
       "  0%|          | 0/15 [00:00<?, ?it/s]"
      ]
     },
     "metadata": {},
     "output_type": "display_data"
    }
   ],
   "source": [
    "# 모델 훈련\n",
    "als_model.fit(csr_data_transpose)"
   ]
  },
  {
   "cell_type": "markdown",
   "id": "intimate-pressure",
   "metadata": {},
   "source": [
    "### 6) 내가 선호하는 5가지 영화 중 하나와 그 외의 영화 하나를 골라 훈련된 모델이 예측한 나의 선호도를 파악해 보세요.\n",
    "\n",
    "---"
   ]
  },
  {
   "cell_type": "code",
   "execution_count": 24,
   "id": "handy-cornwall",
   "metadata": {
    "scrolled": true
   },
   "outputs": [
    {
     "data": {
      "text/plain": [
       "591    595\n",
       "Name: movie_id, dtype: int64"
      ]
     },
     "execution_count": 24,
     "metadata": {},
     "output_type": "execute_result"
    }
   ],
   "source": [
    "# Beauty and the Beast의 movie_id를 확인\n",
    "movies[movies['title'].str.contains('Beauty and the Beast')]['movie_id']"
   ]
  },
  {
   "cell_type": "code",
   "execution_count": 25,
   "id": "antique-champagne",
   "metadata": {
    "scrolled": true
   },
   "outputs": [],
   "source": [
    "# 추가한 user_id와 movie title로 확인\n",
    "user_6041 = user_to_idx[6041]\n",
    "beauty_and_the_beast = movie_to_idx[595]\n",
    "\n",
    "user_6041_vector, beauty_and_the_beast_vector = als_model.user_factors[\n",
    "    user_6041], als_model.item_factors[beauty_and_the_beast]"
   ]
  },
  {
   "cell_type": "code",
   "execution_count": 26,
   "id": "absolute-adams",
   "metadata": {},
   "outputs": [],
   "source": [
    "# user_6041_vector"
   ]
  },
  {
   "cell_type": "code",
   "execution_count": 27,
   "id": "parental-assistant",
   "metadata": {
    "scrolled": true
   },
   "outputs": [],
   "source": [
    "# beauty_and_the_beast_vector"
   ]
  },
  {
   "cell_type": "code",
   "execution_count": 28,
   "id": "solid-consumer",
   "metadata": {
    "scrolled": true
   },
   "outputs": [
    {
     "data": {
      "text/plain": [
       "0.9074966"
      ]
     },
     "execution_count": 28,
     "metadata": {},
     "output_type": "execute_result"
    }
   ],
   "source": [
    "# user_6041과 beauty_and_the_beast를 내적하는 코드\n",
    "np.dot(user_6041_vector, beauty_and_the_beast_vector)"
   ]
  },
  {
   "cell_type": "markdown",
   "id": "banner-watts",
   "metadata": {},
   "source": [
    "- AlternatingLeastSquares 설정값에 따른 내적값 기록\n",
    "    - factor: 32, iterations: 15 = 0.2532453\n",
    "    - factor: 64, iterations: 15 = 0.3410259\n",
    "    - factor: 96, iterations: 15 = 0.47353137\n",
    "    - factor: 128, iterations: 15 = 0.5210937\n",
    "    - factor: 160, iterations: 15 = 0.5361786\n",
    "    - factor: 192, iterations: 15 = 0.5691732\n",
    "    - factor: 224, iterations: 15 = 0.5769719\n",
    "    - factor: 256, iterations: 15 = 0.60421395\n",
    "    - factor: 288, iterations: 15 = 0.6425415\n",
    "    - factor: 320, iterations: 15 = 0.65804225\n",
    "    - factor: 352, iterations: 15 = 0.657215\n",
    "    - factor: 384, iterations: 15 = 0.7202506\n",
    "    - factor: 416, iterations: 15 = 0.7227456\n",
    "    - factor: 448, iterations: 15 = 0.72614276\n",
    "    - factor: 480, iterations: 15 = 0.7495053\n",
    "    - factor: 512, iterations: 15 = 0.76613164\n",
    "    - factor: 1024, iterations: 15 = 0.92937416\n",
    "    - factor: 2048, iterations: 15 = 0.051536147  \n",
    "\n",
    "\n",
    "> factor를 올릴수록 내적값이 계속 상승하는 듯 하였으나 1024 이후 2048 부터는 크게 떨어진 값을 보여줬다. 오버피팅?!  \n",
    "그래서 1024로 진행\n",
    "\n",
    "> iterations는 논문이나 실제 구현체를 참고하여 보면 보통 10~15회 정도로 설정한다고 한다. 기본값이 15이고, 수치를 올려도 크게 영향을 주지는 않는 것 같아 15로 계속 설정하였다.\n",
    "\n",
    "> 함수를 만들어서 간단히 실험하고 깔끔하게 결과를 출력하고 싶었지만 시간상 생략했다."
   ]
  },
  {
   "cell_type": "markdown",
   "id": "superior-screw",
   "metadata": {},
   "source": [
    "### 7) 내가 좋아하는 영화와 비슷한 영화를 추천받아 봅시다.\n",
    "\n",
    "---"
   ]
  },
  {
   "cell_type": "markdown",
   "id": "included-norfolk",
   "metadata": {},
   "source": [
    "`AlternatingLeastSquares` 클래스에 구현되어 있는 `similar_items` 메서드를 통하여 비슷한 영화를 찾는다."
   ]
  },
  {
   "cell_type": "code",
   "execution_count": 29,
   "id": "packed-highlight",
   "metadata": {},
   "outputs": [],
   "source": [
    "# title -> movie_id\n",
    "title_to_movie = {v: k for k, v in zip(movies['movie_id'], movies['title'])}\n",
    "\n",
    "# unique_movie_id -> movie_id\n",
    "idx_to_movie = {k: v for v, k in movie_to_idx.items()}"
   ]
  },
  {
   "cell_type": "code",
   "execution_count": 30,
   "id": "neither-daily",
   "metadata": {},
   "outputs": [],
   "source": [
    "# 영화 타이틀을 넘기면 비슷한 영화 5개를 출력하는 함수를 작성\n",
    "def get_similar_movies(movie_title: str) -> None:\n",
    "    favorite_movie = title_to_movie[movie_title]\n",
    "    movie_idx = movie_to_idx[favorite_movie]\n",
    "\n",
    "    # 비슷한 영화를 찾는다.\n",
    "    similar_movie = als_model.similar_items(movie_idx, N=6)\n",
    "\n",
    "    df = pd.DataFrame()\n",
    "    for i in similar_movie:\n",
    "        title = movie_to_title[idx_to_movie[i[0]]]\n",
    "        df = df.append({'title': title, 'score': i[1]}, ignore_index=True)\n",
    "\n",
    "    print(df)"
   ]
  },
  {
   "cell_type": "code",
   "execution_count": 31,
   "id": "comparative-business",
   "metadata": {},
   "outputs": [
    {
     "name": "stdout",
     "output_type": "stream",
     "text": [
      "      score                           title\n",
      "0  1.000000                Toy Story (1995)\n",
      "1  0.473168        Soft Toilet Seats (1999)\n",
      "2  0.469807  Slappy and the Stinkers (1998)\n",
      "3  0.469644  An Unforgettable Summer (1994)\n",
      "4  0.469459               Truce, The (1996)\n",
      "5  0.469250        Paris Was a Woman (1995)\n"
     ]
    }
   ],
   "source": [
    "get_similar_movies('Toy Story (1995)')"
   ]
  },
  {
   "cell_type": "code",
   "execution_count": 32,
   "id": "critical-toner",
   "metadata": {
    "scrolled": false
   },
   "outputs": [
    {
     "name": "stdout",
     "output_type": "stream",
     "text": [
      "      score                                        title\n",
      "0  1.000000                               Jumanji (1995)\n",
      "1  0.534251  Five Wives, Three Secretaries and Me (1998)\n",
      "2  0.534007                             Zachariah (1971)\n",
      "3  0.532601                           Yankee Zulu (1994)\n",
      "4  0.531917                        Dangerous Game (1993)\n",
      "5  0.531158                        Chain of Fools (2000)\n"
     ]
    }
   ],
   "source": [
    "get_similar_movies('Jumanji (1995)')"
   ]
  },
  {
   "cell_type": "code",
   "execution_count": 33,
   "id": "perfect-huntington",
   "metadata": {
    "scrolled": true
   },
   "outputs": [
    {
     "name": "stdout",
     "output_type": "stream",
     "text": [
      "      score                                       title\n",
      "0  1.000000                        Jurassic Park (1993)\n",
      "1  0.443330                          Pot O' Gold (1941)\n",
      "2  0.438727                                Loser (1991)\n",
      "3  0.437676  Zero Kelvin (Kj�rlighetens kj�tere) (1995)\n",
      "4  0.437581                           Snowriders (1996)\n",
      "5  0.437551              Run of the Country, The (1995)\n"
     ]
    }
   ],
   "source": [
    "get_similar_movies('Jurassic Park (1993)')"
   ]
  },
  {
   "cell_type": "code",
   "execution_count": 34,
   "id": "mature-latter",
   "metadata": {
    "scrolled": true
   },
   "outputs": [
    {
     "name": "stdout",
     "output_type": "stream",
     "text": [
      "      score                                              title\n",
      "0  1.000000                  Terminator 2: Judgment Day (1991)\n",
      "1  0.487686                                Running Free (2000)\n",
      "2  0.487218                            Ulysses (Ulisse) (1954)\n",
      "3  0.487162                    Man from Down Under, The (1943)\n",
      "4  0.485262                              Grosse Fatigue (1994)\n",
      "5  0.485250  City of the Living Dead (Paura nella citt� dei...\n"
     ]
    }
   ],
   "source": [
    "get_similar_movies('Terminator 2: Judgment Day (1991)')"
   ]
  },
  {
   "cell_type": "code",
   "execution_count": 35,
   "id": "closing-champagne",
   "metadata": {
    "scrolled": false
   },
   "outputs": [
    {
     "name": "stdout",
     "output_type": "stream",
     "text": [
      "      score                                          title\n",
      "0  1.000000                    Beauty and the Beast (1991)\n",
      "1  0.516191                      Farmer's Wife, The (1928)\n",
      "2  0.514127                 24 7: Twenty Four Seven (1997)\n",
      "3  0.513547                   Buck and the Preacher (1972)\n",
      "4  0.513365                        War at Home, The (1996)\n",
      "5  0.512632  I, Worst of All (Yo, la peor de todas) (1990)\n"
     ]
    }
   ],
   "source": [
    "get_similar_movies('Beauty and the Beast (1991)')"
   ]
  },
  {
   "cell_type": "markdown",
   "id": "nearby-canadian",
   "metadata": {},
   "source": [
    "> 옛날 영화들에 영어라 무슨 영화가 나온건지 잘 모르겠다. ^^;"
   ]
  },
  {
   "cell_type": "markdown",
   "id": "incredible-royal",
   "metadata": {},
   "source": [
    "### 8) 내가 가장 좋아할 만한 영화들을 추천받아 봅시다.\n",
    "\n",
    "---"
   ]
  },
  {
   "cell_type": "markdown",
   "id": "detected-kazakhstan",
   "metadata": {},
   "source": [
    "`AlternatingLeastSquares` 클래스에 구현되어 있는 `recommend` 메서드를 통해 내가 좋아하는 영화와 비슷한 영화를 추천받는다."
   ]
  },
  {
   "cell_type": "code",
   "execution_count": 63,
   "id": "periodic-governor",
   "metadata": {},
   "outputs": [],
   "source": [
    "# 신규 user_id = 6041\n",
    "user = user_to_idx[6041]\n",
    "\n",
    "# recommend에서는 ( user * item ) CSR Matrix를 받는다.\n",
    "movie_recommended = als_model.recommend(\n",
    "    user, csr_data, N=20, filter_already_liked_items=True)"
   ]
  },
  {
   "cell_type": "code",
   "execution_count": 66,
   "id": "instructional-tooth",
   "metadata": {},
   "outputs": [
    {
     "data": {
      "text/html": [
       "<div>\n",
       "<style scoped>\n",
       "    .dataframe tbody tr th:only-of-type {\n",
       "        vertical-align: middle;\n",
       "    }\n",
       "\n",
       "    .dataframe tbody tr th {\n",
       "        vertical-align: top;\n",
       "    }\n",
       "\n",
       "    .dataframe thead th {\n",
       "        text-align: right;\n",
       "    }\n",
       "</style>\n",
       "<table border=\"1\" class=\"dataframe\">\n",
       "  <thead>\n",
       "    <tr style=\"text-align: right;\">\n",
       "      <th></th>\n",
       "      <th>movie_id</th>\n",
       "      <th>score</th>\n",
       "      <th>title</th>\n",
       "    </tr>\n",
       "  </thead>\n",
       "  <tbody>\n",
       "    <tr>\n",
       "      <th>0</th>\n",
       "      <td>330</td>\n",
       "      <td>0.163997</td>\n",
       "      <td>Tales from the Hood (1995)</td>\n",
       "    </tr>\n",
       "    <tr>\n",
       "      <th>1</th>\n",
       "      <td>1130</td>\n",
       "      <td>0.100894</td>\n",
       "      <td>Howling, The (1980)</td>\n",
       "    </tr>\n",
       "    <tr>\n",
       "      <th>2</th>\n",
       "      <td>935</td>\n",
       "      <td>0.088055</td>\n",
       "      <td>Band Wagon, The (1953)</td>\n",
       "    </tr>\n",
       "    <tr>\n",
       "      <th>3</th>\n",
       "      <td>596</td>\n",
       "      <td>0.078028</td>\n",
       "      <td>Pinocchio (1940)</td>\n",
       "    </tr>\n",
       "    <tr>\n",
       "      <th>4</th>\n",
       "      <td>33</td>\n",
       "      <td>0.075138</td>\n",
       "      <td>Wings of Courage (1995)</td>\n",
       "    </tr>\n",
       "    <tr>\n",
       "      <th>5</th>\n",
       "      <td>200</td>\n",
       "      <td>0.070788</td>\n",
       "      <td>Tie That Binds, The (1995)</td>\n",
       "    </tr>\n",
       "    <tr>\n",
       "      <th>6</th>\n",
       "      <td>1137</td>\n",
       "      <td>0.068031</td>\n",
       "      <td>Hustler White (1996)</td>\n",
       "    </tr>\n",
       "    <tr>\n",
       "      <th>7</th>\n",
       "      <td>837</td>\n",
       "      <td>0.068021</td>\n",
       "      <td>Matilda (1996)</td>\n",
       "    </tr>\n",
       "    <tr>\n",
       "      <th>8</th>\n",
       "      <td>173</td>\n",
       "      <td>0.065705</td>\n",
       "      <td>Judge Dredd (1995)</td>\n",
       "    </tr>\n",
       "    <tr>\n",
       "      <th>9</th>\n",
       "      <td>517</td>\n",
       "      <td>0.065026</td>\n",
       "      <td>Rising Sun (1993)</td>\n",
       "    </tr>\n",
       "    <tr>\n",
       "      <th>10</th>\n",
       "      <td>1548</td>\n",
       "      <td>0.064787</td>\n",
       "      <td>War at Home, The (1996)</td>\n",
       "    </tr>\n",
       "    <tr>\n",
       "      <th>11</th>\n",
       "      <td>1355</td>\n",
       "      <td>0.062776</td>\n",
       "      <td>Nightwatch (1997)</td>\n",
       "    </tr>\n",
       "    <tr>\n",
       "      <th>12</th>\n",
       "      <td>1671</td>\n",
       "      <td>0.061637</td>\n",
       "      <td>Deceiver (1997)</td>\n",
       "    </tr>\n",
       "    <tr>\n",
       "      <th>13</th>\n",
       "      <td>1869</td>\n",
       "      <td>0.061347</td>\n",
       "      <td>Black Dog (1998)</td>\n",
       "    </tr>\n",
       "    <tr>\n",
       "      <th>14</th>\n",
       "      <td>1409</td>\n",
       "      <td>0.057582</td>\n",
       "      <td>Michael (1996)</td>\n",
       "    </tr>\n",
       "    <tr>\n",
       "      <th>15</th>\n",
       "      <td>124</td>\n",
       "      <td>0.055787</td>\n",
       "      <td>Star Maker, The (Uomo delle stelle, L') (1995)</td>\n",
       "    </tr>\n",
       "    <tr>\n",
       "      <th>16</th>\n",
       "      <td>1391</td>\n",
       "      <td>0.055667</td>\n",
       "      <td>Mars Attacks! (1996)</td>\n",
       "    </tr>\n",
       "    <tr>\n",
       "      <th>17</th>\n",
       "      <td>2541</td>\n",
       "      <td>0.055066</td>\n",
       "      <td>Cruel Intentions (1999)</td>\n",
       "    </tr>\n",
       "    <tr>\n",
       "      <th>18</th>\n",
       "      <td>1518</td>\n",
       "      <td>0.054799</td>\n",
       "      <td>Breakdown (1997)</td>\n",
       "    </tr>\n",
       "    <tr>\n",
       "      <th>19</th>\n",
       "      <td>1</td>\n",
       "      <td>0.054474</td>\n",
       "      <td>Toy Story (1995)</td>\n",
       "    </tr>\n",
       "  </tbody>\n",
       "</table>\n",
       "</div>"
      ],
      "text/plain": [
       "    movie_id     score                                           title\n",
       "0        330  0.163997                      Tales from the Hood (1995)\n",
       "1       1130  0.100894                             Howling, The (1980)\n",
       "2        935  0.088055                          Band Wagon, The (1953)\n",
       "3        596  0.078028                                Pinocchio (1940)\n",
       "4         33  0.075138                         Wings of Courage (1995)\n",
       "5        200  0.070788                      Tie That Binds, The (1995)\n",
       "6       1137  0.068031                            Hustler White (1996)\n",
       "7        837  0.068021                                  Matilda (1996)\n",
       "8        173  0.065705                              Judge Dredd (1995)\n",
       "9        517  0.065026                               Rising Sun (1993)\n",
       "10      1548  0.064787                         War at Home, The (1996)\n",
       "11      1355  0.062776                               Nightwatch (1997)\n",
       "12      1671  0.061637                                 Deceiver (1997)\n",
       "13      1869  0.061347                                Black Dog (1998)\n",
       "14      1409  0.057582                                  Michael (1996)\n",
       "15       124  0.055787  Star Maker, The (Uomo delle stelle, L') (1995)\n",
       "16      1391  0.055667                            Mars Attacks! (1996)\n",
       "17      2541  0.055066                         Cruel Intentions (1999)\n",
       "18      1518  0.054799                                Breakdown (1997)\n",
       "19         1  0.054474                                Toy Story (1995)"
      ]
     },
     "execution_count": 66,
     "metadata": {},
     "output_type": "execute_result"
    }
   ],
   "source": [
    "df_recommend = pd.DataFrame(movie_recommended, columns=['movie_id', 'score'])\n",
    "# dataframe에 title을 추가한다.\n",
    "for idx in df_recommend.index:\n",
    "    df_recommend.loc[idx, 'title'] \\\n",
    "        = movie_to_title[df_recommend.loc[idx, 'movie_id']]\n",
    "\n",
    "df_recommend"
   ]
  },
  {
   "cell_type": "markdown",
   "id": "normal-fence",
   "metadata": {},
   "source": [
    "### 루브릭\n",
    "\n",
    "아래의 기준을 바탕으로 프로젝트를 평가합니다.\n",
    "\n",
    "|평가문항|상세기준|\n",
    "|:---|:---|\n",
    "|1. CSR matrix가 정상적으로 만들어졌다.|사용자와 아이템 개수를 바탕으로 정확한 사이즈로 만들었다.|\n",
    "|2. MF 모델이 정상적으로 훈련되어 그럴듯한 추천이 이루어졌다.|사용자와 아이템 벡터 내적수치가 의미있게 형성되었다.|\n",
    "|3. 비슷한 영화 찾기와 유저에게 추천하기의 과정이 정상적으로 진행되었다.|MF모델이 예측한 유저 선호도 및 아이템간 유사도, 기여도가 의미있게 측정되었다.|"
   ]
  },
  {
   "cell_type": "markdown",
   "id": "adequate-carry",
   "metadata": {},
   "source": [
    "# 후기\n",
    "\n",
    "---\n",
    "\n",
    "- CSR matrix\n",
    "    - `CSR matrix`를 만들 때, `data`에 `ratings.count`를 썼다가 디버깅에 애를 먹었는데 진표 님 덕분에 잘 찾아서 해결할 수 있었다. \n",
    "    - 해결은 `ratings['count']`로!\n",
    "\n",
    "\n",
    "- MF 모델\n",
    "    - 사용자와 선호영화의 내적을 통해 모델훈련을 체크하는데, 내적 값에 따라 다른 영화들과의 점수가 어떻게 변하는지 측정하고 싶었으나 시간관계상 실행하지 못해 아쉽다.\n",
    "    - 내가 선호했던 영화와의 내적값이 1에 가까워질수록 다른 영화들과의 내적값이 같이 상승하는지, 아니면 상대적으로 더 멀어질지 궁금하다. 일단 예상은 멀어지지 않을까 생각해본다.\n",
    "\n",
    "\n",
    "- 영화추천\n",
    "    - 무슨 영화인지 몰라 추천받은 영화가 나에게 잘 맞는 영화인지 확인하기 어렵다.\n",
    "    - 검색해봤는데 무슨 영화인지 모르겠다. ^^;\n",
    "    - 다만, 점수로 봤을 때 영화와 유사한 추천영화는 점수가 제법 나오는데, 나에게 추천된 영화는 점수가 제법 낮아보여 얼마나 유의미하게 적용된건지 확인하기 어렵다.\n",
    "    \n",
    "\n",
    "- 새 사용자를 추가하는 부분에서 아무 생각없이 새 영화도 5개를 추가했었다. 당연하겠지만 아무 연관성도 찾을 수 없는 영화 5개를 가지고 돌리니 점수가 너무 낮게 나왔다. 다행히 원인을 찾아 추가했던 영화를 빼고 원래 있던 영화로 작성하니 상대적으로 더 의미있는 작업을 할 수 있었다.\n",
    "\n",
    "\n",
    "- 추천시스템은 상당히 고민과 실험이 많이 필요한 분야인 것 같다. 결과를 놓고 얼마나 유의미한지 검증하는 과정이 쉽지 않아 보인다. 그만큼 재미를 느낄 수도 있을 것 같기도."
   ]
  }
 ],
 "metadata": {
  "kernelspec": {
   "display_name": "aiffel",
   "language": "python",
   "name": "aiffel"
  },
  "language_info": {
   "codemirror_mode": {
    "name": "ipython",
    "version": 3
   },
   "file_extension": ".py",
   "mimetype": "text/x-python",
   "name": "python",
   "nbconvert_exporter": "python",
   "pygments_lexer": "ipython3",
   "version": "3.7.9"
  },
  "toc": {
   "base_numbering": 1,
   "nav_menu": {},
   "number_sections": false,
   "sideBar": true,
   "skip_h1_title": false,
   "title_cell": "Table of Contents",
   "title_sidebar": "Contents",
   "toc_cell": false,
   "toc_position": {},
   "toc_section_display": true,
   "toc_window_display": false
  }
 },
 "nbformat": 4,
 "nbformat_minor": 5
}
