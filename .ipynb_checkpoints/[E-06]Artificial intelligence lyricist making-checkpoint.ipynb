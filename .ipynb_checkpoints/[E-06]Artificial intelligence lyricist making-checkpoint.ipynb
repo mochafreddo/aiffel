{
 "cells": [
  {
   "cell_type": "markdown",
   "id": "abstract-virgin",
   "metadata": {},
   "source": [
    "# 6-7. 프로젝트: 멋진 작사가 만들기"
   ]
  },
  {
   "cell_type": "markdown",
   "id": "modified-preview",
   "metadata": {},
   "source": [
    "### Step 1. 데이터 다운로드\n",
    "\n",
    "---\n",
    "\n",
    "먼저 아래 링크에서 **Song Lyrics** 데이터를 다운로드해 주세요! 저장된 파일을 **압축 해제**한 후, 모든 `txt` 파일을 `lyrics` 폴더를 만들어 그 속에 저장해주세요!\n",
    "\n",
    "- [Song Lyrics](https://www.kaggle.com/paultimothymooney/poetry/data)\n",
    "\n",
    "아래의 명령어를 실행하셔도 됩니다.\n",
    "\n",
    "```\n",
    "$ wget https://aiffelstaticprd.blob.core.windows.net/media/documents/song_lyrics.zip\n",
    "$ unzip song_lyrics.zip -d ~/aiffel/lyricist/data/lyrics  #lyrics 폴더에 압축풀기\n",
    "```"
   ]
  },
  {
   "cell_type": "markdown",
   "id": "later-armenia",
   "metadata": {},
   "source": [
    "### Step 2. 데이터 읽어오기\n",
    "\n",
    "---\n",
    "\n",
    "`glob` 모듈을 사용하면 파일을 읽어오는 작업을 하기가 아주 용이해요. `glob` 를 활용하여 모든 `txt` 파일을 읽어온 후, `raw_corpus` 리스트에 문장 단위로 저장하도록 할게요!"
   ]
  },
  {
   "cell_type": "code",
   "execution_count": 1,
   "id": "strategic-radical",
   "metadata": {},
   "outputs": [],
   "source": [
    "import glob\n",
    "import os\n",
    "import re  # 정규표현식을 위한 Regex 지원 모듈 (문장 데이터를 정돈하기 위해)\n",
    "import numpy as np  # 변환된 문장 데이터(행렬)을 편하게 처리하기 위해\n",
    "import tensorflow as tf  # 대망의 텐서플로우!\n",
    "from sklearn.model_selection import train_test_split\n",
    "from tensorflow.keras.preprocessing.text import text_to_word_sequence"
   ]
  },
  {
   "cell_type": "code",
   "execution_count": 2,
   "id": "considerable-birthday",
   "metadata": {},
   "outputs": [
    {
     "name": "stdout",
     "output_type": "stream",
     "text": [
      "데이터 크기: 187088\n",
      "Examples:\n",
      " [\"I'mma start it from the bottom\", \"I'll show you how to flip a dollar\", 'I got food in my dining room']\n"
     ]
    }
   ],
   "source": [
    "txt_file_path = os.getenv('HOME')+'/lyricist/data/lyrics/*'\n",
    "\n",
    "txt_list = glob.glob(txt_file_path)\n",
    "\n",
    "raw_corpus = []\n",
    "\n",
    "# 여러개의 txt 파일을 모두 읽어서 raw_corpus 에 담습니다.\n",
    "for txt_file in txt_list:\n",
    "    with open(txt_file, \"r\") as f:\n",
    "        raw = f.read().splitlines()\n",
    "        raw_corpus.extend(raw)\n",
    "\n",
    "print(\"데이터 크기:\", len(raw_corpus))\n",
    "print(\"Examples:\\n\", raw_corpus[:3])"
   ]
  },
  {
   "cell_type": "markdown",
   "id": "comprehensive-lindsay",
   "metadata": {},
   "source": [
    "### Step 3. 데이터 정제\n",
    "\n",
    "---\n",
    "\n",
    "**앞서 배운 테크닉들을 활용해 문장 생성에 적합한 모양새로 데이터를 정제하세요!**\n",
    "\n",
    "`preprocess_sentence()` 함수를 만든 것을 기억하시죠? 이를 활용해 데이터를 정제하도록 하겠습니다.\n",
    "\n",
    "추가로 지나치게 긴 문장은 다른 데이터들이 과도한 Padding을 갖게 하므로 제거합니다. 너무 긴 문장은 노래가사 작사하기에 어울리지 않을수도 있겠죠.  \n",
    "그래서 이번에는 문장을 **토큰화 했을 때 토큰의 개수가 15개를 넘어가는 문장을 학습데이터에서 제외하기**를 권합니다."
   ]
  },
  {
   "cell_type": "code",
   "execution_count": 3,
   "id": "proprietary-democracy",
   "metadata": {},
   "outputs": [],
   "source": [
    "def preprocess_sentence(sentence):\n",
    "    sentence = sentence.lower().strip()  # 소문자로 바꾸고 양쪽 공백을 삭제\n",
    "\n",
    "    # 아래 3단계를 거쳐 sentence는 스페이스 1개를 delimeter로 하는 소문자 단어 시퀀스로 바뀝니다.\n",
    "    # 패턴의 특수문자를 만나면 특수문자 양쪽에 공백을 추가\n",
    "    sentence = re.sub(r\"([?.!,¿])\", r\" \\1 \", sentence)\n",
    "    # 공백 패턴을 만나면 스페이스 1개로 치환\n",
    "    sentence = re.sub(r'[\" \"]+', \" \", sentence)\n",
    "    # a-zA-Z?.!,¿ 패턴을 제외한 모든 문자(공백문자까지도)를 스페이스 1개로 치환\n",
    "    sentence = re.sub(r\"[^a-zA-Z?.!,¿]+\", \" \", sentence)\n",
    "\n",
    "    sentence = sentence.strip()\n",
    "\n",
    "    # 이전 스텝에서 본 것처럼 문장 앞뒤로 <start>와 <end>를 단어처럼 붙여 줍니다\n",
    "    sentence = '<start> ' + sentence + ' <end>'\n",
    "\n",
    "    return sentence"
   ]
  },
  {
   "cell_type": "code",
   "execution_count": 4,
   "id": "korean-combination",
   "metadata": {},
   "outputs": [],
   "source": [
    "corpus = []\n",
    "\n",
    "for sentence in raw_corpus:\n",
    "    if len(sentence) == 0:\n",
    "        continue  # 길이가 0인 문장은 건너뜁니다.\n",
    "\n",
    "    # 문장을 토큰화했을 때 토큰의 갯수가 15개를 넘어가는 문장을 학습데이터에서 제외\n",
    "    elif len(text_to_word_sequence(sentence)) >= 15:\n",
    "        continue\n",
    "\n",
    "    corpus.append(preprocess_sentence(sentence))"
   ]
  },
  {
   "cell_type": "code",
   "execution_count": 5,
   "id": "international-karma",
   "metadata": {
    "scrolled": true
   },
   "outputs": [
    {
     "data": {
      "text/plain": [
       "166098"
      ]
     },
     "execution_count": 5,
     "metadata": {},
     "output_type": "execute_result"
    }
   ],
   "source": [
    "len(corpus)"
   ]
  },
  {
   "cell_type": "code",
   "execution_count": 6,
   "id": "israeli-confusion",
   "metadata": {},
   "outputs": [
    {
     "data": {
      "text/plain": [
       "['<start> i mma start it from the bottom <end>',\n",
       " '<start> i ll show you how to flip a dollar <end>',\n",
       " '<start> i got food in my dining room <end>',\n",
       " '<start> i m better , i m better , i m better <end>',\n",
       " '<start> it s another day , another chance <end>',\n",
       " '<start> i wake up , i wanna dance <end>',\n",
       " '<start> so as long as i got my friends <end>',\n",
       " '<start> i m better , i m better , i m better he say i m hot , i m so fuego <end>',\n",
       " '<start> pull up on him in my vehicle <end>',\n",
       " '<start> he say i m pretty , i m pretty <end>']"
      ]
     },
     "execution_count": 6,
     "metadata": {},
     "output_type": "execute_result"
    }
   ],
   "source": [
    "corpus[:10]"
   ]
  },
  {
   "cell_type": "markdown",
   "id": "binding-filter",
   "metadata": {},
   "source": [
    "### Step 4. 평가 데이터셋 분리\n",
    "\n",
    "---\n",
    "\n",
    "**훈련 데이터와 평가 데이터를 분리하세요!**\n",
    "\n",
    "`tokenize()` 함수로 데이터를 Tensor로 변환한 후, `sklearn` 모듈의 `train_test_split()` 함수를 사용해 훈련 데이터와 평가 데이터를 분리하도록 하겠습니다. **단어장의 크기는 12,000 이상**으로 설정하세요! **총 데이터의 20%** 를 평가 데이터셋으로 사용해 주세요!\n",
    "\n",
    "```\n",
    "enc_train, enc_val, dec_train, dec_val = <코드 작성>\n",
    "```\n",
    "\n",
    "여기까지 올바르게 진행했을 경우, 아래 실행 결과를 확인할 수 있습니다.\n",
    "\n",
    "```\n",
    "print(\"Source Train:\", enc_train.shape)\n",
    "print(\"Target Train:\", dec_train.shape)\n",
    "```\n",
    "\n",
    "```\n",
    "out:\n",
    "\n",
    "Source Train: (124960, 14)\n",
    "Target Train: (124960, 14)\n",
    "```\n",
    "\n",
    "만약 결과가 다르다면 천천히 과정을 다시 살펴 동일한 결과를 얻도록 하세요! 만약 학습데이터 갯수가 124960보다 크다면 위 Step 3.의 데이터 정제 과정을 다시한번 검토해 보시기를 권합니다."
   ]
  },
  {
   "cell_type": "code",
   "execution_count": 7,
   "id": "comparable-baseline",
   "metadata": {
    "scrolled": true
   },
   "outputs": [
    {
     "name": "stdout",
     "output_type": "stream",
     "text": [
      "[[  2   5 527 ...   0   0   0]\n",
      " [  2   5  61 ...   0   0   0]\n",
      " [  2   5  40 ...   0   0   0]\n",
      " ...\n",
      " [  2   5  61 ...   0   0   0]\n",
      " [  2 112 654 ...   0   0   0]\n",
      " [  2   8  50 ...   0   0   0]] <keras_preprocessing.text.Tokenizer object at 0x7f105266a4d0>\n"
     ]
    }
   ],
   "source": [
    "def tokenize(corpus):\n",
    "    # 텐서플로우에서 제공하는 Tokenizer 패키지를 생성\n",
    "    tokenizer = tf.keras.preprocessing.text.Tokenizer(\n",
    "        num_words=12000,  # 전체 단어의 개수\n",
    "        filters=' ',  # 별도로 전처리 로직을 추가할 수 있습니다. 이번에는 사용하지 않겠습니다.\n",
    "        oov_token=\"<unk>\"  # out-of-vocabulary, 사전에 없었던 단어는 어떤 토큰으로 대체할지\n",
    "    )\n",
    "    # 우리가 구축한 corpus로부터 Tokenizer가 사전을 자동구축하게 됩니다.\n",
    "    tokenizer.fit_on_texts(corpus)\n",
    "\n",
    "    # 이후 tokenizer를 활용하여 모델에 입력할 데이터셋을 구축하게 됩니다.\n",
    "    # tokenizer는 구축한 사전으로부터 corpus를 해석해 Tensor로 변환합니다.\n",
    "    tensor = tokenizer.texts_to_sequences(corpus)\n",
    "\n",
    "    # 입력 데이터의 시퀀스 길이를 일정하게 맞추기 위한 padding 메소드를 제공합니다.\n",
    "    # maxlen의 디폴트값은 None입니다. 이 경우 corpus의 가장 긴 문장을 기준으로 시퀀스 길이가 맞춰집니다.\n",
    "    tensor = tf.keras.preprocessing.sequence.pad_sequences(\n",
    "        tensor, padding='post')\n",
    "\n",
    "    print(tensor, tokenizer)\n",
    "    return tensor, tokenizer\n",
    "\n",
    "\n",
    "tensor, tokenizer = tokenize(corpus)"
   ]
  },
  {
   "cell_type": "code",
   "execution_count": 8,
   "id": "civic-convention",
   "metadata": {
    "scrolled": false
   },
   "outputs": [
    {
     "name": "stdout",
     "output_type": "stream",
     "text": [
      "1 : <unk>\n",
      "2 : <start>\n",
      "3 : <end>\n",
      "4 : ,\n",
      "5 : i\n",
      "6 : the\n",
      "7 : you\n",
      "8 : and\n",
      "9 : a\n",
      "10 : to\n"
     ]
    }
   ],
   "source": [
    "for idx in tokenizer.index_word:\n",
    "    print(idx, \":\", tokenizer.index_word[idx])\n",
    "\n",
    "    if idx >= 10:\n",
    "        break"
   ]
  },
  {
   "cell_type": "code",
   "execution_count": 9,
   "id": "quantitative-flour",
   "metadata": {},
   "outputs": [],
   "source": [
    "# tensor에서 마지막 토큰을 잘라내서 소스 문장을 생성합니다. 마지막 토큰은 <end>가 아니라 <pad>일 가능성이 높습니다.\n",
    "src_input = tensor[:, :-1]\n",
    "# tensor에서 <start>를 잘라내서 타겟 문장을 생성합니다.\n",
    "tgt_input = tensor[:, 1:]"
   ]
  },
  {
   "cell_type": "code",
   "execution_count": 10,
   "id": "satellite-offense",
   "metadata": {},
   "outputs": [],
   "source": [
    "enc_train, enc_val, dec_train, dec_val = train_test_split(\n",
    "    src_input, tgt_input, test_size=0.2, random_state=42)"
   ]
  },
  {
   "cell_type": "code",
   "execution_count": 11,
   "id": "charming-search",
   "metadata": {
    "scrolled": false
   },
   "outputs": [
    {
     "name": "stdout",
     "output_type": "stream",
     "text": [
      "Source Train: (132878, 32)\n",
      "Target Train: (132878, 32)\n",
      "Source val: (33220, 32)\n",
      "Target val: (33220, 32)\n"
     ]
    }
   ],
   "source": [
    "print(\"Source Train:\", enc_train.shape)\n",
    "print(\"Target Train:\", dec_train.shape)\n",
    "print(\"Source val:\", enc_val.shape)\n",
    "print(\"Target val:\", dec_val.shape)"
   ]
  },
  {
   "cell_type": "code",
   "execution_count": 12,
   "id": "regular-locking",
   "metadata": {},
   "outputs": [
    {
     "data": {
      "text/plain": [
       "<BatchDataset shapes: ((256, 32), (256, 32)), types: (tf.int32, tf.int32)>"
      ]
     },
     "execution_count": 12,
     "metadata": {},
     "output_type": "execute_result"
    }
   ],
   "source": [
    "# train data의 dataset 구성\n",
    "\n",
    "BUFFER_SIZE = len(enc_train)\n",
    "BATCH_SIZE = 256\n",
    "steps_per_epoch = len(enc_train) // BATCH_SIZE\n",
    "\n",
    "# tokenizer가 구축한 단어사전 내 7000개와, 여기 포함되지 않은 0:<pad>를 포함하여 7001개\n",
    "VOCAB_SIZE = tokenizer.num_words + 1\n",
    "\n",
    "dataset_train = tf.data.Dataset.from_tensor_slices(\n",
    "    (enc_train, dec_train)).shuffle(BUFFER_SIZE)\n",
    "dataset_train = dataset_train.batch(BATCH_SIZE, drop_remainder=True)\n",
    "dataset_train"
   ]
  },
  {
   "cell_type": "code",
   "execution_count": 13,
   "id": "received-vocabulary",
   "metadata": {},
   "outputs": [
    {
     "data": {
      "text/plain": [
       "<BatchDataset shapes: ((256, 32), (256, 32)), types: (tf.int32, tf.int32)>"
      ]
     },
     "execution_count": 13,
     "metadata": {},
     "output_type": "execute_result"
    }
   ],
   "source": [
    "# validation data의 dataset 구성\n",
    "\n",
    "dataset_val = tf.data.Dataset.from_tensor_slices(\n",
    "    (enc_val, dec_val)).shuffle(len(enc_val))\n",
    "dataset_val = dataset_val.batch(BATCH_SIZE, drop_remainder=True)\n",
    "dataset_val"
   ]
  },
  {
   "cell_type": "markdown",
   "id": "printable-drill",
   "metadata": {},
   "source": [
    "### Step 5. 인공지능 만들기\n",
    "\n",
    "---\n",
    "\n",
    "모델의 Embedding Size와 Hidden Size를 조절하며 10 Epoch 안에 `val_loss` 값을 2.2 수준으로 줄일 수 있는 모델을 설계하세요! (Loss는 아래 제시된 Loss 함수를 그대로 사용!)\n",
    "\n",
    "그리고 멋진 모델이 생성한 가사 한 줄을 제출하시길 바랍니다!\n",
    "\n",
    "```\n",
    "#Loss\n",
    "\n",
    "loss = tf.keras.losses.SparseCategoricalCrossentropy(\n",
    "    from_logits=True, reduction='none')\n",
    "```\n",
    "\n",
    "데이터가 커서 훈련하는 데 시간이 제법 걸릴 겁니다. 여유를 가지고 작업하시면 좋아요 :)\n",
    "\n",
    "```\n",
    "generate_text(lyricist, tokenizer, init_sentence=\"<start> i love\", max_len=20)\n",
    "```"
   ]
  },
  {
   "cell_type": "code",
   "execution_count": 14,
   "id": "greatest-pillow",
   "metadata": {},
   "outputs": [],
   "source": [
    "class TextGenerator(tf.keras.Model):\n",
    "    def __init__(self, vocab_size, embedding_size, hidden_size):\n",
    "        super(TextGenerator, self).__init__()\n",
    "\n",
    "        self.embedding = tf.keras.layers.Embedding(vocab_size, embedding_size)\n",
    "        self.rnn_1 = tf.keras.layers.LSTM(hidden_size, return_sequences=True)\n",
    "        self.rnn_2 = tf.keras.layers.LSTM(hidden_size, return_sequences=True)\n",
    "        self.linear = tf.keras.layers.Dense(vocab_size)\n",
    "\n",
    "    def call(self, x):\n",
    "        out = self.embedding(x)\n",
    "        out = self.rnn_1(out)\n",
    "        out = self.rnn_2(out)\n",
    "        out = self.linear(out)\n",
    "\n",
    "        return out\n",
    "\n",
    "\n",
    "embedding_size = 256\n",
    "hidden_size = 1024\n",
    "model = TextGenerator(tokenizer.num_words + 1, embedding_size, hidden_size)"
   ]
  },
  {
   "cell_type": "code",
   "execution_count": 15,
   "id": "cosmetic-guide",
   "metadata": {},
   "outputs": [
    {
     "data": {
      "text/plain": [
       "<tf.Tensor: shape=(256, 32, 12001), dtype=float32, numpy=\n",
       "array([[[ 6.63508763e-05, -1.52854831e-04, -2.58919841e-04, ...,\n",
       "          3.40278290e-04, -1.12680864e-04, -1.74796151e-06],\n",
       "        [ 9.66413063e-05, -4.46117658e-04, -2.44455150e-04, ...,\n",
       "          5.94076060e-04, -2.03549498e-04,  1.74588247e-04],\n",
       "        [ 9.95145892e-05, -6.24081178e-04, -3.45498673e-04, ...,\n",
       "          8.16683751e-04, -2.89644395e-05,  1.51480999e-04],\n",
       "        ...,\n",
       "        [ 3.39795533e-03, -3.66014079e-03, -7.96074513e-04, ...,\n",
       "         -1.23832654e-03, -1.63283257e-03,  1.71662541e-03],\n",
       "        [ 3.37327947e-03, -3.71946907e-03, -8.14292871e-04, ...,\n",
       "         -1.24039664e-03, -1.63142371e-03,  1.76012889e-03],\n",
       "        [ 3.34898615e-03, -3.76919401e-03, -8.27768527e-04, ...,\n",
       "         -1.23979175e-03, -1.62838970e-03,  1.79660670e-03]],\n",
       "\n",
       "       [[ 6.63508763e-05, -1.52854831e-04, -2.58919841e-04, ...,\n",
       "          3.40278290e-04, -1.12680864e-04, -1.74796151e-06],\n",
       "        [ 1.48001855e-04, -1.64073310e-04, -2.26570468e-04, ...,\n",
       "          3.34164419e-04,  1.19351789e-04, -1.26830555e-05],\n",
       "        [ 2.67675932e-04, -1.24393788e-04, -3.68645939e-04, ...,\n",
       "          2.84825655e-04,  4.70375846e-04,  3.06523463e-04],\n",
       "        ...,\n",
       "        [ 3.31953145e-03, -3.73176252e-03, -8.50955781e-04, ...,\n",
       "         -1.19997212e-03, -1.50842906e-03,  1.70987425e-03],\n",
       "        [ 3.30720982e-03, -3.77555774e-03, -8.64372065e-04, ...,\n",
       "         -1.20702200e-03, -1.52112730e-03,  1.75710663e-03],\n",
       "        [ 3.29342810e-03, -3.81218363e-03, -8.73313926e-04, ...,\n",
       "         -1.21107278e-03, -1.53088593e-03,  1.79673766e-03]],\n",
       "\n",
       "       [[ 6.63508763e-05, -1.52854831e-04, -2.58919841e-04, ...,\n",
       "          3.40278290e-04, -1.12680864e-04, -1.74796151e-06],\n",
       "        [ 1.48001855e-04, -1.64073310e-04, -2.26570468e-04, ...,\n",
       "          3.34164419e-04,  1.19351789e-04, -1.26830555e-05],\n",
       "        [ 3.06459289e-04, -1.97167756e-04, -1.11447684e-04, ...,\n",
       "          1.38965042e-04,  3.93678813e-04,  3.10416908e-05],\n",
       "        ...,\n",
       "        [ 3.40475631e-03, -3.49473325e-03, -6.50923583e-04, ...,\n",
       "         -1.03456946e-03, -1.57456449e-03,  1.48407323e-03],\n",
       "        [ 3.39641585e-03, -3.57113732e-03, -6.98840769e-04, ...,\n",
       "         -1.06758531e-03, -1.58315187e-03,  1.56419119e-03],\n",
       "        [ 3.38241016e-03, -3.63725401e-03, -7.38252711e-04, ...,\n",
       "         -1.09458750e-03, -1.58895866e-03,  1.63315877e-03]],\n",
       "\n",
       "       ...,\n",
       "\n",
       "       [[ 6.63508763e-05, -1.52854831e-04, -2.58919841e-04, ...,\n",
       "          3.40278290e-04, -1.12680864e-04, -1.74796151e-06],\n",
       "        [-4.57903334e-05, -4.89914615e-04,  1.38140051e-04, ...,\n",
       "         -3.53287287e-05, -1.92106454e-04, -9.37398800e-05],\n",
       "        [-3.75806558e-04, -4.93362721e-04,  2.32482722e-04, ...,\n",
       "         -2.27361670e-04, -1.41078766e-04, -4.12995250e-05],\n",
       "        ...,\n",
       "        [ 3.32048186e-03, -3.52752465e-03, -7.02944119e-04, ...,\n",
       "         -1.04203087e-03, -1.58394768e-03,  1.55363570e-03],\n",
       "        [ 3.31343710e-03, -3.60291358e-03, -7.39304523e-04, ...,\n",
       "         -1.06524234e-03, -1.59323309e-03,  1.62506092e-03],\n",
       "        [ 3.30306287e-03, -3.66718066e-03, -7.69120816e-04, ...,\n",
       "         -1.08478253e-03, -1.59866258e-03,  1.68545800e-03]],\n",
       "\n",
       "       [[ 6.63508763e-05, -1.52854831e-04, -2.58919841e-04, ...,\n",
       "          3.40278290e-04, -1.12680864e-04, -1.74796151e-06],\n",
       "        [ 1.67004328e-04, -7.48760358e-05, -1.71446911e-04, ...,\n",
       "          5.16944623e-04,  2.59332610e-05, -9.38946760e-05],\n",
       "        [ 1.79695344e-04, -1.81425887e-04, -2.35218540e-04, ...,\n",
       "          5.72745106e-04, -4.87372636e-05, -2.63162219e-04],\n",
       "        ...,\n",
       "        [ 3.06998240e-03, -2.58951122e-03, -2.78559717e-04, ...,\n",
       "         -1.34047109e-03, -1.25484006e-03,  5.33319428e-04],\n",
       "        [ 3.17496131e-03, -2.79002287e-03, -3.53738113e-04, ...,\n",
       "         -1.35716086e-03, -1.31411350e-03,  7.26422761e-04],\n",
       "        [ 3.25111928e-03, -2.96864659e-03, -4.28416912e-04, ...,\n",
       "         -1.36666733e-03, -1.36657932e-03,  9.02407686e-04]],\n",
       "\n",
       "       [[ 6.63508763e-05, -1.52854831e-04, -2.58919841e-04, ...,\n",
       "          3.40278290e-04, -1.12680864e-04, -1.74796151e-06],\n",
       "        [ 2.11706705e-04, -8.78332685e-06, -3.45903478e-04, ...,\n",
       "          7.12365785e-04,  1.32875124e-04,  2.99494597e-04],\n",
       "        [ 1.80120638e-04,  1.61176649e-04, -2.49733246e-04, ...,\n",
       "          9.77476244e-04,  3.23991990e-04,  4.28581785e-04],\n",
       "        ...,\n",
       "        [ 3.42103001e-03, -3.56143666e-03, -6.94723043e-04, ...,\n",
       "         -1.09696819e-03, -1.42797560e-03,  1.38255674e-03],\n",
       "        [ 3.41765163e-03, -3.63721536e-03, -7.38430943e-04, ...,\n",
       "         -1.12475501e-03, -1.46699836e-03,  1.47671881e-03],\n",
       "        [ 3.40796658e-03, -3.70195648e-03, -7.74474523e-04, ...,\n",
       "         -1.14695064e-03, -1.49832503e-03,  1.55791792e-03]]],\n",
       "      dtype=float32)>"
      ]
     },
     "execution_count": 15,
     "metadata": {},
     "output_type": "execute_result"
    }
   ],
   "source": [
    "for src_sample, tgt_sample in dataset_train.take(1):\n",
    "    break\n",
    "model(src_sample)"
   ]
  },
  {
   "cell_type": "code",
   "execution_count": 16,
   "id": "binding-format",
   "metadata": {
    "scrolled": true
   },
   "outputs": [
    {
     "name": "stdout",
     "output_type": "stream",
     "text": [
      "Model: \"text_generator\"\n",
      "_________________________________________________________________\n",
      "Layer (type)                 Output Shape              Param #   \n",
      "=================================================================\n",
      "embedding (Embedding)        multiple                  3072256   \n",
      "_________________________________________________________________\n",
      "lstm (LSTM)                  multiple                  5246976   \n",
      "_________________________________________________________________\n",
      "lstm_1 (LSTM)                multiple                  8392704   \n",
      "_________________________________________________________________\n",
      "dense (Dense)                multiple                  12301025  \n",
      "=================================================================\n",
      "Total params: 29,012,961\n",
      "Trainable params: 29,012,961\n",
      "Non-trainable params: 0\n",
      "_________________________________________________________________\n"
     ]
    }
   ],
   "source": [
    "model.summary()"
   ]
  },
  {
   "cell_type": "code",
   "execution_count": 18,
   "id": "effective-gibraltar",
   "metadata": {
    "scrolled": false
   },
   "outputs": [
    {
     "name": "stdout",
     "output_type": "stream",
     "text": [
      "Epoch 1/10\n",
      "519/519 [==============================] - 162s 312ms/step - loss: 1.6756 - val_loss: 1.4501\n",
      "Epoch 2/10\n",
      "519/519 [==============================] - 162s 312ms/step - loss: 1.3980 - val_loss: 1.3732\n",
      "Epoch 3/10\n",
      "519/519 [==============================] - 160s 308ms/step - loss: 1.3246 - val_loss: 1.3190\n",
      "Epoch 4/10\n",
      "519/519 [==============================] - 164s 317ms/step - loss: 1.2664 - val_loss: 1.2781\n",
      "Epoch 5/10\n",
      "519/519 [==============================] - 170s 327ms/step - loss: 1.2171 - val_loss: 1.2494\n",
      "Epoch 6/10\n",
      "519/519 [==============================] - 173s 332ms/step - loss: 1.1730 - val_loss: 1.2240\n",
      "Epoch 7/10\n",
      "519/519 [==============================] - 171s 329ms/step - loss: 1.1323 - val_loss: 1.2025\n",
      "Epoch 8/10\n",
      "519/519 [==============================] - 173s 333ms/step - loss: 1.0942 - val_loss: 1.1852\n",
      "Epoch 9/10\n",
      "519/519 [==============================] - 172s 331ms/step - loss: 1.0586 - val_loss: 1.1712\n",
      "Epoch 10/10\n",
      "519/519 [==============================] - 172s 331ms/step - loss: 1.0249 - val_loss: 1.1585\n"
     ]
    },
    {
     "data": {
      "text/plain": [
       "<tensorflow.python.keras.callbacks.History at 0x7f10547bbb90>"
      ]
     },
     "execution_count": 18,
     "metadata": {},
     "output_type": "execute_result"
    }
   ],
   "source": [
    "optimizer = tf.keras.optimizers.Adam()\n",
    "loss = tf.keras.losses.SparseCategoricalCrossentropy(\n",
    "    from_logits=True, reduction='none')\n",
    "\n",
    "model.compile(loss=loss, optimizer=optimizer)\n",
    "model.fit(dataset_train, epochs=10, validation_data=dataset_val)"
   ]
  },
  {
   "cell_type": "code",
   "execution_count": 19,
   "id": "activated-thriller",
   "metadata": {},
   "outputs": [],
   "source": [
    "def generate_text(model, tokenizer, init_sentence=\"<start>\", max_len=20):\n",
    "    # 테스트를 위해서 입력받은 init_sentence도 일단 텐서로 변환합니다.\n",
    "    test_input = tokenizer.texts_to_sequences([init_sentence])\n",
    "    test_tensor = tf.convert_to_tensor(test_input, dtype=tf.int64)\n",
    "    end_token = tokenizer.word_index[\"<end>\"]\n",
    "\n",
    "    # 텍스트를 실제로 생성할때는 루프를 돌면서 단어 하나씩 생성해야 합니다.\n",
    "    while True:\n",
    "        predict = model(test_tensor)  # 입력받은 문장의 텐서를 입력합니다.\n",
    "        # 우리 모델이 예측한 마지막 단어가 바로 새롭게 생성한 단어가 됩니다.\n",
    "        predict_word = tf.argmax(tf.nn.softmax(\n",
    "            predict, axis=-1), axis=-1)[:, -1]\n",
    "\n",
    "        # 우리 모델이 새롭게 예측한 단어를 입력 문장의 뒤에 붙여 줍니다.\n",
    "        test_tensor = tf.concat(\n",
    "            [test_tensor, tf.expand_dims(predict_word, axis=0)], axis=-1)\n",
    "\n",
    "        # 우리 모델이 <end>를 예측했거나, max_len에 도달하지 않았다면  while 루프를 또 돌면서 다음 단어를 예측해야 합니다.\n",
    "        if predict_word.numpy()[0] == end_token:\n",
    "            break\n",
    "        if test_tensor.shape[1] >= max_len:\n",
    "            break\n",
    "\n",
    "    generated = \"\"\n",
    "    # 생성된 tensor 안에 있는 word index를 tokenizer.index_word 사전을 통해 실제 단어로 하나씩 변환합니다.\n",
    "    for word_index in test_tensor[0].numpy():\n",
    "        generated += tokenizer.index_word[word_index] + \" \"\n",
    "\n",
    "    return generated  # 이것이 최종적으로 모델이 생성한 자연어 문장입니다."
   ]
  },
  {
   "cell_type": "code",
   "execution_count": 37,
   "id": "alike-break",
   "metadata": {},
   "outputs": [
    {
     "data": {
      "text/plain": [
       "'<start> i love you <end> '"
      ]
     },
     "execution_count": 37,
     "metadata": {},
     "output_type": "execute_result"
    }
   ],
   "source": [
    "generate_text(model, tokenizer, init_sentence=\"<start> i love\", max_len=20)"
   ]
  },
  {
   "cell_type": "markdown",
   "id": "warming-bandwidth",
   "metadata": {},
   "source": [
    "> **Q4. 모델이 생성한 가사 한 줄을 제출하세요.**  \n",
    ">  \n",
    "> i love you"
   ]
  },
  {
   "cell_type": "markdown",
   "id": "changed-problem",
   "metadata": {},
   "source": [
    "---\n",
    "\n",
    "# 루브릭\n",
    "\n",
    "아래의 기준을 바탕으로 프로젝트를 평가합니다.\n",
    "\n",
    "|평가문항|상세기준|\n",
    "|:---|:---|\n",
    "|1. 가사 텍스트 생성 모델이 정상적으로 동작하는가?|텍스트 제너레이션 결과가 그럴듯한 문장으로 생성되는가?|\n",
    "|2. 데이터의 전처리와 데이터셋 구성 과정이 체계적으로 진행되었는가?|특수문자 제거, 토크나이저 생성, 패딩처리 등의 과정이 빠짐없이 진행되었는가?|\n",
    "|3. 텍스트 생성모델이 안정적으로 학습되었는가?|텍스트 생성모델의 validation loss가 2.2 이하로 낮아졌는가?|"
   ]
  },
  {
   "cell_type": "markdown",
   "id": "recovered-window",
   "metadata": {},
   "source": [
    "---\n",
    "\n",
    "# 후기\n",
    "\n",
    "- 문장을 토큰화했을 때 토큰의 갯수가 15개를 넘어가는 문장을 학습데이터에서 제외하는 부분을 노드에서 원하는 것과 똑같이 구현하려고 하다가 포기했다. 완전히 똑같게 구현하려면 내 수준에서는 코드가 비효율적으로 변경될 것 같아서.. 하지만 요구하는 바에 맞게 구현하기는 했다.\n",
    "\n",
    "\n",
    "- validation loss는 운이 좋아 처음부터 2.2 이하로 나왔다.\n",
    "\n",
    "\n",
    "- 전반적으로 이번 노드는 친절한 가이드 덕분에 구현하기 수월했다. 그리고 운이 좋아 잘 끝났다.\n",
    "\n",
    "\n",
    "- 가사 텍스트 생성 모델이 정상적으로 동작한다. 돌려보면 사전 데이터에 있는 단어로 시작하면 제법 그럴싸한 문장이 나오는데, 없는 단어로 시작하면 그 단어를 반복하는 모습을 보여주는 줄 알았는데 그냥 cake가 너무 먹고 싶었나보다. cake를 쓰면 cake를 연발하는 모습을 볼 수 있었다. 없는 단어로 시작하면 \\<unk>가 나온다."
   ]
  }
 ],
 "metadata": {
  "kernelspec": {
   "display_name": "aiffel",
   "language": "python",
   "name": "aiffel"
  },
  "language_info": {
   "codemirror_mode": {
    "name": "ipython",
    "version": 3
   },
   "file_extension": ".py",
   "mimetype": "text/x-python",
   "name": "python",
   "nbconvert_exporter": "python",
   "pygments_lexer": "ipython3",
   "version": "3.7.9"
  },
  "toc": {
   "base_numbering": 1,
   "nav_menu": {},
   "number_sections": false,
   "sideBar": true,
   "skip_h1_title": false,
   "title_cell": "Table of Contents",
   "title_sidebar": "Contents",
   "toc_cell": false,
   "toc_position": {},
   "toc_section_display": true,
   "toc_window_display": false
  }
 },
 "nbformat": 4,
 "nbformat_minor": 5
}
