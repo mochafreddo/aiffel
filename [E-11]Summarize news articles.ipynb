{
 "cells": [
  {
   "cell_type": "markdown",
   "id": "dangerous-encounter",
   "metadata": {},
   "source": [
    "# 11-13. 프로젝트: 뉴스기사 요약해보기\n",
    "\n",
    "새로운 데이터셋에 대해서 추상적 요약과 추출적 요약을 모두 해보는 시간을 가져봐요."
   ]
  },
  {
   "cell_type": "markdown",
   "id": "accomplished-wholesale",
   "metadata": {},
   "source": [
    "## Step 1. 데이터 수집하기\n",
    "\n",
    "데이터는 아래 링크에 있는 뉴스 기사 데이터(newssummarymore.csv)를 사용하세요.  \n",
    "[sunnysai12345/News_Summary](https://github.com/sunnysai12345/News_Summary)\n",
    "\n",
    "아래의 코드로 데이터를 다운로드 할 수 있어요."
   ]
  },
  {
   "cell_type": "code",
   "execution_count": 1,
   "id": "apart-induction",
   "metadata": {},
   "outputs": [],
   "source": [
    "import pandas as pd"
   ]
  },
  {
   "cell_type": "code",
   "execution_count": 2,
   "id": "literary-schedule",
   "metadata": {},
   "outputs": [],
   "source": [
    "import urllib.request\n",
    "urllib.request.urlretrieve(\n",
    "    \"https://raw.githubusercontent.com/sunnysai12345/News_Summary/master/news_summary_more.csv\", filename=\"news_summary_more.csv\")\n",
    "data = pd.read_csv('news_summary_more.csv', encoding='iso-8859-1')"
   ]
  },
  {
   "cell_type": "code",
   "execution_count": 3,
   "id": "entertaining-rebound",
   "metadata": {},
   "outputs": [
    {
     "data": {
      "text/html": [
       "<div>\n",
       "<style scoped>\n",
       "    .dataframe tbody tr th:only-of-type {\n",
       "        vertical-align: middle;\n",
       "    }\n",
       "\n",
       "    .dataframe tbody tr th {\n",
       "        vertical-align: top;\n",
       "    }\n",
       "\n",
       "    .dataframe thead th {\n",
       "        text-align: right;\n",
       "    }\n",
       "</style>\n",
       "<table border=\"1\" class=\"dataframe\">\n",
       "  <thead>\n",
       "    <tr style=\"text-align: right;\">\n",
       "      <th></th>\n",
       "      <th>headlines</th>\n",
       "      <th>text</th>\n",
       "    </tr>\n",
       "  </thead>\n",
       "  <tbody>\n",
       "    <tr>\n",
       "      <th>52660</th>\n",
       "      <td>Spider species named after characters in Harry...</td>\n",
       "      <td>Scientists have named seven new spider species...</td>\n",
       "    </tr>\n",
       "    <tr>\n",
       "      <th>43264</th>\n",
       "      <td>Rahul Gandhi's hatred for India astonishing: S...</td>\n",
       "      <td>After Rahul Gandhi took a jibe at Centre's Goo...</td>\n",
       "    </tr>\n",
       "    <tr>\n",
       "      <th>19780</th>\n",
       "      <td>Indian economist appointed UNEP Assistant Secr...</td>\n",
       "      <td>Satya Tripathi, an Indian development economis...</td>\n",
       "    </tr>\n",
       "    <tr>\n",
       "      <th>89603</th>\n",
       "      <td>Disha Patani sports a bikini on the cover of C...</td>\n",
       "      <td>Actress Disha Patani has featured on the cover...</td>\n",
       "    </tr>\n",
       "    <tr>\n",
       "      <th>26541</th>\n",
       "      <td>Real Madrid will always be his home: Club on R...</td>\n",
       "      <td>Following Cristiano Ronaldo's transfer from Re...</td>\n",
       "    </tr>\n",
       "    <tr>\n",
       "      <th>11810</th>\n",
       "      <td>Crashed plane suffered glitch on a previous fl...</td>\n",
       "      <td>An Indonesian passenger plane carrying 189 peo...</td>\n",
       "    </tr>\n",
       "    <tr>\n",
       "      <th>37735</th>\n",
       "      <td>Bihar CM Nitish gets Supreme Court notice for ...</td>\n",
       "      <td>The Supreme Court has issued a notice to Bihar...</td>\n",
       "    </tr>\n",
       "    <tr>\n",
       "      <th>31134</th>\n",
       "      <td>Touching experience: CSK's Lungi on training a...</td>\n",
       "      <td>Chennai Super Kings' fast bowler Lungi Ngidi t...</td>\n",
       "    </tr>\n",
       "    <tr>\n",
       "      <th>78073</th>\n",
       "      <td>Chapecoense air crash survivor to play vs BarÃ...</td>\n",
       "      <td>Brazilian footballer Alan Ruschel, who survive...</td>\n",
       "    </tr>\n",
       "    <tr>\n",
       "      <th>24824</th>\n",
       "      <td>Ex-delivery boy partners Amazon employee to ch...</td>\n",
       "      <td>Amazon India's ex-delivery boy partnered with ...</td>\n",
       "    </tr>\n",
       "  </tbody>\n",
       "</table>\n",
       "</div>"
      ],
      "text/plain": [
       "                                               headlines  \\\n",
       "52660  Spider species named after characters in Harry...   \n",
       "43264  Rahul Gandhi's hatred for India astonishing: S...   \n",
       "19780  Indian economist appointed UNEP Assistant Secr...   \n",
       "89603  Disha Patani sports a bikini on the cover of C...   \n",
       "26541  Real Madrid will always be his home: Club on R...   \n",
       "11810  Crashed plane suffered glitch on a previous fl...   \n",
       "37735  Bihar CM Nitish gets Supreme Court notice for ...   \n",
       "31134  Touching experience: CSK's Lungi on training a...   \n",
       "78073  Chapecoense air crash survivor to play vs BarÃ...   \n",
       "24824  Ex-delivery boy partners Amazon employee to ch...   \n",
       "\n",
       "                                                    text  \n",
       "52660  Scientists have named seven new spider species...  \n",
       "43264  After Rahul Gandhi took a jibe at Centre's Goo...  \n",
       "19780  Satya Tripathi, an Indian development economis...  \n",
       "89603  Actress Disha Patani has featured on the cover...  \n",
       "26541  Following Cristiano Ronaldo's transfer from Re...  \n",
       "11810  An Indonesian passenger plane carrying 189 peo...  \n",
       "37735  The Supreme Court has issued a notice to Bihar...  \n",
       "31134  Chennai Super Kings' fast bowler Lungi Ngidi t...  \n",
       "78073  Brazilian footballer Alan Ruschel, who survive...  \n",
       "24824  Amazon India's ex-delivery boy partnered with ...  "
      ]
     },
     "execution_count": 3,
     "metadata": {},
     "output_type": "execute_result"
    }
   ],
   "source": [
    "data.sample(10)"
   ]
  },
  {
   "cell_type": "markdown",
   "id": "forced-concrete",
   "metadata": {},
   "source": [
    "이 데이터는 기사의 본문에 해당되는 text와 headlines 두 가지 열로 구성되어져 있습니다.\n",
    "\n",
    "추상적 요약을 하는 경우에는 text를 본문, headlines를 이미 요약된 데이터로 삼아서 모델을 학습할 수 있어요. 추출적 요약을 하는 경우에는 오직 text열만을 사용하세요."
   ]
  },
  {
   "cell_type": "code",
   "execution_count": 7,
   "id": "executive-yemen",
   "metadata": {},
   "outputs": [
    {
     "name": "stderr",
     "output_type": "stream",
     "text": [
      "[nltk_data] Downloading package stopwords to /home/aiffel-\n",
      "[nltk_data]     dj61/nltk_data...\n",
      "[nltk_data]   Unzipping corpora/stopwords.zip.\n"
     ]
    },
    {
     "data": {
      "text/plain": [
       "True"
      ]
     },
     "execution_count": 7,
     "metadata": {},
     "output_type": "execute_result"
    }
   ],
   "source": [
    "from tensorflow.keras.preprocessing.text import Tokenizer\n",
    "from bs4 import BeautifulSoup\n",
    "import urllib.request\n",
    "from tensorflow.keras.preprocessing.sequence import pad_sequences\n",
    "from nltk.corpus import stopwords\n",
    "import matplotlib.pyplot as plt\n",
    "import re\n",
    "import os\n",
    "import pandas as pd\n",
    "import numpy as np\n",
    "import nltk\n",
    "nltk.download('stopwords')"
   ]
  },
  {
   "cell_type": "code",
   "execution_count": 8,
   "id": "constitutional-ballot",
   "metadata": {},
   "outputs": [
    {
     "name": "stdout",
     "output_type": "stream",
     "text": [
      "전체 샘플수: 98401\n"
     ]
    }
   ],
   "source": [
    "print(f'전체 샘플수: {len(data)}')"
   ]
  },
  {
   "cell_type": "markdown",
   "id": "balanced-microwave",
   "metadata": {},
   "source": [
    "## Step 2. 데이터 전처리하기 (추상적 요약)\n",
    "\n",
    "실습에서 사용된 전처리를 참고하여 각자 필요하다고 생각하는 전처리를 추가 사용하여 텍스트를 정규화 또는 정제해 보세요. 만약, 불용어 제거를 선택한다면 상대적으로 길이가 짧은 요약 데이터에 대해서도 불용어를 제거하는 것이 좋을지 고민해보세요."
   ]
  },
  {
   "cell_type": "markdown",
   "id": "impressed-fifteen",
   "metadata": {},
   "source": [
    "### 데이터 정리하기"
   ]
  },
  {
   "cell_type": "markdown",
   "id": "premier-scenario",
   "metadata": {},
   "source": [
    "#### 중복 샘플과 NULL 값이 존재하는 샘플 제거"
   ]
  },
  {
   "cell_type": "code",
   "execution_count": 10,
   "id": "agreed-japan",
   "metadata": {},
   "outputs": [
    {
     "name": "stdout",
     "output_type": "stream",
     "text": [
      "headlines 열에서 중복을 배제한 유일한 샘플의 수 : 98280\n",
      "text 열에서 중복을 배제한 유일한 샘플의 수 : 98360\n"
     ]
    }
   ],
   "source": [
    "print('headlines 열에서 중복을 배제한 유일한 샘플의 수 :', data['headlines'].nunique())\n",
    "print('text 열에서 중복을 배제한 유일한 샘플의 수 :', data['text'].nunique())"
   ]
  },
  {
   "cell_type": "markdown",
   "id": "alternate-effectiveness",
   "metadata": {},
   "source": [
    "text의 중복 샘플을 제거합니다."
   ]
  },
  {
   "cell_type": "code",
   "execution_count": 11,
   "id": "powered-junction",
   "metadata": {},
   "outputs": [
    {
     "name": "stdout",
     "output_type": "stream",
     "text": [
      "전체 샘플수 : 98360\n"
     ]
    }
   ],
   "source": [
    "data.drop_duplicates(subset=['text'], inplace=True)\n",
    "print('전체 샘플수 :', (len(data)))"
   ]
  },
  {
   "cell_type": "code",
   "execution_count": 12,
   "id": "precise-natural",
   "metadata": {},
   "outputs": [
    {
     "name": "stdout",
     "output_type": "stream",
     "text": [
      "headlines    0\n",
      "text         0\n",
      "dtype: int64\n"
     ]
    }
   ],
   "source": [
    "print(data.isnull().sum())"
   ]
  },
  {
   "cell_type": "markdown",
   "id": "military-container",
   "metadata": {},
   "source": [
    "#### 텍스트 정규화와 불용어 제거"
   ]
  },
  {
   "cell_type": "code",
   "execution_count": 14,
   "id": "divided-palace",
   "metadata": {},
   "outputs": [
    {
     "name": "stdout",
     "output_type": "stream",
     "text": [
      "정규화 사전의 수:  120\n"
     ]
    }
   ],
   "source": [
    "# 텍스트 정규화를 위한 사전\n",
    "contractions = {\"ain't\": \"is not\", \"aren't\": \"are not\", \"can't\": \"cannot\", \"'cause\": \"because\", \"could've\": \"could have\", \"couldn't\": \"could not\", \"didn't\": \"did not\",  \"doesn't\": \"does not\", \"don't\": \"do not\", \"hadn't\": \"had not\", \"hasn't\": \"has not\", \"haven't\": \"have not\", \"he'd\": \"he would\", \"he'll\": \"he will\", \"he's\": \"he is\", \"how'd\": \"how did\", \"how'd'y\": \"how do you\", \"how'll\": \"how will\", \"how's\": \"how is\", \"I'd\": \"I would\", \"I'd've\": \"I would have\", \"I'll\": \"I will\", \"I'll've\": \"I will have\", \"I'm\": \"I am\", \"I've\": \"I have\", \"i'd\": \"i would\", \"i'd've\": \"i would have\", \"i'll\": \"i will\",  \"i'll've\": \"i will have\", \"i'm\": \"i am\", \"i've\": \"i have\", \"isn't\": \"is not\", \"it'd\": \"it would\", \"it'd've\": \"it would have\", \"it'll\": \"it will\", \"it'll've\": \"it will have\", \"it's\": \"it is\", \"let's\": \"let us\", \"ma'am\": \"madam\", \"mayn't\": \"may not\", \"might've\": \"might have\", \"mightn't\": \"might not\", \"mightn't've\": \"might not have\", \"must've\": \"must have\", \"mustn't\": \"must not\", \"mustn't've\": \"must not have\", \"needn't\": \"need not\", \"needn't've\": \"need not have\", \"o'clock\": \"of the clock\", \"oughtn't\": \"ought not\", \"oughtn't've\": \"ought not have\", \"shan't\": \"shall not\", \"sha'n't\": \"shall not\", \"shan't've\": \"shall not have\", \"she'd\": \"she would\", \"she'd've\": \"she would have\", \"she'll\": \"she will\", \"she'll've\": \"she will have\", \"she's\": \"she is\", \"should've\": \"should have\", \"shouldn't\": \"should not\", \"shouldn't've\": \"should not have\",\n",
    "                \"so've\": \"so have\", \"so's\": \"so as\", \"this's\": \"this is\", \"that'd\": \"that would\", \"that'd've\": \"that would have\", \"that's\": \"that is\", \"there'd\": \"there would\", \"there'd've\": \"there would have\", \"there's\": \"there is\", \"here's\": \"here is\", \"they'd\": \"they would\", \"they'd've\": \"they would have\", \"they'll\": \"they will\", \"they'll've\": \"they will have\", \"they're\": \"they are\", \"they've\": \"they have\", \"to've\": \"to have\", \"wasn't\": \"was not\", \"we'd\": \"we would\", \"we'd've\": \"we would have\", \"we'll\": \"we will\", \"we'll've\": \"we will have\", \"we're\": \"we are\", \"we've\": \"we have\", \"weren't\": \"were not\", \"what'll\": \"what will\", \"what'll've\": \"what will have\", \"what're\": \"what are\", \"what's\": \"what is\", \"what've\": \"what have\", \"when's\": \"when is\", \"when've\": \"when have\", \"where'd\": \"where did\", \"where's\": \"where is\", \"where've\": \"where have\", \"who'll\": \"who will\", \"who'll've\": \"who will have\", \"who's\": \"who is\", \"who've\": \"who have\", \"why's\": \"why is\", \"why've\": \"why have\", \"will've\": \"will have\", \"won't\": \"will not\", \"won't've\": \"will not have\", \"would've\": \"would have\", \"wouldn't\": \"would not\", \"wouldn't've\": \"would not have\", \"y'all\": \"you all\", \"y'all'd\": \"you all would\", \"y'all'd've\": \"you all would have\", \"y'all're\": \"you all are\", \"y'all've\": \"you all have\", \"you'd\": \"you would\", \"you'd've\": \"you would have\", \"you'll\": \"you will\", \"you'll've\": \"you will have\", \"you're\": \"you are\", \"you've\": \"you have\"}\n",
    "\n",
    "print(\"정규화 사전의 수: \", len(contractions))"
   ]
  },
  {
   "cell_type": "code",
   "execution_count": 16,
   "id": "behavioral-hardwood",
   "metadata": {},
   "outputs": [],
   "source": [
    "#데이터 전처리 함수\n",
    "def preprocess_sentence(sentence, remove_stopwords=True):\n",
    "    sentence = sentence.lower()  # 텍스트 소문자화\n",
    "    sentence = BeautifulSoup(sentence, \"lxml\").text  # <br />, <a href = ...> 등의 html 태그 제거\n",
    "    sentence = re.sub(r'\\([^)]*\\)', '', sentence)  # 괄호로 닫힌 문자열 (...) 제거 Ex) my husband (and myself!) for => my husband for\n",
    "    sentence = re.sub('\"','', sentence)  # 쌍따옴표 \" 제거\n",
    "    sentence = ' '.join([contractions[t] if t in contractions else t for t in sentence.split(\" \")])  # 약어 정규화\n",
    "    sentence = re.sub(r\"'s\\b\",\"\",sentence)  # 소유격 제거. Ex) roland's -> roland\n",
    "    sentence = re.sub(\"[^a-zA-Z]\", \" \", sentence)  # 영어 외 문자(숫자, 특수문자 등) 공백으로 변환\n",
    "    sentence = re.sub('[m]{2,}', 'mm', sentence)  # m이 3개 이상이면 2개로 변경. Ex) ummmmmmm yeah -> umm yeah\n",
    "    \n",
    "    # 불용어 제거 (Text)\n",
    "    if remove_stopwords:\n",
    "        tokens = ' '.join(word for word in sentence.split() if not word in stopwords.words('english') if len(word) > 1)\n",
    "    # 불용어 미제거 (Summary)\n",
    "    else:\n",
    "        tokens = ' '.join(word for word in sentence.split() if len(word) > 1)\n",
    "    return tokens"
   ]
  },
  {
   "cell_type": "code",
   "execution_count": 18,
   "id": "incorporated-stopping",
   "metadata": {},
   "outputs": [
    {
     "data": {
      "text/plain": [
       "['saurav kant alumnus upgrad iiit pg program machine learning artificial intelligence sr systems engineer infosys almost years work experience program upgrad degree career support helped transition data scientist tech mahindra salary hike upgrad online power learning powered lakh careers',\n",
       " 'kunal shah credit card bill payment platform cred gave users chance win free food swiggy one year pranav kaushik delhi techie bagged reward spending cred coins users get one cred coin per rupee bill paid used avail rewards brands like ixigo bookmyshow ubereats cult fit',\n",
       " 'new zealand defeated india wickets fourth odi hamilton thursday win first match five match odi series india lost international match rohit sharma captaincy consecutive victories dating back march match witnessed india getting seventh lowest total odi cricket history',\n",
       " 'aegon life iterm insurance plan customers enjoy tax benefits premiums paid save taxes plan provides life cover age years also customers options insure critical illnesses disability accidental death benefit rider life cover age years',\n",
       " 'speaking sexual harassment allegations rajkumar hirani sonam kapoor said known hirani many years true metoo movement get derailed metoo movement always believe woman case need reserve judgment added hirani accused assistant worked sanju']"
      ]
     },
     "execution_count": 18,
     "metadata": {},
     "output_type": "execute_result"
    }
   ],
   "source": [
    "clean_text = []\n",
    "\n",
    "# 전체 text 데이터에 대한 전처리\n",
    "for s in data['text']:\n",
    "    clean_text.append(preprocess_sentence(s))\n",
    "\n",
    "# 전처리 후 출력\n",
    "clean_text[:5]"
   ]
  },
  {
   "cell_type": "code",
   "execution_count": 19,
   "id": "promising-myrtle",
   "metadata": {
    "scrolled": true
   },
   "outputs": [
    {
     "data": {
      "text/plain": [
       "['upgrad learner switches to career in ml al with salary hike',\n",
       " 'delhi techie wins free food from swiggy for one year on cred',\n",
       " 'new zealand end rohit sharma led india match winning streak',\n",
       " 'aegon life iterm insurance plan helps customers save tax',\n",
       " 'have known hirani for yrs what if metoo claims are not true sonam']"
      ]
     },
     "execution_count": 19,
     "metadata": {},
     "output_type": "execute_result"
    }
   ],
   "source": [
    "clean_headlines = []\n",
    "\n",
    "# 전체 headlines 데이터에 대한 전처리\n",
    "for s in data['headlines']:\n",
    "    clean_headlines.append(preprocess_sentence(s, False))\n",
    "\n",
    "clean_headlines[:5]"
   ]
  },
  {
   "cell_type": "code",
   "execution_count": 20,
   "id": "ordered-situation",
   "metadata": {},
   "outputs": [],
   "source": [
    "data['text'] = clean_text\n",
    "data['headlines'] = clean_headlines\n",
    "\n",
    "# 빈 값을 Null 값으로 변환\n",
    "data.replace('', np.nan, inplace=True)"
   ]
  },
  {
   "cell_type": "code",
   "execution_count": 21,
   "id": "loved-difference",
   "metadata": {},
   "outputs": [
    {
     "data": {
      "text/plain": [
       "headlines    0\n",
       "text         0\n",
       "dtype: int64"
      ]
     },
     "execution_count": 21,
     "metadata": {},
     "output_type": "execute_result"
    }
   ],
   "source": [
    "data.isnull().sum()"
   ]
  },
  {
   "cell_type": "code",
   "execution_count": 22,
   "id": "sharing-performer",
   "metadata": {},
   "outputs": [
    {
     "name": "stdout",
     "output_type": "stream",
     "text": [
      "전체 샘플수 : 98360\n"
     ]
    }
   ],
   "source": [
    "print('전체 샘플수 :', (len(data)))"
   ]
  },
  {
   "cell_type": "markdown",
   "id": "engaged-yahoo",
   "metadata": {},
   "source": [
    "### 훈련데이터와 테스트데이터 나누기"
   ]
  },
  {
   "cell_type": "markdown",
   "id": "portuguese-production",
   "metadata": {},
   "source": [
    "#### 샘플의 최대 길이 정하기"
   ]
  },
  {
   "cell_type": "code",
   "execution_count": 23,
   "id": "applicable-coupon",
   "metadata": {},
   "outputs": [
    {
     "name": "stdout",
     "output_type": "stream",
     "text": [
      "텍스트의 최소 길이 : 1\n",
      "텍스트의 최대 길이 : 60\n",
      "텍스트의 평균 길이 : 35.09968483123221\n",
      "헤드라인의 최소 길이 : 1\n",
      "헤드라인의 최대 길이 : 16\n",
      "헤드라인의 평균 길이 : 9.299532330215534\n"
     ]
    },
    {
     "data": {
      "image/png": "[encoded data removed]",
      "text/plain": [
       "<Figure size 432x288 with 2 Axes>"
      ]
     },
     "metadata": {
      "needs_background": "light"
     },
     "output_type": "display_data"
    },
    {
     "data": {
      "image/png": "[encoded data removed]",
      "text/plain": [
       "<Figure size 432x288 with 1 Axes>"
      ]
     },
     "metadata": {
      "needs_background": "light"
     },
     "output_type": "display_data"
    },
    {
     "data": {
      "image/png": "[encoded data removed]",
      "text/plain": [
       "<Figure size 432x288 with 1 Axes>"
      ]
     },
     "metadata": {
      "needs_background": "light"
     },
     "output_type": "display_data"
    }
   ],
   "source": [
    "# 길이 분포 출력\n",
    "import matplotlib.pyplot as plt\n",
    "\n",
    "text_len = [len(s.split()) for s in data['text']]\n",
    "headlines_len = [len(s.split()) for s in data['headlines']]\n",
    "\n",
    "print('텍스트의 최소 길이 : {}'.format(np.min(text_len)))\n",
    "print('텍스트의 최대 길이 : {}'.format(np.max(text_len)))\n",
    "print('텍스트의 평균 길이 : {}'.format(np.mean(text_len)))\n",
    "print('헤드라인의 최소 길이 : {}'.format(np.min(headlines_len)))\n",
    "print('헤드라인의 최대 길이 : {}'.format(np.max(headlines_len)))\n",
    "print('헤드라인의 평균 길이 : {}'.format(np.mean(headlines_len)))\n",
    "\n",
    "plt.subplot(1, 2, 1)\n",
    "plt.boxplot(headlines_len)\n",
    "plt.title('headlines')\n",
    "plt.subplot(1, 2, 2)\n",
    "plt.boxplot(text_len)\n",
    "plt.title('text')\n",
    "plt.tight_layout()\n",
    "plt.show()\n",
    "\n",
    "plt.title('headlines')\n",
    "plt.hist(headlines_len, bins=40)\n",
    "plt.xlabel('length of samples')\n",
    "plt.ylabel('number of samples')\n",
    "plt.show()\n",
    "\n",
    "plt.title('text')\n",
    "plt.hist(text_len, bins=40)\n",
    "plt.xlabel('length of samples')\n",
    "plt.ylabel('number of samples')\n",
    "plt.show()"
   ]
  },
  {
   "cell_type": "code",
   "execution_count": 24,
   "id": "industrial-found",
   "metadata": {},
   "outputs": [],
   "source": [
    "text_max_len = 45\n",
    "headlines_max_len = 13"
   ]
  },
  {
   "cell_type": "code",
   "execution_count": 25,
   "id": "individual-following",
   "metadata": {},
   "outputs": [],
   "source": [
    "def below_threshold_len(max_len, nested_list):\n",
    "    cnt = 0\n",
    "    for s in nested_list:\n",
    "        if(len(s.split()) <= max_len):\n",
    "            cnt = cnt + 1\n",
    "    print('전체 샘플 중 길이가 %s 이하인 샘플의 비율: %s' %\n",
    "          (max_len, (cnt / len(nested_list))))"
   ]
  },
  {
   "cell_type": "code",
   "execution_count": 26,
   "id": "extreme-utilization",
   "metadata": {},
   "outputs": [
    {
     "name": "stdout",
     "output_type": "stream",
     "text": [
      "전체 샘플 중 길이가 45 이하인 샘플의 비율: 0.9967771451809678\n",
      "전체 샘플 중 길이가 13 이하인 샘플의 비율: 0.9981699877999186\n"
     ]
    }
   ],
   "source": [
    "below_threshold_len(text_max_len, data['text'])\n",
    "below_threshold_len(headlines_max_len,  data['headlines'])"
   ]
  },
  {
   "cell_type": "code",
   "execution_count": 27,
   "id": "virgin-magazine",
   "metadata": {},
   "outputs": [
    {
     "name": "stdout",
     "output_type": "stream",
     "text": [
      "전체 샘플수 : 97863\n"
     ]
    }
   ],
   "source": [
    "data = data[data['text'].apply(lambda x: len(x.split()) <= text_max_len)]\n",
    "data = data[data['headlines'].apply(lambda x: len(x.split()) <= headlines_max_len)]\n",
    "print('전체 샘플수 :', (len(data)))"
   ]
  },
  {
   "cell_type": "markdown",
   "id": "available-scene",
   "metadata": {},
   "source": [
    "#### 시작 토큰과 종료 토큰 추가하기"
   ]
  },
  {
   "cell_type": "code",
   "execution_count": 28,
   "id": "aboriginal-induction",
   "metadata": {},
   "outputs": [
    {
     "data": {
      "text/html": [
       "<div>\n",
       "<style scoped>\n",
       "    .dataframe tbody tr th:only-of-type {\n",
       "        vertical-align: middle;\n",
       "    }\n",
       "\n",
       "    .dataframe tbody tr th {\n",
       "        vertical-align: top;\n",
       "    }\n",
       "\n",
       "    .dataframe thead th {\n",
       "        text-align: right;\n",
       "    }\n",
       "</style>\n",
       "<table border=\"1\" class=\"dataframe\">\n",
       "  <thead>\n",
       "    <tr style=\"text-align: right;\">\n",
       "      <th></th>\n",
       "      <th>headlines</th>\n",
       "      <th>text</th>\n",
       "      <th>decoder_input</th>\n",
       "      <th>decoder_target</th>\n",
       "    </tr>\n",
       "  </thead>\n",
       "  <tbody>\n",
       "    <tr>\n",
       "      <th>0</th>\n",
       "      <td>upgrad learner switches to career in ml al wit...</td>\n",
       "      <td>saurav kant alumnus upgrad iiit pg program mac...</td>\n",
       "      <td>sostoken upgrad learner switches to career in ...</td>\n",
       "      <td>upgrad learner switches to career in ml al wit...</td>\n",
       "    </tr>\n",
       "    <tr>\n",
       "      <th>1</th>\n",
       "      <td>delhi techie wins free food from swiggy for on...</td>\n",
       "      <td>kunal shah credit card bill payment platform c...</td>\n",
       "      <td>sostoken delhi techie wins free food from swig...</td>\n",
       "      <td>delhi techie wins free food from swiggy for on...</td>\n",
       "    </tr>\n",
       "    <tr>\n",
       "      <th>2</th>\n",
       "      <td>new zealand end rohit sharma led india match w...</td>\n",
       "      <td>new zealand defeated india wickets fourth odi ...</td>\n",
       "      <td>sostoken new zealand end rohit sharma led indi...</td>\n",
       "      <td>new zealand end rohit sharma led india match w...</td>\n",
       "    </tr>\n",
       "    <tr>\n",
       "      <th>3</th>\n",
       "      <td>aegon life iterm insurance plan helps customer...</td>\n",
       "      <td>aegon life iterm insurance plan customers enjo...</td>\n",
       "      <td>sostoken aegon life iterm insurance plan helps...</td>\n",
       "      <td>aegon life iterm insurance plan helps customer...</td>\n",
       "    </tr>\n",
       "    <tr>\n",
       "      <th>4</th>\n",
       "      <td>have known hirani for yrs what if metoo claims...</td>\n",
       "      <td>speaking sexual harassment allegations rajkuma...</td>\n",
       "      <td>sostoken have known hirani for yrs what if met...</td>\n",
       "      <td>have known hirani for yrs what if metoo claims...</td>\n",
       "    </tr>\n",
       "  </tbody>\n",
       "</table>\n",
       "</div>"
      ],
      "text/plain": [
       "                                           headlines  \\\n",
       "0  upgrad learner switches to career in ml al wit...   \n",
       "1  delhi techie wins free food from swiggy for on...   \n",
       "2  new zealand end rohit sharma led india match w...   \n",
       "3  aegon life iterm insurance plan helps customer...   \n",
       "4  have known hirani for yrs what if metoo claims...   \n",
       "\n",
       "                                                text  \\\n",
       "0  saurav kant alumnus upgrad iiit pg program mac...   \n",
       "1  kunal shah credit card bill payment platform c...   \n",
       "2  new zealand defeated india wickets fourth odi ...   \n",
       "3  aegon life iterm insurance plan customers enjo...   \n",
       "4  speaking sexual harassment allegations rajkuma...   \n",
       "\n",
       "                                       decoder_input  \\\n",
       "0  sostoken upgrad learner switches to career in ...   \n",
       "1  sostoken delhi techie wins free food from swig...   \n",
       "2  sostoken new zealand end rohit sharma led indi...   \n",
       "3  sostoken aegon life iterm insurance plan helps...   \n",
       "4  sostoken have known hirani for yrs what if met...   \n",
       "\n",
       "                                      decoder_target  \n",
       "0  upgrad learner switches to career in ml al wit...  \n",
       "1  delhi techie wins free food from swiggy for on...  \n",
       "2  new zealand end rohit sharma led india match w...  \n",
       "3  aegon life iterm insurance plan helps customer...  \n",
       "4  have known hirani for yrs what if metoo claims...  "
      ]
     },
     "execution_count": 28,
     "metadata": {},
     "output_type": "execute_result"
    }
   ],
   "source": [
    "# 헤드라인 데이터에는 시작 토큰과 종료 토큰을 추가한다.\n",
    "data['decoder_input'] = data['headlines'].apply(lambda x: 'sostoken ' + x)\n",
    "data['decoder_target'] = data['headlines'].apply(lambda x: x + ' eostoken')\n",
    "data.head()"
   ]
  },
  {
   "cell_type": "code",
   "execution_count": 29,
   "id": "broadband-venture",
   "metadata": {},
   "outputs": [],
   "source": [
    "encoder_input = np.array(data['text'])  # 인코더의 입력\n",
    "decoder_input = np.array(data['decoder_input'])  # 디코더의 입력\n",
    "decoder_target = np.array(data['decoder_target'])  # 디코더의 레이블"
   ]
  },
  {
   "cell_type": "code",
   "execution_count": 30,
   "id": "verbal-merchant",
   "metadata": {},
   "outputs": [
    {
     "name": "stdout",
     "output_type": "stream",
     "text": [
      "[15397 60118 84975 ... 68075 74239 12259]\n"
     ]
    }
   ],
   "source": [
    "indices = np.arange(encoder_input.shape[0])\n",
    "np.random.shuffle(indices)\n",
    "print(indices)"
   ]
  },
  {
   "cell_type": "code",
   "execution_count": 31,
   "id": "white-booth",
   "metadata": {},
   "outputs": [],
   "source": [
    "encoder_input = encoder_input[indices]\n",
    "decoder_input = decoder_input[indices]\n",
    "decoder_target = decoder_target[indices]"
   ]
  },
  {
   "cell_type": "code",
   "execution_count": 32,
   "id": "macro-catch",
   "metadata": {},
   "outputs": [
    {
     "name": "stdout",
     "output_type": "stream",
     "text": [
      "테스트 데이터의 수 : 19572\n"
     ]
    }
   ],
   "source": [
    "n_of_val = int(len(encoder_input)*0.2)\n",
    "print('테스트 데이터의 수 :', n_of_val)"
   ]
  },
  {
   "cell_type": "code",
   "execution_count": 33,
   "id": "resident-theater",
   "metadata": {},
   "outputs": [
    {
     "name": "stdout",
     "output_type": "stream",
     "text": [
      "훈련 데이터의 개수 : 78291\n",
      "훈련 레이블의 개수 : 78291\n",
      "테스트 데이터의 개수 : 19572\n",
      "테스트 레이블의 개수 : 19572\n"
     ]
    }
   ],
   "source": [
    "encoder_input_train = encoder_input[:-n_of_val]\n",
    "decoder_input_train = decoder_input[:-n_of_val]\n",
    "decoder_target_train = decoder_target[:-n_of_val]\n",
    "\n",
    "encoder_input_test = encoder_input[-n_of_val:]\n",
    "decoder_input_test = decoder_input[-n_of_val:]\n",
    "decoder_target_test = decoder_target[-n_of_val:]\n",
    "\n",
    "print('훈련 데이터의 개수 :', len(encoder_input_train))\n",
    "print('훈련 레이블의 개수 :', len(decoder_input_train))\n",
    "print('테스트 데이터의 개수 :', len(encoder_input_test))\n",
    "print('테스트 레이블의 개수 :', len(decoder_input_test))"
   ]
  },
  {
   "cell_type": "markdown",
   "id": "abstract-fellowship",
   "metadata": {},
   "source": [
    "### 정수 인코딩"
   ]
  },
  {
   "cell_type": "markdown",
   "id": "resistant-organizer",
   "metadata": {},
   "source": [
    "#### 단어 집합 만들기 및 정수 인코딩"
   ]
  },
  {
   "cell_type": "code",
   "execution_count": 34,
   "id": "missing-scenario",
   "metadata": {},
   "outputs": [],
   "source": [
    "src_tokenizer = Tokenizer()  # 토크나이저 정의\n",
    "src_tokenizer.fit_on_texts(encoder_input_train)  # 입력된 데이터로부터 단어 집합 생성"
   ]
  },
  {
   "cell_type": "code",
   "execution_count": 35,
   "id": "norwegian-calibration",
   "metadata": {},
   "outputs": [
    {
     "name": "stdout",
     "output_type": "stream",
     "text": [
      "단어 집합(vocabulary)의 크기 : 69372\n",
      "등장 빈도가 6번 이하인 희귀 단어의 수: 47270\n",
      "단어 집합에서 희귀 단어를 제외시킬 경우의 단어 집합의 크기 22102\n",
      "단어 집합에서 희귀 단어의 비율: 68.13988352649484\n",
      "전체 등장 빈도에서 희귀 단어 등장 빈도 비율: 3.4961198145030514\n"
     ]
    }
   ],
   "source": [
    "threshold = 7\n",
    "total_cnt = len(src_tokenizer.word_index)  # 단어의 수\n",
    "rare_cnt = 0    # 등장 빈도수가 threshold보다 작은 단어의 개수를 카운트\n",
    "total_freq = 0  # 훈련 데이터의 전체 단어 빈도수 총 합\n",
    "rare_freq = 0   # 등장 빈도수가 threshold보다 작은 단어의 등장 빈도수의 총 합\n",
    "\n",
    "# 단어와 빈도수의 쌍(pair)을 key와 value로 받는다.\n",
    "for key, value in src_tokenizer.word_counts.items():\n",
    "    total_freq = total_freq + value\n",
    "\n",
    "    # 단어의 등장 빈도수가 threshold보다 작으면\n",
    "    if(value < threshold):\n",
    "        rare_cnt = rare_cnt + 1\n",
    "        rare_freq = rare_freq + value\n",
    "\n",
    "print('단어 집합(vocabulary)의 크기 :', total_cnt)\n",
    "print('등장 빈도가 %s번 이하인 희귀 단어의 수: %s' % (threshold - 1, rare_cnt))\n",
    "print('단어 집합에서 희귀 단어를 제외시킬 경우의 단어 집합의 크기 %s' % (total_cnt - rare_cnt))\n",
    "print(\"단어 집합에서 희귀 단어의 비율:\", (rare_cnt / total_cnt)*100)\n",
    "print(\"전체 등장 빈도에서 희귀 단어 등장 빈도 비율:\", (rare_freq / total_freq)*100)"
   ]
  },
  {
   "cell_type": "code",
   "execution_count": 36,
   "id": "american-rocket",
   "metadata": {},
   "outputs": [],
   "source": [
    "src_vocab = 22000\n",
    "src_tokenizer = Tokenizer(num_words=src_vocab)   # 단어 집합의 크기를 22,000으로 제한\n",
    "src_tokenizer.fit_on_texts(encoder_input_train)  # 단어 집합 재생성."
   ]
  },
  {
   "cell_type": "code",
   "execution_count": 37,
   "id": "distributed-drill",
   "metadata": {},
   "outputs": [
    {
     "name": "stdout",
     "output_type": "stream",
     "text": [
      "[[409, 72, 617, 10220, 19454, 2678, 261, 3025, 1871, 2637, 9838, 505, 16651, 78, 317, 944, 60, 1375, 19454, 83, 3769, 14754, 9838, 2317, 2, 384, 73, 2733, 1368, 409, 9838, 2, 9094, 326, 81, 1124, 621, 2, 78], [4346, 4486, 969, 1579, 4161, 267, 712, 399, 803, 308, 13308, 117, 317, 7646, 60, 139, 1423, 267, 19455, 96, 641, 224, 5850, 169, 308, 450, 2938, 308, 11217, 399, 1112, 256, 3586, 3822], [411, 128, 2, 153, 734, 806, 220, 13309, 1325, 714, 764, 146, 10221, 1266, 1775, 5534, 153, 985, 399, 3010, 13309, 117, 1325, 6, 4, 10221, 1129, 1581, 262, 1250, 1266, 2418]]\n"
     ]
    }
   ],
   "source": [
    "# 텍스트 시퀀스를 정수 시퀀스로 변환\n",
    "encoder_input_train = src_tokenizer.texts_to_sequences(encoder_input_train)\n",
    "encoder_input_test = src_tokenizer.texts_to_sequences(encoder_input_test)\n",
    "\n",
    "# 잘 진행되었는지 샘플 출력\n",
    "print(encoder_input_train[:3])"
   ]
  },
  {
   "cell_type": "code",
   "execution_count": 38,
   "id": "authorized-mailman",
   "metadata": {},
   "outputs": [],
   "source": [
    "tar_tokenizer = Tokenizer()\n",
    "tar_tokenizer.fit_on_texts(decoder_input_train)"
   ]
  },
  {
   "cell_type": "code",
   "execution_count": 41,
   "id": "interim-cyprus",
   "metadata": {},
   "outputs": [
    {
     "name": "stdout",
     "output_type": "stream",
     "text": [
      "단어 집합(vocabulary)의 크기 : 30017\n",
      "등장 빈도가 5번 이하인 희귀 단어의 수: 19616\n",
      "단어 집합에서 희귀 단어를 제외시킬 경우의 단어 집합의 크기 10401\n",
      "단어 집합에서 희귀 단어의 비율: 65.3496352067162\n",
      "전체 등장 빈도에서 희귀 단어 등장 빈도 비율: 4.660064711739743\n"
     ]
    }
   ],
   "source": [
    "threshold = 6\n",
    "total_cnt = len(tar_tokenizer.word_index)  # 단어의 수\n",
    "rare_cnt = 0    # 등장 빈도수가 threshold보다 작은 단어의 개수를 카운트\n",
    "total_freq = 0  # 훈련 데이터의 전체 단어 빈도수 총 합\n",
    "rare_freq = 0   # 등장 빈도수가 threshold보다 작은 단어의 등장 빈도수의 총 합\n",
    "\n",
    "# 단어와 빈도수의 쌍(pair)을 key와 value로 받는다.\n",
    "for key, value in tar_tokenizer.word_counts.items():\n",
    "    total_freq = total_freq + value\n",
    "\n",
    "    # 단어의 등장 빈도수가 threshold보다 작으면\n",
    "    if(value < threshold):\n",
    "        rare_cnt = rare_cnt + 1\n",
    "        rare_freq = rare_freq + value\n",
    "\n",
    "print('단어 집합(vocabulary)의 크기 :', total_cnt)\n",
    "print('등장 빈도가 %s번 이하인 희귀 단어의 수: %s' % (threshold - 1, rare_cnt))\n",
    "print('단어 집합에서 희귀 단어를 제외시킬 경우의 단어 집합의 크기 %s' % (total_cnt - rare_cnt))\n",
    "print(\"단어 집합에서 희귀 단어의 비율:\", (rare_cnt / total_cnt)*100)\n",
    "print(\"전체 등장 빈도에서 희귀 단어 등장 빈도 비율:\", (rare_freq / total_freq)*100)"
   ]
  },
  {
   "cell_type": "code",
   "execution_count": 42,
   "id": "forced-salon",
   "metadata": {},
   "outputs": [
    {
     "name": "stdout",
     "output_type": "stream",
     "text": [
      "input\n",
      "input  [[1, 207, 6164, 1982, 6466, 8168, 14, 719, 12, 191], [1, 2779, 214, 3014, 3760, 1459, 208, 12, 191], [1, 103, 8, 316, 7655, 847, 45, 8757, 3, 474, 801], [1, 83, 78, 15, 9483, 813, 2073, 424, 85], [1, 103, 8, 214, 217, 1162, 7, 164, 119, 99, 957, 1882]]\n",
      "target\n",
      "decoder  [[207, 6164, 1982, 6466, 8168, 14, 719, 12, 191, 2], [2779, 214, 3014, 3760, 1459, 208, 12, 191, 2], [103, 8, 316, 7655, 847, 45, 8757, 3, 474, 801, 2], [83, 78, 15, 9483, 813, 2073, 424, 85, 2], [103, 8, 214, 217, 1162, 7, 164, 119, 99, 957, 1882, 2]]\n"
     ]
    }
   ],
   "source": [
    "tar_vocab = 10000\n",
    "tar_tokenizer = Tokenizer(num_words=tar_vocab)\n",
    "tar_tokenizer.fit_on_texts(decoder_input_train)\n",
    "tar_tokenizer.fit_on_texts(decoder_target_train)\n",
    "\n",
    "# 텍스트 시퀀스를 정수 시퀀스로 변환\n",
    "decoder_input_train = tar_tokenizer.texts_to_sequences(decoder_input_train)\n",
    "decoder_target_train = tar_tokenizer.texts_to_sequences(decoder_target_train)\n",
    "decoder_input_test = tar_tokenizer.texts_to_sequences(decoder_input_test)\n",
    "decoder_target_test = tar_tokenizer.texts_to_sequences(decoder_target_test)\n",
    "\n",
    "# 잘 변환되었는지 확인\n",
    "print('input')\n",
    "print('input ', decoder_input_train[:5])\n",
    "print('target')\n",
    "print('decoder ', decoder_target_train[:5])"
   ]
  },
  {
   "cell_type": "code",
   "execution_count": 43,
   "id": "cardiovascular-paint",
   "metadata": {},
   "outputs": [
    {
     "name": "stdout",
     "output_type": "stream",
     "text": [
      "삭제할 훈련 데이터의 개수 : 0\n",
      "삭제할 테스트 데이터의 개수 : 0\n",
      "훈련 데이터의 개수 : 78291\n",
      "훈련 레이블의 개수 : 78291\n",
      "테스트 데이터의 개수 : 19572\n",
      "테스트 레이블의 개수 : 19572\n"
     ]
    },
    {
     "name": "stderr",
     "output_type": "stream",
     "text": [
      "/home/aiffel-dj61/anaconda3/envs/aiffel/lib/python3.7/site-packages/numpy/core/_asarray.py:83: VisibleDeprecationWarning: Creating an ndarray from ragged nested sequences (which is a list-or-tuple of lists-or-tuples-or ndarrays with different lengths or shapes) is deprecated. If you meant to do this, you must specify 'dtype=object' when creating the ndarray\n",
      "  return array(a, dtype, copy=False, order=order)\n"
     ]
    }
   ],
   "source": [
    "drop_train = [index for index, sentence in enumerate(\n",
    "    decoder_input_train) if len(sentence) == 1]\n",
    "drop_test = [index for index, sentence in enumerate(\n",
    "    decoder_input_test) if len(sentence) == 1]\n",
    "\n",
    "print('삭제할 훈련 데이터의 개수 :', len(drop_train))\n",
    "print('삭제할 테스트 데이터의 개수 :', len(drop_test))\n",
    "\n",
    "encoder_input_train = np.delete(encoder_input_train, drop_train, axis=0)\n",
    "decoder_input_train = np.delete(decoder_input_train, drop_train, axis=0)\n",
    "decoder_target_train = np.delete(decoder_target_train, drop_train, axis=0)\n",
    "\n",
    "encoder_input_test = np.delete(encoder_input_test, drop_test, axis=0)\n",
    "decoder_input_test = np.delete(decoder_input_test, drop_test, axis=0)\n",
    "decoder_target_test = np.delete(decoder_target_test, drop_test, axis=0)\n",
    "\n",
    "print('훈련 데이터의 개수 :', len(encoder_input_train))\n",
    "print('훈련 레이블의 개수 :', len(decoder_input_train))\n",
    "print('테스트 데이터의 개수 :', len(encoder_input_test))\n",
    "print('테스트 레이블의 개수 :', len(decoder_input_test))"
   ]
  },
  {
   "cell_type": "markdown",
   "id": "twenty-realtor",
   "metadata": {},
   "source": [
    "#### 패딩하기"
   ]
  },
  {
   "cell_type": "code",
   "execution_count": 44,
   "id": "beneficial-angel",
   "metadata": {},
   "outputs": [],
   "source": [
    "encoder_input_train = pad_sequences(encoder_input_train, maxlen = text_max_len, padding='post')\n",
    "encoder_input_test = pad_sequences(encoder_input_test, maxlen = text_max_len, padding='post')\n",
    "decoder_input_train = pad_sequences(decoder_input_train, maxlen = headlines_max_len, padding='post')\n",
    "decoder_target_train = pad_sequences(decoder_target_train, maxlen = headlines_max_len, padding='post')\n",
    "decoder_input_test = pad_sequences(decoder_input_test, maxlen = headlines_max_len, padding='post')\n",
    "decoder_target_test = pad_sequences(decoder_target_test, maxlen = headlines_max_len, padding='post')"
   ]
  },
  {
   "cell_type": "markdown",
   "id": "hawaiian-advisory",
   "metadata": {},
   "source": [
    "### 모델 설계하기"
   ]
  },
  {
   "cell_type": "code",
   "execution_count": 45,
   "id": "obvious-assumption",
   "metadata": {},
   "outputs": [
    {
     "name": "stdout",
     "output_type": "stream",
     "text": [
      "WARNING:tensorflow:Layer lstm will not use cuDNN kernel since it doesn't meet the cuDNN kernel criteria. It will use generic GPU kernel as fallback when running on GPU\n",
      "WARNING:tensorflow:Layer lstm_1 will not use cuDNN kernel since it doesn't meet the cuDNN kernel criteria. It will use generic GPU kernel as fallback when running on GPU\n",
      "WARNING:tensorflow:Layer lstm_2 will not use cuDNN kernel since it doesn't meet the cuDNN kernel criteria. It will use generic GPU kernel as fallback when running on GPU\n"
     ]
    }
   ],
   "source": [
    "from tensorflow.keras.layers import Input, LSTM, Embedding, Dense, Concatenate\n",
    "from tensorflow.keras.models import Model\n",
    "from tensorflow.keras.callbacks import EarlyStopping, ModelCheckpoint\n",
    "\n",
    "\n",
    "# 인코더 설계 시작\n",
    "embedding_dim = 128\n",
    "hidden_size = 256\n",
    "\n",
    "# 인코더\n",
    "encoder_inputs = Input(shape=(text_max_len,))\n",
    "\n",
    "# 인코더의 임베딩 층\n",
    "enc_emb = Embedding(src_vocab, embedding_dim)(encoder_inputs)\n",
    "\n",
    "# 인코더의 LSTM 1\n",
    "encoder_lstm1 = LSTM(hidden_size, return_sequences=True,\n",
    "                     return_state=True, dropout=0.4, recurrent_dropout=0.4)\n",
    "encoder_output1, state_h1, state_c1 = encoder_lstm1(enc_emb)\n",
    "\n",
    "# 인코더의 LSTM 2\n",
    "encoder_lstm2 = LSTM(hidden_size, return_sequences=True,\n",
    "                     return_state=True, dropout=0.4, recurrent_dropout=0.4)\n",
    "encoder_output2, state_h2, state_c2 = encoder_lstm2(encoder_output1)\n",
    "\n",
    "# 인코더의 LSTM 3\n",
    "encoder_lstm3 = LSTM(hidden_size, return_state=True,\n",
    "                     return_sequences=True, dropout=0.4, recurrent_dropout=0.4)\n",
    "encoder_outputs, state_h, state_c = encoder_lstm3(encoder_output2)"
   ]
  },
  {
   "cell_type": "code",
   "execution_count": 46,
   "id": "figured-insurance",
   "metadata": {},
   "outputs": [
    {
     "name": "stdout",
     "output_type": "stream",
     "text": [
      "WARNING:tensorflow:Layer lstm_3 will not use cuDNN kernel since it doesn't meet the cuDNN kernel criteria. It will use generic GPU kernel as fallback when running on GPU\n"
     ]
    }
   ],
   "source": [
    "# 디코더 설계\n",
    "\n",
    "decoder_inputs = Input(shape=(None,))\n",
    "\n",
    "# 디코더의 임베딩 층\n",
    "dec_emb_layer = Embedding(tar_vocab, embedding_dim)\n",
    "dec_emb = dec_emb_layer(decoder_inputs)\n",
    "\n",
    "# 디코더의 LSTM\n",
    "decoder_lstm = LSTM(hidden_size, return_sequences=True,\n",
    "                    return_state=True, dropout=0.4, recurrent_dropout=0.2)\n",
    "decoder_outputs, _, _ = decoder_lstm(dec_emb, initial_state=[state_h, state_c])"
   ]
  },
  {
   "cell_type": "code",
   "execution_count": 47,
   "id": "considered-count",
   "metadata": {},
   "outputs": [
    {
     "name": "stdout",
     "output_type": "stream",
     "text": [
      "Model: \"model\"\n",
      "__________________________________________________________________________________________________\n",
      "Layer (type)                    Output Shape         Param #     Connected to                     \n",
      "==================================================================================================\n",
      "input_1 (InputLayer)            [(None, 45)]         0                                            \n",
      "__________________________________________________________________________________________________\n",
      "embedding (Embedding)           (None, 45, 128)      2816000     input_1[0][0]                    \n",
      "__________________________________________________________________________________________________\n",
      "lstm (LSTM)                     [(None, 45, 256), (N 394240      embedding[0][0]                  \n",
      "__________________________________________________________________________________________________\n",
      "input_2 (InputLayer)            [(None, None)]       0                                            \n",
      "__________________________________________________________________________________________________\n",
      "lstm_1 (LSTM)                   [(None, 45, 256), (N 525312      lstm[0][0]                       \n",
      "__________________________________________________________________________________________________\n",
      "embedding_1 (Embedding)         (None, None, 128)    1280000     input_2[0][0]                    \n",
      "__________________________________________________________________________________________________\n",
      "lstm_2 (LSTM)                   [(None, 45, 256), (N 525312      lstm_1[0][0]                     \n",
      "__________________________________________________________________________________________________\n",
      "lstm_3 (LSTM)                   [(None, None, 256),  394240      embedding_1[0][0]                \n",
      "                                                                 lstm_2[0][1]                     \n",
      "                                                                 lstm_2[0][2]                     \n",
      "__________________________________________________________________________________________________\n",
      "dense (Dense)                   (None, None, 10000)  2570000     lstm_3[0][0]                     \n",
      "==================================================================================================\n",
      "Total params: 8,505,104\n",
      "Trainable params: 8,505,104\n",
      "Non-trainable params: 0\n",
      "__________________________________________________________________________________________________\n"
     ]
    }
   ],
   "source": [
    "# 디코더의 출력층\n",
    "decoder_softmax_layer = Dense(tar_vocab, activation='softmax')\n",
    "decoder_softmax_outputs = decoder_softmax_layer(decoder_outputs)\n",
    "\n",
    "# 모델 정의\n",
    "model = Model([encoder_inputs, decoder_inputs], decoder_softmax_outputs)\n",
    "model.summary()"
   ]
  },
  {
   "cell_type": "markdown",
   "id": "anticipated-chick",
   "metadata": {},
   "source": [
    "## Step 3. 어텐션 메커니즘 사용하기 (추상적 요약)\n",
    "\n",
    "일반적인 seq2seq보다는 어텐션 메커니즘을 사용한 seq2seq를 사용하는 것이 더 나은 성능을 얻을 수 있어요. 실습 내용을 참고하여 어텐션 메커니즘을 사용한 seq2seq를 설계해 보세요."
   ]
  },
  {
   "cell_type": "code",
   "execution_count": 48,
   "id": "front-volleyball",
   "metadata": {},
   "outputs": [],
   "source": [
    "urllib.request.urlretrieve(\"https://raw.githubusercontent.com/thushv89/attention_keras/master/src/layers/attention.py\", filename=\"attention.py\")\n",
    "from attention import AttentionLayer"
   ]
  },
  {
   "cell_type": "code",
   "execution_count": 49,
   "id": "rolled-gossip",
   "metadata": {},
   "outputs": [
    {
     "name": "stdout",
     "output_type": "stream",
     "text": [
      "Model: \"model_1\"\n",
      "__________________________________________________________________________________________________\n",
      "Layer (type)                    Output Shape         Param #     Connected to                     \n",
      "==================================================================================================\n",
      "input_1 (InputLayer)            [(None, 45)]         0                                            \n",
      "__________________________________________________________________________________________________\n",
      "embedding (Embedding)           (None, 45, 128)      2816000     input_1[0][0]                    \n",
      "__________________________________________________________________________________________________\n",
      "lstm (LSTM)                     [(None, 45, 256), (N 394240      embedding[0][0]                  \n",
      "__________________________________________________________________________________________________\n",
      "input_2 (InputLayer)            [(None, None)]       0                                            \n",
      "__________________________________________________________________________________________________\n",
      "lstm_1 (LSTM)                   [(None, 45, 256), (N 525312      lstm[0][0]                       \n",
      "__________________________________________________________________________________________________\n",
      "embedding_1 (Embedding)         (None, None, 128)    1280000     input_2[0][0]                    \n",
      "__________________________________________________________________________________________________\n",
      "lstm_2 (LSTM)                   [(None, 45, 256), (N 525312      lstm_1[0][0]                     \n",
      "__________________________________________________________________________________________________\n",
      "lstm_3 (LSTM)                   [(None, None, 256),  394240      embedding_1[0][0]                \n",
      "                                                                 lstm_2[0][1]                     \n",
      "                                                                 lstm_2[0][2]                     \n",
      "__________________________________________________________________________________________________\n",
      "attention_layer (AttentionLayer ((None, None, 256),  131328      lstm_2[0][0]                     \n",
      "                                                                 lstm_3[0][0]                     \n",
      "__________________________________________________________________________________________________\n",
      "concat_layer (Concatenate)      (None, None, 512)    0           lstm_3[0][0]                     \n",
      "                                                                 attention_layer[0][0]            \n",
      "__________________________________________________________________________________________________\n",
      "dense_1 (Dense)                 (None, None, 10000)  5130000     concat_layer[0][0]               \n",
      "==================================================================================================\n",
      "Total params: 11,196,432\n",
      "Trainable params: 11,196,432\n",
      "Non-trainable params: 0\n",
      "__________________________________________________________________________________________________\n"
     ]
    }
   ],
   "source": [
    "# 어텐션 층(어텐션 함수)\n",
    "attn_layer = AttentionLayer(name='attention_layer')\n",
    "# 인코더와 디코더의 모든 time step의 hidden state를 어텐션 층에 전달하고 결과를 리턴\n",
    "attn_out, attn_states = attn_layer([encoder_outputs, decoder_outputs])\n",
    "\n",
    "# 어텐션의 결과와 디코더의 hidden state들을 연결\n",
    "decoder_concat_input = Concatenate(axis = -1, name='concat_layer')([decoder_outputs, attn_out])\n",
    "\n",
    "# 디코더의 출력층\n",
    "decoder_softmax_layer = Dense(tar_vocab, activation='softmax')\n",
    "decoder_softmax_outputs = decoder_softmax_layer(decoder_concat_input)\n",
    "\n",
    "# 모델 정의\n",
    "model = Model([encoder_inputs, decoder_inputs], decoder_softmax_outputs)\n",
    "model.summary()"
   ]
  },
  {
   "cell_type": "markdown",
   "id": "physical-lottery",
   "metadata": {},
   "source": [
    "### 모델 훈련하기"
   ]
  },
  {
   "cell_type": "code",
   "execution_count": 50,
   "id": "elementary-reminder",
   "metadata": {},
   "outputs": [
    {
     "name": "stdout",
     "output_type": "stream",
     "text": [
      "Epoch 1/50\n",
      "306/306 [==============================] - 111s 363ms/step - loss: 5.2324 - val_loss: 4.8747\n",
      "Epoch 2/50\n",
      "306/306 [==============================] - 111s 362ms/step - loss: 4.6779 - val_loss: 4.4424\n",
      "Epoch 3/50\n",
      "306/306 [==============================] - 111s 364ms/step - loss: 4.3418 - val_loss: 4.2101\n",
      "Epoch 4/50\n",
      "306/306 [==============================] - 111s 362ms/step - loss: 4.1014 - val_loss: 4.0297\n",
      "Epoch 5/50\n",
      "306/306 [==============================] - 111s 362ms/step - loss: 3.9130 - val_loss: 3.9044\n",
      "Epoch 6/50\n",
      "306/306 [==============================] - 111s 363ms/step - loss: 3.7555 - val_loss: 3.7992\n",
      "Epoch 7/50\n",
      "306/306 [==============================] - 111s 363ms/step - loss: 3.6165 - val_loss: 3.7074\n",
      "Epoch 8/50\n",
      "306/306 [==============================] - 111s 363ms/step - loss: 3.4978 - val_loss: 3.6404\n",
      "Epoch 9/50\n",
      "306/306 [==============================] - 114s 372ms/step - loss: 3.3948 - val_loss: 3.5809\n",
      "Epoch 10/50\n",
      "306/306 [==============================] - 114s 372ms/step - loss: 3.3000 - val_loss: 3.5316\n",
      "Epoch 11/50\n",
      "306/306 [==============================] - 111s 364ms/step - loss: 3.2157 - val_loss: 3.4975\n",
      "Epoch 12/50\n",
      "306/306 [==============================] - 111s 362ms/step - loss: 3.1429 - val_loss: 3.4675\n",
      "Epoch 13/50\n",
      "306/306 [==============================] - 111s 364ms/step - loss: 3.0776 - val_loss: 3.4401\n",
      "Epoch 14/50\n",
      "306/306 [==============================] - 111s 363ms/step - loss: 3.0156 - val_loss: 3.4107\n",
      "Epoch 15/50\n",
      "306/306 [==============================] - 111s 363ms/step - loss: 2.9595 - val_loss: 3.3956\n",
      "Epoch 16/50\n",
      "306/306 [==============================] - 111s 361ms/step - loss: 2.9077 - val_loss: 3.3737\n",
      "Epoch 17/50\n",
      "306/306 [==============================] - 112s 365ms/step - loss: 2.8600 - val_loss: 3.3573\n",
      "Epoch 18/50\n",
      "306/306 [==============================] - 111s 362ms/step - loss: 2.8136 - val_loss: 3.3421\n",
      "Epoch 19/50\n",
      "306/306 [==============================] - 111s 364ms/step - loss: 2.7726 - val_loss: 3.3374\n",
      "Epoch 20/50\n",
      "306/306 [==============================] - 111s 363ms/step - loss: 2.7354 - val_loss: 3.3303\n",
      "Epoch 21/50\n",
      "306/306 [==============================] - 111s 364ms/step - loss: 2.6925 - val_loss: 3.3186\n",
      "Epoch 22/50\n",
      "306/306 [==============================] - 111s 363ms/step - loss: 2.6571 - val_loss: 3.3030\n",
      "Epoch 23/50\n",
      "306/306 [==============================] - 111s 363ms/step - loss: 2.6238 - val_loss: 3.3030\n",
      "Epoch 24/50\n",
      "306/306 [==============================] - 111s 363ms/step - loss: 2.5949 - val_loss: 3.2994\n",
      "Epoch 25/50\n",
      "306/306 [==============================] - 112s 364ms/step - loss: 2.5664 - val_loss: 3.2938\n",
      "Epoch 26/50\n",
      "306/306 [==============================] - 111s 362ms/step - loss: 2.5374 - val_loss: 3.2901\n",
      "Epoch 27/50\n",
      "306/306 [==============================] - 111s 364ms/step - loss: 2.5090 - val_loss: 3.2905\n",
      "Epoch 28/50\n",
      "306/306 [==============================] - 113s 368ms/step - loss: 2.4812 - val_loss: 3.2839\n",
      "Epoch 29/50\n",
      "306/306 [==============================] - 111s 363ms/step - loss: 2.4522 - val_loss: 3.2819\n",
      "Epoch 30/50\n",
      "306/306 [==============================] - 111s 363ms/step - loss: 2.4261 - val_loss: 3.2861\n",
      "Epoch 31/50\n",
      "306/306 [==============================] - 111s 364ms/step - loss: 2.4041 - val_loss: 3.2788\n",
      "Epoch 32/50\n",
      "306/306 [==============================] - 113s 368ms/step - loss: 2.3832 - val_loss: 3.2794\n",
      "Epoch 33/50\n",
      "306/306 [==============================] - 114s 372ms/step - loss: 2.3614 - val_loss: 3.2854\n",
      "Epoch 00033: early stopping\n"
     ]
    }
   ],
   "source": [
    "model.compile(optimizer='rmsprop', loss='sparse_categorical_crossentropy')\n",
    "es = EarlyStopping(monitor='val_loss', mode='min', verbose=1, patience=2)\n",
    "history = model.fit(x=[encoder_input_train, decoder_input_train], y=decoder_target_train, validation_data=(\n",
    "    [encoder_input_test, decoder_input_test], decoder_target_test), batch_size=256, callbacks=[es], epochs=50)"
   ]
  },
  {
   "cell_type": "code",
   "execution_count": 51,
   "id": "entitled-placement",
   "metadata": {},
   "outputs": [
    {
     "data": {
      "image/png": "[encoded data removed]",
      "text/plain": [
       "<Figure size 432x288 with 1 Axes>"
      ]
     },
     "metadata": {
      "needs_background": "light"
     },
     "output_type": "display_data"
    }
   ],
   "source": [
    "plt.plot(history.history['loss'], label='train')\n",
    "plt.plot(history.history['val_loss'], label='test')\n",
    "plt.legend()\n",
    "plt.show()"
   ]
  },
  {
   "cell_type": "markdown",
   "id": "trained-newsletter",
   "metadata": {},
   "source": [
    "### 인퍼런스 모델 구현하기"
   ]
  },
  {
   "cell_type": "code",
   "execution_count": 52,
   "id": "major-rapid",
   "metadata": {},
   "outputs": [],
   "source": [
    "src_index_to_word = src_tokenizer.index_word  # 원문 단어 집합에서 정수 -> 단어를 얻음\n",
    "tar_word_to_index = tar_tokenizer.word_index  # 요약 단어 집합에서 단어 -> 정수를 얻음\n",
    "tar_index_to_word = tar_tokenizer.index_word  # 요약 단어 집합에서 정수 -> 단어를 얻음"
   ]
  },
  {
   "cell_type": "code",
   "execution_count": 53,
   "id": "national-briefs",
   "metadata": {},
   "outputs": [],
   "source": [
    "# 인코더 설계\n",
    "encoder_model = Model(inputs=encoder_inputs, outputs=[\n",
    "                      encoder_outputs, state_h, state_c])\n",
    "\n",
    "# 이전 시점의 상태들을 저장하는 텐서\n",
    "decoder_state_input_h = Input(shape=(hidden_size,))\n",
    "decoder_state_input_c = Input(shape=(hidden_size,))\n",
    "\n",
    "dec_emb2 = dec_emb_layer(decoder_inputs)\n",
    "# 문장의 다음 단어를 예측하기 위해서 초기 상태(initial_state)를 이전 시점의 상태로 사용. 이는 뒤의 함수 decode_sequence()에 구현\n",
    "# 훈련 과정에서와 달리 LSTM의 리턴하는 은닉 상태와 셀 상태인 state_h와 state_c를 버리지 않음.\n",
    "decoder_outputs2, state_h2, state_c2 = decoder_lstm(\n",
    "    dec_emb2, initial_state=[decoder_state_input_h, decoder_state_input_c])"
   ]
  },
  {
   "cell_type": "code",
   "execution_count": 54,
   "id": "advised-clone",
   "metadata": {},
   "outputs": [],
   "source": [
    "# 어텐션 함수\n",
    "decoder_hidden_state_input = Input(shape=(text_max_len, hidden_size))\n",
    "attn_out_inf, attn_states_inf = attn_layer(\n",
    "    [decoder_hidden_state_input, decoder_outputs2])\n",
    "decoder_inf_concat = Concatenate(\n",
    "    axis=-1, name='concat')([decoder_outputs2, attn_out_inf])\n",
    "\n",
    "# 디코더의 출력층\n",
    "decoder_outputs2 = decoder_softmax_layer(decoder_inf_concat)\n",
    "\n",
    "# 최종 디코더 모델\n",
    "decoder_model = Model(\n",
    "    [decoder_inputs] + [decoder_hidden_state_input,\n",
    "                        decoder_state_input_h, decoder_state_input_c],\n",
    "    [decoder_outputs2] + [state_h2, state_c2])"
   ]
  },
  {
   "cell_type": "code",
   "execution_count": 55,
   "id": "restricted-workplace",
   "metadata": {},
   "outputs": [],
   "source": [
    "def decode_sequence(input_seq):\n",
    "    # 입력으로부터 인코더의 상태를 얻음\n",
    "    e_out, e_h, e_c = encoder_model.predict(input_seq)\n",
    "\n",
    "    # <SOS>에 해당하는 토큰 생성\n",
    "    target_seq = np.zeros((1, 1))\n",
    "    target_seq[0, 0] = tar_word_to_index['sostoken']\n",
    "\n",
    "    stop_condition = False\n",
    "    decoded_sentence = ''\n",
    "    while not stop_condition:  # stop_condition이 True가 될 때까지 루프 반복\n",
    "\n",
    "        output_tokens, h, c = decoder_model.predict(\n",
    "            [target_seq] + [e_out, e_h, e_c])\n",
    "        sampled_token_index = np.argmax(output_tokens[0, -1, :])\n",
    "        sampled_token = tar_index_to_word[sampled_token_index]\n",
    "\n",
    "        if(sampled_token != 'eostoken'):\n",
    "            decoded_sentence += ' '+sampled_token\n",
    "\n",
    "        #  <eos>에 도달하거나 최대 길이를 넘으면 중단.\n",
    "        if (sampled_token == 'eostoken' or len(decoded_sentence.split()) >= (headlines_max_len-1)):\n",
    "            stop_condition = True\n",
    "\n",
    "        # 길이가 1인 타겟 시퀀스를 업데이트\n",
    "        target_seq = np.zeros((1, 1))\n",
    "        target_seq[0, 0] = sampled_token_index\n",
    "\n",
    "        # 상태를 업데이트 합니다.\n",
    "        e_h, e_c = h, c\n",
    "\n",
    "    return decoded_sentence"
   ]
  },
  {
   "cell_type": "markdown",
   "id": "wanted-optimization",
   "metadata": {},
   "source": [
    "## Step 4. 실제 결과와 요약문 비교하기 (추상적 요약)\n",
    "\n",
    "원래의 요약문(headlines 열)과 학습을 통해 얻은 추상적 요약의 결과를 비교해보세요."
   ]
  },
  {
   "cell_type": "markdown",
   "id": "adverse-theory",
   "metadata": {},
   "source": [
    "### 모델 테스트하기"
   ]
  },
  {
   "cell_type": "code",
   "execution_count": 57,
   "id": "sized-dominican",
   "metadata": {},
   "outputs": [],
   "source": [
    "def seq2text(input_seq):\n",
    "    '''원문의 정수 시퀀스를 텍스트 시퀀스로 변환'''\n",
    "    temp = ''\n",
    "    for i in input_seq:\n",
    "        if(i != 0):\n",
    "            temp = temp + src_index_to_word[i]+' '\n",
    "    return temp\n",
    "\n",
    "\n",
    "def seq2headlines(input_seq):\n",
    "    '''요약문의 정수 시퀀스를 텍스트 시퀀스로 변환'''\n",
    "    temp = ''\n",
    "    for i in input_seq:\n",
    "        if((i != 0 and i != tar_word_to_index['sostoken']) and i != tar_word_to_index['eostoken']):\n",
    "            temp = temp + tar_index_to_word[i] + ' '\n",
    "    return temp"
   ]
  },
  {
   "cell_type": "code",
   "execution_count": 58,
   "id": "apparent-cliff",
   "metadata": {
    "scrolled": false
   },
   "outputs": [
    {
     "name": "stdout",
     "output_type": "stream",
     "text": [
      "원문 : alleging ndtv founder prannoy roy may escape south africa bjp parliamentarian subramanian swamy said asking ed department issue look notice roy last year cbi accused roy causing losses icici bank meanwhile roy written pmo swamy malicious campaign ndtv \n",
      "실제 요약 : ndtv founder prannoy roy may from india swamy \n",
      "예측 요약 :  founders quit snapdeal over unpaid scam swamy\n",
      "\n",
      "\n",
      "원문 : supreme court rejected mining baron janardhana reddy plea campaigning brother bjp candidate city karnataka elections janardhana charged crore mining scam barred bail condition sc also prohibited casting vote \n",
      "실제 요약 : mining scam charged reddy brother cannot campaign for bjp sc \n",
      "예측 요약 :  sc dismisses pil seeking protection to vote in taka polls\n",
      "\n",
      "\n",
      "원문 : puducherry lieutenant governor kiran bedi hit back union territory leaders saying work falls responsibility designated lg well administrator said adding elected representatives refused cooperate efforts puducherry assembly recently passed resolution limiting powers \n",
      "실제 요약 : kiran bedi hits back at resolution her powers \n",
      "예측 요약 :  rk nagar bypoll shoot for years kiran bedi\n",
      "\n",
      "\n",
      "원문 : delhi police friday added new vehicles existing fleet vans step security independence day celebrations vans manned nsg trained drivers commandos provided special equipment including guns vehicles deployed round clock serve major deterrent terror elements authorities said \n",
      "실제 요약 : more vans added to delhi police fleet \n",
      "예측 요약 :  delhi police to get single vehicles from may\n",
      "\n",
      "\n",
      "원문 : andhra pradesh cm chandrababu naidu wednesday said floods river godavari east west godavari districts past one week caused estimated damage crore announced compensation per crops damaged floods chief minister said conducting aerial survey affected areas nn \n",
      "실제 요약 : crore damage due to floods in andhra districts cm \n",
      "예측 요약 :  floods died due to floods andhra cm\n",
      "\n",
      "\n",
      "원문 : team policemen experts visited delhi cm arvind kejriwal residence seized hard disks containing recordings cctv cameras connection chief secretary anshu prakash assault case following kejriwal tweeted entire residence searched allegations two amit shah questioned connection judge loya death \n",
      "실제 요약 : police seize cctv from kejriwal home \n",
      "예측 요약 :  delhi police withdraws kejriwal residence in delhi cm\n",
      "\n",
      "\n",
      "원문 : real madrid forward cristiano ronaldo sunday announced birth fourth child girlfriend georgina rodriguez gave birth baby girl martina born geo great happy tweeted ronaldo also father year old son cristiano jr twins eva \n",
      "실제 요약 : cristiano ronaldo announces birth of daughter \n",
      "예측 요약 :  ronaldo gives birth to baby boy after birth anniversary\n",
      "\n",
      "\n",
      "원문 : rishabh pant become first indian wicketkeeper take catches test series achieving feat fifth day melbourne test year old took catches first test six second three third australia brad holds record taking catches test series \n",
      "실제 요약 : pant st ever indian keeper to take catches in test series \n",
      "예측 요약 :  pant st indian to score ton in test series\n",
      "\n",
      "\n",
      "원문 : indian pacer jasprit bumrah named man match melbourne test taking nine wickets spinner ravichandran ashwin termed malcolm easy place come win every test win needs like tomorrow tweeted ashwin notably india defeated australia runs \n",
      "실제 요약 : ashwin praises jasprit bumrah calls him \n",
      "예측 요약 :  wicket has been in india best test for st time bumrah\n",
      "\n",
      "\n",
      "원문 : scientists uc berkeley obtained detailed mapping waves largest lava lake one jupiter moon active body known solar system study made possible jupiter icy moon europa passed front allowing researchers accurately heat emanating volcanoes surface \n",
      "실제 요약 : scientists observe waves of lava on jupiter moon \n",
      "예측 요약 :  mars killing asteroid that can be in earth study\n",
      "\n",
      "\n",
      "원문 : features new issued tomorrow include raised printing mahatma gandhi portrait ashoka pillar emblem raised identification mark micro text visually impaired security thread inscriptions rbi colour thread changes green blue note tilted \n",
      "실제 요약 : what are the features of the new note \n",
      "예측 요약 :  what is the new gst network called new gst rates\n",
      "\n",
      "\n",
      "원문 : solar wind energy sectors india employ lakh workers meet country renewable energy target according international labour organisation report report added crore new posts could created globally long right policies promote economy place \n",
      "실제 요약 : solar wind energy sector to by in india \n",
      "예측 요약 :  solar power to cost india in india report\n",
      "\n",
      "\n",
      "원문 : losses war islamic state cost iraq billion prime minister al abadi said saturday however iraq achieved success liberating land maintaining country unity standing threats added comes iraqi forces launched operation saturday retake last isis held towns iraq \n",
      "실제 요약 : war against isis cost billion iraq pm \n",
      "예측 요약 :  iraq is iraq iraq iraq\n",
      "\n",
      "\n",
      "원문 : former us state secretary hillary clinton launch political action committee aimed funding resistance groups oppose president donald trump policies according reports identified part resistance clinton said interview back activist citizen part resistance \n",
      "실제 요약 : clinton to launch anti trump political action committee \n",
      "예측 요약 :  former us senator to probe into trump papers\n",
      "\n",
      "\n",
      "원문 : former australian cricketer adam gilchrist said playing virat kohli would identical field got whatever comes naturally believe added earlier rahul dravid said kohli outrageous times reading pre match statements \n",
      "실제 요약 : would not be identical to kohli on the field gilchrist \n",
      "예측 요약 :  kohli has not yet to make me ex aus captain gilchrist\n",
      "\n",
      "\n",
      "원문 : us based researchers demonstrated fastest light pulse ever developed ray flash beating record set team pulses help scientists capture images fast moving electrons atoms duration small light travels lakh km sec covers less one human hair \n",
      "실제 요약 : us scientists set record for the fastest ever light \n",
      "예측 요약 :  scientists develop fastest ever object\n",
      "\n",
      "\n",
      "원문 : possible black money risks virtual currencies bitcoin rbi said susceptible misuse terrorists fraudsters laundering money rbi said given licence authorisation entity company operate schemes deal bitcoin virtual currency \n",
      "실제 요약 : virtual prone to misuse for laundering money rbi \n",
      "예측 요약 :  bitcoin is not the customers of the currency says twitter\n",
      "\n",
      "\n",
      "원문 : writing indian skipper virat kohli performance article sourav ganguly stated australia probably consumed wanting win captain let emotions affect batting also serve lesson virat hope gets back scoring big ganguly added \n",
      "실제 요약 : kohli let emotions affect his batting against aus ganguly \n",
      "예측 요약 :  kohli is like kohli and he is not ganguly\n",
      "\n",
      "\n",
      "원문 : cristiano ronaldo lionel messi gianluigi buffon nominated uefa player year award ronaldo helped real madrid win la liga second consecutive champions league title messi helped barcelona win copa del rey buffon led juventus champions league final sixth successive serie title third straight italian cup success \n",
      "실제 요약 : ronaldo messi nominated for uefa player of the year \n",
      "예측 요약 :  messi bar bar win top ballon or ronaldo record\n",
      "\n",
      "\n",
      "원문 : indian sailors aboard ships stranded uae waters sought help indian consulate general dubai according reports consulate officials said helping sailors stuck without food water majority sailors reportedly complained paid employers several months \n",
      "실제 요약 : nearly indian sailors stranded in uae report \n",
      "예측 요약 :  navy navy pilots to navy navy member amid navy outage\n",
      "\n",
      "\n",
      "원문 : number indians going abroad blue collar workers reduced around according recently released government data workers going major countries decline reportedly attributed several factors including decreasing construction business west asian countries decision create jobs nationals \n",
      "실제 요약 : indian blue workers going abroad in \n",
      "예측 요약 :  indians have to be in months report\n",
      "\n",
      "\n",
      "원문 : one hundred people killed military transport plane crashed shortly takeoff wednesday according state media crash occurred approximately km capital airport home base air transport fleet air force \n",
      "실제 요약 : over people killed as military plane crashes in \n",
      "예측 요약 :  killed as plane crashes into plane in us\n",
      "\n",
      "\n",
      "원문 : american astronaut jack david fischer currently aboard international space station shared time lapse footage aurora km earth kmph people asked awesome sauce well folks looks like awesome sauce green fischer captioned footage \n",
      "실제 요약 : astronaut shares of view from space \n"
     ]
    },
    {
     "name": "stdout",
     "output_type": "stream",
     "text": [
      "예측 요약 :  astronaut shares selfie with astronauts at space station\n",
      "\n",
      "\n",
      "원문 : two bjp mps hari narayan rajbhar verma demanded commission set examine complaints men suffering hands wives due alleged misuse laws however national commission women said people right demand commission men need body \n",
      "실제 요약 : bjp mps demand panel for men suffering at hands of wives \n",
      "예측 요약 :  bjp mps to work with mps after sc order on journalists\n",
      "\n",
      "\n",
      "원문 : congress posters bihar patna show party president rahul gandhi leaders state party unit castes labelled rahul labelled brahmin leaders castes like dalit rajput printed photographs posters thank rahul party leader gohil setting example social harmony \n",
      "실제 요약 : posters in patna mention of rahul other cong leaders \n",
      "예측 요약 :  rjd expels rahul gandhi statue of rahul gandhi\n",
      "\n",
      "\n",
      "원문 : congress social media head divya spandana took twitter troll bjp decreasing value indian currency saying cricketer kedar jadhav bowling action low still low value rupee responding divya tweet bjp karnataka wrote sure jadhav bowling action iq sure lower entire pakistan team performance \n",
      "실제 요약 : congress social media head cites jadhav action to troll bjp \n",
      "예측 요약 :  cong trolls cong trolls over tweet on twitter tweet\n",
      "\n",
      "\n",
      "원문 : two patients died respective ambulances got stuck traffic jam bihar bandh called rashtriya janata dal deceased families claim pleaded protesters make way ambulance denied request bandh organised protest state government new sand mining policy \n",
      "실제 요약 : patients die after ambulances get stuck during rjd strike \n",
      "예측 요약 :  dead ill after ambulance carrying entry in bihar\n",
      "\n",
      "\n",
      "원문 : claiming credit arab nations decision diplomatic relations qatar us president donald trump friday accused qatar high level sponsor terrorism however us state secretary rex tillerson urged arab nations ease blockade qatar us strategically important airbase soldiers \n",
      "실제 요약 : trump slams qatar while us govt tries to ease ties \n",
      "예측 요약 :  turkey arrests trump for diplomatic row\n",
      "\n",
      "\n",
      "원문 : north korea allow inspection nuclear missile test sites us state secretary mike pompeo said north korean leader kim jong un invited international inspectors visit punggye ri nuclear site confirm dismantled permanently north korea conducted six nuclear tests site \n",
      "실제 요약 : north korea to allow inspection of nuclear test sites us \n",
      "예측 요약 :  north korea missile test site us\n",
      "\n",
      "\n",
      "원문 : actress neha dhupia took instagram share picture newborn daughter feet also revealed name baby girl mehr dhupia bedi says hello world wrote caption picture mehr born sunday neha angad first child together \n",
      "실제 요약 : neha dhupia angad bedi name newborn daughter \n",
      "예측 요약 :  neha dhupia shares pic of baby girl with her baby\n",
      "\n",
      "\n",
      "원문 : apple ceo tim cook revealed steve jobs office apple old campus locked death feel right change office added still drawings daughter also said desk chair jobs used still office \n",
      "실제 요약 : jobs office still has his daughter made on board cook \n",
      "예측 요약 :  apple ceo tim cook says he was jobs in apple\n",
      "\n",
      "\n",
      "원문 : two mass graves containing dozens bodies civilians syrian troops killed islamic state militants found syrian province raqqa syria last month declared victory militant group fighting three years seized large parts syria proclaimed caliphate region \n",
      "실제 요약 : mass graves of civilians troops killed by is found in syria \n",
      "예측 요약 :  mass graves of syria found in syria\n",
      "\n",
      "\n",
      "원문 : maharashtra became second state gujarat cut value added tax petrol diesel bringing per litre respectively wednesday new rates come effect petrol cost per litre diesel cost mumbai earlier today gujarat reduced vat fuel \n",
      "실제 요약 : after gujarat maharashtra cuts vat on petrol and diesel \n",
      "예측 요약 :  maharashtra gujarat gets its first petrol diesel\n",
      "\n",
      "\n",
      "원문 : bengaluru based student lending startup secured licence reserve bank india startup co founder rajan bajaj confirmed tweeting regulatory comfort run aggressively towards goal founded lets students make purchases online monthly without collateral \n",
      "실제 요약 : bengaluru student lending startup gets licence \n",
      "예측 요약 :  gurugram startup gets funds from startups\n",
      "\n",
      "\n",
      "원문 : italy based doctors reported case year old woman three year history rare condition individual blood stained fluid intact skin report mentioned single explanation source bleeding previously reported areas without sweat \n",
      "실제 요약 : case of woman blood reported in italy \n",
      "예측 요약 :  woman who woman woman to be in the year\n",
      "\n",
      "\n",
      "원문 : actress bipasha basu shared pictures performing various yoga asanas husband karan singh grover occasion international yoga day wednesday bipasha captioned one pictures yoga like life beautiful balance holding letting go also used hashtag sharing three pictures \n",
      "실제 요약 : bipasha performs yoga with her husband karan \n",
      "예측 요약 :  kunal shares pic with rumoured boyfriend karan\n",
      "\n",
      "\n",
      "원문 : around security personnel deployed around delhi prevent untoward incident th republic day celebrations apart delhi police special armed forces security agencies deployed area various cctv cameras face recognition cameras also installed help officers identify terrorists criminal elements \n",
      "실제 요약 : security personnel to be deployed in delhi for day \n",
      "예측 요약 :  delhi police to get security alert after security forces\n",
      "\n",
      "\n",
      "원문 : february plane carrying english champions manchester united players alongside staff journalists crashed taking munich leaving eight players dead team nicknamed returning winning european cup quarterfinals memory clock written installed manchester united home old trafford \n",
      "실제 요약 : footballers killed in crash were english champs \n",
      "예측 요약 :  pilot who killed in plane crash out of team\n",
      "\n",
      "\n",
      "원문 : disinvestment indian railway catering tourism corporation deferred government wants better valuation huge data getting captured valuation trying see utilise railway minister piyush goyal said irctc offers railway ticketing catering services crore registered users \n",
      "실제 요약 : government puts irctc disinvestment plan on hold \n",
      "예측 요약 :  railways to get its own mandatory railways\n",
      "\n",
      "\n",
      "원문 : chinese defence spokesman colonel ren thursday said india strictly control border defence troops work towards developing positive military military relationship china also hailed resolution day doklam standoff two nations china major achievement international military cooperation year \n",
      "실제 요약 : india should control its border troops china \n",
      "예측 요약 :  india has no role in doklam china on doklam standoff\n",
      "\n",
      "\n",
      "원문 : combined wealth world billionaires increased year year trillion three times uk gdp according report wealth record new billionaires added last year taking billionaires population time high number female billionaires rose last year \n",
      "실제 요약 : combined wealth of all billionaires over times uk gdp \n",
      "예측 요약 :  world richest wealth added trillion in wealth\n",
      "\n",
      "\n",
      "원문 : anupam kher accidental prime minister released today entertaining affair keeps throughout wrote times according ndtv film neither hugely entertaining dramatic film adaptation blatant disregard manmohan singh wrote firstpost rated \n",
      "실제 요약 : anupam kher the accidental prime minister hits theatres \n",
      "예측 요약 :  anupam kher starrer sanju hits the theatres\n",
      "\n",
      "\n",
      "원문 : hundreds gathered beach wednesday release turtles sea part celebrations king maha birthday july number chosen number king rama king known number one age wish longevity \n",
      "실제 요약 : thailand releases to celebrate king birthday \n",
      "예측 요약 :  collapses in south africa on birthday\n",
      "\n",
      "\n",
      "원문 : veteran actor revealed years ago director told tear actress clothes without informing rape scene added refused informed girl scene burst tears however said later convinced actress scene taking consent \n",
      "실제 요약 : was once told to tear actress clothes without her consent \n",
      "예측 요약 :  was told to sleep with rape not in bed actress\n",
      "\n",
      "\n",
      "원문 : us based software supplier tuesday said acquired mumbai based software company miles software least million transaction involves additional contingent earn million payable two years said founded miles wealth asset management demand software provider banks asset managers wealth management firms \n",
      "실제 요약 : us based buys mumbai software company for mn \n",
      "예측 요약 :  us firm buys office in mumbai startup for fy\n",
      "\n",
      "\n",
      "원문 : ayushmann khurrana revealed gave screen test upcoming film adding happens west time biggest stars audition happen first time years texted director like believe take screen test ayushmann added \n",
      "실제 요약 : gave screen test after years just for ayushmann \n"
     ]
    },
    {
     "name": "stdout",
     "output_type": "stream",
     "text": [
      "예측 요약 :  have been in my life ayushmann khurrana\n",
      "\n",
      "\n",
      "원문 : australian tennis player nick kyrgios fined caught seemingly simulating masturbation water bottle match london year old world number seen shaking bottle spraying water making facial expressions tv channel airing match forced issue air apology \n",
      "실제 요약 : tennis player masturbation with bottle fined \n",
      "예측 요약 :  nadal fined lakh for foot tall drink in bottle\n",
      "\n",
      "\n",
      "원문 : jammu kashmir governor satya pal malik said killed bjp leader anil brother ajit identified brought public soon added killings carried militants frustration urban local body elections completed without killings \n",
      "실제 요약 : killer of bjp leader his brother identified governor \n",
      "예측 요약 :  bjp leader who was my brother governor\n",
      "\n",
      "\n",
      "원문 : gujarat board class sanskrit textbook introduction sanskrit language claims hindu mythology epic ramayana sita abducted ram instead ravana heart touching description message conveyed laxman ram sita abducted rama line book read however official said translation error \n",
      "실제 요약 : sita was abducted by ram guj board class sanskrit book \n",
      "예측 요약 :  gujarat school main dalits to dalits on dalits\n",
      "\n",
      "\n",
      "원문 : family court rajasthan granted woman divorce ruling toilet home amounts cruelty women woman reportedly complained laws difficulty defecating open provided toilet home court said toilets homes disgrace st century \n",
      "실제 요약 : not having toilet at home is cruelty to women raj court \n",
      "예측 요약 :  woman granted bail to woman in haryana\n",
      "\n",
      "\n"
     ]
    }
   ],
   "source": [
    "for i in range(50, 100):\n",
    "    print(\"원문 :\", seq2text(encoder_input_test[i]))\n",
    "    print(\"실제 요약 :\", seq2headlines(decoder_input_test[i]))\n",
    "    print(\"예측 요약 :\", decode_sequence(\n",
    "        encoder_input_test[i].reshape(1, text_max_len)))\n",
    "    print(\"\\n\")"
   ]
  },
  {
   "cell_type": "markdown",
   "id": "static-reverse",
   "metadata": {},
   "source": [
    "## Step 5. Summa을 이용해서 추출적 요약해보기\n",
    "\n",
    "추상적 요약은 추출적 요약과는 달리 문장의 표현력을 다양하게 가져갈 수 있지만, 추출적 요약에 비해서 난이도가 높아요. 반대로 말하면 추출적 요약은 추상적 요약에 비해 난이도가 낮고 기존 문장에서 문장을 꺼내오는 것이므로 잘못된 요약이 나올 가능성이 낮아요.\n",
    "\n",
    "Summa의 summarize를 사용하여 추출적 요약을 해보세요."
   ]
  },
  {
   "cell_type": "code",
   "execution_count": 61,
   "id": "informational-small",
   "metadata": {},
   "outputs": [],
   "source": [
    "import requests\n",
    "import numpy as np\n",
    "from summa.summarizer import summarize\n",
    "from summa.keywords import keywords"
   ]
  },
  {
   "cell_type": "code",
   "execution_count": 62,
   "id": "foreign-monte",
   "metadata": {},
   "outputs": [],
   "source": [
    "data = pd.read_csv('news_summary_more.csv', encoding='iso-8859-1')"
   ]
  },
  {
   "cell_type": "code",
   "execution_count": 69,
   "id": "bottom-consciousness",
   "metadata": {},
   "outputs": [],
   "source": [
    "data['summa_headlines'] = data['headlines']"
   ]
  },
  {
   "cell_type": "code",
   "execution_count": 70,
   "id": "gothic-allah",
   "metadata": {},
   "outputs": [
    {
     "data": {
      "text/plain": [
       "headlines              0\n",
       "text                   0\n",
       "summa_headlines    97593\n",
       "dtype: int64"
      ]
     },
     "execution_count": 70,
     "metadata": {},
     "output_type": "execute_result"
    }
   ],
   "source": [
    "for i in range(len(data)):\n",
    "    data['summa_headlines'][i] = summarize(data['text'][i])\n",
    "\n",
    "data.replace('', np.nan, inplace=True)\n",
    "data.isnull().sum()"
   ]
  },
  {
   "cell_type": "code",
   "execution_count": 71,
   "id": "intensive-lightweight",
   "metadata": {},
   "outputs": [],
   "source": [
    "data.dropna(axis=0, inplace=True)"
   ]
  },
  {
   "cell_type": "code",
   "execution_count": 72,
   "id": "designed-spain",
   "metadata": {},
   "outputs": [
    {
     "data": {
      "text/plain": [
       "808"
      ]
     },
     "execution_count": 72,
     "metadata": {},
     "output_type": "execute_result"
    }
   ],
   "source": [
    "len(data)"
   ]
  },
  {
   "cell_type": "code",
   "execution_count": 74,
   "id": "copyrighted-international",
   "metadata": {
    "scrolled": true
   },
   "outputs": [
    {
     "data": {
      "text/html": [
       "<div>\n",
       "<style scoped>\n",
       "    .dataframe tbody tr th:only-of-type {\n",
       "        vertical-align: middle;\n",
       "    }\n",
       "\n",
       "    .dataframe tbody tr th {\n",
       "        vertical-align: top;\n",
       "    }\n",
       "\n",
       "    .dataframe thead th {\n",
       "        text-align: right;\n",
       "    }\n",
       "</style>\n",
       "<table border=\"1\" class=\"dataframe\">\n",
       "  <thead>\n",
       "    <tr style=\"text-align: right;\">\n",
       "      <th></th>\n",
       "      <th>summa_headlines</th>\n",
       "    </tr>\n",
       "  </thead>\n",
       "  <tbody>\n",
       "    <tr>\n",
       "      <th>10962</th>\n",
       "      <td>And for a bank which is present in USA we will...</td>\n",
       "    </tr>\n",
       "    <tr>\n",
       "      <th>17258</th>\n",
       "      <td>Congress chief Rahul Gandhi has claimed that t...</td>\n",
       "    </tr>\n",
       "    <tr>\n",
       "      <th>1765</th>\n",
       "      <td>India wicketkeeper-batsman Rishabh Pant, who w...</td>\n",
       "    </tr>\n",
       "    <tr>\n",
       "      <th>87510</th>\n",
       "      <td>'Sachin: A Billion Dreams' which released on F...</td>\n",
       "    </tr>\n",
       "    <tr>\n",
       "      <th>71952</th>\n",
       "      <td>Rapper-record producer Jay Z, during his perfo...</td>\n",
       "    </tr>\n",
       "  </tbody>\n",
       "</table>\n",
       "</div>"
      ],
      "text/plain": [
       "                                         summa_headlines\n",
       "10962  And for a bank which is present in USA we will...\n",
       "17258  Congress chief Rahul Gandhi has claimed that t...\n",
       "1765   India wicketkeeper-batsman Rishabh Pant, who w...\n",
       "87510  'Sachin: A Billion Dreams' which released on F...\n",
       "71952  Rapper-record producer Jay Z, during his perfo..."
      ]
     },
     "execution_count": 74,
     "metadata": {},
     "output_type": "execute_result"
    }
   ],
   "source": [
    "pd.DataFrame(data['summa_headlines'].sample(5))"
   ]
  },
  {
   "cell_type": "code",
   "execution_count": 80,
   "id": "adverse-worry",
   "metadata": {
    "scrolled": false
   },
   "outputs": [
    {
     "name": "stdout",
     "output_type": "stream",
     "text": [
      "원문 : Former Australia batsman Mark Waugh called former New Zealand captain and Brisbane Heat batsman Brendon McCullum a \"lucky c**t\" during a Big Bash League chat show on live TV. Waugh was talking about McCullum's favourite hobby outside of cricket, horse racing, when he uttered the word. \"He loves his horses. Good punter. He's a lucky c***...lucky punter too,\" Waugh said.\n",
      "실제 헤드라인 : Mark Waugh calls Brendon McCullum a 'lucky c**t' on live TV\n",
      "추출 요약 : He's a lucky c***...lucky punter too,\" Waugh said.\n",
      "\n",
      "\n",
      "원문 : Vedanta Resources Founder and Chairman Anil Agarwal said he won't retire soon and added the conglomerate's growth requires his \"aggression\" and \"risk-taking\" ability. \"Why should I hang [my boots]. I have a task [to finish],\" he said. \"Nobody can think of producing [5,00,000] barrels oil in such a short time... you [must] take the bull by the horn,\" he added.  \n",
      "실제 헤드라인 : Won't retire soon, Vedanta needs my aggression: Chairman\n",
      "추출 요약 : Vedanta Resources Founder and Chairman Anil Agarwal said he won't retire soon and added the conglomerate's growth requires his \"aggression\" and \"risk-taking\" ability.\n",
      "\n",
      "\n",
      "원문 : National Award-winning Malayali filmmaker Priyanandanan was attacked on Friday morning after he wrote a Facebook post on the Sabarimala issue. \"He was beaten up and water mixed with cow dung was flung on him. A probe is on,\" said police. \"I can identify the assailants. I suspect RSS-BJP workers were behind the attack,\" Priyanandan said.\n",
      "실제 헤드라인 : Cow dung thrown at National Award-winning director after FB post\n",
      "추출 요약 : I suspect RSS-BJP workers were behind the attack,\" Priyanandan said.\n",
      "\n",
      "\n",
      "원문 : Kangana Ranaut starrer 'Manikarnika: The Queen of Jhansi', which released today, \"is a well-made historical with the right scale, emotional quotient and battle sequences,\" said Bollywood Hungama. \"'Manikarnika'... highlights Kangana's prowess as an actor,\" said The Times of India (TOI). Koimoi wrote that the film has \"polished action sequences\". It has been rated 3.5/5 (Bollywood Hungama, TOI, Koimoi).\n",
      "실제 헤드라인 : Kangana Ranaut starrer 'Manikarnika' hits the theatres\n",
      "추출 요약 : Kangana Ranaut starrer 'Manikarnika: The Queen of Jhansi', which released today, \"is a well-made historical with the right scale, emotional quotient and battle sequences,\" said Bollywood Hungama.\n",
      "\n",
      "\n",
      "원문 : Kartik Aaryan, who made his debut with 'Pyaar Ka Punchnama' in 2011, said, \"I like thrillers and the anti-hero zone. I love watching them. I'd like to do something in this, other than comedy.\" \"I'm offered a lot of comedy films. I want to do serious films now,\" he added. Kartik further said comedy's the most difficult thing to do.\n",
      "실제 헤드라인 : Want to do something other than comedy now: Kartik Aaryan\n",
      "추출 요약 : I'd like to do something in this, other than comedy.\" \"I'm offered a lot of comedy films.\n",
      "\n",
      "\n"
     ]
    }
   ],
   "source": [
    "for i in range(5):\n",
    "    print(\"원문 :\", data['text'].iloc[i])\n",
    "    print(\"실제 헤드라인 :\", data['headlines'].iloc[i])\n",
    "    print(\"추출 요약 :\", data['summa_headlines'].iloc[i])\n",
    "    print(\"\\n\")"
   ]
  },
  {
   "cell_type": "markdown",
   "id": "distinct-justice",
   "metadata": {},
   "source": [
    "## 루브릭\n",
    "\n",
    "아래의 기준을 바탕으로 프로젝트를 평가합니다.\n",
    "\n",
    "|평가문항|상세기준|\n",
    "|:---|:---|\n",
    "|1. Abstractive 모델 구성을 위한 텍스트 전처리 단계가 체계적으로 진행되었다.|분석단계, 정제단계, 정규화와 불용어 제거, 데이터셋 분리, 인코딩 과정이 빠짐없이 체계적으로 진행되었다.|\n",
    "|2. 텍스트 요약모델이 성공적으로 학습되었음을 확인하였다.|모델학습이 안정적으로 수렴되었음을 그래프를 통해 확인하였으며, 실제 요약문과 유사한 요약문장을 얻을 수 있었다.|\n",
    "|3. Extractive 요약을 시도해 보고 Abstractive 요약 결과과 함께 비교해 보았다.|두 요약 결과를 문법완성도 측면과 핵심단어 포함 측면으로 나누어 비교분석 결과를 제시하였다.|"
   ]
  },
  {
   "cell_type": "markdown",
   "id": "certified-traffic",
   "metadata": {},
   "source": [
    "## 후기\n",
    "\n",
    "코드를 따라 돌려보는 것은 충분히 좋은 경험인데, 하나하나 뜯어 살펴 공부할 시간이 부족합니다.  \n",
    "뭔가 체계적으로 공부가 되지 않는 느낌이네요."
   ]
  }
 ],
 "metadata": {
  "kernelspec": {
   "display_name": "aiffel",
   "language": "python",
   "name": "aiffel"
  },
  "language_info": {
   "codemirror_mode": {
    "name": "ipython",
    "version": 3
   },
   "file_extension": ".py",
   "mimetype": "text/x-python",
   "name": "python",
   "nbconvert_exporter": "python",
   "pygments_lexer": "ipython3",
   "version": "3.7.9"
  },
  "toc": {
   "base_numbering": 1,
   "nav_menu": {},
   "number_sections": false,
   "sideBar": true,
   "skip_h1_title": false,
   "title_cell": "Table of Contents",
   "title_sidebar": "Contents",
   "toc_cell": false,
   "toc_position": {},
   "toc_section_display": true,
   "toc_window_display": true
  }
 },
 "nbformat": 4,
 "nbformat_minor": 5
}
