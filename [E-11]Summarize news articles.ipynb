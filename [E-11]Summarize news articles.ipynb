{
 "cells": [
  {
   "cell_type": "markdown",
   "id": "dangerous-encounter",
   "metadata": {},
   "source": [
    "# 11-13. 프로젝트: 뉴스기사 요약해보기\n",
    "\n",
    "새로운 데이터셋에 대해서 추상적 요약과 추출적 요약을 모두 해보는 시간을 가져봐요."
   ]
  },
  {
   "cell_type": "markdown",
   "id": "accomplished-wholesale",
   "metadata": {},
   "source": [
    "## Step 1. 데이터 수집하기\n",
    "\n",
    "데이터는 아래 링크에 있는 뉴스 기사 데이터(newssummarymore.csv)를 사용하세요.  \n",
    "[sunnysai12345/News_Summary](https://github.com/sunnysai12345/News_Summary)\n",
    "\n",
    "아래의 코드로 데이터를 다운로드 할 수 있어요."
   ]
  },
  {
   "cell_type": "code",
   "execution_count": 2,
   "id": "apart-induction",
   "metadata": {},
   "outputs": [],
   "source": [
    "import pandas as pd"
   ]
  },
  {
   "cell_type": "code",
   "execution_count": 3,
   "id": "literary-schedule",
   "metadata": {},
   "outputs": [],
   "source": [
    "import urllib.request\n",
    "urllib.request.urlretrieve(\n",
    "    \"https://raw.githubusercontent.com/sunnysai12345/News_Summary/master/news_summary_more.csv\", filename=\"news_summary_more.csv\")\n",
    "data = pd.read_csv('news_summary_more.csv', encoding='iso-8859-1')"
   ]
  },
  {
   "cell_type": "code",
   "execution_count": 4,
   "id": "entertaining-rebound",
   "metadata": {},
   "outputs": [
    {
     "data": {
      "text/html": [
       "<div>\n",
       "<style scoped>\n",
       "    .dataframe tbody tr th:only-of-type {\n",
       "        vertical-align: middle;\n",
       "    }\n",
       "\n",
       "    .dataframe tbody tr th {\n",
       "        vertical-align: top;\n",
       "    }\n",
       "\n",
       "    .dataframe thead th {\n",
       "        text-align: right;\n",
       "    }\n",
       "</style>\n",
       "<table border=\"1\" class=\"dataframe\">\n",
       "  <thead>\n",
       "    <tr style=\"text-align: right;\">\n",
       "      <th></th>\n",
       "      <th>headlines</th>\n",
       "      <th>text</th>\n",
       "    </tr>\n",
       "  </thead>\n",
       "  <tbody>\n",
       "    <tr>\n",
       "      <th>14867</th>\n",
       "      <td>Truecaller launches chat feature to curb sprea...</td>\n",
       "      <td>Swedish caller ID service Truecaller has launc...</td>\n",
       "    </tr>\n",
       "    <tr>\n",
       "      <th>72174</th>\n",
       "      <td>'Dangal' actress Fatima celebrates Eid with Aa...</td>\n",
       "      <td>Actress Fatima Sana Shaikh, known for starring...</td>\n",
       "    </tr>\n",
       "    <tr>\n",
       "      <th>505</th>\n",
       "      <td>Saudi Arabia seeks $430 bn in investments for ...</td>\n",
       "      <td>Saudi Arabia's Energy Minister Khalid al-Falih...</td>\n",
       "    </tr>\n",
       "    <tr>\n",
       "      <th>72278</th>\n",
       "      <td>Assam govt extends AFSPA for the first time in...</td>\n",
       "      <td>For the first time in 27 years, the Assam gove...</td>\n",
       "    </tr>\n",
       "    <tr>\n",
       "      <th>91848</th>\n",
       "      <td>Ã¢ÂÂ¹20L announced for kin of 4 martyred CRPF...</td>\n",
       "      <td>The Tamil Nadu government on Tuesday announced...</td>\n",
       "    </tr>\n",
       "    <tr>\n",
       "      <th>22368</th>\n",
       "      <td>Flipkart invests Ã¢ÂÂ¹452 crore into its paym...</td>\n",
       "      <td>Homegrown e-commerce firm Flipkart has investe...</td>\n",
       "    </tr>\n",
       "    <tr>\n",
       "      <th>42712</th>\n",
       "      <td>TDP calls for statewide protest in Andhra for ...</td>\n",
       "      <td>The Telugu Desam Party (TDP) has decided to ho...</td>\n",
       "    </tr>\n",
       "    <tr>\n",
       "      <th>95845</th>\n",
       "      <td>Govt lowers interest rate on small savings dep...</td>\n",
       "      <td>The government on Friday lowered the interest ...</td>\n",
       "    </tr>\n",
       "    <tr>\n",
       "      <th>82716</th>\n",
       "      <td>US to allow companies to file secretly for IPOs</td>\n",
       "      <td>US market regulator Securities and Exchange Co...</td>\n",
       "    </tr>\n",
       "    <tr>\n",
       "      <th>52997</th>\n",
       "      <td>Only PM Modi has courage to start talks with P...</td>\n",
       "      <td>National Conference Chief Farooq Abdullah on T...</td>\n",
       "    </tr>\n",
       "  </tbody>\n",
       "</table>\n",
       "</div>"
      ],
      "text/plain": [
       "                                               headlines  \\\n",
       "14867  Truecaller launches chat feature to curb sprea...   \n",
       "72174  'Dangal' actress Fatima celebrates Eid with Aa...   \n",
       "505    Saudi Arabia seeks $430 bn in investments for ...   \n",
       "72278  Assam govt extends AFSPA for the first time in...   \n",
       "91848  Ã¢ÂÂ¹20L announced for kin of 4 martyred CRPF...   \n",
       "22368  Flipkart invests Ã¢ÂÂ¹452 crore into its paym...   \n",
       "42712  TDP calls for statewide protest in Andhra for ...   \n",
       "95845  Govt lowers interest rate on small savings dep...   \n",
       "82716    US to allow companies to file secretly for IPOs   \n",
       "52997  Only PM Modi has courage to start talks with P...   \n",
       "\n",
       "                                                    text  \n",
       "14867  Swedish caller ID service Truecaller has launc...  \n",
       "72174  Actress Fatima Sana Shaikh, known for starring...  \n",
       "505    Saudi Arabia's Energy Minister Khalid al-Falih...  \n",
       "72278  For the first time in 27 years, the Assam gove...  \n",
       "91848  The Tamil Nadu government on Tuesday announced...  \n",
       "22368  Homegrown e-commerce firm Flipkart has investe...  \n",
       "42712  The Telugu Desam Party (TDP) has decided to ho...  \n",
       "95845  The government on Friday lowered the interest ...  \n",
       "82716  US market regulator Securities and Exchange Co...  \n",
       "52997  National Conference Chief Farooq Abdullah on T...  "
      ]
     },
     "execution_count": 4,
     "metadata": {},
     "output_type": "execute_result"
    }
   ],
   "source": [
    "data.sample(10)"
   ]
  },
  {
   "cell_type": "code",
   "execution_count": null,
   "id": "quality-specialist",
   "metadata": {},
   "outputs": [],
   "source": []
  }
 ],
 "metadata": {
  "kernelspec": {
   "display_name": "aiffel",
   "language": "python",
   "name": "aiffel"
  },
  "language_info": {
   "codemirror_mode": {
    "name": "ipython",
    "version": 3
   },
   "file_extension": ".py",
   "mimetype": "text/x-python",
   "name": "python",
   "nbconvert_exporter": "python",
   "pygments_lexer": "ipython3",
   "version": "3.7.9"
  },
  "toc": {
   "base_numbering": 1,
   "nav_menu": {},
   "number_sections": false,
   "sideBar": true,
   "skip_h1_title": false,
   "title_cell": "Table of Contents",
   "title_sidebar": "Contents",
   "toc_cell": false,
   "toc_position": {},
   "toc_section_display": true,
   "toc_window_display": false
  }
 },
 "nbformat": 4,
 "nbformat_minor": 5
}
