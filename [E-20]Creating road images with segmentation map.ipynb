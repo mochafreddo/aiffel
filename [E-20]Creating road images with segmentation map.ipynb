{
 "cells": [
  {
   "cell_type": "markdown",
   "id": "second-concord",
   "metadata": {
    "toc": true
   },
   "source": [
    "<h1>Table of Contents<span class=\"tocSkip\"></span></h1>\n",
    "<div class=\"toc\"><ul class=\"toc-item\"><li><span><a href=\"#20-13.-프로젝트-:-Segmentation-map으로-도로-이미지-만들기\" data-toc-modified-id=\"20-13.-프로젝트-:-Segmentation-map으로-도로-이미지-만들기-1\">20-13. 프로젝트 : Segmentation map으로 도로 이미지 만들기</a></span><ul class=\"toc-item\"><li><span><a href=\"#프로젝트-수행\" data-toc-modified-id=\"프로젝트-수행-1.1\">프로젝트 수행</a></span></li><li><span><a href=\"#루브릭\" data-toc-modified-id=\"루브릭-1.2\">루브릭</a></span></li><li><span><a href=\"#Postscript\" data-toc-modified-id=\"Postscript-1.3\">Postscript</a></span></li><li><span><a href=\"#Reference\" data-toc-modified-id=\"Reference-1.4\">Reference</a></span></li></ul></li></ul></div>"
   ]
  },
  {
   "cell_type": "markdown",
   "id": "excessive-hollow",
   "metadata": {},
   "source": [
    "# 20-13. 프로젝트 : Segmentation map으로 도로 이미지 만들기\n",
    "\n",
    "이전 Pix2Pix 논문에서 제시한 결과 중에 아래와 같은 실험 결과가 있었습니다. 도로의 레이블 정보를 활용해 이미지를 생성해낸 결과입니다.\n",
    "\n",
    "![](https://aiffelstaticprd.blob.core.windows.net/media/images/p2p_result_seg.max-800x600.png)\n",
    "\n",
    "이번 프로젝트는 위와 같은 데이터셋을 이용해 Pix2Pix를 학습시켜보는 것입니다. 데이터셋은 아래에서 다운로드할 수 있습니다.  \n",
    "1000개의 학습용 이미지 및 5개의 평가 이미지를 포함합니다.\n",
    "\n",
    "[cityscapes.zip](https://aiffelstaticprd.blob.core.windows.net/media/documents/cityscapes.zip)\n",
    "\n",
    "이전 포켓몬 데이터에서 사용했던 스케치와는 조금 다른 레이블 정보 이미지를 입력으로 사용하기 때문에, 전처리 과정에 대해 약간의 혼란이 있을 수 있지만 크게 다른 과정은 없습니다.  \n",
    "아래 Tensroflow에서 제공하는 Pix2Pix 튜토리얼은 위 이미지와 비슷한 레이블 정보 이미지를 사용하기 때문에 좋은 참고 자료가 될 수 있을 것 같습니다.\n",
    "\n",
    "프로젝트 시작에 어려움이 있다면 아래 튜토리얼을 참고하시면서 이번 프로젝트를 수행해봅시다.  \n",
    "(아래 튜토리얼은 Pix2Pix 구조를 Functional API를 이용해 구현하기 때문에 이번에 진행한 Subclassing 방법을 이용한 모델 구현과 비교하면서 구현 방법에 대해서도 공부해 보시길 추천드립니다)\n",
    "\n",
    "- [Tensorflow Pix2Pix Tutorial](https://www.tensorflow.org/tutorials/generative/pix2pix?hl=ko)"
   ]
  },
  {
   "cell_type": "markdown",
   "id": "grave-apartment",
   "metadata": {},
   "source": [
    "## 프로젝트 수행\n",
    "---\n",
    "프로젝트를 진행하면서 필수로 수행해야 할 사항은 다음과 같습니다.\n",
    "\n",
    "1. 데이터에 한 가지 이상의 **augmentation 방법**을 적용하여 학습해주세요.\n",
    "(어떠한 방법을 사용했는지 적어주세요.)\n",
    "2. 이전에 구현했던 두 개의 Generator 중 Encoder와 Decoder간에 skip connection이 있는 **U-Net Generator**를 사용해주세요.\n",
    "3. 모델 학습 후, 학습된 Generator를 이용해 테스트합니다. 테스트 데이터는 다운받았던 \"val\" 폴더 내 이미지를 사용해주세요.\n",
    "4. 1개 이상의 이미지에 대해 테스트 과정을 거친 후 그 결과를 **스케치, 생성된 사진, 실제 사진 순서로 나란히 시각화**해 주세요.\n",
    "5. 모델을 충분히 학습하기에 시간이 부족할 수 있습니다. 적어도 10 epoch 이상 학습하며 **중간 손실 값에 대한 로그**를 남겨주세요. 좋은 결과를 얻기 위해선 긴 학습 시간이 필요하므로 테스트 결과는 만족스럽지 않아도 괜찮습니다."
   ]
  },
  {
   "cell_type": "markdown",
   "id": "gentle-playback",
   "metadata": {},
   "source": [
    "## 루브릭\n",
    "---\n",
    "아래의 기준을 바탕으로 프로젝트를 평가합니다.\n",
    "\n",
    "|평가문항|상세기준|\n",
    "|:---|:---|\n",
    "|1. pix2pix 모델 학습을 위해 필요한 데이터셋을 적절히 구축하였다.|데이터 분석 과정 및 한 가지 이상의 augmentation을 포함한 데이터셋 구축 과정이 체계적으로 제시되었다.|\n",
    "|2. pix2pix 모델을 구현하여 성공적으로 학습 과정을 진행하였다.|U-Net generator, discriminator 모델 구현이 완료되어 train_step이 안정적으로 진행됨을 확인하였다.|\n",
    "|3. 학습 과정 및 테스트에 대한 시각화 결과를 제출하였다.|10 epoch 이상의 학습을 진행한 후 최종 테스트 결과에서 진행한 epoch 수에 걸맞은 정도의 품질을 확인하였다.|"
   ]
  },
  {
   "cell_type": "markdown",
   "id": "happy-laugh",
   "metadata": {},
   "source": [
    "## Postscript\n",
    "---"
   ]
  },
  {
   "cell_type": "markdown",
   "id": "studied-camel",
   "metadata": {},
   "source": [
    "## Reference\n",
    "---"
   ]
  }
 ],
 "metadata": {
  "kernelspec": {
   "display_name": "aiffel",
   "language": "python",
   "name": "aiffel"
  },
  "language_info": {
   "codemirror_mode": {
    "name": "ipython",
    "version": 3
   },
   "file_extension": ".py",
   "mimetype": "text/x-python",
   "name": "python",
   "nbconvert_exporter": "python",
   "pygments_lexer": "ipython3",
   "version": "3.7.10"
  },
  "toc": {
   "base_numbering": 1,
   "nav_menu": {},
   "number_sections": false,
   "sideBar": true,
   "skip_h1_title": false,
   "title_cell": "Table of Contents",
   "title_sidebar": "Contents",
   "toc_cell": true,
   "toc_position": {},
   "toc_section_display": true,
   "toc_window_display": false
  }
 },
 "nbformat": 4,
 "nbformat_minor": 5
}
