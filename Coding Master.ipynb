{
 "cells": [
  {
   "cell_type": "markdown",
   "metadata": {},
   "source": [
    "# 파이썬 알고리즘 인터뷰"
   ]
  },
  {
   "cell_type": "markdown",
   "metadata": {},
   "source": [
    "## 2부. 파이썬"
   ]
  },
  {
   "cell_type": "markdown",
   "metadata": {},
   "source": [
    "### 6장. 문자열 조작"
   ]
  },
  {
   "cell_type": "markdown",
   "metadata": {},
   "source": [
    "---\n",
    "#### 01. 유효한 팰린드롬(Valid Palindrome)\n",
    "주어진 문자열이 팰린드롬인지 확인하라. 대소문자를 구분하지 않으며, 영문자와 숫자만을 대상으로 한다."
   ]
  },
  {
   "cell_type": "markdown",
   "metadata": {},
   "source": [
    "##### 나의 풀이"
   ]
  },
  {
   "cell_type": "code",
   "execution_count": 7,
   "metadata": {},
   "outputs": [
    {
     "name": "stdout",
     "output_type": "stream",
     "text": [
      "true\n"
     ]
    }
   ],
   "source": [
    "# 예제 1\n",
    "# 입력 : \"A man, a plan, a canal: Panama\"\n",
    "# 출력 : true\n",
    "\n",
    "import re\n",
    "\n",
    "# 입력\n",
    "input_sentence = \"A man, a plan, a canal: Panama\"\n",
    "\n",
    "# 영문자와 숫자만 남기고 제거 후 소문자로 변환\n",
    "origin_sentence = re.sub('[^a-zA-Z0-9]', '', input_sentence).lower()\n",
    "\n",
    "# 문자열 뒤집기\n",
    "reverse_sentence = origin_sentence[::-1]\n",
    "\n",
    "# 문자열 비교 후 결과 출력\n",
    "print(\"true\") if origin_sentence == reverse_sentence else print(\"false\")"
   ]
  },
  {
   "cell_type": "code",
   "execution_count": 3,
   "metadata": {},
   "outputs": [
    {
     "name": "stdout",
     "output_type": "stream",
     "text": [
      "false\n"
     ]
    }
   ],
   "source": [
    "# 예제 2\n",
    "# \"race a car\"\n",
    "# false\n",
    "\n",
    "import re\n",
    "\n",
    "# 입력\n",
    "input_sentence = \"race a car\"\n",
    "\n",
    "# 영문자와 숫자만 남기고 제거 후 소문자로 변환\n",
    "origin_sentence = re.sub('[^a-zA-Z0-9]', '', input_sentence).lower()\n",
    "\n",
    "# 문자열 뒤집기\n",
    "reverse_sentence = origin_sentence[::-1]\n",
    "\n",
    "# 문자열 비교 후 결과 출력\n",
    "print(\"true\") if origin_sentence == reverse_sentence else print(\"false\")"
   ]
  },
  {
   "cell_type": "markdown",
   "metadata": {},
   "source": [
    "##### 풀이 1. 리스트로 변환"
   ]
  },
  {
   "cell_type": "code",
   "execution_count": 4,
   "metadata": {},
   "outputs": [],
   "source": [
    "def isPalindrome(self, s: str) -> bool:\n",
    "    strs = []\n",
    "    for char in s:\n",
    "        if char.isalnum():\n",
    "            strs.append(char.lower())\n",
    "\n",
    "    # 팰린드롬 여부 판별\n",
    "    while len(strs) > 1:\n",
    "        if strs.pop(0) != strs.pop():\n",
    "            return False\n",
    "\n",
    "    return True"
   ]
  },
  {
   "cell_type": "markdown",
   "metadata": {},
   "source": [
    "##### 풀이 2. 데크 자료형을 이용한 최적화"
   ]
  },
  {
   "cell_type": "code",
   "execution_count": 5,
   "metadata": {},
   "outputs": [],
   "source": [
    "def isPalindrome(self, s: str) -> bool:\n",
    "    # 자료형 데크로 선언\n",
    "    strs: Deque = collections.deque()\n",
    "\n",
    "    for char in s:\n",
    "        if char.isalnum():\n",
    "            strs.append(char.lower())\n",
    "\n",
    "    while len(strs) > 1:\n",
    "        if strs.popleft() != strs.pop():\n",
    "            return False\n",
    "\n",
    "    return True"
   ]
  },
  {
   "cell_type": "markdown",
   "metadata": {},
   "source": [
    "##### 풀이 3. 슬라이싱 사용"
   ]
  },
  {
   "cell_type": "code",
   "execution_count": 6,
   "metadata": {},
   "outputs": [],
   "source": [
    "def isPalindrome(self, s: str) -> bool:\n",
    "    s = s.lower()\n",
    "    # 정규식으로 불필요한 문자 필터링\n",
    "    s = re.sub('[^a-z0-9]', '', s)\n",
    "\n",
    "    return s == s[::-1]  # 슬라이싱"
   ]
  },
  {
   "cell_type": "markdown",
   "metadata": {},
   "source": [
    "---\n",
    "#### 02. 문자열 뒤집기(Reverse String)\n",
    "문자열을 뒤집는 함수를 작성하라. 입력값은 문자 배열이며, 리턴 없이 리스트 내부를 직접 조작하라.\n",
    "- 예제 1\n",
    "    - 입력 : `[\"h\", \"e\", \"l\", \"l\", \"o\"]`\n",
    "    - 출력 : `[\"o\", \"l\", \"l\", \"e\", \"h\"]`<br><br>\n",
    "- 예제 2\n",
    "    - 입력 : `[\"H\", \"a\", \"n\", \"n\", \"a\", \"h\"]`\n",
    "    - 출력 : `[\"h\", \"a\", \"n\", \"n\", \"a\", \"H\"]`"
   ]
  },
  {
   "cell_type": "markdown",
   "metadata": {},
   "source": [
    "##### 나의 풀이"
   ]
  },
  {
   "cell_type": "code",
   "execution_count": 25,
   "metadata": {},
   "outputs": [
    {
     "name": "stdout",
     "output_type": "stream",
     "text": [
      "['o', 'l', 'l', 'e', 'h']\n"
     ]
    }
   ],
   "source": [
    "def reverse_string(s: list):\n",
    "    for i in reversed(range(len(s)-1)):\n",
    "        s.append(s.pop(i))\n",
    "\n",
    "\n",
    "input_list = [\"h\", \"e\", \"l\", \"l\", \"o\"]\n",
    "reverse_string(input_list)\n",
    "print(input_list)"
   ]
  },
  {
   "cell_type": "markdown",
   "metadata": {},
   "source": [
    "##### 풀이 1. 투 포인터를 이용한 스왑"
   ]
  },
  {
   "cell_type": "code",
   "execution_count": null,
   "metadata": {},
   "outputs": [],
   "source": [
    "def reverseString(self, s: List[str]) -> None:\n",
    "    left, right = 0, len(s)-1\n",
    "    while left < right:\n",
    "        s[left], s[right] = s[right], s[left]\n",
    "        left += 1\n",
    "        right -= 1"
   ]
  },
  {
   "cell_type": "markdown",
   "metadata": {},
   "source": [
    "##### 풀이 2. 파이썬다운 방식"
   ]
  },
  {
   "cell_type": "code",
   "execution_count": null,
   "metadata": {},
   "outputs": [],
   "source": [
    "def reverseString(self, s: List[str]) -> None:\n",
    "    s.reverse()"
   ]
  },
  {
   "cell_type": "markdown",
   "metadata": {},
   "source": [
    "---\n",
    "#### 03. 로그 파일 재정렬 (Reorder Log Files)\n",
    "로그를 재정렬하라. 기준은 다음과 같다.\n",
    "1. 로그의 가장 앞 부분은 식별자다.\n",
    "2. 문자로 구성된 로그가 숫자 로그보다 앞에 온다.\n",
    "3. 식별자는 순서에 영향을 끼치지 않지만, 문자가 동일할 경우 식별자 순으로 한다.\n",
    "4. 숫자 로그는 입력 순서대로 한다.\n",
    "- 입력\n",
    "    - `log = [\"dig1 8 1 5 1\", \"let1 art can\", \"dig2 3 6\", \"let2 own kit dig\", \"let3 art zero\"]`\n",
    "- 출력\n",
    "    - `[\"let1 art can\", \"let3 art zero\", \"let2 own kit dig\", \"dig1 8 1 5 1\", \"dig2 3 6\"]`\n",
    "\n",
    "> 리트코드 원문과 내용이 달라 코드 작성에 어려움을 겪음."
   ]
  },
  {
   "cell_type": "markdown",
   "metadata": {},
   "source": [
    "##### 풀이 1. 람다와 + 연산자를 이용"
   ]
  },
  {
   "cell_type": "code",
   "execution_count": null,
   "metadata": {},
   "outputs": [],
   "source": [
    "def reorderLogFiles(self, logs: List[str]) -> List[str]:\n",
    "    letters, digits = [], []\n",
    "    for log in logs:\n",
    "        if log.split()[1].isdigit():\n",
    "            digits.append(log)\n",
    "        else:\n",
    "            letters.append(log)\n",
    "\n",
    "    # 2개의 키를 람다 표현식으로 정렬\n",
    "    letters.sort(key=lambda x: (x.split()[1:], x.split()[0]))\n",
    "    return letters+digits"
   ]
  },
  {
   "cell_type": "markdown",
   "metadata": {},
   "source": [
    "---\n",
    "#### 04. 가장 흔한 단어 (Most Common Word)\n",
    "금지된 단어를 제외한 가장 흔하게 등장하는 단어를 출력하라. 대소문자 구분을 하지 않으며, 구두점(마침표, 쉼표 등) 또한 무시한다.\n",
    "- 입력\n",
    "    - `paragraph = \"Bob hit a ball, the hit Ball flew far after it was hit.\"`\n",
    "    - `banned = [\"hit\"]`\n",
    "- 출력\n",
    "    - `\"ball\"`"
   ]
  },
  {
   "cell_type": "markdown",
   "metadata": {},
   "source": [
    "##### 나의 풀이"
   ]
  },
  {
   "cell_type": "code",
   "execution_count": 72,
   "metadata": {},
   "outputs": [
    {
     "name": "stdout",
     "output_type": "stream",
     "text": [
      "\"ball\"\n"
     ]
    }
   ],
   "source": [
    "import collections\n",
    "import re\n",
    "\n",
    "paragraph = \"Bob hit a ball, the hit Ball flew far after it was hit\"\n",
    "banned = [\"hit\"]\n",
    "\n",
    "sub_paragraph = re.sub(banned[0], '', paragraph)\n",
    "sub_paragraph = re.sub('[^a-zA-Z0-9 ]', '', sub_paragraph).lower()\n",
    "\n",
    "cnt = collections.Counter(sub_paragraph.split())\n",
    "print(\"\\\"\"+cnt.most_common(1)[0][0]+\"\\\"\")"
   ]
  },
  {
   "cell_type": "markdown",
   "metadata": {},
   "source": [
    "##### 풀이 1. 리스트 컴프리헨션, Counter 객체 사용"
   ]
  },
  {
   "cell_type": "code",
   "execution_count": null,
   "metadata": {},
   "outputs": [],
   "source": [
    "def mostCommonWord(self, paragraph: str, banned: List[str]) -> str:\n",
    "    words = [word for word in re.sub(\n",
    "        r'[^\\w]', ' ', paragraph).lower().split() if word not in banned]\n",
    "\n",
    "    counts = collections.Counter(words)\n",
    "    # 가장 흔하게 등장ㅇ하는 단어의 첫 번째 인덱스 리턴\n",
    "    return counts.most_common(1)[0][0]"
   ]
  },
  {
   "cell_type": "markdown",
   "metadata": {},
   "source": [
    "---\n",
    "#### 05. 그룹 애너그램 (Group Anagrams)\n",
    "문자열 배열을 받아 애너그램 단위로 그룹핑하라.\n",
    "- 입력\n",
    "    - `[\"eat\", \"tea\", \"tan\", \"ate\", \"nat\", \"bat\"]`\n",
    "- 출력\n",
    "    - ```[\n",
    "        [\"ate\", \"eat\", \"tea\"],\n",
    "        [\"nat\", \"tan\"],\n",
    "        [\"bat\"]\n",
    "    ]```"
   ]
  },
  {
   "cell_type": "markdown",
   "metadata": {},
   "source": [
    "##### 나의 풀이"
   ]
  },
  {
   "cell_type": "code",
   "execution_count": 252,
   "metadata": {},
   "outputs": [
    {
     "name": "stdout",
     "output_type": "stream",
     "text": [
      "[['bat'], ['nat', 'tan'], ['ate', 'tea', 'eat']]\n"
     ]
    }
   ],
   "source": [
    "import collections\n",
    "import re\n",
    "\n",
    "words = [\"eat\", \"tea\", \"tan\", \"ate\", \"nat\", \"bat\"]\n",
    "output_list, temp_list = [], []\n",
    "\n",
    "while words:\n",
    "    temp_list.append(words.pop())\n",
    "\n",
    "    for output in output_list:\n",
    "\n",
    "        if collections.Counter(temp_list[0]) == collections.Counter(output[0]):\n",
    "            output.append(temp_list.copy()[0])\n",
    "            temp_list.clear()\n",
    "            break\n",
    "\n",
    "    if temp_list:\n",
    "        output_list.append(temp_list.copy())\n",
    "        temp_list.clear()\n",
    "\n",
    "print(output_list)"
   ]
  },
  {
   "cell_type": "markdown",
   "metadata": {},
   "source": [
    "##### 풀이 1. 정렬하여 딕셔너리에 추가"
   ]
  },
  {
   "cell_type": "code",
   "execution_count": null,
   "metadata": {},
   "outputs": [],
   "source": [
    "def groupAnagrams(self, strs: List[str]) -> List[List[str]]:\n",
    "    anagrams = collections.defaultdict(list)\n",
    "\n",
    "    for word in strs:\n",
    "        # 정렬하여 딕셔너리에 추가\n",
    "        anagrams[''.join(sorted(word))].append(word)\n",
    "    return anagrams.values()"
   ]
  },
  {
   "cell_type": "markdown",
   "metadata": {},
   "source": [
    "---\n",
    "#### 06. 가장 긴 팰린드롬 부분 문자열\n",
    "가장 긴 팰린드롬 부분 문자열을 출력하라.\n",
    "- 예제 1\n",
    "    - 입력\n",
    "        - `\"babad\"`\n",
    "    - 출력\n",
    "        - `\"bab\"`\n",
    "    - 설명\n",
    "        - \"bab\" 외에 \"aba\"도 정답이다.\n",
    "- 예제 2\n",
    "    - 입력\n",
    "        - `\"cbbd\"`\n",
    "    - 출력\n",
    "        - `\"bb\"`"
   ]
  },
  {
   "cell_type": "markdown",
   "metadata": {},
   "source": [
    "##### 나의 풀이"
   ]
  },
  {
   "cell_type": "code",
   "execution_count": null,
   "metadata": {},
   "outputs": [],
   "source": []
  }
 ],
 "metadata": {
  "kernelspec": {
   "display_name": "aiffel",
   "language": "python",
   "name": "aiffel"
  },
  "language_info": {
   "codemirror_mode": {
    "name": "ipython",
    "version": 3
   },
   "file_extension": ".py",
   "mimetype": "text/x-python",
   "name": "python",
   "nbconvert_exporter": "python",
   "pygments_lexer": "ipython3",
   "version": "3.7.9"
  },
  "toc": {
   "base_numbering": 1,
   "nav_menu": {},
   "number_sections": false,
   "sideBar": true,
   "skip_h1_title": false,
   "title_cell": "Table of Contents",
   "title_sidebar": "Contents",
   "toc_cell": false,
   "toc_position": {
    "height": "calc(100% - 180px)",
    "left": "10px",
    "top": "150px",
    "width": "370.594px"
   },
   "toc_section_display": true,
   "toc_window_display": true
  },
  "varInspector": {
   "cols": {
    "lenName": 16,
    "lenType": 16,
    "lenVar": 40
   },
   "kernels_config": {
    "python": {
     "delete_cmd_postfix": "",
     "delete_cmd_prefix": "del ",
     "library": "var_list.py",
     "varRefreshCmd": "print(var_dic_list())"
    },
    "r": {
     "delete_cmd_postfix": ") ",
     "delete_cmd_prefix": "rm(",
     "library": "var_list.r",
     "varRefreshCmd": "cat(var_dic_list()) "
    }
   },
   "types_to_exclude": [
    "module",
    "function",
    "builtin_function_or_method",
    "instance",
    "_Feature"
   ],
   "window_display": false
  }
 },
 "nbformat": 4,
 "nbformat_minor": 4
}
