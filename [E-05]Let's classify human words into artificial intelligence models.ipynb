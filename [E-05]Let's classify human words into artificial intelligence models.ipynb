{
 "cells": [
  {
   "cell_type": "markdown",
   "id": "technical-campaign",
   "metadata": {},
   "source": [
    "# 5-7. 프로젝트: Spectrogram classification 모델 구현\n",
    "\n",
    "그래서 오늘은 방금 든 궁금증을 해결해 보는 것으로 프로젝트를 진행해 봅니다.\n",
    "\n",
    "오늘 실습에서 1차원 Waveform 데이터를 입력받아 Text 라벨을 출력하는 모델을 기본 버전과 Skip-connection 버전으로 나누어 학습시켜 보았습니다. 이번에는 2차원 Spectrogram 데이터를 입력받아 위 모델과 동일한 역할을 수행하는 모델을 아래 제시된 단계와 같이 수행해 보시기 바랍니다. 이번에도 마찬가지로 기본 버전과 Skip-connection 버전으로 나누어 각각 진행해 보시기 바랍니다.  \n",
    "모델 구조를 제외하고는 실습에서 제시된 것과 거의 동일하게 진행될 것입니다.\n",
    "\n",
    "---"
   ]
  },
  {
   "cell_type": "markdown",
   "id": "under-sphere",
   "metadata": {},
   "source": [
    "#### 1. 데이터 처리와 분류\n",
    "- 라벨 데이터 처리하기"
   ]
  },
  {
   "cell_type": "code",
   "execution_count": 53,
   "id": "optional-domain",
   "metadata": {},
   "outputs": [],
   "source": [
    "import numpy as np\n",
    "import matplotlib.pyplot as plt\n",
    "import os\n",
    "import IPython.display as ipd\n",
    "import random\n",
    "from sklearn.model_selection import train_test_split\n",
    "import tensorflow as tf\n",
    "import librosa\n",
    "import librosa.display\n",
    "from tensorflow.keras import layers"
   ]
  },
  {
   "cell_type": "code",
   "execution_count": 2,
   "id": "serial-motel",
   "metadata": {},
   "outputs": [],
   "source": [
    "data_path = os.getenv(\"HOME\")+'/speech_recognition/data/speech_wav_8000.npz'\n",
    "speech_data = np.load(data_path)\n",
    "\n",
    "# speech_data[\"wav_vals\"].shape => (50620, 8000)\n",
    "# speech_data[label_vals\"].shape => (50620, 1)\n",
    "\n",
    "# 주어진 데이터의 원래 sample rate는 16000이지만, 8000으로 re-sampling해서 사용.\n",
    "# 모두 1초 길이를 가지는 오디오 음성데이터여서 각각 8000개의 sample data를 가지고 있다."
   ]
  },
  {
   "cell_type": "code",
   "execution_count": 3,
   "id": "gentle-delta",
   "metadata": {},
   "outputs": [],
   "source": [
    "# text로 이루어진 라벨 데이터를 학습에 사용하기 위해 index 형태로 바꿔주는 작업을 한다.\n",
    "target_list = ['yes', 'no', 'up', 'down',\n",
    "               'left', 'right', 'on', 'off', 'stop', 'go']\n",
    "\n",
    "label_value = target_list\n",
    "label_value.append('unknown')\n",
    "label_value.append('silence')\n",
    "\n",
    "new_label_value = dict()\n",
    "for i, l in enumerate(label_value):\n",
    "    new_label_value[l] = i\n",
    "label_value = new_label_value\n",
    "\n",
    "# int로 이루어진 index 작업을 통해 label data를 더 쉽게 사용할 수 있다.\n",
    "temp = []\n",
    "for v in speech_data[\"label_vals\"][:30000, :]:\n",
    "    temp.append(label_value[v[0]])\n",
    "label_data = np.array(temp)"
   ]
  },
  {
   "cell_type": "code",
   "execution_count": 4,
   "id": "republican-sheet",
   "metadata": {},
   "outputs": [],
   "source": [
    "# spectrogram shape을 맞추기위해서 size 변형\n",
    "def wav2spec(wav, fft_size=258):\n",
    "    D = np.abs(librosa.stft(wav, n_fft=fft_size))\n",
    "    return D"
   ]
  },
  {
   "cell_type": "code",
   "execution_count": 5,
   "id": "revised-access",
   "metadata": {},
   "outputs": [],
   "source": [
    "# 1차원의 Wavaform 데이터를 2차원의 Spectrogram 데이터로 변환\n",
    "spec_data = []\n",
    "for wav in speech_data[\"wav_vals\"][:30000, :]:\n",
    "    spec_data.append(wav2spec(wav))\n",
    "\n",
    "spec_data = np.array(spec_data)"
   ]
  },
  {
   "cell_type": "code",
   "execution_count": null,
   "id": "alternative-morning",
   "metadata": {},
   "outputs": [],
   "source": [
    "librosa.display.specshow(librosa.amplitude_to_db(\n",
    "    spec_data[0], ref=np.max), x_axis='time')\n",
    "plt.title('Power spectrogram')\n",
    "plt.colorbar(format='%+2.0f dB')\n",
    "plt.xticks(range(0, 1))\n",
    "plt.tight_layout()\n",
    "plt.show()"
   ]
  },
  {
   "cell_type": "markdown",
   "id": "interracial-bride",
   "metadata": {},
   "source": [
    "- `sklearn`의 `train_test_split`함수를 이용하여 train, test 분리"
   ]
  },
  {
   "cell_type": "code",
   "execution_count": 7,
   "id": "southern-small",
   "metadata": {},
   "outputs": [],
   "source": [
    "# sr = 8000\n",
    "# train_wav, test_wav, train_label, test_label = train_test_split(\n",
    "#     speech_data[\"wav_vals\"], label_data, test_size=0.1, shuffle=True)\n",
    "train_wav, test_wav, train_label, test_label = train_test_split(\n",
    "    spec_data, label_data, test_size=0.1, shuffle=True)"
   ]
  },
  {
   "cell_type": "code",
   "execution_count": 8,
   "id": "seventh-market",
   "metadata": {},
   "outputs": [],
   "source": [
    "# add channel for CNN\n",
    "# train_wav = train_wav.reshape([-1, sr, 1])\n",
    "# test_wav = test_wav.reshape([-1, sr, 1])\n",
    "\n",
    "# train_wav.shape => (45558, 8000, 1)\n",
    "# train_label.shape => (45558,)\n",
    "# test_wav.shape => (5062, 8000, 1)\n",
    "# test_label.shape => (5062,)"
   ]
  },
  {
   "cell_type": "markdown",
   "id": "adjustable-greek",
   "metadata": {},
   "source": [
    "#### 2. 학습을 위한 하이퍼파라미터 설정"
   ]
  },
  {
   "cell_type": "code",
   "execution_count": 9,
   "id": "twenty-margin",
   "metadata": {},
   "outputs": [],
   "source": [
    "batch_size = 32\n",
    "max_epochs = 10\n",
    "\n",
    "# 모델 체크포인트 저장을 위한 체크포인트의 경로를 설정해준다.\n",
    "# 후에 모델 체크포인트 Callback 함수를 설정하거나, 모델을 불러올 때 사용한다.\n",
    "checkpoint_dir = os.getenv('HOME')+'/speech_recognition/models/wav'"
   ]
  },
  {
   "cell_type": "markdown",
   "id": "ranging-uganda",
   "metadata": {},
   "source": [
    "#### 3. 데이터셋 구성\n",
    "- `tf.data.Dataset`을 이용\n",
    "- from_tensor_slices 함수에 return 받길 원하는 데이터를 튜플 (data, label) 형태로 넣어서 사용\n",
    "- map과 batch를 이용한 데이터 전처리\n",
    "- 주의 : waveform을 spectrogram으로 변환하기 위해 추가로 사용하는 메모리 때문에 이후 메모리 부족 현상을 겪게 될수도 있습니다.\n",
    "`tf.data.Dataset`이 생성된 이후, 아래 예시와 같이 wav 데이터나 spectrogram 데이터를 담아둔 메모리 버퍼를 비워 주면 도움이 됩니다.\n",
    "```\n",
    "del speech_data\n",
    "del spec_data\n",
    "```"
   ]
  },
  {
   "cell_type": "code",
   "execution_count": 10,
   "id": "alpine-header",
   "metadata": {},
   "outputs": [],
   "source": [
    "# map 함수에 넘겨줄 데이터 전처리 함수\n",
    "def one_hot_label(wav, label):\n",
    "    label = tf.one_hot(label, depth=12)\n",
    "    return wav, label"
   ]
  },
  {
   "cell_type": "code",
   "execution_count": 11,
   "id": "fallen-reasoning",
   "metadata": {},
   "outputs": [],
   "source": [
    "# tf.data.Dataset 함수를 구성\n",
    "# batch는 dataset에서 제공하는 튜플 형태의 데이터를 얼마나 가져올지 결정하는 함수\n",
    "\n",
    "# for train\n",
    "train_dataset = tf.data.Dataset.from_tensor_slices((train_wav, train_label))\n",
    "train_dataset = train_dataset.map(one_hot_label)\n",
    "train_dataset = train_dataset.repeat().batch(batch_size=batch_size)\n",
    "\n",
    "# for test\n",
    "test_dataset = tf.data.Dataset.from_tensor_slices((test_wav, test_label))\n",
    "test_dataset = test_dataset.map(one_hot_label)\n",
    "test_dataset = test_dataset.batch(batch_size=batch_size)"
   ]
  },
  {
   "cell_type": "code",
   "execution_count": 14,
   "id": "civil-infection",
   "metadata": {},
   "outputs": [],
   "source": [
    "del speech_data\n",
    "del spec_data"
   ]
  },
  {
   "cell_type": "markdown",
   "id": "desperate-testimony",
   "metadata": {},
   "source": [
    "#### 4. 2차원 Spectrogram 데이터를 처리하는 모델 구성\n",
    "- 2차원 Spectrogram 데이터의 시간축 방향으로 Conv1D layer를 적용, 혹은 Conv2D layer를 적용 가능\n",
    "- batchnorm, dropout, dense layer 등을 이용\n",
    "- 12개의 단어 class를 구분하는 loss를 사용하고 Adam optimizer를 사용\n",
    "- 모델 가중치를 저장하는 checkpoint callback 함수 추가\n",
    "- 다양한 모델의 실험을 진행해 보시기 바랍니다."
   ]
  },
  {
   "cell_type": "code",
   "execution_count": 64,
   "id": "checked-biology",
   "metadata": {
    "scrolled": true
   },
   "outputs": [
    {
     "name": "stdout",
     "output_type": "stream",
     "text": [
      "Model: \"model_4\"\n",
      "_________________________________________________________________\n",
      "Layer (type)                 Output Shape              Param #   \n",
      "=================================================================\n",
      "input_5 (InputLayer)         [(None, 130, 126)]        0         \n",
      "_________________________________________________________________\n",
      "conv1d_40 (Conv1D)           (None, 130, 32)           36320     \n",
      "_________________________________________________________________\n",
      "conv1d_41 (Conv1D)           (None, 130, 32)           9248      \n",
      "_________________________________________________________________\n",
      "max_pooling1d_16 (MaxPooling (None, 65, 32)            0         \n",
      "_________________________________________________________________\n",
      "conv1d_42 (Conv1D)           (None, 65, 64)            18496     \n",
      "_________________________________________________________________\n",
      "conv1d_43 (Conv1D)           (None, 65, 64)            36928     \n",
      "_________________________________________________________________\n",
      "max_pooling1d_17 (MaxPooling (None, 32, 64)            0         \n",
      "_________________________________________________________________\n",
      "conv1d_44 (Conv1D)           (None, 32, 128)           73856     \n",
      "_________________________________________________________________\n",
      "conv1d_45 (Conv1D)           (None, 32, 128)           147584    \n",
      "_________________________________________________________________\n",
      "conv1d_46 (Conv1D)           (None, 32, 128)           147584    \n",
      "_________________________________________________________________\n",
      "max_pooling1d_18 (MaxPooling (None, 16, 128)           0         \n",
      "_________________________________________________________________\n",
      "conv1d_47 (Conv1D)           (None, 16, 256)           295168    \n",
      "_________________________________________________________________\n",
      "conv1d_48 (Conv1D)           (None, 16, 256)           590080    \n",
      "_________________________________________________________________\n",
      "conv1d_49 (Conv1D)           (None, 16, 256)           590080    \n",
      "_________________________________________________________________\n",
      "max_pooling1d_19 (MaxPooling (None, 8, 256)            0         \n",
      "_________________________________________________________________\n",
      "dropout_4 (Dropout)          (None, 8, 256)            0         \n",
      "_________________________________________________________________\n",
      "flatten_4 (Flatten)          (None, 2048)              0         \n",
      "_________________________________________________________________\n",
      "dense_8 (Dense)              (None, 256)               524544    \n",
      "_________________________________________________________________\n",
      "batch_normalization_4 (Batch (None, 256)               1024      \n",
      "_________________________________________________________________\n",
      "activation_4 (Activation)    (None, 256)               0         \n",
      "_________________________________________________________________\n",
      "dense_9 (Dense)              (None, 12)                3084      \n",
      "=================================================================\n",
      "Total params: 2,473,996\n",
      "Trainable params: 2,473,484\n",
      "Non-trainable params: 512\n",
      "_________________________________________________________________\n"
     ]
    }
   ],
   "source": [
    "input_tensor = layers.Input(shape=(130, 126))\n",
    "\n",
    "x = layers.Conv1D(32, 9, padding='same', activation='relu')(input_tensor)\n",
    "x = layers.Conv1D(32, 9, padding='same', activation='relu')(x)\n",
    "x = layers.MaxPool1D()(x)\n",
    "\n",
    "x = layers.Conv1D(64, 9, padding='same', activation='relu')(x)\n",
    "x = layers.Conv1D(64, 9, padding='same', activation='relu')(x)\n",
    "x = layers.MaxPool1D()(x)\n",
    "\n",
    "x = layers.Conv1D(128, 9, padding='same', activation='relu')(x)\n",
    "x = layers.Conv1D(128, 9, padding='same', activation='relu')(x)\n",
    "x = layers.Conv1D(128, 9, padding='same', activation='relu')(x)\n",
    "x = layers.MaxPool1D()(x)\n",
    "\n",
    "x = layers.Conv1D(256, 9, padding='same', activation='relu')(x)\n",
    "x = layers.Conv1D(256, 9, padding='same', activation='relu')(x)\n",
    "x = layers.Conv1D(256, 9, padding='same', activation='relu')(x)\n",
    "x = layers.MaxPool1D()(x)\n",
    "x = layers.Dropout(0.3)(x)\n",
    "\n",
    "x = layers.Flatten()(x)\n",
    "x = layers.Dense(256)(x)\n",
    "x = layers.BatchNormalization()(x)\n",
    "x = layers.Activation('relu')(x)\n",
    "\n",
    "output_tensor = layers.Dense(12)(x)\n",
    "\n",
    "model_wav = tf.keras.Model(input_tensor, output_tensor)\n",
    "\n",
    "model_wav.summary()"
   ]
  },
  {
   "cell_type": "code",
   "execution_count": 65,
   "id": "shared-baseball",
   "metadata": {},
   "outputs": [],
   "source": [
    "# label : 12개의 단어 class\n",
    "# multi-class classification이 필요\n",
    "# 이를 수행하기 위한 loss로 categorical cross-entropy loss를 사용\n",
    "\n",
    "optimizer = tf.keras.optimizers.Adam(1e-4)\n",
    "model_wav.compile(loss=tf.keras.losses.CategoricalCrossentropy(\n",
    "    from_logits=True), optimizer=optimizer, metrics=['accuracy'])"
   ]
  },
  {
   "cell_type": "code",
   "execution_count": 66,
   "id": "first-demand",
   "metadata": {},
   "outputs": [],
   "source": [
    "# callback 함수를 이용해 학습 중간중간에 원하는 동작을 하도록 설정할 수 있다.\n",
    "# 모델을 재사용하기 위해 모델 가중치를 저장하는 callback 함수를 추가.\n",
    "\n",
    "# model checkpoint callback은 모델의 학습을 진행하며,\n",
    "# fit 함수 내 다양한 인자를 지정해 모니터하며 동작하게 설정할 수 있다.\n",
    "\n",
    "# 현재 모델은 validation loss를 모니터하며,\n",
    "# loss가 낮아지면 모델 파라미터를 저장하도록 구성.\n",
    "\n",
    "cp_callback = tf.keras.callbacks.ModelCheckpoint(checkpoint_dir,\n",
    "                                                 save_weights_only=True,\n",
    "                                                 monitor='val_loss',\n",
    "                                                 mode='auto',\n",
    "                                                 save_best_only=True,\n",
    "                                                 verbose=1)"
   ]
  },
  {
   "cell_type": "code",
   "execution_count": 67,
   "id": "collected-pepper",
   "metadata": {},
   "outputs": [
    {
     "name": "stdout",
     "output_type": "stream",
     "text": [
      "Epoch 1/4\n",
      "838/843 [============================>.] - ETA: 0s - loss: 1.4865 - accuracy: 0.4755\n",
      "Epoch 00001: val_loss improved from inf to 0.93605, saving model to /home/aiffel-dj61/speech_recognition/models/wav\n",
      "843/843 [==============================] - 6s 7ms/step - loss: 1.4836 - accuracy: 0.4766 - val_loss: 0.9360 - val_accuracy: 0.6784\n",
      "Epoch 2/4\n",
      "836/843 [============================>.] - ETA: 0s - loss: 0.7458 - accuracy: 0.7439\n",
      "Epoch 00002: val_loss improved from 0.93605 to 0.57957, saving model to /home/aiffel-dj61/speech_recognition/models/wav\n",
      "843/843 [==============================] - 6s 7ms/step - loss: 0.7447 - accuracy: 0.7443 - val_loss: 0.5796 - val_accuracy: 0.7940\n",
      "Epoch 3/4\n",
      "839/843 [============================>.] - ETA: 0s - loss: 0.4849 - accuracy: 0.8352\n",
      "Epoch 00003: val_loss improved from 0.57957 to 0.46831, saving model to /home/aiffel-dj61/speech_recognition/models/wav\n",
      "843/843 [==============================] - 6s 7ms/step - loss: 0.4849 - accuracy: 0.8351 - val_loss: 0.4683 - val_accuracy: 0.8404\n",
      "Epoch 4/4\n",
      "837/843 [============================>.] - ETA: 0s - loss: 0.3548 - accuracy: 0.8794\n",
      "Epoch 00004: val_loss improved from 0.46831 to 0.42160, saving model to /home/aiffel-dj61/speech_recognition/models/wav\n",
      "843/843 [==============================] - 6s 7ms/step - loss: 0.3548 - accuracy: 0.8795 - val_loss: 0.4216 - val_accuracy: 0.8606\n"
     ]
    }
   ],
   "source": [
    "# 모델 학습 코드\n",
    "# batch_size = 32\n",
    "max_epochs = 4\n",
    "# 메모리 사용량에 주의\n",
    "\n",
    "history_wav = model_wav.fit(train_dataset,\n",
    "                            epochs=max_epochs,\n",
    "                            steps_per_epoch=len(train_wav)//batch_size,\n",
    "                            validation_data=test_dataset,\n",
    "                            validation_steps=len(test_wav)//batch_size,\n",
    "                            callbacks=[cp_callback])"
   ]
  },
  {
   "cell_type": "markdown",
   "id": "convinced-division",
   "metadata": {},
   "source": [
    "#### 5. 학습 후, 학습이 어떻게 진행됐는지 그래프로 출력\n",
    "- loss, accuracy를 그래프로 표현"
   ]
  },
  {
   "cell_type": "code",
   "execution_count": 68,
   "id": "neither-laser",
   "metadata": {},
   "outputs": [
    {
     "data": {
      "image/png": "[encoded data removed]",
      "text/plain": [
       "<Figure size 576x576 with 2 Axes>"
      ]
     },
     "metadata": {
      "needs_background": "light"
     },
     "output_type": "display_data"
    }
   ],
   "source": [
    "# train loss와 val loss의 차이가 커지는 경우 오버피팅이 일어나는 것\n",
    "\n",
    "acc = history_wav.history['accuracy']\n",
    "val_acc = history_wav.history['val_accuracy']\n",
    "\n",
    "loss = history_wav.history['loss']\n",
    "val_loss = history_wav.history['val_loss']\n",
    "\n",
    "epochs_range = range(len(acc))\n",
    "\n",
    "plt.figure(figsize=(8, 8))\n",
    "plt.subplot(1, 2, 1)\n",
    "plt.plot(epochs_range, acc, label='Training Accuracy')\n",
    "plt.plot(epochs_range, val_acc, label='Validation Accuracy')\n",
    "plt.legend(loc='lower right')\n",
    "plt.title('Training and Validation Accuracy')\n",
    "\n",
    "plt.subplot(1, 2, 2)\n",
    "plt.plot(epochs_range, loss, label='Training Loss')\n",
    "plt.plot(epochs_range, val_loss, label='Validation Loss')\n",
    "plt.legend(loc='upper right')\n",
    "plt.title('Training and Validation Loss')\n",
    "plt.show()"
   ]
  },
  {
   "cell_type": "markdown",
   "id": "adjustable-judges",
   "metadata": {},
   "source": [
    "#### 6. Test dataset을 이용해서 모델의 성능을 평가\n",
    "- 저장한 weight 불러오기\n",
    "- 모델의 예측값과 정답값이 얼마나 일치하는지 확인"
   ]
  },
  {
   "cell_type": "code",
   "execution_count": 70,
   "id": "viral-residence",
   "metadata": {},
   "outputs": [
    {
     "data": {
      "text/plain": [
       "<tensorflow.python.training.tracking.util.CheckpointLoadStatus at 0x7f36ba44b810>"
      ]
     },
     "execution_count": 70,
     "metadata": {},
     "output_type": "execute_result"
    }
   ],
   "source": [
    "# test dataset을 이용해 모델의 성능을 평가\n",
    "\n",
    "# 저장한 weight 불러오기\n",
    "model_wav.load_weights(checkpoint_dir)"
   ]
  },
  {
   "cell_type": "code",
   "execution_count": 71,
   "id": "approved-administration",
   "metadata": {},
   "outputs": [
    {
     "name": "stdout",
     "output_type": "stream",
     "text": [
      "94/94 [==============================] - 0s 3ms/step - loss: 0.4214 - accuracy: 0.8610\n"
     ]
    }
   ],
   "source": [
    "results = model_wav.evaluate(test_dataset)"
   ]
  },
  {
   "cell_type": "code",
   "execution_count": 72,
   "id": "signal-intention",
   "metadata": {
    "scrolled": true
   },
   "outputs": [
    {
     "name": "stdout",
     "output_type": "stream",
     "text": [
      "loss value: 0.421\n",
      "accuracy value: 86.1000%\n"
     ]
    }
   ],
   "source": [
    "print(\"loss value: {:.3f}\".format(results[0]))           # loss\n",
    "print(\"accuracy value: {:.4f}%\".format(results[1]*100))  # accuracy"
   ]
  },
  {
   "cell_type": "markdown",
   "id": "tight-blame",
   "metadata": {},
   "source": [
    "#### 7. Skip-Connection medel 구현"
   ]
  },
  {
   "cell_type": "code",
   "execution_count": 86,
   "id": "excessive-implementation",
   "metadata": {
    "scrolled": false
   },
   "outputs": [
    {
     "name": "stdout",
     "output_type": "stream",
     "text": [
      "Model: \"model_7\"\n",
      "__________________________________________________________________________________________________\n",
      "Layer (type)                    Output Shape         Param #     Connected to                     \n",
      "==================================================================================================\n",
      "input_8 (InputLayer)            [(None, 130, 126)]   0                                            \n",
      "__________________________________________________________________________________________________\n",
      "conv1d_70 (Conv1D)              (None, 130, 32)      36320       input_8[0][0]                    \n",
      "__________________________________________________________________________________________________\n",
      "conv1d_71 (Conv1D)              (None, 130, 32)      9248        conv1d_70[0][0]                  \n",
      "__________________________________________________________________________________________________\n",
      "max_pooling1d_28 (MaxPooling1D) (None, 65, 32)       0           conv1d_71[0][0]                  \n",
      "__________________________________________________________________________________________________\n",
      "conv1d_72 (Conv1D)              (None, 65, 64)       18496       max_pooling1d_28[0][0]           \n",
      "__________________________________________________________________________________________________\n",
      "conv1d_73 (Conv1D)              (None, 65, 64)       36928       conv1d_72[0][0]                  \n",
      "__________________________________________________________________________________________________\n",
      "tf_op_layer_concat_6 (TensorFlo [(None, 65, 96)]     0           conv1d_73[0][0]                  \n",
      "                                                                 max_pooling1d_28[0][0]           \n",
      "__________________________________________________________________________________________________\n",
      "max_pooling1d_29 (MaxPooling1D) (None, 32, 96)       0           tf_op_layer_concat_6[0][0]       \n",
      "__________________________________________________________________________________________________\n",
      "conv1d_74 (Conv1D)              (None, 32, 128)      110720      max_pooling1d_29[0][0]           \n",
      "__________________________________________________________________________________________________\n",
      "conv1d_75 (Conv1D)              (None, 32, 128)      147584      conv1d_74[0][0]                  \n",
      "__________________________________________________________________________________________________\n",
      "conv1d_76 (Conv1D)              (None, 32, 128)      147584      conv1d_75[0][0]                  \n",
      "__________________________________________________________________________________________________\n",
      "tf_op_layer_concat_7 (TensorFlo [(None, 32, 224)]    0           conv1d_76[0][0]                  \n",
      "                                                                 max_pooling1d_29[0][0]           \n",
      "__________________________________________________________________________________________________\n",
      "max_pooling1d_30 (MaxPooling1D) (None, 16, 224)      0           tf_op_layer_concat_7[0][0]       \n",
      "__________________________________________________________________________________________________\n",
      "conv1d_77 (Conv1D)              (None, 16, 256)      516352      max_pooling1d_30[0][0]           \n",
      "__________________________________________________________________________________________________\n",
      "conv1d_78 (Conv1D)              (None, 16, 256)      590080      conv1d_77[0][0]                  \n",
      "__________________________________________________________________________________________________\n",
      "conv1d_79 (Conv1D)              (None, 16, 256)      590080      conv1d_78[0][0]                  \n",
      "__________________________________________________________________________________________________\n",
      "tf_op_layer_concat_8 (TensorFlo [(None, 16, 480)]    0           conv1d_79[0][0]                  \n",
      "                                                                 max_pooling1d_30[0][0]           \n",
      "__________________________________________________________________________________________________\n",
      "max_pooling1d_31 (MaxPooling1D) (None, 8, 480)       0           tf_op_layer_concat_8[0][0]       \n",
      "__________________________________________________________________________________________________\n",
      "dropout_7 (Dropout)             (None, 8, 480)       0           max_pooling1d_31[0][0]           \n",
      "__________________________________________________________________________________________________\n",
      "flatten_7 (Flatten)             (None, 3840)         0           dropout_7[0][0]                  \n",
      "__________________________________________________________________________________________________\n",
      "dense_14 (Dense)                (None, 256)          983296      flatten_7[0][0]                  \n",
      "__________________________________________________________________________________________________\n",
      "batch_normalization_7 (BatchNor (None, 256)          1024        dense_14[0][0]                   \n",
      "__________________________________________________________________________________________________\n",
      "activation_7 (Activation)       (None, 256)          0           batch_normalization_7[0][0]      \n",
      "__________________________________________________________________________________________________\n",
      "dense_15 (Dense)                (None, 12)           3084        activation_7[0][0]               \n",
      "==================================================================================================\n",
      "Total params: 3,190,796\n",
      "Trainable params: 3,190,284\n",
      "Non-trainable params: 512\n",
      "__________________________________________________________________________________________________\n"
     ]
    }
   ],
   "source": [
    "input_tensor = layers.Input(shape=(130, 126))\n",
    "\n",
    "x = layers.Conv1D(32, 9, padding='same', activation='relu')(input_tensor)\n",
    "x = layers.Conv1D(32, 9, padding='same', activation='relu')(x)\n",
    "skip_1 = layers.MaxPool1D()(x)\n",
    "\n",
    "x = layers.Conv1D(64, 9, padding='same', activation='relu')(skip_1)\n",
    "x = layers.Conv1D(64, 9, padding='same', activation='relu')(x)\n",
    "x = tf.concat([x, skip_1], -1)\n",
    "skip_2 = layers.MaxPool1D()(x)\n",
    "\n",
    "x = layers.Conv1D(128, 9, padding='same', activation='relu')(skip_2)\n",
    "x = layers.Conv1D(128, 9, padding='same', activation='relu')(x)\n",
    "x = layers.Conv1D(128, 9, padding='same', activation='relu')(x)\n",
    "x = tf.concat([x, skip_2], -1)\n",
    "skip_3 = layers.MaxPool1D()(x)\n",
    "\n",
    "x = layers.Conv1D(256, 9, padding='same', activation='relu')(skip_3)\n",
    "x = layers.Conv1D(256, 9, padding='same', activation='relu')(x)\n",
    "x = layers.Conv1D(256, 9, padding='same', activation='relu')(x)\n",
    "x = tf.concat([x, skip_3], -1)\n",
    "x = layers.MaxPool1D()(x)\n",
    "x = layers.Dropout(0.3)(x)\n",
    "\n",
    "x = layers.Flatten()(x)\n",
    "x = layers.Dense(256)(x)\n",
    "x = layers.BatchNormalization()(x)\n",
    "x = layers.Activation('relu')(x)\n",
    "\n",
    "output_tensor = layers.Dense(12)(x)\n",
    "\n",
    "model_wav_skip = tf.keras.Model(input_tensor, output_tensor)\n",
    "\n",
    "model_wav_skip.summary()"
   ]
  },
  {
   "cell_type": "code",
   "execution_count": 87,
   "id": "geological-killer",
   "metadata": {},
   "outputs": [],
   "source": [
    "optimizer = tf.keras.optimizers.Adam(1e-4)\n",
    "model_wav_skip.compile(loss=tf.keras.losses.CategoricalCrossentropy(from_logits=True),\n",
    "                       optimizer=optimizer,\n",
    "                       metrics=['accuracy'])"
   ]
  },
  {
   "cell_type": "code",
   "execution_count": 88,
   "id": "innovative-stockholm",
   "metadata": {},
   "outputs": [],
   "source": [
    "# the save point\n",
    "checkpoint_dir = os.getenv('HOME')+'/speech_recognition/models/wav_skip'\n",
    "\n",
    "cp_callback = tf.keras.callbacks.ModelCheckpoint(checkpoint_dir,\n",
    "                                                 save_weights_only=True,\n",
    "                                                 monitor='val_loss',\n",
    "                                                 mode='auto',\n",
    "                                                 save_best_only=True,\n",
    "                                                 verbose=1)"
   ]
  },
  {
   "cell_type": "code",
   "execution_count": 89,
   "id": "protecting-brazilian",
   "metadata": {},
   "outputs": [],
   "source": [
    "max_epochs = 5"
   ]
  },
  {
   "cell_type": "code",
   "execution_count": 90,
   "id": "pointed-ethics",
   "metadata": {
    "scrolled": true
   },
   "outputs": [
    {
     "name": "stdout",
     "output_type": "stream",
     "text": [
      "Epoch 1/5\n",
      "840/843 [============================>.] - ETA: 0s - loss: 1.6350 - accuracy: 0.4299\n",
      "Epoch 00001: val_loss improved from inf to 1.08978, saving model to /home/aiffel-dj61/speech_recognition/models/wav_skip\n",
      "843/843 [==============================] - 6s 7ms/step - loss: 1.6333 - accuracy: 0.4305 - val_loss: 1.0898 - val_accuracy: 0.6116\n",
      "Epoch 2/5\n",
      "843/843 [==============================] - ETA: 0s - loss: 0.8867 - accuracy: 0.6924\n",
      "Epoch 00002: val_loss improved from 1.08978 to 0.64946, saving model to /home/aiffel-dj61/speech_recognition/models/wav_skip\n",
      "843/843 [==============================] - 6s 7ms/step - loss: 0.8867 - accuracy: 0.6924 - val_loss: 0.6495 - val_accuracy: 0.7839\n",
      "Epoch 3/5\n",
      "840/843 [============================>.] - ETA: 0s - loss: 0.5454 - accuracy: 0.8164\n",
      "Epoch 00003: val_loss improved from 0.64946 to 0.47912, saving model to /home/aiffel-dj61/speech_recognition/models/wav_skip\n",
      "843/843 [==============================] - 6s 7ms/step - loss: 0.5453 - accuracy: 0.8164 - val_loss: 0.4791 - val_accuracy: 0.8407\n",
      "Epoch 4/5\n",
      "838/843 [============================>.] - ETA: 0s - loss: 0.3921 - accuracy: 0.8661\n",
      "Epoch 00004: val_loss improved from 0.47912 to 0.40286, saving model to /home/aiffel-dj61/speech_recognition/models/wav_skip\n",
      "843/843 [==============================] - 6s 7ms/step - loss: 0.3923 - accuracy: 0.8660 - val_loss: 0.4029 - val_accuracy: 0.8592\n",
      "Epoch 5/5\n",
      "837/843 [============================>.] - ETA: 0s - loss: 0.3004 - accuracy: 0.9004\n",
      "Epoch 00005: val_loss improved from 0.40286 to 0.35293, saving model to /home/aiffel-dj61/speech_recognition/models/wav_skip\n",
      "843/843 [==============================] - 6s 7ms/step - loss: 0.3004 - accuracy: 0.9004 - val_loss: 0.3529 - val_accuracy: 0.8753\n"
     ]
    }
   ],
   "source": [
    "history_wav_skip = model_wav_skip.fit(train_dataset,\n",
    "                                      epochs=max_epochs,\n",
    "                                      steps_per_epoch=len(\n",
    "                                          train_wav)//batch_size,\n",
    "                                      validation_data=test_dataset,\n",
    "                                      validation_steps=len(\n",
    "                                          test_wav)//batch_size,\n",
    "                                      callbacks=[cp_callback])"
   ]
  },
  {
   "cell_type": "code",
   "execution_count": 91,
   "id": "ideal-raise",
   "metadata": {},
   "outputs": [
    {
     "data": {
      "image/png": "[encoded data removed]",
      "text/plain": [
       "<Figure size 576x576 with 2 Axes>"
      ]
     },
     "metadata": {
      "needs_background": "light"
     },
     "output_type": "display_data"
    }
   ],
   "source": [
    "acc = history_wav_skip.history['accuracy']\n",
    "val_acc = history_wav_skip.history['val_accuracy']\n",
    "\n",
    "loss = history_wav_skip.history['loss']\n",
    "val_loss = history_wav_skip.history['val_loss']\n",
    "\n",
    "epochs_range = range(len(acc))\n",
    "\n",
    "plt.figure(figsize=(8, 8))\n",
    "plt.subplot(1, 2, 1)\n",
    "plt.plot(epochs_range, acc, label='Training Accuracy')\n",
    "plt.plot(epochs_range, val_acc, label='Validation Accuracy')\n",
    "plt.legend(loc='lower right')\n",
    "plt.title('Training and Validation Accuracy')\n",
    "\n",
    "plt.subplot(1, 2, 2)\n",
    "plt.plot(epochs_range, loss, label='Training Loss')\n",
    "plt.plot(epochs_range, val_loss, label='Validation Loss')\n",
    "plt.legend(loc='upper right')\n",
    "plt.title('Training and Validation Loss')\n",
    "plt.show()"
   ]
  },
  {
   "cell_type": "code",
   "execution_count": 92,
   "id": "logical-premiere",
   "metadata": {},
   "outputs": [
    {
     "name": "stdout",
     "output_type": "stream",
     "text": [
      "94/94 [==============================] - 0s 3ms/step - loss: 0.3526 - accuracy: 0.8753\n",
      "loss value: 0.353\n",
      "accuracy value: 87.5333%\n"
     ]
    }
   ],
   "source": [
    "# Evaluation\n",
    "\n",
    "model_wav_skip.load_weights(checkpoint_dir)\n",
    "results = model_wav_skip.evaluate(test_dataset)\n",
    "\n",
    "# loss\n",
    "print(\"loss value: {:.3f}\".format(results[0]))\n",
    "# accuracy\n",
    "print(\"accuracy value: {:.4f}%\".format(results[1]*100))"
   ]
  },
  {
   "cell_type": "markdown",
   "id": "featured-reach",
   "metadata": {},
   "source": [
    "# 5-8. 프로젝트 제출"
   ]
  },
  {
   "cell_type": "markdown",
   "id": "retired-disorder",
   "metadata": {},
   "source": [
    "**루브릭**\n",
    "\n",
    "아래의 기준을 바탕으로 프로젝트를 평가합니다.\n",
    "\n",
    "|평가문항|상세기준|\n",
    "|:---|:---|\n",
    "|1. 음성데이터를 2차원 Spectrogram 으로 변환하여 데이터셋을 구성하였다.|스펙트로그램 시각화 및 train/test 데이터셋 구성이 정상진행되었다.|\n",
    "|2. 1,2차원 데이터를 처리하는 음성인식 모델이 정상 작동한다.|스펙트로그램을 입력받은 모델이 학습과정에서 안정적으로 수렴하며, evaluation/test 단계를 무리없이 진행가능하다.|\n",
    "|3. 테스트셋 수행결과 음성인식 모델의 Accuracy가 일정 수준에 도달하였다.|evaluation 결과 75% 이상의 정확도를 달성하는 모델이 하나 이상 존재한다.|"
   ]
  },
  {
   "cell_type": "markdown",
   "id": "adaptive-swedish",
   "metadata": {},
   "source": [
    "# 후기"
   ]
  },
  {
   "cell_type": "markdown",
   "id": "developed-february",
   "metadata": {},
   "source": [
    "1. 푸리에 변환이나 오일러 공식 같은 내용은 지금은 이해하려면 시간이 너무 많이 필요할 것 같아 포기.. 언젠가 필요할 때 공부하는 것으로..\n",
    "\n",
    "\n",
    "2. 음성데이터를 사용해 머신러닝을 구현해보는 경험은 좋았다. 하지만 아직 모델 레이어를 구성하는 이론에 대한 이해가 부족하고 음성데이터를 스펙토그램으로 변환하면 무엇이 좋은지 잘 모르겠다. 실제로 정확도도 1% 정도 차이가 났다. 이해가 부족하니 아직은 복붙 따라하기 수준..\n",
    "\n",
    "\n",
    "3. max_epochs는 오버피팅이 일어나기 시작하는 시점인 4로 잡았다. 10으로 잡았을 때가 정확도는 조금 더 높은 것 같지만 오버피팅이 심해 4로 잡았다.\n",
    "\n",
    "\n",
    "4. 여기서는 validation data를 test data로 사용했지만 둘을 구분지어서도 해보고 싶다. 하지만 시간이 부족해 패스.\n",
    "\n",
    "\n",
    "5. 역시 이론이 중요한 것 같다. 이론공부를 해야겠다."
   ]
  }
 ],
 "metadata": {
  "kernelspec": {
   "display_name": "aiffel",
   "language": "python",
   "name": "aiffel"
  },
  "language_info": {
   "codemirror_mode": {
    "name": "ipython",
    "version": 3
   },
   "file_extension": ".py",
   "mimetype": "text/x-python",
   "name": "python",
   "nbconvert_exporter": "python",
   "pygments_lexer": "ipython3",
   "version": "3.7.9"
  },
  "toc": {
   "base_numbering": 1,
   "nav_menu": {},
   "number_sections": false,
   "sideBar": true,
   "skip_h1_title": false,
   "title_cell": "Table of Contents",
   "title_sidebar": "Contents",
   "toc_cell": false,
   "toc_position": {},
   "toc_section_display": true,
   "toc_window_display": false
  }
 },
 "nbformat": 4,
 "nbformat_minor": 5
}
