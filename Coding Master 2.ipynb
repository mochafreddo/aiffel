{
 "cells": [
  {
   "cell_type": "code",
   "execution_count": null,
   "id": "sexual-butter",
   "metadata": {},
   "outputs": [],
   "source": [
    "# 실습 3-4 : chap03/bsearch.py\n",
    "# 이진 검색 알고리즘\n",
    "\n",
    "from typing import Any, Sequence\n",
    "\n",
    "\n",
    "def bin_search(a: Sequence, key: Any) -> int:\n",
    "    \"\"\"시퀀스 a에서 key와 일치하는 원소를 이진 검색\"\"\"\n",
    "    pl = 0  # 검색 범위 맨 앞 원소의 인덱스\n",
    "    pr = len(a)-1  # 검색 범위 맨 끝 원소의 인덱스\n",
    "\n",
    "    while True:\n",
    "        pc = (pl+pr)//2  # 중앙 원소의 인덱스\n",
    "        if a[pc] == key:\n",
    "            return pc  # 검색 성공\n",
    "        elif a[pc] < key:\n",
    "            pl = pc+1  # 검색 범위를 뒤쪽 절반으로 좁힘\n",
    "        else:\n",
    "            pr = pc-1  # 검색 범위를 앞쪽 절반으로 좁힘\n",
    "        if pl > pr:\n",
    "            break\n",
    "        return -1\n",
    "\n",
    "\n",
    "if __name__ == '__main__':\n",
    "    num = int(input('원소 소를 입력하세요.: '))\n",
    "    x = [None]*num\n",
    "\n",
    "    print('배열 데이터를 오름차순으로 입력하세요.')\n",
    "\n",
    "    x[0] = int(input('x[0]: '))\n",
    "\n",
    "    for i in range(1, num):\n",
    "        while True:\n",
    "            x[i] = int(input(f'x[{i}]: '))\n",
    "            if x[i] >= x[i-1]:  # 바로 직전에 입력한 원솟값보다 큰 값을 입력\n",
    "                break\n",
    "\n",
    "    ky = int(input('검색할 값을 입력하세요.: '))  # 검색할 키값 ky를 입력\n",
    "\n",
    "    idx = bin_search(x, ky)  # ky값과 같은 원소를 x에서 검색\n",
    "\n",
    "    if idx == -1:\n",
    "        print('검색값을 갖는 원소가 존재하지 않습니다.')\n",
    "    else:\n",
    "        print(f'검색값을 x[{idx}]에 있습니다.')"
   ]
  },
  {
   "cell_type": "code",
   "execution_count": 17,
   "id": "nasty-graham",
   "metadata": {
    "scrolled": true
   },
   "outputs": [
    {
     "name": "stdout",
     "output_type": "stream",
     "text": [
      "2 1\n",
      "2 3\n",
      "2 4\n",
      "2 1\n",
      "1 3\n",
      "1 4\n",
      "1 1\n",
      "3 4\n",
      "3 1\n",
      "4 1\n",
      "[2, 3, 4, 5, 6, 7]\n",
      "5 0\n",
      "5 2\n",
      "5 7\n",
      "0 2\n",
      "0 7\n",
      "2 7\n",
      "[2, 5, 7, 9, 12]\n"
     ]
    }
   ],
   "source": [
    "def solution(numbers):\n",
    "\n",
    "    answer = set()\n",
    "\n",
    "    for i in range(len(numbers)-1):\n",
    "        for j in numbers[i+1:]:\n",
    "            answer.add(numbers[i]+j)\n",
    "            print(numbers[i], j)\n",
    "\n",
    "    return list(answer)\n",
    "\n",
    "\n",
    "numbers1 = [2, 1, 3, 4, 1]\n",
    "numbers2 = [5, 0, 2, 7]\n",
    "print(solution(numbers1))\n",
    "print(solution(numbers2))"
   ]
  },
  {
   "cell_type": "markdown",
   "id": "municipal-interview",
   "metadata": {},
   "source": [
    "# 프로그래머스 : 두 개 뽑아서 더하기"
   ]
  },
  {
   "cell_type": "code",
   "execution_count": 65,
   "id": "manufactured-firmware",
   "metadata": {},
   "outputs": [
    {
     "name": "stdout",
     "output_type": "stream",
     "text": [
      "[2, 3, 4, 5, 6, 7]\n",
      "[2, 5, 7, 9, 12]\n"
     ]
    }
   ],
   "source": [
    "def solution(numbers):\n",
    "\n",
    "    answer = []\n",
    "\n",
    "    for i in range(len(numbers)-1):\n",
    "        for j in numbers[i+1:]:\n",
    "            answer.append(numbers[i]+j)\n",
    "\n",
    "    answer = list(set(answer))\n",
    "    answer.sort()\n",
    "\n",
    "    return answer\n",
    "\n",
    "\n",
    "numbers1 = [2, 1, 3, 4, 1]\n",
    "numbers2 = [5, 0, 2, 7]\n",
    "print(solution(numbers1))\n",
    "print(solution(numbers2))"
   ]
  },
  {
   "cell_type": "code",
   "execution_count": 20,
   "id": "elder-semiconductor",
   "metadata": {},
   "outputs": [
    {
     "name": "stdout",
     "output_type": "stream",
     "text": [
      "{3}\n",
      "{2, 3}\n"
     ]
    }
   ],
   "source": [
    "test = set()\n",
    "\n",
    "test.add(3)\n",
    "print(test)\n",
    "\n",
    "test.add(2)\n",
    "print(test)"
   ]
  },
  {
   "cell_type": "code",
   "execution_count": 19,
   "id": "pretty-pledge",
   "metadata": {},
   "outputs": [
    {
     "data": {
      "text/plain": [
       "{2, 3, 4, 5}"
      ]
     },
     "execution_count": 19,
     "metadata": {},
     "output_type": "execute_result"
    }
   ],
   "source": [
    "set([3, 2, 2, 4, 3, 4, 5])"
   ]
  },
  {
   "cell_type": "markdown",
   "id": "unlike-current",
   "metadata": {},
   "source": [
    "# 프로그래머스 : 모의고사"
   ]
  },
  {
   "cell_type": "code",
   "execution_count": 52,
   "id": "stable-renewal",
   "metadata": {},
   "outputs": [
    {
     "name": "stdout",
     "output_type": "stream",
     "text": [
      "[1]\n",
      "[1, 2, 3]\n"
     ]
    }
   ],
   "source": [
    "def solution(answers):\n",
    "    answer = []\n",
    "\n",
    "    a = [1, 2, 3, 4, 5]\n",
    "    b = [2, 1, 2, 3, 2, 4, 2, 5]\n",
    "    c = [3, 3, 1, 1, 2, 2, 4, 4, 5, 5]\n",
    "    ca, cb, cc = 0, 0, 0\n",
    "\n",
    "    for i, cor in enumerate(answers):\n",
    "        if cor == a[i % len(a)]:\n",
    "            ca += 1\n",
    "        if cor == b[i % len(b)]:\n",
    "            cb += 1\n",
    "        if cor == c[i % len(c)]:\n",
    "            cc += 1\n",
    "\n",
    "    cnum = max(ca, cb, cc)\n",
    "\n",
    "    if cnum == ca:\n",
    "        answer.append(1)\n",
    "    if cnum == cb:\n",
    "        answer.append(2)\n",
    "    if cnum == cc:\n",
    "        answer.append(3)\n",
    "\n",
    "    return answer\n",
    "\n",
    "\n",
    "answer1 = [1, 2, 3, 4, 5]\n",
    "answer2 = [1, 3, 2, 4, 2]\n",
    "print(solution(answer1))\n",
    "print(solution(answer2))"
   ]
  },
  {
   "cell_type": "code",
   "execution_count": null,
   "id": "fabulous-union",
   "metadata": {},
   "outputs": [],
   "source": []
  }
 ],
 "metadata": {
  "kernelspec": {
   "display_name": "Python 3",
   "language": "python",
   "name": "python3"
  },
  "language_info": {
   "codemirror_mode": {
    "name": "ipython",
    "version": 3
   },
   "file_extension": ".py",
   "mimetype": "text/x-python",
   "name": "python",
   "nbconvert_exporter": "python",
   "pygments_lexer": "ipython3",
   "version": "3.7.9"
  },
  "toc": {
   "base_numbering": 1,
   "nav_menu": {},
   "number_sections": false,
   "sideBar": true,
   "skip_h1_title": false,
   "title_cell": "Table of Contents",
   "title_sidebar": "Contents",
   "toc_cell": false,
   "toc_position": {},
   "toc_section_display": true,
   "toc_window_display": false
  }
 },
 "nbformat": 4,
 "nbformat_minor": 5
}
