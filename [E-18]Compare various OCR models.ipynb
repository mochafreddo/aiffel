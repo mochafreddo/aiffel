{
 "cells": [
  {
   "cell_type": "markdown",
   "id": "published-fiction",
   "metadata": {
    "toc": true
   },
   "source": [
    "<h1>Table of Contents<span class=\"tocSkip\"></span></h1>\n",
    "<div class=\"toc\"><ul class=\"toc-item\"><li><span><a href=\"#18-9.-프로젝트-:-다양한-OCR모델-비교하기\" data-toc-modified-id=\"18-9.-프로젝트-:-다양한-OCR모델-비교하기-1\">18-9. 프로젝트 : 다양한 OCR모델 비교하기</a></span><ul class=\"toc-item\"><li><span><a href=\"#Step1.-검증용-데이터셋-준비\" data-toc-modified-id=\"Step1.-검증용-데이터셋-준비-1.1\">Step1. 검증용 데이터셋 준비</a></span></li><li><span><a href=\"#Step2.-Google-OCR-API,-keras-ocr,-Tesseract로-테스트-진행\" data-toc-modified-id=\"Step2.-Google-OCR-API,-keras-ocr,-Tesseract로-테스트-진행-1.2\">Step2. Google OCR API, keras-ocr, Tesseract로 테스트 진행</a></span></li><li><span><a href=\"#Step3.-테스트-결과-정리\" data-toc-modified-id=\"Step3.-테스트-결과-정리-1.3\">Step3. 테스트 결과 정리</a></span></li><li><span><a href=\"#Step4.-결과-분석과-결론-제시\" data-toc-modified-id=\"Step4.-결과-분석과-결론-제시-1.4\">Step4. 결과 분석과 결론 제시</a></span></li><li><span><a href=\"#루브릭\" data-toc-modified-id=\"루브릭-1.5\">루브릭</a></span></li><li><span><a href=\"#Postscript\" data-toc-modified-id=\"Postscript-1.6\">Postscript</a></span></li><li><span><a href=\"#Reference\" data-toc-modified-id=\"Reference-1.7\">Reference</a></span></li></ul></li></ul></div>"
   ]
  },
  {
   "cell_type": "markdown",
   "id": "recovered-facility",
   "metadata": {},
   "source": [
    "# 18-9. 프로젝트 : 다양한 OCR모델 비교하기\n",
    "\n",
    "우리는 지금까지 Google OCR API, keras-ocr, Tesseract 이상 3가지의 OCR 기능을 간단히 활용하여 보았습니다.\n",
    "\n",
    "지금까지 살펴본 바로는 무료로 사용할 수 있는 기능들이지만 모두 준수한 성능을 갖추고 있었습니다. OCR 분야가 이미 실용적인 수준에까지 기술이 발전했기 때문에 이런 것들만 잘 활용해도 실전에 활용할 수 있는 좋은 서비스를 만들어 낼 수 있을것도 같습니다. 그런데 과연 어떤 것을 사용하는 것이 좋을까요?\n",
    "\n",
    "OCR 기술들이 실용적인 수준까지 꽤 발전했지만 그럼에도 불구하고 아직 완전한 수준은 아닙니다. 용도에 맞게 적절한 것을 선택하는 것도 중요한 일입니다. 그래서 오늘 다뤄본 위 3가지를 검증해 보는 프로젝트를 진행하겠습니다. 여러분은 OCR 기능을 활용한 서비스를 빠르게 개발해야 하는 임무를 맡은 엔지니어가 되어, 어떤 모듈을 도입하면 좋을지 기술검증을 하는 역할을 맡게 되었다고 가정합니다.\n",
    "\n",
    "## Step1. 검증용 데이터셋 준비\n",
    "---\n",
    "OCR 관련해서 오늘 다루어본 주제는 텍스트의 모양과 크기, 배치, 노이즈 등 OCR의 성능에 영향을 미치는 요인들에 관한 것이었습니다. 여러분들은 위 3가지 기능들이 이미지에 나타난 특징에 따라 얼마나 정확하게 문자를 detect하고 recognize하는지를 검증하기 위한 이미지 데이터를 모아야 합니다. 이미지가 많을수록 좋겠지만 검증해야 할 항목별로 고루 갖춰지는 것도 중요합니다.\n",
    "\n",
    "가능하다면 함께 학습하는 동료들과 힘을 합쳐보는 것을 추천합니다. 그렇다고 너무 많은 이미지 데이터로 검증하는 것은 이후 결과를 정리하는 것이 힘들 수 있으니 테스트용 이미지는 아무리 많아도 20장을 넘기지 않는 것으로 합시다.\n",
    "\n",
    "## Step2. Google OCR API, keras-ocr, Tesseract로 테스트 진행\n",
    "---\n",
    "위 3가지 모듈을 활용하는 방법에 대해서는 코드 레벨로 이미 경험해 보셨을 것입니다. 이미지 리스트를 정리한 후 반복문을 실행하며 모듈이 출력한 결과를 모아 봅시다.\n",
    "\n",
    "## Step3. 테스트 결과 정리\n",
    "---\n",
    "모듈들마다 출력 형태가 다릅니다. 분석을 위해 결과를 일목요연하게 정리해 보는 것이 도움이 될 것입니다. 시각화 방법이 함께 활용된다면 더욱 좋겠군요.\n",
    "\n",
    "## Step4. 결과 분석과 결론 제시\n",
    "---\n",
    "- 우선 여러분들이 구현하고자 하는 서비스의 목적과 내용을 먼저 정리합니다.\n",
    "- 여러분들이 검토한 OCR 모델들이 그 목적에 부합하는지 확인하기 위해 필요한 평가기준을 제시합니다.\n",
    "- 그 기준에 따라 위에서 정리한 테스트 결과를 분석하여 가장 나은 대안의 모델을 선정합니다.\n",
    "\n",
    "## 루브릭\n",
    "---\n",
    "아래의 기준을 바탕으로 프로젝트를 평가합니다.\n",
    "\n",
    "|평가문항|상세기준|\n",
    "|:---|:---|\n",
    "|1. OCR을 활용하여 구현하려는 서비스의 기획이 타당한가?|목표로 하는 서비스가 OCR를 적용 가능하며, OCR을 활용했을 때 더욱 유용해진다.|\n",
    "|2. 모델 평가기준이 명확하고 체계적으로 세워졌는가?|평가 기준에 부합하는 테스트 데이터의 특징이 무엇인지 명확하게 제시되었다.|\n",
    "|3. 평가기준에 따라 충분한 분량의 테스트가 진행되고 그 결과가 잘 정리되었는가?|최대 20장까지의 테스트 이미지를 사용해 제시된 평가 기준에 따른 테스트 결과가 잘 정리되어 결론이 도출되었다.|\n",
    "\n",
    "## Postscript\n",
    "---\n",
    "\n",
    "## Reference\n",
    "---"
   ]
  }
 ],
 "metadata": {
  "kernelspec": {
   "display_name": "aiffel",
   "language": "python",
   "name": "aiffel"
  },
  "language_info": {
   "codemirror_mode": {
    "name": "ipython",
    "version": 3
   },
   "file_extension": ".py",
   "mimetype": "text/x-python",
   "name": "python",
   "nbconvert_exporter": "python",
   "pygments_lexer": "ipython3",
   "version": "3.7.10"
  },
  "toc": {
   "base_numbering": 1,
   "nav_menu": {},
   "number_sections": false,
   "sideBar": true,
   "skip_h1_title": false,
   "title_cell": "Table of Contents",
   "title_sidebar": "Contents",
   "toc_cell": true,
   "toc_position": {},
   "toc_section_display": true,
   "toc_window_display": false
  }
 },
 "nbformat": 4,
 "nbformat_minor": 5
}
