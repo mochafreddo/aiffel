{
 "cells": [
  {
   "cell_type": "markdown",
   "id": "better-harbor",
   "metadata": {},
   "source": [
    "# 8-9. 프로젝트 - Movielens 영화 추천 실습\n",
    "\n",
    "이전 스텝에서 배운 MF 모델 학습 방법을 토대로, 내가 좋아할 만한 영화 추천 시스템을 제작해 보겠습니다.  \n",
    "이번에 활용할 데이터셋은 추천시스템의 MNIST라고 부를만한 Movielens 데이터입니다.\n",
    "\n",
    "- 유저가 영화에 대해 평점을 매긴 데이터가 데이터 크기 별로 있습니다. `MovieLens 1M Dataset` 사용을 권장합니다.\n",
    "- 별점 데이터는 대표적인 explicit 데이터입니다. 하지만 implicit 데이터로 간주하고 테스트해볼 수 있습니다.\n",
    "- 별점을 **시청횟수**로 해석해서 생각하겠습니다.\n",
    "- 또한 유저가 3점 미만으로 준 데이터는 선호하지 않는다고 가정하고 제외하겠습니다.\n",
    "\n",
    "`MovieLens 1M Dataset` 데이터셋의 경우는 크기가 작아서 아래와 같이 직접 다운 받고 압축해제 하겠습니다.\n",
    "\n",
    "```\n",
    "1) wget으로 데이터 다운로드\n",
    "$ wget http://files.grouplens.org/datasets/movielens/ml-1m.zip\n",
    "\n",
    "2) 다운받은 데이터를 작업디렉토리로 옮김\n",
    "$ mv ml-1m.zip ~/aiffel/recommendata_iu/data\n",
    "\n",
    "3) 작업디렉토리로 이동\n",
    "$ cd ~/aiffel/recommendata_iu/data\n",
    "\n",
    "4) 압축 해제\n",
    "$ unzip ml-1m.zip\n",
    "```"
   ]
  },
  {
   "cell_type": "markdown",
   "id": "certified-convenience",
   "metadata": {},
   "source": [
    "### 1) 데이터 준비와 전처리\n",
    "\n",
    "---\n",
    "\n",
    "Movielens 데이터는 `rating.dat` 안에 이미 인덱싱까지 완료된 사용자-영화-평점 데이터가 깔끔하게 정리되어 있습니다."
   ]
  },
  {
   "cell_type": "code",
   "execution_count": 1,
   "id": "ideal-consolidation",
   "metadata": {
    "scrolled": true
   },
   "outputs": [
    {
     "data": {
      "text/html": [
       "<div>\n",
       "<style scoped>\n",
       "    .dataframe tbody tr th:only-of-type {\n",
       "        vertical-align: middle;\n",
       "    }\n",
       "\n",
       "    .dataframe tbody tr th {\n",
       "        vertical-align: top;\n",
       "    }\n",
       "\n",
       "    .dataframe thead th {\n",
       "        text-align: right;\n",
       "    }\n",
       "</style>\n",
       "<table border=\"1\" class=\"dataframe\">\n",
       "  <thead>\n",
       "    <tr style=\"text-align: right;\">\n",
       "      <th></th>\n",
       "      <th>user_id</th>\n",
       "      <th>movie_id</th>\n",
       "      <th>rating</th>\n",
       "      <th>timestamp</th>\n",
       "    </tr>\n",
       "  </thead>\n",
       "  <tbody>\n",
       "    <tr>\n",
       "      <th>0</th>\n",
       "      <td>1</td>\n",
       "      <td>1193</td>\n",
       "      <td>5</td>\n",
       "      <td>978300760</td>\n",
       "    </tr>\n",
       "    <tr>\n",
       "      <th>1</th>\n",
       "      <td>1</td>\n",
       "      <td>661</td>\n",
       "      <td>3</td>\n",
       "      <td>978302109</td>\n",
       "    </tr>\n",
       "    <tr>\n",
       "      <th>2</th>\n",
       "      <td>1</td>\n",
       "      <td>914</td>\n",
       "      <td>3</td>\n",
       "      <td>978301968</td>\n",
       "    </tr>\n",
       "    <tr>\n",
       "      <th>3</th>\n",
       "      <td>1</td>\n",
       "      <td>3408</td>\n",
       "      <td>4</td>\n",
       "      <td>978300275</td>\n",
       "    </tr>\n",
       "    <tr>\n",
       "      <th>4</th>\n",
       "      <td>1</td>\n",
       "      <td>2355</td>\n",
       "      <td>5</td>\n",
       "      <td>978824291</td>\n",
       "    </tr>\n",
       "  </tbody>\n",
       "</table>\n",
       "</div>"
      ],
      "text/plain": [
       "   user_id  movie_id  rating  timestamp\n",
       "0        1      1193       5  978300760\n",
       "1        1       661       3  978302109\n",
       "2        1       914       3  978301968\n",
       "3        1      3408       4  978300275\n",
       "4        1      2355       5  978824291"
      ]
     },
     "execution_count": 1,
     "metadata": {},
     "output_type": "execute_result"
    }
   ],
   "source": [
    "import os\n",
    "import pandas as pd\n",
    "\n",
    "rating_file_path = os.getenv('HOME')+'/recommendata_iu/data/ml-1m/ratings.dat'\n",
    "ratings_cols = ['user_id', 'movie_id', 'rating', 'timestamp']\n",
    "ratings = pd.read_csv(rating_file_path, sep='::',\n",
    "                      names=ratings_cols, engine='python')\n",
    "orginal_data_size = len(ratings)\n",
    "ratings.head()"
   ]
  },
  {
   "cell_type": "code",
   "execution_count": 2,
   "id": "insured-supervisor",
   "metadata": {},
   "outputs": [
    {
     "data": {
      "text/html": [
       "<div>\n",
       "<style scoped>\n",
       "    .dataframe tbody tr th:only-of-type {\n",
       "        vertical-align: middle;\n",
       "    }\n",
       "\n",
       "    .dataframe tbody tr th {\n",
       "        vertical-align: top;\n",
       "    }\n",
       "\n",
       "    .dataframe thead th {\n",
       "        text-align: right;\n",
       "    }\n",
       "</style>\n",
       "<table border=\"1\" class=\"dataframe\">\n",
       "  <thead>\n",
       "    <tr style=\"text-align: right;\">\n",
       "      <th></th>\n",
       "      <th>user_id</th>\n",
       "      <th>movie_id</th>\n",
       "      <th>rating</th>\n",
       "    </tr>\n",
       "  </thead>\n",
       "  <tbody>\n",
       "    <tr>\n",
       "      <th>0</th>\n",
       "      <td>1</td>\n",
       "      <td>1193</td>\n",
       "      <td>5</td>\n",
       "    </tr>\n",
       "    <tr>\n",
       "      <th>1</th>\n",
       "      <td>1</td>\n",
       "      <td>661</td>\n",
       "      <td>3</td>\n",
       "    </tr>\n",
       "    <tr>\n",
       "      <th>2</th>\n",
       "      <td>1</td>\n",
       "      <td>914</td>\n",
       "      <td>3</td>\n",
       "    </tr>\n",
       "    <tr>\n",
       "      <th>3</th>\n",
       "      <td>1</td>\n",
       "      <td>3408</td>\n",
       "      <td>4</td>\n",
       "    </tr>\n",
       "    <tr>\n",
       "      <th>4</th>\n",
       "      <td>1</td>\n",
       "      <td>2355</td>\n",
       "      <td>5</td>\n",
       "    </tr>\n",
       "  </tbody>\n",
       "</table>\n",
       "</div>"
      ],
      "text/plain": [
       "   user_id  movie_id  rating\n",
       "0        1      1193       5\n",
       "1        1       661       3\n",
       "2        1       914       3\n",
       "3        1      3408       4\n",
       "4        1      2355       5"
      ]
     },
     "execution_count": 2,
     "metadata": {},
     "output_type": "execute_result"
    }
   ],
   "source": [
    "# 이번 프로젝트에선 timestamp를 사용하지 않으므로 제거한다.\n",
    "ratings = ratings.drop(\"timestamp\", axis=1)\n",
    "ratings.head()"
   ]
  },
  {
   "cell_type": "code",
   "execution_count": 3,
   "id": "judicial-bouquet",
   "metadata": {},
   "outputs": [
    {
     "name": "stdout",
     "output_type": "stream",
     "text": [
      "orginal_data_size: 1000209, filtered_data_size: 836478\n",
      "Ratio of Remaining Data is 83.63%\n"
     ]
    }
   ],
   "source": [
    "# 3점 이상만 남깁니다.\n",
    "ratings = ratings[ratings['rating'] >= 3]\n",
    "filtered_data_size = len(ratings)\n",
    "\n",
    "print(\n",
    "    f'orginal_data_size: {orginal_data_size}, filtered_data_size: {filtered_data_size}')\n",
    "print(\n",
    "    f'Ratio of Remaining Data is {filtered_data_size / orginal_data_size:.2%}')"
   ]
  },
  {
   "cell_type": "code",
   "execution_count": 4,
   "id": "satellite-priest",
   "metadata": {},
   "outputs": [],
   "source": [
    "# rating 컬럼의 이름을 count로 바꿉니다.\n",
    "ratings.rename(columns={'rating': 'count'}, inplace=True)"
   ]
  },
  {
   "cell_type": "code",
   "execution_count": 5,
   "id": "assisted-compression",
   "metadata": {},
   "outputs": [
    {
     "data": {
      "text/plain": [
       "0          5\n",
       "1          3\n",
       "2          3\n",
       "3          4\n",
       "4          5\n",
       "          ..\n",
       "1000203    3\n",
       "1000205    5\n",
       "1000206    5\n",
       "1000207    4\n",
       "1000208    4\n",
       "Name: count, Length: 836478, dtype: int64"
      ]
     },
     "execution_count": 5,
     "metadata": {},
     "output_type": "execute_result"
    }
   ],
   "source": [
    "ratings['count']"
   ]
  },
  {
   "cell_type": "code",
   "execution_count": 6,
   "id": "facial-fight",
   "metadata": {},
   "outputs": [
    {
     "data": {
      "text/html": [
       "<div>\n",
       "<style scoped>\n",
       "    .dataframe tbody tr th:only-of-type {\n",
       "        vertical-align: middle;\n",
       "    }\n",
       "\n",
       "    .dataframe tbody tr th {\n",
       "        vertical-align: top;\n",
       "    }\n",
       "\n",
       "    .dataframe thead th {\n",
       "        text-align: right;\n",
       "    }\n",
       "</style>\n",
       "<table border=\"1\" class=\"dataframe\">\n",
       "  <thead>\n",
       "    <tr style=\"text-align: right;\">\n",
       "      <th></th>\n",
       "      <th>movie_id</th>\n",
       "      <th>title</th>\n",
       "      <th>genre</th>\n",
       "    </tr>\n",
       "  </thead>\n",
       "  <tbody>\n",
       "    <tr>\n",
       "      <th>0</th>\n",
       "      <td>1</td>\n",
       "      <td>Toy Story (1995)</td>\n",
       "      <td>Animation|Children's|Comedy</td>\n",
       "    </tr>\n",
       "    <tr>\n",
       "      <th>1</th>\n",
       "      <td>2</td>\n",
       "      <td>Jumanji (1995)</td>\n",
       "      <td>Adventure|Children's|Fantasy</td>\n",
       "    </tr>\n",
       "    <tr>\n",
       "      <th>2</th>\n",
       "      <td>3</td>\n",
       "      <td>Grumpier Old Men (1995)</td>\n",
       "      <td>Comedy|Romance</td>\n",
       "    </tr>\n",
       "    <tr>\n",
       "      <th>3</th>\n",
       "      <td>4</td>\n",
       "      <td>Waiting to Exhale (1995)</td>\n",
       "      <td>Comedy|Drama</td>\n",
       "    </tr>\n",
       "    <tr>\n",
       "      <th>4</th>\n",
       "      <td>5</td>\n",
       "      <td>Father of the Bride Part II (1995)</td>\n",
       "      <td>Comedy</td>\n",
       "    </tr>\n",
       "  </tbody>\n",
       "</table>\n",
       "</div>"
      ],
      "text/plain": [
       "   movie_id                               title                         genre\n",
       "0         1                    Toy Story (1995)   Animation|Children's|Comedy\n",
       "1         2                      Jumanji (1995)  Adventure|Children's|Fantasy\n",
       "2         3             Grumpier Old Men (1995)                Comedy|Romance\n",
       "3         4            Waiting to Exhale (1995)                  Comedy|Drama\n",
       "4         5  Father of the Bride Part II (1995)                        Comedy"
      ]
     },
     "execution_count": 6,
     "metadata": {},
     "output_type": "execute_result"
    }
   ],
   "source": [
    "# 영화 제목을 보기 위해 메타 데이터를 읽어옵니다.\n",
    "movie_file_path = os.getenv('HOME') + '/recommendata_iu/data/ml-1m/movies.dat'\n",
    "cols = ['movie_id', 'title', 'genre']\n",
    "movies = pd.read_csv(movie_file_path, sep='::', names=cols, engine='python')\n",
    "movies.head()"
   ]
  },
  {
   "cell_type": "markdown",
   "id": "color-mainstream",
   "metadata": {},
   "source": [
    "여기까지가 전처리입니다. 이후에는 이전 스텝에 소개했던 것과 동일한 방식으로 MF model을 구성하여 내가 좋아할 만한 영화를 추천해 볼 수 있습니다."
   ]
  },
  {
   "cell_type": "markdown",
   "id": "celtic-preservation",
   "metadata": {},
   "source": [
    "### 2) 분석해 봅시다.\n",
    "\n",
    "---\n",
    "\n",
    "- ratings에 있는 유니크한 영화 개수"
   ]
  },
  {
   "cell_type": "code",
   "execution_count": 7,
   "id": "public-recognition",
   "metadata": {},
   "outputs": [
    {
     "data": {
      "text/plain": [
       "3628"
      ]
     },
     "execution_count": 7,
     "metadata": {},
     "output_type": "execute_result"
    }
   ],
   "source": [
    "ratings['movie_id'].nunique()"
   ]
  },
  {
   "cell_type": "markdown",
   "id": "suspended-richards",
   "metadata": {},
   "source": [
    "- rating에 있는 유니크한 사용자 수"
   ]
  },
  {
   "cell_type": "code",
   "execution_count": 8,
   "id": "parliamentary-tamil",
   "metadata": {},
   "outputs": [
    {
     "data": {
      "text/plain": [
       "6039"
      ]
     },
     "execution_count": 8,
     "metadata": {},
     "output_type": "execute_result"
    }
   ],
   "source": [
    "ratings['user_id'].nunique()"
   ]
  },
  {
   "cell_type": "markdown",
   "id": "catholic-bracelet",
   "metadata": {},
   "source": [
    "- 가장 인기 있는 영화 30개(인기순)"
   ]
  },
  {
   "cell_type": "code",
   "execution_count": 333,
   "id": "sixth-trader",
   "metadata": {},
   "outputs": [],
   "source": [
    "# movie_id -> title\n",
    "movie_to_title = {k: v for k, v in zip(movies['movie_id'], movies['title'])}"
   ]
  },
  {
   "cell_type": "code",
   "execution_count": 349,
   "id": "alert-cookbook",
   "metadata": {
    "scrolled": false
   },
   "outputs": [
    {
     "data": {
      "text/html": [
       "<div>\n",
       "<style scoped>\n",
       "    .dataframe tbody tr th:only-of-type {\n",
       "        vertical-align: middle;\n",
       "    }\n",
       "\n",
       "    .dataframe tbody tr th {\n",
       "        vertical-align: top;\n",
       "    }\n",
       "\n",
       "    .dataframe thead th {\n",
       "        text-align: right;\n",
       "    }\n",
       "</style>\n",
       "<table border=\"1\" class=\"dataframe\">\n",
       "  <thead>\n",
       "    <tr style=\"text-align: right;\">\n",
       "      <th></th>\n",
       "      <th>user_id</th>\n",
       "      <th>title</th>\n",
       "    </tr>\n",
       "    <tr>\n",
       "      <th>movie_id</th>\n",
       "      <th></th>\n",
       "      <th></th>\n",
       "    </tr>\n",
       "  </thead>\n",
       "  <tbody>\n",
       "    <tr>\n",
       "      <th>99</th>\n",
       "      <td>3211</td>\n",
       "      <td>Heidi Fleiss: Hollywood Madam (1995)</td>\n",
       "    </tr>\n",
       "    <tr>\n",
       "      <th>44</th>\n",
       "      <td>2910</td>\n",
       "      <td>Mortal Kombat (1995)</td>\n",
       "    </tr>\n",
       "    <tr>\n",
       "      <th>117</th>\n",
       "      <td>2885</td>\n",
       "      <td>Young Poisoner's Handbook, The (1995)</td>\n",
       "    </tr>\n",
       "    <tr>\n",
       "      <th>64</th>\n",
       "      <td>2716</td>\n",
       "      <td>Two if by Sea (1996)</td>\n",
       "    </tr>\n",
       "    <tr>\n",
       "      <th>48</th>\n",
       "      <td>2561</td>\n",
       "      <td>Pocahontas (1995)</td>\n",
       "    </tr>\n",
       "    <tr>\n",
       "      <th>92</th>\n",
       "      <td>2510</td>\n",
       "      <td>Mary Reilly (1996)</td>\n",
       "    </tr>\n",
       "    <tr>\n",
       "      <th>121</th>\n",
       "      <td>2498</td>\n",
       "      <td>Boys of St. Vincent, The (1993)</td>\n",
       "    </tr>\n",
       "    <tr>\n",
       "      <th>120</th>\n",
       "      <td>2473</td>\n",
       "      <td>Race the Sun (1996)</td>\n",
       "    </tr>\n",
       "    <tr>\n",
       "      <th>22</th>\n",
       "      <td>2460</td>\n",
       "      <td>Copycat (1995)</td>\n",
       "    </tr>\n",
       "    <tr>\n",
       "      <th>124</th>\n",
       "      <td>2434</td>\n",
       "      <td>Star Maker, The (Uomo delle stelle, L') (1995)</td>\n",
       "    </tr>\n",
       "    <tr>\n",
       "      <th>107</th>\n",
       "      <td>2414</td>\n",
       "      <td>Muppet Treasure Island (1996)</td>\n",
       "    </tr>\n",
       "    <tr>\n",
       "      <th>38</th>\n",
       "      <td>2385</td>\n",
       "      <td>It Takes Two (1995)</td>\n",
       "    </tr>\n",
       "    <tr>\n",
       "      <th>51</th>\n",
       "      <td>2371</td>\n",
       "      <td>Guardian Angel (1994)</td>\n",
       "    </tr>\n",
       "    <tr>\n",
       "      <th>87</th>\n",
       "      <td>2314</td>\n",
       "      <td>Dunston Checks In (1996)</td>\n",
       "    </tr>\n",
       "    <tr>\n",
       "      <th>175</th>\n",
       "      <td>2297</td>\n",
       "      <td>Kids (1995)</td>\n",
       "    </tr>\n",
       "    <tr>\n",
       "      <th>23</th>\n",
       "      <td>2257</td>\n",
       "      <td>Assassins (1995)</td>\n",
       "    </tr>\n",
       "    <tr>\n",
       "      <th>5</th>\n",
       "      <td>2252</td>\n",
       "      <td>Father of the Bride Part II (1995)</td>\n",
       "    </tr>\n",
       "    <tr>\n",
       "      <th>126</th>\n",
       "      <td>2213</td>\n",
       "      <td>NeverEnding Story III, The (1994)</td>\n",
       "    </tr>\n",
       "    <tr>\n",
       "      <th>224</th>\n",
       "      <td>2210</td>\n",
       "      <td>Don Juan DeMarco (1995)</td>\n",
       "    </tr>\n",
       "    <tr>\n",
       "      <th>157</th>\n",
       "      <td>2194</td>\n",
       "      <td>Canadian Bacon (1994)</td>\n",
       "    </tr>\n",
       "    <tr>\n",
       "      <th>607</th>\n",
       "      <td>2167</td>\n",
       "      <td>Century (1993)</td>\n",
       "    </tr>\n",
       "    <tr>\n",
       "      <th>110</th>\n",
       "      <td>2121</td>\n",
       "      <td>Braveheart (1995)</td>\n",
       "    </tr>\n",
       "    <tr>\n",
       "      <th>26</th>\n",
       "      <td>2102</td>\n",
       "      <td>Othello (1995)</td>\n",
       "    </tr>\n",
       "    <tr>\n",
       "      <th>170</th>\n",
       "      <td>2066</td>\n",
       "      <td>Hackers (1995)</td>\n",
       "    </tr>\n",
       "    <tr>\n",
       "      <th>243</th>\n",
       "      <td>2051</td>\n",
       "      <td>Gordy (1995)</td>\n",
       "    </tr>\n",
       "    <tr>\n",
       "      <th>222</th>\n",
       "      <td>2030</td>\n",
       "      <td>Circle of Friends (1995)</td>\n",
       "    </tr>\n",
       "    <tr>\n",
       "      <th>160</th>\n",
       "      <td>2022</td>\n",
       "      <td>Congo (1995)</td>\n",
       "    </tr>\n",
       "    <tr>\n",
       "      <th>200</th>\n",
       "      <td>2019</td>\n",
       "      <td>Tie That Binds, The (1995)</td>\n",
       "    </tr>\n",
       "    <tr>\n",
       "      <th>40</th>\n",
       "      <td>2001</td>\n",
       "      <td>Cry, the Beloved Country (1995)</td>\n",
       "    </tr>\n",
       "    <tr>\n",
       "      <th>141</th>\n",
       "      <td>1941</td>\n",
       "      <td>Birdcage, The (1996)</td>\n",
       "    </tr>\n",
       "  </tbody>\n",
       "</table>\n",
       "</div>"
      ],
      "text/plain": [
       "          user_id                                           title\n",
       "movie_id                                                         \n",
       "99           3211            Heidi Fleiss: Hollywood Madam (1995)\n",
       "44           2910                            Mortal Kombat (1995)\n",
       "117          2885           Young Poisoner's Handbook, The (1995)\n",
       "64           2716                            Two if by Sea (1996)\n",
       "48           2561                               Pocahontas (1995)\n",
       "92           2510                              Mary Reilly (1996)\n",
       "121          2498                 Boys of St. Vincent, The (1993)\n",
       "120          2473                             Race the Sun (1996)\n",
       "22           2460                                  Copycat (1995)\n",
       "124          2434  Star Maker, The (Uomo delle stelle, L') (1995)\n",
       "107          2414                   Muppet Treasure Island (1996)\n",
       "38           2385                             It Takes Two (1995)\n",
       "51           2371                           Guardian Angel (1994)\n",
       "87           2314                        Dunston Checks In (1996)\n",
       "175          2297                                     Kids (1995)\n",
       "23           2257                                Assassins (1995)\n",
       "5            2252              Father of the Bride Part II (1995)\n",
       "126          2213               NeverEnding Story III, The (1994)\n",
       "224          2210                         Don Juan DeMarco (1995)\n",
       "157          2194                           Canadian Bacon (1994)\n",
       "607          2167                                  Century (1993)\n",
       "110          2121                               Braveheart (1995)\n",
       "26           2102                                  Othello (1995)\n",
       "170          2066                                  Hackers (1995)\n",
       "243          2051                                    Gordy (1995)\n",
       "222          2030                        Circle of Friends (1995)\n",
       "160          2022                                    Congo (1995)\n",
       "200          2019                      Tie That Binds, The (1995)\n",
       "40           2001                 Cry, the Beloved Country (1995)\n",
       "141          1941                            Birdcage, The (1996)"
      ]
     },
     "execution_count": 349,
     "metadata": {},
     "output_type": "execute_result"
    }
   ],
   "source": [
    "movie_count = ratings.groupby('movie_id')['user_id'].count()\n",
    "df_temp = pd.DataFrame(movie_count.sort_values(ascending=False).head(30))\n",
    "for idx in df.index:\n",
    "    df_temp.loc[idx, 'title'] = movie_to_title[idx]\n",
    "df_temp"
   ]
  },
  {
   "cell_type": "markdown",
   "id": "transsexual-retailer",
   "metadata": {},
   "source": [
    "> title을 함께 출력해주었다."
   ]
  },
  {
   "cell_type": "markdown",
   "id": "capital-polls",
   "metadata": {},
   "source": [
    "### 3) 내가 선호하는 영화를 5가지 골라서 rating에 추가해 줍시다.\n",
    "\n",
    "---"
   ]
  },
  {
   "cell_type": "code",
   "execution_count": 10,
   "id": "threatened-exhaust",
   "metadata": {
    "scrolled": false
   },
   "outputs": [
    {
     "data": {
      "text/html": [
       "<div>\n",
       "<style scoped>\n",
       "    .dataframe tbody tr th:only-of-type {\n",
       "        vertical-align: middle;\n",
       "    }\n",
       "\n",
       "    .dataframe tbody tr th {\n",
       "        vertical-align: top;\n",
       "    }\n",
       "\n",
       "    .dataframe thead th {\n",
       "        text-align: right;\n",
       "    }\n",
       "</style>\n",
       "<table border=\"1\" class=\"dataframe\">\n",
       "  <thead>\n",
       "    <tr style=\"text-align: right;\">\n",
       "      <th></th>\n",
       "      <th>movie_id</th>\n",
       "      <th>title</th>\n",
       "      <th>genre</th>\n",
       "    </tr>\n",
       "  </thead>\n",
       "  <tbody>\n",
       "    <tr>\n",
       "      <th>3213</th>\n",
       "      <td>3282</td>\n",
       "      <td>Different for Girls (1996)</td>\n",
       "      <td>Comedy</td>\n",
       "    </tr>\n",
       "    <tr>\n",
       "      <th>2246</th>\n",
       "      <td>2315</td>\n",
       "      <td>Bride of Chucky (1998)</td>\n",
       "      <td>Horror|Thriller</td>\n",
       "    </tr>\n",
       "    <tr>\n",
       "      <th>3785</th>\n",
       "      <td>3855</td>\n",
       "      <td>Affair of Love, An (Une Liaison Pornographique...</td>\n",
       "      <td>Drama|Romance</td>\n",
       "    </tr>\n",
       "    <tr>\n",
       "      <th>154</th>\n",
       "      <td>156</td>\n",
       "      <td>Blue in the Face (1995)</td>\n",
       "      <td>Comedy</td>\n",
       "    </tr>\n",
       "    <tr>\n",
       "      <th>129</th>\n",
       "      <td>131</td>\n",
       "      <td>Frankie Starlight (1995)</td>\n",
       "      <td>Drama|Romance</td>\n",
       "    </tr>\n",
       "  </tbody>\n",
       "</table>\n",
       "</div>"
      ],
      "text/plain": [
       "      movie_id                                              title  \\\n",
       "3213      3282                         Different for Girls (1996)   \n",
       "2246      2315                             Bride of Chucky (1998)   \n",
       "3785      3855  Affair of Love, An (Une Liaison Pornographique...   \n",
       "154        156                            Blue in the Face (1995)   \n",
       "129        131                           Frankie Starlight (1995)   \n",
       "\n",
       "                genre  \n",
       "3213           Comedy  \n",
       "2246  Horror|Thriller  \n",
       "3785    Drama|Romance  \n",
       "154            Comedy  \n",
       "129     Drama|Romance  "
      ]
     },
     "execution_count": 10,
     "metadata": {},
     "output_type": "execute_result"
    }
   ],
   "source": [
    "# movies에서 랜덤으로 목록을 출력해보며 내가 좋아하는 영화를 찾는다.\n",
    "movies.sample(5)"
   ]
  },
  {
   "cell_type": "code",
   "execution_count": 11,
   "id": "northern-channels",
   "metadata": {},
   "outputs": [
    {
     "data": {
      "text/html": [
       "<div>\n",
       "<style scoped>\n",
       "    .dataframe tbody tr th:only-of-type {\n",
       "        vertical-align: middle;\n",
       "    }\n",
       "\n",
       "    .dataframe tbody tr th {\n",
       "        vertical-align: top;\n",
       "    }\n",
       "\n",
       "    .dataframe thead th {\n",
       "        text-align: right;\n",
       "    }\n",
       "</style>\n",
       "<table border=\"1\" class=\"dataframe\">\n",
       "  <thead>\n",
       "    <tr style=\"text-align: right;\">\n",
       "      <th></th>\n",
       "      <th>movie_id</th>\n",
       "      <th>title</th>\n",
       "      <th>genre</th>\n",
       "    </tr>\n",
       "  </thead>\n",
       "  <tbody>\n",
       "    <tr>\n",
       "      <th>476</th>\n",
       "      <td>480</td>\n",
       "      <td>Jurassic Park (1993)</td>\n",
       "      <td>Action|Adventure|Sci-Fi</td>\n",
       "    </tr>\n",
       "    <tr>\n",
       "      <th>1505</th>\n",
       "      <td>1544</td>\n",
       "      <td>Lost World: Jurassic Park, The (1997)</td>\n",
       "      <td>Action|Adventure|Sci-Fi|Thriller</td>\n",
       "    </tr>\n",
       "  </tbody>\n",
       "</table>\n",
       "</div>"
      ],
      "text/plain": [
       "      movie_id                                  title  \\\n",
       "476        480                   Jurassic Park (1993)   \n",
       "1505      1544  Lost World: Jurassic Park, The (1997)   \n",
       "\n",
       "                                 genre  \n",
       "476            Action|Adventure|Sci-Fi  \n",
       "1505  Action|Adventure|Sci-Fi|Thriller  "
      ]
     },
     "execution_count": 11,
     "metadata": {},
     "output_type": "execute_result"
    }
   ],
   "source": [
    "# 혹은 직접 검색해서 찾기\n",
    "# contains()를 이용해 키워드 검색을 할 수 있다.\n",
    "movies[movies['title'].str.contains('Jurassic')]"
   ]
  },
  {
   "cell_type": "markdown",
   "id": "peaceful-trailer",
   "metadata": {},
   "source": [
    "> 영어 제목에다 아는 영화가 별로 없어서 찾기 어려웠다."
   ]
  },
  {
   "cell_type": "code",
   "execution_count": 12,
   "id": "legal-truth",
   "metadata": {
    "scrolled": true
   },
   "outputs": [
    {
     "data": {
      "text/html": [
       "<div>\n",
       "<style scoped>\n",
       "    .dataframe tbody tr th:only-of-type {\n",
       "        vertical-align: middle;\n",
       "    }\n",
       "\n",
       "    .dataframe tbody tr th {\n",
       "        vertical-align: top;\n",
       "    }\n",
       "\n",
       "    .dataframe thead th {\n",
       "        text-align: right;\n",
       "    }\n",
       "</style>\n",
       "<table border=\"1\" class=\"dataframe\">\n",
       "  <thead>\n",
       "    <tr style=\"text-align: right;\">\n",
       "      <th></th>\n",
       "      <th>user_id</th>\n",
       "      <th>movie_id</th>\n",
       "      <th>count</th>\n",
       "    </tr>\n",
       "  </thead>\n",
       "  <tbody>\n",
       "    <tr>\n",
       "      <th>1000203</th>\n",
       "      <td>6040</td>\n",
       "      <td>1090</td>\n",
       "      <td>3</td>\n",
       "    </tr>\n",
       "    <tr>\n",
       "      <th>1000205</th>\n",
       "      <td>6040</td>\n",
       "      <td>1094</td>\n",
       "      <td>5</td>\n",
       "    </tr>\n",
       "    <tr>\n",
       "      <th>1000206</th>\n",
       "      <td>6040</td>\n",
       "      <td>562</td>\n",
       "      <td>5</td>\n",
       "    </tr>\n",
       "    <tr>\n",
       "      <th>1000207</th>\n",
       "      <td>6040</td>\n",
       "      <td>1096</td>\n",
       "      <td>4</td>\n",
       "    </tr>\n",
       "    <tr>\n",
       "      <th>1000208</th>\n",
       "      <td>6040</td>\n",
       "      <td>1097</td>\n",
       "      <td>4</td>\n",
       "    </tr>\n",
       "  </tbody>\n",
       "</table>\n",
       "</div>"
      ],
      "text/plain": [
       "         user_id  movie_id  count\n",
       "1000203     6040      1090      3\n",
       "1000205     6040      1094      5\n",
       "1000206     6040       562      5\n",
       "1000207     6040      1096      4\n",
       "1000208     6040      1097      4"
      ]
     },
     "execution_count": 12,
     "metadata": {},
     "output_type": "execute_result"
    }
   ],
   "source": [
    "# ratings의 마지막 user_id를 확인\n",
    "ratings.tail()"
   ]
  },
  {
   "cell_type": "code",
   "execution_count": 13,
   "id": "filled-prince",
   "metadata": {
    "scrolled": true
   },
   "outputs": [
    {
     "data": {
      "text/plain": [
       "False"
      ]
     },
     "execution_count": 13,
     "metadata": {},
     "output_type": "execute_result"
    }
   ],
   "source": [
    "# 추가할 user_id가 있는지 검사\n",
    "ratings['user_id'].isin([6041]).any()"
   ]
  },
  {
   "cell_type": "code",
   "execution_count": 14,
   "id": "potential-research",
   "metadata": {
    "scrolled": false
   },
   "outputs": [
    {
     "data": {
      "text/html": [
       "<div>\n",
       "<style scoped>\n",
       "    .dataframe tbody tr th:only-of-type {\n",
       "        vertical-align: middle;\n",
       "    }\n",
       "\n",
       "    .dataframe tbody tr th {\n",
       "        vertical-align: top;\n",
       "    }\n",
       "\n",
       "    .dataframe thead th {\n",
       "        text-align: right;\n",
       "    }\n",
       "</style>\n",
       "<table border=\"1\" class=\"dataframe\">\n",
       "  <thead>\n",
       "    <tr style=\"text-align: right;\">\n",
       "      <th></th>\n",
       "      <th>user_id</th>\n",
       "      <th>movie_id</th>\n",
       "      <th>count</th>\n",
       "    </tr>\n",
       "  </thead>\n",
       "  <tbody>\n",
       "    <tr>\n",
       "      <th>836473</th>\n",
       "      <td>6040</td>\n",
       "      <td>1090</td>\n",
       "      <td>3</td>\n",
       "    </tr>\n",
       "    <tr>\n",
       "      <th>836474</th>\n",
       "      <td>6040</td>\n",
       "      <td>1094</td>\n",
       "      <td>5</td>\n",
       "    </tr>\n",
       "    <tr>\n",
       "      <th>836475</th>\n",
       "      <td>6040</td>\n",
       "      <td>562</td>\n",
       "      <td>5</td>\n",
       "    </tr>\n",
       "    <tr>\n",
       "      <th>836476</th>\n",
       "      <td>6040</td>\n",
       "      <td>1096</td>\n",
       "      <td>4</td>\n",
       "    </tr>\n",
       "    <tr>\n",
       "      <th>836477</th>\n",
       "      <td>6040</td>\n",
       "      <td>1097</td>\n",
       "      <td>4</td>\n",
       "    </tr>\n",
       "    <tr>\n",
       "      <th>836478</th>\n",
       "      <td>6041</td>\n",
       "      <td>1</td>\n",
       "      <td>5</td>\n",
       "    </tr>\n",
       "    <tr>\n",
       "      <th>836479</th>\n",
       "      <td>6041</td>\n",
       "      <td>2</td>\n",
       "      <td>5</td>\n",
       "    </tr>\n",
       "    <tr>\n",
       "      <th>836480</th>\n",
       "      <td>6041</td>\n",
       "      <td>589</td>\n",
       "      <td>5</td>\n",
       "    </tr>\n",
       "    <tr>\n",
       "      <th>836481</th>\n",
       "      <td>6041</td>\n",
       "      <td>595</td>\n",
       "      <td>5</td>\n",
       "    </tr>\n",
       "    <tr>\n",
       "      <th>836482</th>\n",
       "      <td>6041</td>\n",
       "      <td>480</td>\n",
       "      <td>5</td>\n",
       "    </tr>\n",
       "  </tbody>\n",
       "</table>\n",
       "</div>"
      ],
      "text/plain": [
       "        user_id  movie_id  count\n",
       "836473     6040      1090      3\n",
       "836474     6040      1094      5\n",
       "836475     6040       562      5\n",
       "836476     6040      1096      4\n",
       "836477     6040      1097      4\n",
       "836478     6041         1      5\n",
       "836479     6041         2      5\n",
       "836480     6041       589      5\n",
       "836481     6041       595      5\n",
       "836482     6041       480      5"
      ]
     },
     "execution_count": 14,
     "metadata": {},
     "output_type": "execute_result"
    }
   ],
   "source": [
    "# ratings에 data를 추가한다.\n",
    "my_favorites = [\n",
    "    {'user_id': 6041, 'movie_id': 1, 'count': 5},    # Toy Story\n",
    "    {'user_id': 6041, 'movie_id': 2, 'count': 5},    # Jumanji\n",
    "    {'user_id': 6041, 'movie_id': 589, 'count': 5},  # Terminator 2\n",
    "    {'user_id': 6041, 'movie_id': 595, 'count': 5},  # Beauty and the Beast\n",
    "    {'user_id': 6041, 'movie_id': 480, 'count': 5},  # Jurassic Park\n",
    "]\n",
    "my_favorites = pd.DataFrame(my_favorites)\n",
    "\n",
    "# 사용자가 추가한 데이터가 없는 경우에 실행한다.\n",
    "if not ratings['user_id'].isin([6041]).any():\n",
    "    ratings = ratings.append(my_favorites, ignore_index=True)\n",
    "\n",
    "# 데이터가 잘 추가되었는지 확인\n",
    "ratings.tail(10)"
   ]
  },
  {
   "cell_type": "markdown",
   "id": "subjective-transport",
   "metadata": {},
   "source": [
    "### 4) CSR matrix를 직접 만들어 봅시다.\n",
    "\n",
    "---"
   ]
  },
  {
   "cell_type": "code",
   "execution_count": 15,
   "id": "certain-tanzania",
   "metadata": {},
   "outputs": [
    {
     "name": "stdout",
     "output_type": "stream",
     "text": [
      "6040\n",
      "3628\n"
     ]
    }
   ],
   "source": [
    "# ratings에서의 user_id, movie_id의 고유값 인덱싱\n",
    "user_unique = ratings['user_id'].unique()\n",
    "movie_unique = ratings['movie_id'].unique()\n",
    "\n",
    "user_to_idx = {v: k for k, v in enumerate(user_unique)}\n",
    "movie_to_idx = {v: k for k, v in enumerate(movie_unique)}\n",
    "\n",
    "print(len(user_to_idx))\n",
    "print(len(movie_to_idx))"
   ]
  },
  {
   "cell_type": "code",
   "execution_count": 16,
   "id": "valued-acoustic",
   "metadata": {
    "scrolled": false
   },
   "outputs": [
    {
     "name": "stdout",
     "output_type": "stream",
     "text": [
      "user_id column indexing OK!!\n",
      "movie_id column indexing OK!!\n"
     ]
    },
    {
     "data": {
      "text/html": [
       "<div>\n",
       "<style scoped>\n",
       "    .dataframe tbody tr th:only-of-type {\n",
       "        vertical-align: middle;\n",
       "    }\n",
       "\n",
       "    .dataframe tbody tr th {\n",
       "        vertical-align: top;\n",
       "    }\n",
       "\n",
       "    .dataframe thead th {\n",
       "        text-align: right;\n",
       "    }\n",
       "</style>\n",
       "<table border=\"1\" class=\"dataframe\">\n",
       "  <thead>\n",
       "    <tr style=\"text-align: right;\">\n",
       "      <th></th>\n",
       "      <th>user_id</th>\n",
       "      <th>movie_id</th>\n",
       "      <th>count</th>\n",
       "    </tr>\n",
       "  </thead>\n",
       "  <tbody>\n",
       "    <tr>\n",
       "      <th>0</th>\n",
       "      <td>0</td>\n",
       "      <td>0</td>\n",
       "      <td>5</td>\n",
       "    </tr>\n",
       "    <tr>\n",
       "      <th>1</th>\n",
       "      <td>0</td>\n",
       "      <td>1</td>\n",
       "      <td>3</td>\n",
       "    </tr>\n",
       "    <tr>\n",
       "      <th>2</th>\n",
       "      <td>0</td>\n",
       "      <td>2</td>\n",
       "      <td>3</td>\n",
       "    </tr>\n",
       "    <tr>\n",
       "      <th>3</th>\n",
       "      <td>0</td>\n",
       "      <td>3</td>\n",
       "      <td>4</td>\n",
       "    </tr>\n",
       "    <tr>\n",
       "      <th>4</th>\n",
       "      <td>0</td>\n",
       "      <td>4</td>\n",
       "      <td>5</td>\n",
       "    </tr>\n",
       "    <tr>\n",
       "      <th>...</th>\n",
       "      <td>...</td>\n",
       "      <td>...</td>\n",
       "      <td>...</td>\n",
       "    </tr>\n",
       "    <tr>\n",
       "      <th>836478</th>\n",
       "      <td>6039</td>\n",
       "      <td>40</td>\n",
       "      <td>5</td>\n",
       "    </tr>\n",
       "    <tr>\n",
       "      <th>836479</th>\n",
       "      <td>6039</td>\n",
       "      <td>513</td>\n",
       "      <td>5</td>\n",
       "    </tr>\n",
       "    <tr>\n",
       "      <th>836480</th>\n",
       "      <td>6039</td>\n",
       "      <td>92</td>\n",
       "      <td>5</td>\n",
       "    </tr>\n",
       "    <tr>\n",
       "      <th>836481</th>\n",
       "      <td>6039</td>\n",
       "      <td>10</td>\n",
       "      <td>5</td>\n",
       "    </tr>\n",
       "    <tr>\n",
       "      <th>836482</th>\n",
       "      <td>6039</td>\n",
       "      <td>107</td>\n",
       "      <td>5</td>\n",
       "    </tr>\n",
       "  </tbody>\n",
       "</table>\n",
       "<p>836483 rows × 3 columns</p>\n",
       "</div>"
      ],
      "text/plain": [
       "        user_id  movie_id  count\n",
       "0             0         0      5\n",
       "1             0         1      3\n",
       "2             0         2      3\n",
       "3             0         3      4\n",
       "4             0         4      5\n",
       "...         ...       ...    ...\n",
       "836478     6039        40      5\n",
       "836479     6039       513      5\n",
       "836480     6039        92      5\n",
       "836481     6039        10      5\n",
       "836482     6039       107      5\n",
       "\n",
       "[836483 rows x 3 columns]"
      ]
     },
     "execution_count": 16,
     "metadata": {},
     "output_type": "execute_result"
    }
   ],
   "source": [
    "# indexing을 통해 데이터 컬럼 내 값을 바꾸는 코드\n",
    "\n",
    "# user_to_idx.get을 통해 user_id 컬럼의 모든 값을 인덱싱한 Series를 구해 봅시다.\n",
    "# 혹시 정상적으로 인덱싱되지 않은 row가 있다면 인덱스가 NaN이 될 테니 dropna()로 제거합니다.\n",
    "temp_user_data = ratings['user_id'].map(user_to_idx.get).dropna()\n",
    "if len(temp_user_data) == len(ratings):  # 모든 row가 정상적으로 인덱싱되었다면\n",
    "    print('user_id column indexing OK!!')\n",
    "    # ratings['user_id']을 인덱싱된 Series로 교체해 줍니다.\n",
    "    ratings['user_id'] = temp_user_data\n",
    "else:\n",
    "    print('user_id column indexing Fail!!')\n",
    "\n",
    "# movie_to_idx을 통해 movie_id 컬럼도 동일한 방식으로 인덱싱해 줍니다.\n",
    "temp_movie_data = ratings['movie_id'].map(movie_to_idx.get).dropna()\n",
    "if len(temp_movie_data) == len(ratings):\n",
    "    print('movie_id column indexing OK!!')\n",
    "    ratings['movie_id'] = temp_movie_data\n",
    "else:\n",
    "    print('movie_id column indexing Fail!!')\n",
    "\n",
    "ratings"
   ]
  },
  {
   "cell_type": "code",
   "execution_count": 17,
   "id": "based-belief",
   "metadata": {},
   "outputs": [
    {
     "data": {
      "text/plain": [
       "<6040x3628 sparse matrix of type '<class 'numpy.int64'>'\n",
       "\twith 836483 stored elements in Compressed Sparse Row format>"
      ]
     },
     "execution_count": 17,
     "metadata": {},
     "output_type": "execute_result"
    }
   ],
   "source": [
    "from scipy.sparse import csr_matrix\n",
    "\n",
    "num_user = ratings['user_id'].nunique()\n",
    "num_movie = ratings['movie_id'].nunique()\n",
    "\n",
    "csr_data = csr_matrix(\n",
    "    (ratings['count'], (ratings.user_id, ratings.movie_id)), shape=(num_user, num_movie))\n",
    "csr_data"
   ]
  },
  {
   "cell_type": "markdown",
   "id": "elder-intent",
   "metadata": {},
   "source": [
    "> `ratings['count']`를 `ratings.count`로 작성해 에러가 발생했었다.  \n",
    "> method와 중복되는 column명은 위 방식으로 사용할 수 없나보다."
   ]
  },
  {
   "cell_type": "code",
   "execution_count": 18,
   "id": "filled-framing",
   "metadata": {},
   "outputs": [
    {
     "name": "stdout",
     "output_type": "stream",
     "text": [
      "[5 3 3 ... 5 5 5]\n",
      "[  0   1   2 ...  92 107 513]\n",
      "[     0     53    169 ... 836202 836478 836483]\n"
     ]
    }
   ],
   "source": [
    "print(csr_data.data)\n",
    "print(csr_data.indices)\n",
    "print(csr_data.indptr)"
   ]
  },
  {
   "cell_type": "markdown",
   "id": "equipped-cricket",
   "metadata": {},
   "source": [
    "### 5) als_model = AlternatingLeastSquares 모델을 직접 구성하여 훈련시켜 봅시다.\n",
    "\n",
    "---"
   ]
  },
  {
   "cell_type": "code",
   "execution_count": 19,
   "id": "bearing-desire",
   "metadata": {},
   "outputs": [],
   "source": [
    "from implicit.als import AlternatingLeastSquares\n",
    "import os\n",
    "import numpy as np\n",
    "\n",
    "# implicit 라이브러리에서 권장하고 있는 부분\n",
    "os.environ['OPENBLAS_NUM_THREADS'] = '1'\n",
    "os.environ['KMP_DUPLICATE_LIB_OK'] = 'True'\n",
    "os.environ['MKL_NUM_THREADS'] = '1'"
   ]
  },
  {
   "cell_type": "code",
   "execution_count": 20,
   "id": "abstract-layer",
   "metadata": {},
   "outputs": [],
   "source": [
    "# Implicit AlternatingLeastSquares 모델의 선언\n",
    "# 뒤에 user_id와 movie_id의 내적을 통해 factor와 iterations를 조정한다.\n",
    "# factor는 1024로 결정\n",
    "als_model = AlternatingLeastSquares(\n",
    "    factors=1024, regularization=0.01, use_gpu=True, iterations=15, dtype=np.float32)"
   ]
  },
  {
   "cell_type": "markdown",
   "id": "outer-split",
   "metadata": {},
   "source": [
    "> GPU를 사용할 경우 (`use_gpu=True`) factor size가 32의 배수여야 하더라."
   ]
  },
  {
   "cell_type": "code",
   "execution_count": 21,
   "id": "efficient-unemployment",
   "metadata": {
    "scrolled": true
   },
   "outputs": [
    {
     "data": {
      "text/plain": [
       "<3628x6040 sparse matrix of type '<class 'numpy.int64'>'\n",
       "\twith 836483 stored elements in Compressed Sparse Column format>"
      ]
     },
     "execution_count": 21,
     "metadata": {},
     "output_type": "execute_result"
    }
   ],
   "source": [
    "# als 모델은 input으로 (item X user 꼴의 matrix를 받기 때문에 Transpose해줍니다.)\n",
    "csr_data_transpose = csr_data.T\n",
    "csr_data_transpose"
   ]
  },
  {
   "cell_type": "code",
   "execution_count": 22,
   "id": "little-fashion",
   "metadata": {
    "scrolled": true
   },
   "outputs": [
    {
     "data": {
      "application/vnd.jupyter.widget-view+json": {
       "model_id": "27fc617ad0dc417e8201b8c6d4783a82",
       "version_major": 2,
       "version_minor": 0
      },
      "text/plain": [
       "  0%|          | 0/15 [00:00<?, ?it/s]"
      ]
     },
     "metadata": {},
     "output_type": "display_data"
    }
   ],
   "source": [
    "# 모델 훈련\n",
    "als_model.fit(csr_data_transpose)"
   ]
  },
  {
   "cell_type": "markdown",
   "id": "intimate-pressure",
   "metadata": {},
   "source": [
    "### 6) 내가 선호하는 5가지 영화 중 하나와 그 외의 영화 하나를 골라 훈련된 모델이 예측한 나의 선호도를 파악해 보세요.\n",
    "\n",
    "---"
   ]
  },
  {
   "cell_type": "code",
   "execution_count": 23,
   "id": "handy-cornwall",
   "metadata": {
    "scrolled": true
   },
   "outputs": [
    {
     "data": {
      "text/plain": [
       "591    595\n",
       "Name: movie_id, dtype: int64"
      ]
     },
     "execution_count": 23,
     "metadata": {},
     "output_type": "execute_result"
    }
   ],
   "source": [
    "# Beauty and the Beast의 movie_id를 확인\n",
    "movies[movies['title'].str.contains('Beauty and the Beast')]['movie_id']"
   ]
  },
  {
   "cell_type": "code",
   "execution_count": 24,
   "id": "antique-champagne",
   "metadata": {
    "scrolled": true
   },
   "outputs": [],
   "source": [
    "# 추가한 user_id와 movie title로 확인\n",
    "user_6041 = user_to_idx[6041]\n",
    "beauty_and_the_beast = movie_to_idx[595]\n",
    "\n",
    "user_6041_vector, beauty_and_the_beast_vector = als_model.user_factors[\n",
    "    user_6041], als_model.item_factors[beauty_and_the_beast]"
   ]
  },
  {
   "cell_type": "code",
   "execution_count": 25,
   "id": "absolute-adams",
   "metadata": {},
   "outputs": [],
   "source": [
    "# user_6041_vector"
   ]
  },
  {
   "cell_type": "code",
   "execution_count": 26,
   "id": "parental-assistant",
   "metadata": {
    "scrolled": true
   },
   "outputs": [],
   "source": [
    "# beauty_and_the_beast_vector"
   ]
  },
  {
   "cell_type": "code",
   "execution_count": 27,
   "id": "solid-consumer",
   "metadata": {
    "scrolled": true
   },
   "outputs": [
    {
     "data": {
      "text/plain": [
       "0.9277702"
      ]
     },
     "execution_count": 27,
     "metadata": {},
     "output_type": "execute_result"
    }
   ],
   "source": [
    "# user_6041과 beauty_and_the_beast를 내적하는 코드\n",
    "np.dot(user_6041_vector, beauty_and_the_beast_vector)"
   ]
  },
  {
   "cell_type": "markdown",
   "id": "banner-watts",
   "metadata": {},
   "source": [
    "- AlternatingLeastSquares 설정값에 따른 내적값 기록\n",
    "    - factor: 32, iterations: 15 = 0.2532453\n",
    "    - factor: 64, iterations: 15 = 0.3410259\n",
    "    - factor: 96, iterations: 15 = 0.47353137\n",
    "    - factor: 128, iterations: 15 = 0.5210937\n",
    "    - factor: 160, iterations: 15 = 0.5361786\n",
    "    - factor: 192, iterations: 15 = 0.5691732\n",
    "    - factor: 224, iterations: 15 = 0.5769719\n",
    "    - factor: 256, iterations: 15 = 0.60421395\n",
    "    - factor: 288, iterations: 15 = 0.6425415\n",
    "    - factor: 320, iterations: 15 = 0.65804225\n",
    "    - factor: 352, iterations: 15 = 0.657215\n",
    "    - factor: 384, iterations: 15 = 0.7202506\n",
    "    - factor: 416, iterations: 15 = 0.7227456\n",
    "    - factor: 448, iterations: 15 = 0.72614276\n",
    "    - factor: 480, iterations: 15 = 0.7495053\n",
    "    - factor: 512, iterations: 15 = 0.76613164\n",
    "    - factor: 1024, iterations: 15 = 0.92937416\n",
    "    - factor: 2048, iterations: 15 = 0.051536147  \n",
    "\n",
    "\n",
    "> factor를 올릴수록 내적값이 계속 상승하는 듯 하였으나 1024 이후 2048 부터는 크게 떨어진 값을 보여줬다. 오버피팅?!  \n",
    "그래서 1024로 진행\n",
    "\n",
    "> iterations는 논문이나 실제 구현체를 참고하여 보면 보통 10~15회 정도로 설정한다고 한다. 기본값이 15이고, 수치를 올려도 크게 영향을 주지는 않는 것 같아 15로 계속 설정하였다.\n",
    "\n",
    "> 함수를 만들어서 간단히 실험하고 깔끔하게 결과를 출력하고 싶었지만 시간상 생략했다."
   ]
  },
  {
   "cell_type": "markdown",
   "id": "superior-screw",
   "metadata": {},
   "source": [
    "### 7) 내가 좋아하는 영화와 비슷한 영화를 추천받아 봅시다.\n",
    "\n",
    "---"
   ]
  },
  {
   "cell_type": "markdown",
   "id": "included-norfolk",
   "metadata": {},
   "source": [
    "`AlternatingLeastSquares` 클래스에 구현되어 있는 `similar_items` 메서드를 통하여 비슷한 영화를 찾는다."
   ]
  },
  {
   "cell_type": "code",
   "execution_count": 362,
   "id": "packed-highlight",
   "metadata": {},
   "outputs": [],
   "source": [
    "# title -> movie_id\n",
    "title_to_movie = {v: k for k, v in zip(movies['movie_id'], movies['title'])}\n",
    "\n",
    "# unique_movie_id -> movie_id\n",
    "idx_to_movie = {k: v for v, k in movie_to_idx.items()}"
   ]
  },
  {
   "cell_type": "code",
   "execution_count": 366,
   "id": "neither-daily",
   "metadata": {},
   "outputs": [],
   "source": [
    "# 영화 타이틀을 넘기면 비슷한 영화 5개를 출력하는 함수를 작성\n",
    "def similar_movies(movie_title: str) -> None:\n",
    "    favorite_movie = title_to_movie[movie_title]\n",
    "    movie_idx = movie_to_idx[favorite_movie]\n",
    "    \n",
    "    # 비슷한 영화를 찾는다.\n",
    "    similar_movie = als_model.similar_items(movie_idx, N=6)\n",
    "\n",
    "    df = pd.DataFrame()\n",
    "    for i in similar_movie:\n",
    "        title = movie_to_title[idx_to_movie[i[0]]]\n",
    "        df = df.append({'title': title, 'score': i[1]}, ignore_index=True)\n",
    "\n",
    "    print(df)"
   ]
  },
  {
   "cell_type": "code",
   "execution_count": 367,
   "id": "comparative-business",
   "metadata": {},
   "outputs": [
    {
     "name": "stdout",
     "output_type": "stream",
     "text": [
      "      score                                        title\n",
      "0  1.000000                             Toy Story (1995)\n",
      "1  0.473809                     Soft Toilet Seats (1999)\n",
      "2  0.473393                           Jerry & Tom (1998)\n",
      "3  0.472809                            Truce, The (1996)\n",
      "4  0.472214               Slappy and the Stinkers (1998)\n",
      "5  0.472098  Five Wives, Three Secretaries and Me (1998)\n"
     ]
    }
   ],
   "source": [
    "similar_movies('Toy Story (1995)')"
   ]
  },
  {
   "cell_type": "code",
   "execution_count": 365,
   "id": "critical-toner",
   "metadata": {
    "scrolled": false
   },
   "outputs": [
    {
     "name": "stdout",
     "output_type": "stream",
     "text": [
      "      score                                        title\n",
      "0  1.000000                               Jumanji (1995)\n",
      "1  0.542952  Five Wives, Three Secretaries and Me (1998)\n",
      "2  0.541028                        Dangerous Game (1993)\n",
      "3  0.539554                             Zachariah (1971)\n",
      "4  0.539253                       Neon Bible, The (1995)\n",
      "5  0.539081               Slappy and the Stinkers (1998)\n"
     ]
    }
   ],
   "source": [
    "similar_movies('Jumanji (1995)')"
   ]
  },
  {
   "cell_type": "code",
   "execution_count": 139,
   "id": "perfect-huntington",
   "metadata": {
    "scrolled": true
   },
   "outputs": [
    {
     "name": "stdout",
     "output_type": "stream",
     "text": [
      "      score                                      title\n",
      "0  1.000000                       Jurassic Park (1993)\n",
      "1  0.472073                               Loser (1991)\n",
      "2  0.470723                         Pot O' Gold (1941)\n",
      "3  0.468114                         Jerry & Tom (1998)\n",
      "4  0.468084  Schlafes Bruder (Brother of Sleep) (1995)\n",
      "5  0.467764                  Jar, The (Khomreh) (1992)\n"
     ]
    }
   ],
   "source": [
    "similar_movies('Jurassic Park (1993)')"
   ]
  },
  {
   "cell_type": "code",
   "execution_count": 140,
   "id": "mature-latter",
   "metadata": {
    "scrolled": true
   },
   "outputs": [
    {
     "name": "stdout",
     "output_type": "stream",
     "text": [
      "      score                                      title\n",
      "0  1.000000          Terminator 2: Judgment Day (1991)\n",
      "1  0.498504            Man from Down Under, The (1943)\n",
      "2  0.498095                        Running Free (2000)\n",
      "3  0.497630                           Simon Sez (1999)\n",
      "4  0.497354  Schlafes Bruder (Brother of Sleep) (1995)\n",
      "5  0.496724                    Ulysses (Ulisse) (1954)\n"
     ]
    }
   ],
   "source": [
    "similar_movies('Terminator 2: Judgment Day (1991)')"
   ]
  },
  {
   "cell_type": "code",
   "execution_count": 141,
   "id": "closing-champagne",
   "metadata": {
    "scrolled": true
   },
   "outputs": [
    {
     "name": "stdout",
     "output_type": "stream",
     "text": [
      "      score                                   title\n",
      "0  1.000000             Beauty and the Beast (1991)\n",
      "1  0.506120               Farmer's Wife, The (1928)\n",
      "2  0.506010           End of the Affair, The (1955)\n",
      "3  0.505961          24 7: Twenty Four Seven (1997)\n",
      "4  0.505415                    Six of a Kind (1934)\n",
      "5  0.505296  Blood and Sand (Sangre y Arena) (1989)\n"
     ]
    }
   ],
   "source": [
    "similar_movies('Beauty and the Beast (1991)')"
   ]
  },
  {
   "cell_type": "markdown",
   "id": "incredible-royal",
   "metadata": {},
   "source": [
    "### 8) 내가 가장 좋아할 만한 영화들을 추천받아 봅시다.\n",
    "\n",
    "---"
   ]
  },
  {
   "cell_type": "markdown",
   "id": "detected-kazakhstan",
   "metadata": {},
   "source": [
    "`AlternatingLeastSquares` 클래스에 구현되어 있는 `recommend` 메서드를 통해 내가 좋아하는 영화와 비슷한 영화를 추천받는다."
   ]
  },
  {
   "cell_type": "code",
   "execution_count": 29,
   "id": "instructional-tooth",
   "metadata": {},
   "outputs": [
    {
     "data": {
      "text/plain": [
       "[(330, 0.14455189),\n",
       " (596, 0.091110826),\n",
       " (1130, 0.09012709),\n",
       " (34, 0.07630171),\n",
       " (578, 0.06992859),\n",
       " (141, 0.067019604),\n",
       " (1548, 0.066137314),\n",
       " (33, 0.06380976),\n",
       " (935, 0.062538534),\n",
       " (660, 0.060529597),\n",
       " (1837, 0.058475792),\n",
       " (173, 0.05816367),\n",
       " (751, 0.058070708),\n",
       " (1869, 0.057196952),\n",
       " (2395, 0.056544587),\n",
       " (1051, 0.054709546),\n",
       " (2216, 0.05390711),\n",
       " (555, 0.05364968),\n",
       " (2305, 0.053017966),\n",
       " (517, 0.051993202)]"
      ]
     },
     "execution_count": 29,
     "metadata": {},
     "output_type": "execute_result"
    }
   ],
   "source": [
    "# user = user_to_idx[6041]\n",
    "\n",
    "# # recommend에서는 user*item CSR Matrix를 받는다.\n",
    "# movie_recommended = als_model.recommend(\n",
    "#     user, csr_data, N=20, filter_already_liked_items=True)\n",
    "# movie_recommended"
   ]
  },
  {
   "cell_type": "markdown",
   "id": "normal-fence",
   "metadata": {},
   "source": [
    "### 루브릭\n",
    "\n",
    "아래의 기준을 바탕으로 프로젝트를 평가합니다.\n",
    "\n",
    "|평가문항|상세기준|\n",
    "|:---|:---|\n",
    "|1. CSR matrix가 정상적으로 만들어졌다.|사용자와 아이템 개수를 바탕으로 정확한 사이즈로 만들었다.|\n",
    "|2. MF 모델이 정상적으로 훈련되어 그럴듯한 추천이 이루어졌다.|사용자와 아이템 벡터 내적수치가 의미있게 형성되었다.|\n",
    "|3. 비슷한 영화 찾기와 유저에게 추천하기의 과정이 정상적으로 진행되었다.|MF모델이 예측한 유저 선호도 및 아이템간 유사도, 기여도가 의미있게 측정되었다.|"
   ]
  },
  {
   "cell_type": "markdown",
   "id": "adequate-carry",
   "metadata": {},
   "source": [
    "# 후기\n",
    "\n",
    "---\n",
    "\n",
    "- 영화목록에 새 영화를 추가했던 썰"
   ]
  },
  {
   "cell_type": "code",
   "execution_count": null,
   "id": "fresh-franchise",
   "metadata": {},
   "outputs": [],
   "source": []
  }
 ],
 "metadata": {
  "kernelspec": {
   "display_name": "aiffel",
   "language": "python",
   "name": "aiffel"
  },
  "language_info": {
   "codemirror_mode": {
    "name": "ipython",
    "version": 3
   },
   "file_extension": ".py",
   "mimetype": "text/x-python",
   "name": "python",
   "nbconvert_exporter": "python",
   "pygments_lexer": "ipython3",
   "version": "3.7.9"
  },
  "toc": {
   "base_numbering": 1,
   "nav_menu": {},
   "number_sections": false,
   "sideBar": true,
   "skip_h1_title": false,
   "title_cell": "Table of Contents",
   "title_sidebar": "Contents",
   "toc_cell": false,
   "toc_position": {},
   "toc_section_display": true,
   "toc_window_display": false
  }
 },
 "nbformat": 4,
 "nbformat_minor": 5
}
